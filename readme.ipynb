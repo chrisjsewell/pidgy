{
 "cells": [
  {
   "cell_type": "markdown",
   "metadata": {},
   "source": [
    "`pidgin` is a collection of `IPython` utilities for creating computable essays.\n",
    "\n",
    "[![Binder](https://mybinder.org/badge.svg)](https://mybinder.org/v2/gh/deathbeds/pidgin/master?filepath=readme.ipynb)"
   ]
  },
  {
   "cell_type": "code",
   "execution_count": 1,
   "metadata": {},
   "outputs": [],
   "source": [
    "%reload_ext pidgin"
   ]
  },
  {
   "cell_type": "code",
   "execution_count": 2,
   "metadata": {},
   "outputs": [
    {
     "data": {
      "application/vdom.v1+json": {
       "attributes": {},
       "children": [
        {
         "attributes": {},
         "children": [
          {
           "attributes": {},
           "children": [
            "import pidgin\n"
           ],
           "tagName": "code"
          }
         ],
         "tagName": "pre"
        },
        {
         "attributes": {},
         "children": [
          {
           "attributes": {},
           "children": [
            "pidgin"
           ],
           "tagName": "code"
          },
          " contains IPython extensions for creating human readable inputs and outputs.  When ",
          {
           "attributes": {},
           "children": [
            "pidgin"
           ],
           "tagName": "code"
          },
          " is activated, all code cells accept Markdown as input.  The input code is converted to valid Python, non-code objects are included in the source as strings."
         ],
         "tagName": "p"
        },
        {
         "attributes": {},
         "children": [
          {
           "attributes": {},
           "children": [
            {
             "attributes": {},
             "children": [
              "pidgin"
             ],
             "tagName": "code"
            },
            " is designed to eventually be Jupyter kernel, just not yet."
           ],
           "tagName": "p"
          }
         ],
         "tagName": "blockquote"
        }
       ],
       "tagName": "div"
      },
      "text/html": [
       "<div><pre><code>import pidgin\n",
       "</code></pre><p><code>pidgin</code> contains IPython extensions for creating human readable inputs and outputs.  When <code>pidgin</code> is activated, all code cells accept Markdown as input.  The input code is converted to valid Python, non-code objects are included in the source as strings.</p><blockquote><p><code>pidgin</code> is designed to eventually be Jupyter kernel, just not yet.</p></blockquote></div>"
      ],
      "text/plain": [
       "'    import pidgin\\n    \\n`pidgin` contains IPython extensions for creating human readable inputs and outputs.  When `pidgin` is activated, all code cells accept Markdown as input.  The input code is converted to valid Python, non-code objects are included in the source as strings.\\n\\n> `pidgin` is designed to eventually be Jupyter kernel, just not yet.  '"
      ]
     },
     "metadata": {},
     "output_type": "display_data"
    }
   ],
   "source": [
    "    import pidgin\n",
    "    \n",
    "`pidgin` contains IPython extensions for creating human readable inputs and outputs.  When `pidgin` is activated, all code cells accept Markdown as input.  The input code is converted to valid Python, non-code objects are included in the source as strings.\n",
    "\n",
    "> `pidgin` is designed to eventually be Jupyter kernel, just not yet.  "
   ]
  },
  {
   "cell_type": "code",
   "execution_count": 10,
   "metadata": {},
   "outputs": [
    {
     "data": {
      "application/vdom.v1+json": {
       "attributes": {},
       "children": [
        {
         "attributes": {},
         "children": [
          "Executing cells."
         ],
         "tagName": "h2"
        },
        {
         "attributes": {
          "start": ""
         },
         "children": [
          {
           "attributes": {},
           "children": [
            {
             "attributes": {},
             "children": [
              "A minimally lossly transform from ",
              {
               "attributes": {},
               "children": [
                "Markdown"
               ],
               "tagName": "strong"
              },
              " to ",
              {
               "attributes": {},
               "children": [
                "Python"
               ],
               "tagName": "strong"
              },
              " where markdown content is preserved in strings."
             ],
             "tagName": "p"
            }
           ],
           "tagName": "li"
          },
          {
           "attributes": {},
           "children": [
            {
             "attributes": {},
             "children": [
              "Any block code in the ",
              {
               "attributes": {},
               "children": [
                "Markdown"
               ],
               "tagName": "strong"
              },
              " is evaluated as normal.  Evaluatation ",
              {
               "attributes": {},
               "children": [
                "breaks"
               ],
               "tagName": "strong"
              },
              " if any ",
              {
               "attributes": {},
               "children": [
                "Exception"
               ],
               "tagName": "code"
              },
              "s are raised."
             ],
             "tagName": "p"
            },
            {
             "attributes": {},
             "children": [
              {
               "attributes": {},
               "children": [
                {
                 "attributes": {},
                 "children": [
                  {
                   "attributes": {},
                   "children": [
                    "Code Fences"
                   ],
                   "tagName": "strong"
                  },
                  " are not executed, but may include ",
                  {
                   "attributes": {},
                   "children": [
                    "doctest"
                   ],
                   "tagName": "code"
                  },
                  "s."
                 ],
                 "tagName": "p"
                }
               ],
               "tagName": "li"
              }
             ],
             "tagName": "ul"
            }
           ],
           "tagName": "li"
          },
          {
           "attributes": {},
           "children": [
            {
             "attributes": {},
             "children": [
              "Any ",
              {
               "attributes": {},
               "children": [
                "doctest.Example"
               ],
               "tagName": "code"
              },
              " is evaluated; upon failure the evaluation breaks."
             ],
             "tagName": "p"
            }
           ],
           "tagName": "li"
          },
          {
           "attributes": {},
           "children": [
            {
             "attributes": {},
             "children": [
              "Expressions in the the inline code cells are evaluated."
             ],
             "tagName": "p"
            },
            {
             "attributes": {},
             "children": [
              {
               "attributes": {},
               "children": [
                {
                 "attributes": {},
                 "children": [
                  {
                   "attributes": {},
                   "children": [
                    "IPython.core.interactiveshell.InteractiveShell.user_expressions"
                   ],
                   "tagName": "code"
                  },
                  " inspires this step.  ",
                  {
                   "attributes": {},
                   "children": [
                    "pidgin"
                   ],
                   "tagName": "code"
                  },
                  " only allows for expressions except for ",
                  {
                   "attributes": {},
                   "children": [
                    "assert"
                   ],
                   "tagName": "strong"
                  },
                  " statements; magic syntaxes may be used in inline expressions."
                 ],
                 "tagName": "p"
                }
               ],
               "tagName": "li"
              },
              {
               "attributes": {},
               "children": [
                {
                 "attributes": {},
                 "children": [
                  "All code in code cells should work."
                 ],
                 "tagName": "p"
                }
               ],
               "tagName": "li"
              }
             ],
             "tagName": "ul"
            }
           ],
           "tagName": "li"
          }
         ],
         "tagName": "ol"
        },
        {
         "attributes": {},
         "children": [
          "Note on execution"
         ],
         "tagName": "h3"
        },
        {
         "attributes": {},
         "children": [
          "Statements and expressions in (1. and 2.) must suceed before evaluating the ",
          {
           "attributes": {},
           "children": [
            "doctest"
           ],
           "tagName": "code"
          },
          "s and inline expressions."
         ],
         "tagName": "p"
        },
        {
         "attributes": {},
         "children": [
          {
           "attributes": {},
           "children": [
            "import doctest, IPython\n"
           ],
           "tagName": "code"
          }
         ],
         "tagName": "pre"
        }
       ],
       "tagName": "div"
      },
      "text/html": [
       "<div><h2>Executing cells.</h2><ol start=\"\"><li><p>A minimally lossly transform from <strong>Markdown</strong> to <strong>Python</strong> where markdown content is preserved in strings.</p></li><li><p>Any block code in the <strong>Markdown</strong> is evaluated as normal.  Evaluatation <strong>breaks</strong> if any <code>Exception</code>s are raised.</p><ul><li><p><strong>Code Fences</strong> are not executed, but may include <code>doctest</code>s.</p></li></ul></li><li><p>Any <code>doctest.Example</code> is evaluated; upon failure the evaluation breaks.</p></li><li><p>Expressions in the the inline code cells are evaluated.</p><ul><li><p><code>IPython.core.interactiveshell.InteractiveShell.user_expressions</code> inspires this step.  <code>pidgin</code> only allows for expressions except for <strong>assert</strong> statements; magic syntaxes may be used in inline expressions.</p></li><li><p>All code in code cells should work.</p></li></ul></li></ol><h3>Note on execution</h3><p>Statements and expressions in (1. and 2.) must suceed before evaluating the <code>doctest</code>s and inline expressions.</p><pre><code>import doctest, IPython\n",
       "</code></pre></div>"
      ],
      "text/plain": [
       "'## Executing cells.\\n\\n1. A minimally lossly transform from __Markdown__ to __Python__ where markdown content is preserved in strings.\\n2. Any block code in the __Markdown__ is evaluated as normal.  Evaluatation __breaks__ if any `Exception`s are raised.\\n    * __Code Fences__ are not executed, but may include `doctest`s.\\n3. Any `doctest.Example` is evaluated; upon failure the evaluation breaks.\\n4. Expressions in the the inline code cells are evaluated.\\n    * `IPython.core.interactiveshell.InteractiveShell.user_expressions` inspires this step.  `pidgin` only allows for expressions except for __assert__ statements; magic syntaxes may be used in inline expressions.\\n    * All code in code cells should work.\\n    \\n### Note on execution\\n\\nStatements and expressions in (1. and 2.) must suceed before evaluating the `doctest`s and inline expressions.\\n\\n    import doctest, IPython'"
      ]
     },
     "metadata": {},
     "output_type": "display_data"
    }
   ],
   "source": [
    "## Executing cells.\n",
    "\n",
    "1. A minimally lossly transform from __Markdown__ to __Python__ where markdown content is preserved in strings.\n",
    "2. Any block code in the __Markdown__ is evaluated as normal.  Evaluatation __breaks__ if any `Exception`s are raised.\n",
    "    * __Code Fences__ are not executed, but may include `doctest`s.\n",
    "3. Any `doctest.Example` is evaluated; upon failure the evaluation breaks.\n",
    "4. Expressions in the the inline code cells are evaluated.\n",
    "    * `IPython.core.interactiveshell.InteractiveShell.user_expressions` inspires this step.  `pidgin` only allows for expressions except for __assert__ statements; magic syntaxes may be used in inline expressions.\n",
    "    * All code in code cells should work.\n",
    "    \n",
    "### Note on execution\n",
    "\n",
    "Statements and expressions in (1. and 2.) must suceed before evaluating the `doctest`s and inline expressions.\n",
    "\n",
    "    import doctest, IPython"
   ]
  },
  {
   "cell_type": "code",
   "execution_count": 11,
   "metadata": {},
   "outputs": [
    {
     "data": {
      "application/vdom.v1+json": {
       "attributes": {},
       "children": [
        {
         "attributes": {},
         "children": [
          "Templates"
         ],
         "tagName": "h2"
        },
        {
         "attributes": {},
         "children": [
          {
           "attributes": {},
           "children": [
            "pidgin"
           ],
           "tagName": "code"
          },
          " has some really cool templating features; it allows ",
          {
           "attributes": {},
           "children": [
            "IPython"
           ],
           "tagName": "code"
          },
          " users to template the output the display system.  ",
          {
           "attributes": {},
           "children": [
            "jinja2"
           ],
           "tagName": "code"
          },
          " is the current templating engine because it",
          "\n",
          "is a dependency of ",
          {
           "attributes": {},
           "children": [
            "nbconvert"
           ],
           "tagName": "code"
          }
         ],
         "tagName": "p"
        },
        {
         "attributes": {},
         "children": [
          {
           "attributes": {},
           "children": [
            "import jinja2, nbconvert\n"
           ],
           "tagName": "code"
          }
         ],
         "tagName": "pre"
        }
       ],
       "tagName": "div"
      },
      "text/html": [
       "<div><h2>Templates</h2><p><code>pidgin</code> has some really cool templating features; it allows <code>IPython</code> users to template the output the display system.  <code>jinja2</code> is the current templating engine because it\n",
       "is a dependency of <code>nbconvert</code></p><pre><code>import jinja2, nbconvert\n",
       "</code></pre></div>"
      ],
      "text/plain": [
       "'## Templates\\n\\n`pidgin` has some really cool templating features; it allows `IPython` users to template the output the display system.  `jinja2` is the current templating engine because it \\nis a dependency of `nbconvert`\\n\\n    import jinja2, nbconvert'"
      ]
     },
     "metadata": {},
     "output_type": "display_data"
    }
   ],
   "source": [
    "## Templates\n",
    "\n",
    "`pidgin` has some really cool templating features; it allows `IPython` users to template the output the display system.  `jinja2` is the current templating engine because it \n",
    "is a dependency of `nbconvert`\n",
    "\n",
    "    import jinja2, nbconvert"
   ]
  },
  {
   "cell_type": "code",
   "execution_count": 12,
   "metadata": {},
   "outputs": [
    {
     "data": {
      "application/vdom.v1+json": {
       "attributes": {},
       "children": [
        {
         "attributes": {},
         "children": [
          "Docstrings"
         ],
         "tagName": "h2"
        },
        {
         "attributes": {},
         "children": [
          "A latent feature of ",
          {
           "attributes": {},
           "children": [
            "pidgin"
           ],
           "tagName": "code"
          },
          " is the ability to compose docstrings as markdown."
         ],
         "tagName": "p"
        },
        {
         "attributes": {},
         "children": [
          {
           "attributes": {},
           "children": [
            "class MyClass:\n"
           ],
           "tagName": "code"
          }
         ],
         "tagName": "pre"
        },
        {
         "attributes": {},
         "children": [
          "This is the docstring for ",
          {
           "attributes": {},
           "children": [
            "MyClass"
           ],
           "tagName": "code"
          },
          ".  ",
          {
           "attributes": {},
           "children": [
            "pidgin"
           ],
           "tagName": "code"
          },
          " will automatically wrap this expression in quotes because it follows a class defintion."
         ],
         "tagName": "p"
        }
       ],
       "tagName": "div"
      },
      "text/html": [
       "<div><h2>Docstrings</h2><p>A latent feature of <code>pidgin</code> is the ability to compose docstrings as markdown.</p><pre><code>class MyClass:\n",
       "</code></pre><p>This is the docstring for <code>MyClass</code>.  <code>pidgin</code> will automatically wrap this expression in quotes because it follows a class defintion.</p></div>"
      ],
      "text/plain": [
       "'## Docstrings\\n\\nA latent feature of `pidgin` is the ability to compose docstrings as markdown.\\n\\n    class MyClass:\\nThis is the docstring for `MyClass`.  `pidgin` will automatically wrap this expression in quotes because it follows a class defintion.'"
      ]
     },
     "metadata": {},
     "output_type": "display_data"
    }
   ],
   "source": [
    "## Docstrings\n",
    "\n",
    "A latent feature of `pidgin` is the ability to compose docstrings as markdown.\n",
    "\n",
    "    class MyClass:\n",
    "This is the docstring for `MyClass`.  `pidgin` will automatically wrap this expression in quotes because it follows a class defintion."
   ]
  },
  {
   "cell_type": "code",
   "execution_count": 13,
   "metadata": {},
   "outputs": [
    {
     "data": {
      "application/vdom.v1+json": {
       "attributes": {},
       "children": [
        {
         "attributes": {},
         "children": [
          {
           "attributes": {},
           "children": [
            "def my_function(x):\n"
           ],
           "tagName": "code"
          }
         ],
         "tagName": "pre"
        },
        {
         "attributes": {},
         "children": [
          "Functions may have their docstring written in markdown. ",
          {
           "attributes": {},
           "children": [
            "pidgin"
           ],
           "tagName": "code"
          },
          " now transparently tests doctests in the docstring."
         ],
         "tagName": "p"
        },
        {
         "attributes": {},
         "children": [
          {
           "attributes": {},
           "children": [
            "my_function"
           ],
           "tagName": "code"
          },
          " tests"
         ],
         "tagName": "h2"
        },
        {
         "attributes": {},
         "children": [
          {
           "attributes": {},
           "children": [
            ">>> assert my_function(10) == 10\n\n"
           ],
           "tagName": "code"
          }
         ],
         "tagName": "pre"
        },
        {
         "attributes": {},
         "children": [
          {
           "attributes": {},
           "children": [
            "    return x\n"
           ],
           "tagName": "code"
          }
         ],
         "tagName": "pre"
        },
        {
         "attributes": {},
         "children": [
          "... and don't forget that all inline functions must evaluate."
         ],
         "tagName": "p"
        }
       ],
       "tagName": "div"
      },
      "text/html": [
       "<div><pre><code>def my_function(x):\n",
       "</code></pre><p>Functions may have their docstring written in markdown. <code>pidgin</code> now transparently tests doctests in the docstring.</p><h2><code>my_function</code> tests</h2><pre><code>&gt;&gt;&gt; assert my_function(10) == 10\n",
       "\n",
       "</code></pre><pre><code>    return x\n",
       "</code></pre><p>... and don&#x27;t forget that all inline functions must evaluate.</p></div>"
      ],
      "text/plain": [
       "\"    def my_function(x):\\nFunctions may have their docstring written in markdown. `pidgin` now transparently tests doctests in the docstring.\\n\\n## `my_function` tests\\n```\\n>>> assert my_function(10) == 10\\n\\n```\\n\\n        return x\\n\\n... and don't forget that all inline functions must evaluate.\""
      ]
     },
     "metadata": {},
     "output_type": "display_data"
    }
   ],
   "source": [
    "    def my_function(x):\n",
    "Functions may have their docstring written in markdown. `pidgin` now transparently tests doctests in the docstring.\n",
    "\n",
    "## `my_function` tests\n",
    "```\n",
    ">>> assert my_function(10) == 10\n",
    "\n",
    "```\n",
    "\n",
    "        return x\n",
    "\n",
    "... and don't forget that all inline functions must evaluate."
   ]
  },
  {
   "cell_type": "code",
   "execution_count": 14,
   "metadata": {},
   "outputs": [],
   "source": [
    "    import tests"
   ]
  },
  {
   "cell_type": "code",
   "execution_count": 15,
   "metadata": {},
   "outputs": [
    {
     "name": "stdout",
     "output_type": "stream",
     "text": [
      "C:\\Users\\deathbeds\\pidgin\\tests\n",
      "C:\\Users\\deathbeds\\pidgin\n",
      "popd -> ~\\pidgin\n"
     ]
    },
    {
     "data": {
      "application/vdom.v1+json": {
       "attributes": {},
       "children": [
        {
         "attributes": {},
         "children": [
          "Importing pidgin documents."
         ],
         "tagName": "h2"
        },
        {
         "attributes": {},
         "children": [
          {
           "attributes": {},
           "children": [
            "import jupyter\n"
           ],
           "tagName": "code"
          }
         ],
         "tagName": "pre"
        },
        {
         "attributes": {},
         "children": [
          {
           "attributes": {},
           "children": [
            {
             "attributes": {},
             "children": [
              "pidgin"
             ],
             "tagName": "code"
            },
            " uses ",
            {
             "attributes": {},
             "children": [
              "jupyter"
             ],
             "tagName": "code"
            },
            " notebooks as source files, at least for the earliest proof-of-concept there are few python source files."
           ],
           "tagName": "p"
          }
         ],
         "tagName": "blockquote"
        },
        {
         "attributes": {},
         "children": [
          {
           "attributes": {},
           "children": [
            "pidgin"
           ],
           "tagName": "code"
          },
          " defines that conventional that literate documents have a complex files extension ",
          {
           "attributes": {},
           "children": [
            ".md.ipynb"
           ],
           "tagName": "strong"
          },
          "; indicating that the code cells are support ",
          {
           "attributes": {},
           "children": [
            "markdown"
           ],
           "tagName": "strong"
          },
          ".  ",
          {
           "attributes": {},
           "children": [
            "pidgin"
           ],
           "tagName": "code"
          },
          "'s literate documents are importable."
         ],
         "tagName": "p"
        },
        {
         "attributes": {},
         "children": [
          {
           "attributes": {},
           "children": [
            "%pushd tests\nwith pidgin.PidginImporter():\n    import essay\n%popd\nassert essay.__file__.endswith('.md.ipynb'), \"Something failed on importing.\"\n"
           ],
           "tagName": "code"
          }
         ],
         "tagName": "pre"
        }
       ],
       "tagName": "div"
      },
      "text/html": [
       "<div><h2>Importing pidgin documents.</h2><pre><code>import jupyter\n",
       "</code></pre><blockquote><p><code>pidgin</code> uses <code>jupyter</code> notebooks as source files, at least for the earliest proof-of-concept there are few python source files.</p></blockquote><p><code>pidgin</code> defines that conventional that literate documents have a complex files extension <strong>.md.ipynb</strong>; indicating that the code cells are support <strong>markdown</strong>.  <code>pidgin</code>&#x27;s literate documents are importable.</p><pre><code>%pushd tests\n",
       "with pidgin.PidginImporter():\n",
       "    import essay\n",
       "%popd\n",
       "assert essay.__file__.endswith(&#x27;.md.ipynb&#x27;), &quot;Something failed on importing.&quot;\n",
       "</code></pre></div>"
      ],
      "text/plain": [
       "'## Importing pidgin documents.\\n\\n    import jupyter\\n> `pidgin` uses `jupyter` notebooks as source files, at least for the earliest proof-of-concept there are few python source files.\\n\\n`pidgin` defines that conventional that literate documents have a complex files extension __.md.ipynb__; indicating that the code cells are support __markdown__.  `pidgin`\\'s literate documents are importable.\\n\\n    %pushd tests\\n    with pidgin.PidginImporter():\\n        import essay\\n    %popd\\n    assert essay.__file__.endswith(\\'.md.ipynb\\'), \"Something failed on importing.\"'"
      ]
     },
     "metadata": {},
     "output_type": "display_data"
    }
   ],
   "source": [
    "## Importing pidgin documents.\n",
    "\n",
    "    import jupyter\n",
    "> `pidgin` uses `jupyter` notebooks as source files, at least for the earliest proof-of-concept there are few python source files.\n",
    "\n",
    "`pidgin` defines that conventional that literate documents have a complex files extension __.md.ipynb__; indicating that the code cells are support __markdown__.  `pidgin`'s literate documents are importable.\n",
    "\n",
    "    %pushd tests\n",
    "    with pidgin.PidginImporter():\n",
    "        import essay\n",
    "    %popd\n",
    "    assert essay.__file__.endswith('.md.ipynb'), \"Something failed on importing.\""
   ]
  },
  {
   "cell_type": "code",
   "execution_count": 16,
   "metadata": {},
   "outputs": [
    {
     "data": {
      "application/vdom.v1+json": {
       "attributes": {},
       "children": [
        {
         "attributes": {},
         "children": [
          "Conventions for pidgin"
         ],
         "tagName": "h2"
        },
        {
         "attributes": {},
         "children": [
          {
           "attributes": {},
           "children": [
            {
             "attributes": {},
             "children": [
              "Documents should restart and run all."
             ],
             "tagName": "p"
            }
           ],
           "tagName": "li"
          },
          {
           "attributes": {},
           "children": [
            {
             "attributes": {},
             "children": [
              {
               "attributes": {},
               "children": [
                "inline"
               ],
               "tagName": "strong"
              },
              " and ",
              {
               "attributes": {},
               "children": [
                "block"
               ],
               "tagName": "strong"
              },
              " cells should evaluate."
             ],
             "tagName": "p"
            }
           ],
           "tagName": "li"
          },
          {
           "attributes": {},
           "children": [
            {
             "attributes": {},
             "children": [
              "All ",
              {
               "attributes": {},
               "children": [
                "block"
               ],
               "tagName": "strong"
              },
              " code is indented."
             ],
             "tagName": "p"
            }
           ],
           "tagName": "li"
          },
          {
           "attributes": {},
           "children": [
            {
             "attributes": {},
             "children": [
              {
               "attributes": {},
               "children": [
                "code"
               ],
               "tagName": "strong"
              },
              " & ",
              {
               "attributes": {},
               "children": [
                "markdown"
               ],
               "tagName": "strong"
              },
              " become ",
              {
               "attributes": {},
               "children": [
                "on"
               ],
               "tagName": "strong"
              },
              " and ",
              {
               "attributes": {},
               "children": [
                "off"
               ],
               "tagName": "strong"
              },
              " cells, respectively."
             ],
             "tagName": "p"
            }
           ],
           "tagName": "li"
          },
          {
           "attributes": {},
           "children": [
            {
             "attributes": {},
             "children": [
              "output is more important than input, ",
              {
               "attributes": {},
               "children": [
                "nbconvert"
               ],
               "tagName": "code"
              },
              " should be used with ",
              "",
              "",
              {
               "attributes": {},
               "children": [
                {
                 "attributes": {},
                 "children": [
                  "TemplateExporter.exclude_input=True"
                 ],
                 "tagName": "code"
                }
               ],
               "tagName": "span"
              }
             ],
             "tagName": "p"
            },
            {
             "attributes": {},
             "children": [
              {
               "attributes": {},
               "children": [
                "  import nbconvert\n"
               ],
               "tagName": "code"
              }
             ],
             "tagName": "pre"
            }
           ],
           "tagName": "li"
          }
         ],
         "tagName": "ul"
        }
       ],
       "tagName": "div"
      },
      "text/html": [
       "<div><h2>Conventions for pidgin</h2><ul><li><p>Documents should restart and run all.</p></li><li><p><strong>inline</strong> and <strong>block</strong> cells should evaluate.</p></li><li><p>All <strong>block</strong> code is indented.</p></li><li><p><strong>code</strong> &amp; <strong>markdown</strong> become <strong>on</strong> and <strong>off</strong> cells, respectively.</p></li><li><p>output is more important than input, <code>nbconvert</code> should be used with <span><code>TemplateExporter.exclude_input=True</code></span></p><pre><code>  import nbconvert\n",
       "</code></pre></li></ul></div>"
      ],
      "text/plain": [
       "'## Conventions for pidgin\\n* Documents should restart and run all.\\n* __inline__ and __block__ cells should evaluate.\\n* All __block__ code is indented.\\n* __code__ & __markdown__ become __on__ and __off__ cells, respectively.\\n* output is more important than input, `nbconvert` should be used with <code>TemplateExporter.exclude_input=True</code>\\n\\n        import nbconvert'"
      ]
     },
     "metadata": {},
     "output_type": "display_data"
    }
   ],
   "source": [
    "## Conventions for pidgin\n",
    "* Documents should restart and run all.\n",
    "* __inline__ and __block__ cells should evaluate.\n",
    "* All __block__ code is indented.\n",
    "* __code__ & __markdown__ become __on__ and __off__ cells, respectively.\n",
    "* output is more important than input, `nbconvert` should be used with <code>TemplateExporter.exclude_input=True</code>\n",
    "\n",
    "        import nbconvert"
   ]
  },
  {
   "cell_type": "markdown",
   "metadata": {},
   "source": [
    "    !jupyter nbconvert --to markdown --TemplateExporter.exclude_input=True --execute readme.ipynb"
   ]
  },
  {
   "cell_type": "code",
   "execution_count": null,
   "metadata": {},
   "outputs": [],
   "source": []
  }
 ],
 "metadata": {
  "kernelspec": {
   "display_name": "Python 3",
   "language": "python",
   "name": "python3"
  },
  "language_info": {
   "codemirror_mode": {
    "name": "ipython",
    "version": 3
   },
   "file_extension": ".py",
   "mimetype": "text/x-python",
   "name": "python",
   "nbconvert_exporter": "python",
   "pygments_lexer": "ipython3",
   "version": "3.6.6"
  }
 },
 "nbformat": 4,
 "nbformat_minor": 2
}
