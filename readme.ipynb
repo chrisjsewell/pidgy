{
 "cells": [
  {
   "cell_type": "markdown",
   "metadata": {},
   "source": [
    "`pidgin` is a collection of `IPython` utilities for creating computable essays."
   ]
  },
  {
   "cell_type": "markdown",
   "metadata": {},
   "source": [
    "[![Binder](https://mybinder.org/badge.svg)](https://mybinder.org/v2/gh/deathbeds/pidgin/master?filepath=readme.ipynb)"
   ]
  },
  {
   "cell_type": "code",
   "execution_count": 1,
   "metadata": {},
   "outputs": [],
   "source": [
    "%reload_ext pidgin"
   ]
  },
  {
   "cell_type": "code",
   "execution_count": 2,
   "metadata": {},
   "outputs": [
    {
     "data": {
      "application/vdom.v1+json": {
       "attributes": {},
       "children": [
        {
         "attributes": {},
         "children": [
          {
           "attributes": {},
           "children": [
            "import pidgin\n"
           ],
           "tagName": "code"
          }
         ],
         "tagName": "pre"
        },
        {
         "attributes": {},
         "children": [
          {
           "attributes": {},
           "children": [
            "pidgin"
           ],
           "tagName": "code"
          },
          " contains IPython extensions for creating human readable inputs and outputs.  When ",
          {
           "attributes": {},
           "children": [
            "pidgin"
           ],
           "tagName": "code"
          },
          " is activated, all code cells accept Markdown as input.  The input code is converted to valid Python, non-code objects are included in the source as strings."
         ],
         "tagName": "p"
        },
        {
         "attributes": {},
         "children": [
          {
           "attributes": {},
           "children": [
            {
             "attributes": {},
             "children": [
              "pidgin"
             ],
             "tagName": "code"
            },
            " is designed to eventually be Jupyter kernel, just not yet."
           ],
           "tagName": "p"
          }
         ],
         "tagName": "blockquote"
        }
       ],
       "tagName": "div"
      },
      "text/plain": [
       "'    import pidgin\\n    \\n`pidgin` contains IPython extensions for creating human readable inputs and outputs.  When `pidgin` is activated, all code cells accept Markdown as input.  The input code is converted to valid Python, non-code objects are included in the source as strings.\\n\\n> `pidgin` is designed to eventually be Jupyter kernel, just not yet.  '"
      ]
     },
     "metadata": {},
     "output_type": "display_data"
    }
   ],
   "source": [
    "    import pidgin\n",
    "    \n",
    "`pidgin` contains IPython extensions for creating human readable inputs and outputs.  When `pidgin` is activated, all code cells accept Markdown as input.  The input code is converted to valid Python, non-code objects are included in the source as strings.\n",
    "\n",
    "> `pidgin` is designed to eventually be Jupyter kernel, just not yet.  "
   ]
  },
  {
   "cell_type": "code",
   "execution_count": 3,
   "metadata": {},
   "outputs": [
    {
     "data": {
      "application/vdom.v1+json": {
       "attributes": {},
       "children": [
        {
         "attributes": {},
         "children": [
          "Docstrings"
         ],
         "tagName": "h2"
        },
        {
         "attributes": {},
         "children": [
          "A latent feature of ",
          {
           "attributes": {},
           "children": [
            "pidgin"
           ],
           "tagName": "code"
          },
          " is the ability to compose docstrings as markdown."
         ],
         "tagName": "p"
        },
        {
         "attributes": {},
         "children": [
          {
           "attributes": {},
           "children": [
            "class MyClass:\n"
           ],
           "tagName": "code"
          }
         ],
         "tagName": "pre"
        },
        {
         "attributes": {},
         "children": [
          "This is the docstring for ",
          {
           "attributes": {},
           "children": [
            "MyClass"
           ],
           "tagName": "code"
          },
          ".  ",
          {
           "attributes": {},
           "children": [
            "pidgin"
           ],
           "tagName": "code"
          },
          " will automatically wrap this expression in quotes because it follows a class defintion."
         ],
         "tagName": "p"
        }
       ],
       "tagName": "div"
      },
      "text/plain": [
       "'## Docstrings\\n\\nA latent feature of `pidgin` is the ability to compose docstrings as markdown.\\n\\n    class MyClass:\\nThis is the docstring for `MyClass`.  `pidgin` will automatically wrap this expression in quotes because it follows a class defintion.'"
      ]
     },
     "metadata": {},
     "output_type": "display_data"
    }
   ],
   "source": [
    "## Docstrings\n",
    "\n",
    "A latent feature of `pidgin` is the ability to compose docstrings as markdown.\n",
    "\n",
    "    class MyClass:\n",
    "This is the docstring for `MyClass`.  `pidgin` will automatically wrap this expression in quotes because it follows a class defintion."
   ]
  },
  {
   "cell_type": "code",
   "execution_count": 4,
   "metadata": {},
   "outputs": [
    {
     "data": {
      "application/vdom.v1+json": {
       "attributes": {},
       "children": [
        {
         "attributes": {},
         "children": [
          {
           "attributes": {},
           "children": [
            "def my_function(x):\n"
           ],
           "tagName": "code"
          }
         ],
         "tagName": "pre"
        },
        {
         "attributes": {},
         "children": [
          "Functions may have their docstring written in markdown. ",
          {
           "attributes": {},
           "children": [
            "pidgin"
           ],
           "tagName": "code"
          },
          " now transparently tests doctests in the docstring."
         ],
         "tagName": "p"
        },
        {
         "attributes": {},
         "children": [
          {
           "attributes": {},
           "children": [
            "my_function"
           ],
           "tagName": "code"
          },
          " tests"
         ],
         "tagName": "h2"
        },
        {
         "attributes": {},
         "children": [
          {
           "attributes": {},
           "children": [
            ">>> assert my_function(10) == 10\n\n"
           ],
           "tagName": "code"
          }
         ],
         "tagName": "pre"
        },
        {
         "attributes": {},
         "children": [
          {
           "attributes": {},
           "children": [
            "    return x\n"
           ],
           "tagName": "code"
          }
         ],
         "tagName": "pre"
        },
        {
         "attributes": {},
         "children": [
          "... and don't forget that all inline functions must evaluate."
         ],
         "tagName": "p"
        }
       ],
       "tagName": "div"
      },
      "text/plain": [
       "\"    def my_function(x):\\nFunctions may have their docstring written in markdown. `pidgin` now transparently tests doctests in the docstring.\\n\\n## `my_function` tests\\n```\\n>>> assert my_function(10) == 10\\n\\n```\\n\\n        return x\\n\\n... and don't forget that all inline functions must evaluate.\""
      ]
     },
     "metadata": {},
     "output_type": "display_data"
    }
   ],
   "source": [
    "    def my_function(x):\n",
    "Functions may have their docstring written in markdown. `pidgin` now transparently tests doctests in the docstring.\n",
    "\n",
    "## `my_function` tests\n",
    "```\n",
    ">>> assert my_function(10) == 10\n",
    "\n",
    "```\n",
    "\n",
    "        return x\n",
    "\n",
    "... and don't forget that all inline functions must evaluate."
   ]
  },
  {
   "cell_type": "code",
   "execution_count": 5,
   "metadata": {},
   "outputs": [],
   "source": [
    "    import tests"
   ]
  },
  {
   "cell_type": "code",
   "execution_count": 6,
   "metadata": {},
   "outputs": [
    {
     "name": "stdout",
     "output_type": "stream",
     "text": [
      "C:\\Users\\deathbeds\\pidgin\\tests\n",
      "C:\\Users\\deathbeds\\pidgin\n",
      "popd -> ~\\pidgin\n"
     ]
    },
    {
     "data": {
      "application/vdom.v1+json": {
       "attributes": {},
       "children": [
        {
         "attributes": {},
         "children": [
          "Importing pidgin documents."
         ],
         "tagName": "h2"
        },
        {
         "attributes": {},
         "children": [
          {
           "attributes": {},
           "children": [
            "import jupyter\n"
           ],
           "tagName": "code"
          }
         ],
         "tagName": "pre"
        },
        {
         "attributes": {},
         "children": [
          {
           "attributes": {},
           "children": [
            {
             "attributes": {},
             "children": [
              "pidgin"
             ],
             "tagName": "code"
            },
            " uses ",
            {
             "attributes": {},
             "children": [
              "jupyter"
             ],
             "tagName": "code"
            },
            " notebooks as source files, at least for the earliest proof-of-concept there are few python source files."
           ],
           "tagName": "p"
          }
         ],
         "tagName": "blockquote"
        },
        {
         "attributes": {},
         "children": [
          {
           "attributes": {},
           "children": [
            "pidgin"
           ],
           "tagName": "code"
          },
          " defines that conventional that literate documents have a complex files extension ",
          {
           "attributes": {},
           "children": [
            ".md.ipynb"
           ],
           "tagName": "strong"
          },
          "; indicating that the code cells are support ",
          {
           "attributes": {},
           "children": [
            "markdown"
           ],
           "tagName": "strong"
          },
          ".  ",
          {
           "attributes": {},
           "children": [
            "pidgin"
           ],
           "tagName": "code"
          },
          "'s literate documents are importable."
         ],
         "tagName": "p"
        },
        {
         "attributes": {},
         "children": [
          {
           "attributes": {},
           "children": [
            "%pushd tests\nwith pidgin.PidginImporter():\n    import essay\n%popd\nassert essay.__file__.endswith('.md.ipynb'), \"Something failed on importing.\"\n"
           ],
           "tagName": "code"
          }
         ],
         "tagName": "pre"
        }
       ],
       "tagName": "div"
      },
      "text/plain": [
       "'## Importing pidgin documents.\\n\\n    import jupyter\\n> `pidgin` uses `jupyter` notebooks as source files, at least for the earliest proof-of-concept there are few python source files.\\n\\n`pidgin` defines that conventional that literate documents have a complex files extension __.md.ipynb__; indicating that the code cells are support __markdown__.  `pidgin`\\'s literate documents are importable.\\n\\n    %pushd tests\\n    with pidgin.PidginImporter():\\n        import essay\\n    %popd\\n    assert essay.__file__.endswith(\\'.md.ipynb\\'), \"Something failed on importing.\"'"
      ]
     },
     "metadata": {},
     "output_type": "display_data"
    }
   ],
   "source": [
    "## Importing pidgin documents.\n",
    "\n",
    "    import jupyter\n",
    "> `pidgin` uses `jupyter` notebooks as source files, at least for the earliest proof-of-concept there are few python source files.\n",
    "\n",
    "`pidgin` defines that conventional that literate documents have a complex files extension __.md.ipynb__; indicating that the code cells are support __markdown__.  `pidgin`'s literate documents are importable.\n",
    "\n",
    "    %pushd tests\n",
    "    with pidgin.PidginImporter():\n",
    "        import essay\n",
    "    %popd\n",
    "    assert essay.__file__.endswith('.md.ipynb'), \"Something failed on importing.\""
   ]
  },
  {
   "cell_type": "code",
   "execution_count": 7,
   "metadata": {},
   "outputs": [
    {
     "data": {
      "application/vdom.v1+json": {
       "attributes": {},
       "children": [
        {
         "attributes": {},
         "children": [
          "Conventions for pidgin"
         ],
         "tagName": "h2"
        },
        {
         "attributes": {},
         "children": [
          {
           "attributes": {},
           "children": [
            {
             "attributes": {},
             "children": [
              "Documents should restart and run all."
             ],
             "tagName": "p"
            }
           ],
           "tagName": "li"
          },
          {
           "attributes": {},
           "children": [
            {
             "attributes": {},
             "children": [
              {
               "attributes": {},
               "children": [
                "inline"
               ],
               "tagName": "strong"
              },
              " and ",
              {
               "attributes": {},
               "children": [
                "block"
               ],
               "tagName": "strong"
              },
              " cells should evaluate."
             ],
             "tagName": "p"
            }
           ],
           "tagName": "li"
          },
          {
           "attributes": {},
           "children": [
            {
             "attributes": {},
             "children": [
              "All ",
              {
               "attributes": {},
               "children": [
                "block"
               ],
               "tagName": "strong"
              },
              " code is indented."
             ],
             "tagName": "p"
            }
           ],
           "tagName": "li"
          },
          {
           "attributes": {},
           "children": [
            {
             "attributes": {},
             "children": [
              {
               "attributes": {},
               "children": [
                "code"
               ],
               "tagName": "strong"
              },
              " & ",
              {
               "attributes": {},
               "children": [
                "markdown"
               ],
               "tagName": "strong"
              },
              " become ",
              {
               "attributes": {},
               "children": [
                "on"
               ],
               "tagName": "strong"
              },
              " and ",
              {
               "attributes": {},
               "children": [
                "off"
               ],
               "tagName": "strong"
              },
              " cells, respectively."
             ],
             "tagName": "p"
            }
           ],
           "tagName": "li"
          },
          {
           "attributes": {},
           "children": [
            {
             "attributes": {},
             "children": [
              "output is more important than input, ",
              {
               "attributes": {},
               "children": [
                "nbconvert"
               ],
               "tagName": "code"
              },
              " should be used with ",
              "",
              "",
              {
               "attributes": {},
               "children": [
                {
                 "attributes": {},
                 "children": [
                  "TemplateExporter.exclude_input=True"
                 ],
                 "tagName": "code"
                }
               ],
               "tagName": "span"
              }
             ],
             "tagName": "p"
            },
            {
             "attributes": {},
             "children": [
              {
               "attributes": {},
               "children": [
                "  import nbconvert\n"
               ],
               "tagName": "code"
              }
             ],
             "tagName": "pre"
            }
           ],
           "tagName": "li"
          }
         ],
         "tagName": "ul"
        }
       ],
       "tagName": "div"
      },
      "text/plain": [
       "'## Conventions for pidgin\\n* Documents should restart and run all.\\n* __inline__ and __block__ cells should evaluate.\\n* All __block__ code is indented.\\n* __code__ & __markdown__ become __on__ and __off__ cells, respectively.\\n* output is more important than input, `nbconvert` should be used with <code>TemplateExporter.exclude_input=True</code>\\n\\n        import nbconvert'"
      ]
     },
     "metadata": {},
     "output_type": "display_data"
    }
   ],
   "source": [
    "## Conventions for pidgin\n",
    "* Documents should restart and run all.\n",
    "* __inline__ and __block__ cells should evaluate.\n",
    "* All __block__ code is indented.\n",
    "* __code__ & __markdown__ become __on__ and __off__ cells, respectively.\n",
    "* output is more important than input, `nbconvert` should be used with <code>TemplateExporter.exclude_input=True</code>\n",
    "\n",
    "        import nbconvert"
   ]
  },
  {
   "cell_type": "markdown",
   "metadata": {},
   "source": [
    "    !jupyter nbconvert --to markdown --TemplateExporter.exclude_input=True --execute readme.ipynb"
   ]
  },
  {
   "cell_type": "code",
   "execution_count": null,
   "metadata": {},
   "outputs": [],
   "source": []
  }
 ],
 "metadata": {
  "kernelspec": {
   "display_name": "Python 3",
   "language": "python",
   "name": "python3"
  },
  "language_info": {
   "codemirror_mode": {
    "name": "ipython",
    "version": 3
   },
   "file_extension": ".py",
   "mimetype": "text/x-python",
   "name": "python",
   "nbconvert_exporter": "python",
   "pygments_lexer": "ipython3",
   "version": "3.6.6"
  }
 },
 "nbformat": 4,
 "nbformat_minor": 2
}
