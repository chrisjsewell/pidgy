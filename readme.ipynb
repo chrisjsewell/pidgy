{
 "cells": [
  {
   "cell_type": "markdown",
   "metadata": {},
   "source": [
    "`pidgin` is a collection of `IPython` utilities for creating computable essays."
   ]
  },
  {
   "cell_type": "markdown",
   "metadata": {},
   "source": [
    "[![Binder](https://mybinder.org/badge.svg)](https://mybinder.org/v2/gh/deathbeds/pidgin/master?filepath=readme.ipynb)"
   ]
  },
  {
   "cell_type": "code",
   "execution_count": 1,
   "metadata": {},
   "outputs": [],
   "source": [
    "%reload_ext pidgin"
   ]
  },
  {
   "cell_type": "code",
   "execution_count": 4,
   "metadata": {},
   "outputs": [
    {
     "data": {
      "application/vdom.v1+json": {
       "attributes": {},
       "children": [
        {
         "attributes": {},
         "children": [
          {
           "attributes": {},
           "children": [
            "import pidgin\n"
           ],
           "tagName": "code"
          }
         ],
         "tagName": "pre"
        },
        {
         "attributes": {},
         "children": [
          {
           "attributes": {},
           "children": [
            "pidgin"
           ],
           "tagName": "code"
          },
          " contains IPython extensions for creating human readable inputs and outputs.  When ",
          {
           "attributes": {},
           "children": [
            "pidgin"
           ],
           "tagName": "code"
          },
          " is activated, all code cells accept Markdown as input.  The input code is converted to valid Python, non-code objects are included in the source as strings."
         ],
         "tagName": "p"
        },
        {
         "attributes": {},
         "children": [
          {
           "attributes": {},
           "children": [
            {
             "attributes": {},
             "children": [
              "pidgin"
             ],
             "tagName": "code"
            },
            " is designed to eventually be Jupyter kernel, just not yet."
           ],
           "tagName": "p"
          }
         ],
         "tagName": "blockquote"
        }
       ],
       "tagName": "div"
      },
      "text/plain": [
       "'    import pidgin\\n    \\n`pidgin` contains IPython extensions for creating human readable inputs and outputs.  When `pidgin` is activated, all code cells accept Markdown as input.  The input code is converted to valid Python, non-code objects are included in the source as strings.\\n\\n> `pidgin` is designed to eventually be Jupyter kernel, just not yet.  '"
      ]
     },
     "metadata": {},
     "output_type": "display_data"
    }
   ],
   "source": [
    "    import pidgin\n",
    "    \n",
    "`pidgin` contains IPython extensions for creating human readable inputs and outputs.  When `pidgin` is activated, all code cells accept Markdown as input.  The input code is converted to valid Python, non-code objects are included in the source as strings.\n",
    "\n",
    "> `pidgin` is designed to eventually be Jupyter kernel, just not yet.  "
   ]
  },
  {
   "cell_type": "code",
   "execution_count": 5,
   "metadata": {},
   "outputs": [
    {
     "data": {
      "application/vdom.v1+json": {
       "attributes": {},
       "children": [
        {
         "attributes": {},
         "children": [
          "Docstrings"
         ],
         "tagName": "h2"
        },
        {
         "attributes": {},
         "children": [
          "A latent feature of ",
          {
           "attributes": {},
           "children": [
            "pidgin"
           ],
           "tagName": "code"
          },
          " is the ability to compose docstrings as markdown."
         ],
         "tagName": "p"
        },
        {
         "attributes": {},
         "children": [
          {
           "attributes": {},
           "children": [
            "class MyClass:\n"
           ],
           "tagName": "code"
          }
         ],
         "tagName": "pre"
        },
        {
         "attributes": {},
         "children": [
          "This is the docstring for ",
          {
           "attributes": {},
           "children": [
            "MyClass"
           ],
           "tagName": "code"
          },
          ".  ",
          {
           "attributes": {},
           "children": [
            "pidgin"
           ],
           "tagName": "code"
          },
          " will automatically wrap this expression in quotes because it follows a class defintion."
         ],
         "tagName": "p"
        }
       ],
       "tagName": "div"
      },
      "text/plain": [
       "'## Docstrings\\n\\nA latent feature of `pidgin` is the ability to compose docstrings as markdown.\\n\\n    class MyClass:\\nThis is the docstring for `MyClass`.  `pidgin` will automatically wrap this expression in quotes because it follows a class defintion.'"
      ]
     },
     "metadata": {},
     "output_type": "display_data"
    }
   ],
   "source": [
    "## Docstrings\n",
    "\n",
    "A latent feature of `pidgin` is the ability to compose docstrings as markdown.\n",
    "\n",
    "    class MyClass:\n",
    "This is the docstring for `MyClass`.  `pidgin` will automatically wrap this expression in quotes because it follows a class defintion."
   ]
  },
  {
   "cell_type": "code",
   "execution_count": 8,
   "metadata": {},
   "outputs": [
    {
     "data": {
      "application/vdom.v1+json": {
       "attributes": {},
       "children": [
        {
         "attributes": {},
         "children": [
          {
           "attributes": {},
           "children": [
            "def my_function(x):\n"
           ],
           "tagName": "code"
          }
         ],
         "tagName": "pre"
        },
        {
         "attributes": {},
         "children": [
          "Functions may have their docstring written in markdown. ",
          {
           "attributes": {},
           "children": [
            "pidgin"
           ],
           "tagName": "code"
          },
          " now transparently tests doctests in the docstring."
         ],
         "tagName": "p"
        },
        {
         "attributes": {},
         "children": [
          {
           "attributes": {},
           "children": [
            "my_function"
           ],
           "tagName": "code"
          },
          " tests"
         ],
         "tagName": "h2"
        },
        {
         "attributes": {},
         "children": [
          {
           "attributes": {},
           "children": [
            ">>> assert my_function(10) == 10\n\n"
           ],
           "tagName": "code"
          }
         ],
         "tagName": "pre"
        },
        {
         "attributes": {},
         "children": [
          {
           "attributes": {},
           "children": [
            "    return x\n"
           ],
           "tagName": "code"
          }
         ],
         "tagName": "pre"
        },
        {
         "attributes": {},
         "children": [
          "... and don't forget that all inline functions must evaluate."
         ],
         "tagName": "p"
        }
       ],
       "tagName": "div"
      },
      "text/plain": [
       "\"    def my_function(x):\\nFunctions may have their docstring written in markdown. `pidgin` now transparently tests doctests in the docstring.\\n\\n## `my_function` tests\\n```\\n>>> assert my_function(10) == 10\\n\\n```\\n\\n        return x\\n\\n... and don't forget that all inline functions must evaluate.\""
      ]
     },
     "metadata": {},
     "output_type": "display_data"
    }
   ],
   "source": [
    "    def my_function(x):\n",
    "Functions may have their docstring written in markdown. `pidgin` now transparently tests doctests in the docstring.\n",
    "\n",
    "## `my_function` tests\n",
    "```\n",
    ">>> assert my_function(10) == 10\n",
    "\n",
    "```\n",
    "\n",
    "        return x\n",
    "\n",
    "... and don't forget that all inline functions must evaluate."
   ]
  },
  {
   "cell_type": "code",
   "execution_count": 9,
   "metadata": {},
   "outputs": [
    {
     "data": {
      "application/vdom.v1+json": {
       "attributes": {},
       "children": [
        {
         "attributes": {},
         "children": [
          "Conventions for pidgin"
         ],
         "tagName": "h2"
        },
        {
         "attributes": {},
         "children": [
          {
           "attributes": {},
           "children": [
            {
             "attributes": {},
             "children": [
              "Documents should restart and run all."
             ],
             "tagName": "p"
            }
           ],
           "tagName": "li"
          },
          {
           "attributes": {},
           "children": [
            {
             "attributes": {},
             "children": [
              {
               "attributes": {},
               "children": [
                "inline"
               ],
               "tagName": "strong"
              },
              " and ",
              {
               "attributes": {},
               "children": [
                "block"
               ],
               "tagName": "strong"
              },
              " cells should evaluate."
             ],
             "tagName": "p"
            }
           ],
           "tagName": "li"
          },
          {
           "attributes": {},
           "children": [
            {
             "attributes": {},
             "children": [
              "All ",
              {
               "attributes": {},
               "children": [
                "block"
               ],
               "tagName": "strong"
              },
              " code is indented."
             ],
             "tagName": "p"
            }
           ],
           "tagName": "li"
          }
         ],
         "tagName": "ul"
        }
       ],
       "tagName": "div"
      },
      "text/plain": [
       "'## Conventions for pidgin\\n\\n* Documents should restart and run all.\\n* __inline__ and __block__ cells should evaluate.\\n* All __block__ code is indented.'"
      ]
     },
     "metadata": {},
     "output_type": "display_data"
    }
   ],
   "source": [
    "## Conventions for pidgin\n",
    "\n",
    "* Documents should restart and run all.\n",
    "* __inline__ and __block__ cells should evaluate.\n",
    "* All __block__ code is indented."
   ]
  },
  {
   "cell_type": "code",
   "execution_count": 14,
   "metadata": {},
   "outputs": [
    {
     "data": {
      "text/markdown": [
       "Use pidgin a cell magic to temporarily employ any convetions.\n",
       "    \n",
       "    if __name__ == '__main__':\n",
       "        !jupyter nbconvert --to markdown readme.ipynb"
      ],
      "text/plain": [
       "Use pidgin a cell magic to temporarily employ any convetions.\n",
       "    \n",
       "    if __name__ == '__main__':\n",
       "        !jupyter nbconvert --to markdown readme.ipynb"
      ]
     },
     "metadata": {},
     "output_type": "display_data"
    },
    {
     "name": "stdout",
     "output_type": "stream",
     "text": [
      "[NbConvertApp] Converting notebook readme.ipynb to markdown\n",
      "[NbConvertApp] Writing 3095 bytes to readme.md\n"
     ]
    }
   ],
   "source": [
    "if __name__ == '__main__':\n",
    "    !jupyter nbconvert --to markdown readme.ipynb"
   ]
  }
 ],
 "metadata": {
  "kernelspec": {
   "display_name": "Python 3",
   "language": "python",
   "name": "python3"
  },
  "language_info": {
   "codemirror_mode": {
    "name": "ipython",
    "version": 3
   },
   "file_extension": ".py",
   "mimetype": "text/x-python",
   "name": "python",
   "nbconvert_exporter": "python",
   "pygments_lexer": "ipython3",
   "version": "3.6.6"
  }
 },
 "nbformat": 4,
 "nbformat_minor": 2
}
