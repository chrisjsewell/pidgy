{
 "cells": [
  {
   "cell_type": "code",
   "execution_count": 1,
   "metadata": {},
   "outputs": [
    {
     "data": {
      "text/html": [
       "<pre class=\"ipython\"><code>%matplotlib agg\n",
       "with __import__(&#39;pidgin&#39;).load():None\n",
       "shell = __import__(&#39;IPython&#39;).get_ipython()</code></pre>\n"
      ],
      "text/plain": [
       "    %matplotlib agg\n",
       "    with __import__('pidgin').load():None\n",
       "    shell = __import__('IPython').get_ipython()"
      ]
     },
     "metadata": {},
     "output_type": "display_data"
    }
   ],
   "source": [
    "    %matplotlib agg\n",
    "    with __import__('pidgin').load():None\n",
    "    shell = __import__('IPython').get_ipython()"
   ]
  },
  {
   "cell_type": "code",
   "execution_count": 2,
   "metadata": {},
   "outputs": [
    {
     "name": "stdout",
     "output_type": "stream",
     "text": [
      "**********************************************************************\n",
      "Line 1, in __main__\n",
      "Failed example:\n",
      "    rang\n",
      "Exception raised:\n",
      "    Traceback (most recent call last):\n",
      "      File \"/Users/tonyfast/anaconda/envs/p6/lib/python3.6/doctest.py\", line 1330, in __run\n",
      "        compileflags, 1), test.globs)\n",
      "      File \"<doctest __main__[1]>\", line 1, in <module>\n",
      "        rang\n",
      "    NameError: name 'rang' is not defined\n"
     ]
    },
    {
     "data": {
      "text/html": [
       "<p>There is a <code>range</code> involved. It <code>rang</code>. <code>None</code></p>\n"
      ],
      "text/plain": [
       "There is a `range` involved.  It `rang`. `None`"
      ]
     },
     "metadata": {},
     "output_type": "display_data"
    }
   ],
   "source": [
    "There is a `range` involved.  It `rang`. `None`"
   ]
  },
  {
   "cell_type": "code",
   "execution_count": 3,
   "metadata": {},
   "outputs": [
    {
     "data": {
      "text/html": [
       "<pre class=\"ipython\"><code>&gt;&gt;&gt; shell.pidgin\n",
       "&lt;traitlets.traitlets.PidginShell object at ...&gt;\n",
       "&gt;&gt;&gt; shell.pidgin.tangle\n",
       "&lt;pidgin.Tangle object at ...&gt;\n",
       "&gt;&gt;&gt; shell.pidgin.weave\n",
       "&lt;pidgin.Weave object at ...&gt;\n",
       "&gt;&gt;&gt; shell.pidgin.doctest\n",
       "&lt;pidgin.Doctest object at ...&gt;</code></pre>\n"
      ],
      "text/plain": [
       "    >>> shell.pidgin\n",
       "    <traitlets.traitlets.PidginShell object at ...>\n",
       "    >>> shell.pidgin.tangle\n",
       "    <pidgin.Tangle object at ...>\n",
       "    >>> shell.pidgin.weave\n",
       "    <pidgin.Weave object at ...>\n",
       "    >>> shell.pidgin.doctest\n",
       "    <pidgin.Doctest object at ...>\n"
      ]
     },
     "metadata": {},
     "output_type": "display_data"
    }
   ],
   "source": [
    "    >>> shell.pidgin\n",
    "    <traitlets.traitlets.PidginShell object at ...>\n",
    "    >>> shell.pidgin.tangle\n",
    "    <pidgin.Tangle object at ...>\n",
    "    >>> shell.pidgin.weave\n",
    "    <pidgin.Weave object at ...>\n",
    "    >>> shell.pidgin.doctest\n",
    "    <pidgin.Doctest object at ...>\n"
   ]
  },
  {
   "cell_type": "code",
   "execution_count": 4,
   "metadata": {},
   "outputs": [
    {
     "data": {
      "text/html": [
       "<pre class=\"ipython\"><code>foo: &#39;xxx&#39;</code></pre>\n"
      ],
      "text/plain": [
       "    foo: 'xxx'"
      ]
     },
     "metadata": {},
     "output_type": "display_data"
    }
   ],
   "source": [
    "    foo: 'xxx'"
   ]
  },
  {
   "cell_type": "code",
   "execution_count": 5,
   "metadata": {},
   "outputs": [
    {
     "data": {
      "text/html": [
       "<pre class=\"ipython\"><code>&gt;&gt;&gt; __annotations__ \n",
       "{&#39;foo&#39;: &#39;xxx&#39;}\n",
       "&gt;&gt;&gt; assert &#39;foo&#39; not in globals()</code></pre>\n"
      ],
      "text/plain": [
       "    >>> __annotations__ \n",
       "    {'foo': 'xxx'}\n",
       "    >>> assert 'foo' not in globals()"
      ]
     },
     "metadata": {},
     "output_type": "display_data"
    }
   ],
   "source": [
    "    >>> __annotations__ \n",
    "    {'foo': 'xxx'}\n",
    "    >>> assert 'foo' not in globals()"
   ]
  },
  {
   "cell_type": "code",
   "execution_count": 6,
   "metadata": {},
   "outputs": [
    {
     "data": {
      "text/html": [
       "<pre class=\"ipython\"><code>bar: &#39;yyy&#39; = &#39;wxyz&#39;</code></pre>\n"
      ],
      "text/plain": [
       "    bar: 'yyy' = 'wxyz'"
      ]
     },
     "metadata": {},
     "output_type": "display_data"
    }
   ],
   "source": [
    "    bar: 'yyy' = 'wxyz'"
   ]
  },
  {
   "cell_type": "code",
   "execution_count": 7,
   "metadata": {},
   "outputs": [
    {
     "data": {
      "text/html": [
       "<pre class=\"ipython\"><code>&gt;&gt;&gt; bar\n",
       "&#39;wxyz&#39;\n",
       "&gt;&gt;&gt; __annotations__\n",
       "{&#39;foo&#39;: &#39;xxx&#39;, &#39;bar&#39;: &#39;yyy&#39;}</code></pre>\n"
      ],
      "text/plain": [
       "    >>> bar\n",
       "    'wxyz'\n",
       "    >>> __annotations__\n",
       "    {'foo': 'xxx', 'bar': 'yyy'}\n"
      ]
     },
     "metadata": {},
     "output_type": "display_data"
    }
   ],
   "source": [
    "    >>> bar\n",
    "    'wxyz'\n",
    "    >>> __annotations__\n",
    "    {'foo': 'xxx', 'bar': 'yyy'}\n"
   ]
  },
  {
   "cell_type": "code",
   "execution_count": 8,
   "metadata": {},
   "outputs": [
    {
     "data": {
      "text/html": [
       "<h1 id=\"xxx-wxyz\">xxx WXYZ</h1>\n"
      ],
      "text/plain": [
       "# {{foo|lower}} {{bar|upper}}"
      ]
     },
     "metadata": {},
     "output_type": "display_data"
    }
   ],
   "source": [
    "# {{foo|lower}} {{bar|upper}}"
   ]
  },
  {
   "cell_type": "code",
   "execution_count": 9,
   "metadata": {},
   "outputs": [],
   "source": [
    "\n",
    "# {{foo|lower}} {{bar|upper}}"
   ]
  },
  {
   "cell_type": "code",
   "execution_count": 10,
   "metadata": {},
   "outputs": [
    {
     "data": {
      "text/html": [
       "<pre class=\"ipython\"><code>graph = lambda object: __import__(&#39;graphviz&#39;).Source(&quot;graph { %s}&quot;%object)</code></pre>\n"
      ],
      "text/plain": [
       "    graph = lambda object: __import__('graphviz').Source(\"graph { %s}\"%object)"
      ]
     },
     "metadata": {},
     "output_type": "display_data"
    }
   ],
   "source": [
    "    graph = lambda object: __import__('graphviz').Source(\"graph { %s}\"%object)"
   ]
  },
  {
   "cell_type": "code",
   "execution_count": 11,
   "metadata": {},
   "outputs": [
    {
     "data": {
      "image/svg+xml": [
       "<?xml version=\"1.0\" encoding=\"UTF-8\" standalone=\"no\"?>\n",
       "<!DOCTYPE svg PUBLIC \"-//W3C//DTD SVG 1.1//EN\"\n",
       " \"http://www.w3.org/Graphics/SVG/1.1/DTD/svg11.dtd\">\n",
       "<!-- Generated by graphviz version 2.38.0 (20140413.2041)\n",
       " -->\n",
       "<!-- Title: %3 Pages: 1 -->\n",
       "<svg width=\"134pt\" height=\"44pt\"\n",
       " viewBox=\"0.00 0.00 134.00 44.00\" xmlns=\"http://www.w3.org/2000/svg\" xmlns:xlink=\"http://www.w3.org/1999/xlink\">\n",
       "<g id=\"graph0\" class=\"graph\" transform=\"scale(1 1) rotate(0) translate(4 40)\">\n",
       "<title>%3</title>\n",
       "<polygon fill=\"white\" stroke=\"none\" points=\"-4,4 -4,-40 130,-40 130,4 -4,4\"/>\n",
       "<!-- A -->\n",
       "<g id=\"node1\" class=\"node\"><title>A</title>\n",
       "<ellipse fill=\"none\" stroke=\"black\" cx=\"27\" cy=\"-18\" rx=\"27\" ry=\"18\"/>\n",
       "<text text-anchor=\"middle\" x=\"27\" y=\"-13.8\" font-family=\"Times,serif\" font-size=\"14.00\">A</text>\n",
       "</g>\n",
       "<!-- B -->\n",
       "<g id=\"node2\" class=\"node\"><title>B</title>\n",
       "<ellipse fill=\"none\" stroke=\"black\" cx=\"99\" cy=\"-18\" rx=\"27\" ry=\"18\"/>\n",
       "<text text-anchor=\"middle\" x=\"99\" y=\"-13.8\" font-family=\"Times,serif\" font-size=\"14.00\">B</text>\n",
       "</g>\n",
       "</g>\n",
       "</svg>\n"
      ],
      "text/plain": [
       "<graphviz.files.Source at 0x106faaba8>"
      ]
     },
     "execution_count": 11,
     "metadata": {},
     "output_type": "execute_result"
    },
    {
     "data": {
      "text/html": [
       "<?xml version=\"1.0\" encoding=\"UTF-8\" standalone=\"no\"?>\n",
       "<!DOCTYPE svg PUBLIC \"-//W3C//DTD SVG 1.1//EN\"\n",
       " \"http://www.w3.org/Graphics/SVG/1.1/DTD/svg11.dtd\">\n",
       "<!-- Generated by graphviz version 2.38.0 (20140413.2041)\n",
       " -->\n",
       "<!-- Title: %3 Pages: 1 -->\n",
       "<svg width=\"134pt\" height=\"44pt\" viewBox=\"0.00 0.00 134.00 44.00\" xmlns=\"http://www.w3.org/2000/svg\" xmlns:xlink=\"http://www.w3.org/1999/xlink\">\n",
       "<g id=\"graph0\" class=\"graph\" transform=\"scale(1 1) rotate(0) translate(4 40)\">\n",
       "<title>\n",
       "%3\n",
       "</title>\n",
       "<polygon fill=\"white\" stroke=\"none\" points=\"-4,4 -4,-40 130,-40 130,4 -4,4\"/> <!-- C --> <g id=\"node1\" class=\"node\">\n",
       "<title>\n",
       "C\n",
       "</title>\n",
       "<ellipse fill=\"none\" stroke=\"black\" cx=\"27\" cy=\"-18\" rx=\"27\" ry=\"18\"/> <text text-anchor=\"middle\" x=\"27\" y=\"-13.8\" font-family=\"Times,serif\" font-size=\"14.00\">C</text> </g> <!-- D --> <g id=\"node2\" class=\"node\">\n",
       "<title>\n",
       "D\n",
       "</title>\n",
       "<ellipse fill=\"none\" stroke=\"black\" cx=\"99\" cy=\"-18\" rx=\"27\" ry=\"18\"/> <text text-anchor=\"middle\" x=\"99\" y=\"-13.8\" font-family=\"Times,serif\" font-size=\"14.00\">D</text> </g> </g>\n",
       "</svg>\n",
       "<pre class=\"ipython\"><code>;graph {A B}</code></pre>\n"
      ],
      "text/plain": [
       "{{ \"{C D}\" | graph }}\n",
       "    \n",
       "    ;graph {A B}"
      ]
     },
     "metadata": {},
     "output_type": "display_data"
    }
   ],
   "source": [
    "{{ \"{C D}\" | graph }}\n",
    "    \n",
    "    ;graph {A B}"
   ]
  },
  {
   "cell_type": "code",
   "execution_count": 12,
   "metadata": {},
   "outputs": [
    {
     "data": {
      "text/html": [
       "<pre class=\"ipython\"><code>import sympy.abc\n",
       "sympy.init_printing()</code></pre>\n"
      ],
      "text/plain": [
       "    import sympy.abc\n",
       "    sympy.init_printing()"
      ]
     },
     "metadata": {},
     "output_type": "display_data"
    }
   ],
   "source": [
    "    import sympy.abc\n",
    "    sympy.init_printing()"
   ]
  },
  {
   "cell_type": "code",
   "execution_count": 13,
   "metadata": {},
   "outputs": [
    {
     "data": {
      "text/html": [
       "<pre class=\"ipython\"><code>&gt;&gt;&gt; shell.display_formatter.active_types\n",
       "[&#39;text/plain&#39;, &#39;text/html&#39;, &#39;text/markdown&#39;, &#39;image/svg+xml&#39;, &#39;image/png&#39;, &#39;application/pdf&#39;, &#39;image/jpeg&#39;, &#39;text/latex&#39;, &#39;application/json&#39;, &#39;application/javascript&#39;]</code></pre>\n"
      ],
      "text/plain": [
       "    >>> shell.display_formatter.active_types\n",
       "    ['text/plain', 'text/html', 'text/markdown', 'image/svg+xml', 'image/png', 'application/pdf', 'image/jpeg', 'text/latex', 'application/json', 'application/javascript']"
      ]
     },
     "metadata": {},
     "output_type": "display_data"
    }
   ],
   "source": [
    "    >>> shell.display_formatter.active_types\n",
    "    ['text/plain', 'text/html', 'text/markdown', 'image/svg+xml', 'image/png', 'application/pdf', 'image/jpeg', 'text/latex', 'application/json', 'application/javascript']"
   ]
  },
  {
   "cell_type": "code",
   "execution_count": 14,
   "metadata": {},
   "outputs": [
    {
     "data": {
      "image/png": "[encoded data removed]",
      "text/latex": [
       "$$\\int x\\, dx$$"
      ],
      "text/plain": [
       "⌠     \n",
       "⎮ x dx\n",
       "⌡     "
      ]
     },
     "execution_count": 14,
     "metadata": {},
     "output_type": "execute_result"
    },
    {
     "data": {
      "text/html": [
       "<p><span class=\"math inline\">∫<sub>−10</sub><sup>10</sup><em>x</em><sup>2</sup> <em>d</em><em>x</em></span></p>\n",
       "<p><img src=\"data:image/png;base64,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\"/></p>\n",
       "<pre class=\"ipython\"><code>e=2\n",
       "sympy.Integral(sympy.abc.x)</code></pre>\n"
      ],
      "text/plain": [
       "{{sympy.Integral(sympy.abc.x**e, (sympy.abc.x, -10, 10))}}\n",
       "\n",
       "{{sympy.plot(sympy.abc.x**e, (sympy.abc.x, -10, 10))}}\n",
       "\n",
       "    e=2\n",
       "    sympy.Integral(sympy.abc.x)"
      ]
     },
     "metadata": {},
     "output_type": "display_data"
    }
   ],
   "source": [
    "{{sympy.Integral(sympy.abc.x**e, (sympy.abc.x, -10, 10))}}\n",
    "\n",
    "{{sympy.plot(sympy.abc.x**e, (sympy.abc.x, -10, 10))}}\n",
    "\n",
    "    e=2\n",
    "    sympy.Integral(sympy.abc.x)"
   ]
  },
  {
   "cell_type": "code",
   "execution_count": 15,
   "metadata": {},
   "outputs": [
    {
     "data": {
      "text/html": [
       "<p><span class=\"math inline\">4.5</span> and <span class=\"math inline\">3.0276503540974917</span></p>\n",
       "<div>\n",
       "<style scoped>\n",
       "    .dataframe tbody tr th:only-of-type {\n",
       "        vertical-align: middle;\n",
       "    }\n",
       "\n",
       "    .dataframe tbody tr th {\n",
       "        vertical-align: top;\n",
       "    }\n",
       "\n",
       "    .dataframe thead th {\n",
       "        text-align: right;\n",
       "    }\n",
       "</style>\n",
       "<table border=\"1\" class=\"dataframe\">\n",
       "<thead>\n",
       "<tr style=\"text-align: right;\">\n",
       "<th>\n",
       "</th>\n",
       "<th>\n",
       "0\n",
       "</th>\n",
       "<th>\n",
       "1\n",
       "</th>\n",
       "<th>\n",
       "2\n",
       "</th>\n",
       "<th>\n",
       "3\n",
       "</th>\n",
       "<th>\n",
       "4\n",
       "</th>\n",
       "<th>\n",
       "5\n",
       "</th>\n",
       "<th>\n",
       "6\n",
       "</th>\n",
       "<th>\n",
       "7\n",
       "</th>\n",
       "<th>\n",
       "8\n",
       "</th>\n",
       "<th>\n",
       "9\n",
       "</th>\n",
       "</tr>\n",
       "</thead>\n",
       "<tbody>\n",
       "<tr>\n",
       "<th>\n",
       "A\n",
       "</th>\n",
       "<td>\n",
       "0\n",
       "</td>\n",
       "<td>\n",
       "1\n",
       "</td>\n",
       "<td>\n",
       "2\n",
       "</td>\n",
       "<td>\n",
       "3\n",
       "</td>\n",
       "<td>\n",
       "4\n",
       "</td>\n",
       "<td>\n",
       "5\n",
       "</td>\n",
       "<td>\n",
       "6\n",
       "</td>\n",
       "<td>\n",
       "7\n",
       "</td>\n",
       "<td>\n",
       "8\n",
       "</td>\n",
       "<td>\n",
       "9\n",
       "</td>\n",
       "</tr>\n",
       "<tr>\n",
       "<th>\n",
       "B\n",
       "</th>\n",
       "<td>\n",
       "9\n",
       "</td>\n",
       "<td>\n",
       "8\n",
       "</td>\n",
       "<td>\n",
       "7\n",
       "</td>\n",
       "<td>\n",
       "6\n",
       "</td>\n",
       "<td>\n",
       "5\n",
       "</td>\n",
       "<td>\n",
       "4\n",
       "</td>\n",
       "<td>\n",
       "3\n",
       "</td>\n",
       "<td>\n",
       "2\n",
       "</td>\n",
       "<td>\n",
       "1\n",
       "</td>\n",
       "<td>\n",
       "0\n",
       "</td>\n",
       "</tr>\n",
       "</tbody>\n",
       "</table>\n",
       "</div>\n",
       "<div>\n",
       "<style scoped>\n",
       "    .dataframe tbody tr th:only-of-type {\n",
       "        vertical-align: middle;\n",
       "    }\n",
       "\n",
       "    .dataframe tbody tr th {\n",
       "        vertical-align: top;\n",
       "    }\n",
       "\n",
       "    .dataframe thead th {\n",
       "        text-align: right;\n",
       "    }\n",
       "</style>\n",
       "<table border=\"1\" class=\"dataframe\">\n",
       "<thead>\n",
       "<tr style=\"text-align: right;\">\n",
       "<th>\n",
       "</th>\n",
       "<th>\n",
       "count\n",
       "</th>\n",
       "<th>\n",
       "mean\n",
       "</th>\n",
       "<th>\n",
       "std\n",
       "</th>\n",
       "<th>\n",
       "min\n",
       "</th>\n",
       "<th>\n",
       "25%\n",
       "</th>\n",
       "<th>\n",
       "50%\n",
       "</th>\n",
       "<th>\n",
       "75%\n",
       "</th>\n",
       "<th>\n",
       "max\n",
       "</th>\n",
       "</tr>\n",
       "</thead>\n",
       "<tbody>\n",
       "<tr>\n",
       "<th>\n",
       "A\n",
       "</th>\n",
       "<td>\n",
       "10.0\n",
       "</td>\n",
       "<td>\n",
       "4.5\n",
       "</td>\n",
       "<td>\n",
       "3.02765\n",
       "</td>\n",
       "<td>\n",
       "0.0\n",
       "</td>\n",
       "<td>\n",
       "2.25\n",
       "</td>\n",
       "<td>\n",
       "4.5\n",
       "</td>\n",
       "<td>\n",
       "6.75\n",
       "</td>\n",
       "<td>\n",
       "9.0\n",
       "</td>\n",
       "</tr>\n",
       "<tr>\n",
       "<th>\n",
       "B\n",
       "</th>\n",
       "<td>\n",
       "10.0\n",
       "</td>\n",
       "<td>\n",
       "4.5\n",
       "</td>\n",
       "<td>\n",
       "3.02765\n",
       "</td>\n",
       "<td>\n",
       "0.0\n",
       "</td>\n",
       "<td>\n",
       "2.25\n",
       "</td>\n",
       "<td>\n",
       "4.5\n",
       "</td>\n",
       "<td>\n",
       "6.75\n",
       "</td>\n",
       "<td>\n",
       "9.0\n",
       "</td>\n",
       "</tr>\n",
       "</tbody>\n",
       "</table>\n",
       "</div>\n",
       "<p><img src=\"data:image/png;base64,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\"/></p>\n",
       "<pre class=\"ipython\"><code>import pandas\n",
       "df = pandas.DataFrame(list(zip(range(10), reversed(range(10)))), columns=list(&#39;AB&#39;))\n",
       "globals().update(df)</code></pre>\n"
      ],
      "text/plain": [
       "{{A.mean()}} and {{A.std()}}\n",
       "\n",
       "{{df.T}}\n",
       "\n",
       "{{df.describe().T}}\n",
       "\n",
       "{{df.plot(figsize=(3,1))}}\n",
       "    \n",
       "    import pandas\n",
       "    df = pandas.DataFrame(list(zip(range(10), reversed(range(10)))), columns=list('AB'))\n",
       "    globals().update(df)"
      ]
     },
     "metadata": {},
     "output_type": "display_data"
    }
   ],
   "source": [
    "{{A.mean()}} and {{A.std()}}\n",
    "\n",
    "{{df.T}}\n",
    "\n",
    "{{df.describe().T}}\n",
    "\n",
    "{{df.plot(figsize=(3,1))}}\n",
    "    \n",
    "    import pandas\n",
    "    df = pandas.DataFrame(list(zip(range(10), reversed(range(10)))), columns=list('AB'))\n",
    "    globals().update(df)"
   ]
  },
  {
   "cell_type": "code",
   "execution_count": 16,
   "metadata": {},
   "outputs": [
    {
     "data": {
      "text/html": [
       "<pre class=\"ipython\"><code>df = pandas.util.testing.makeDataFrame()</code></pre>\n"
      ],
      "text/plain": [
       "    df = pandas.util.testing.makeDataFrame()"
      ]
     },
     "metadata": {},
     "output_type": "display_data"
    }
   ],
   "source": [
    "    df = pandas.util.testing.makeDataFrame()"
   ]
  },
  {
   "cell_type": "code",
   "execution_count": 17,
   "metadata": {},
   "outputs": [],
   "source": [
    "\n",
    "{{A.mean()}} and {{A.std()}}\n",
    "\n",
    "{{df.T}}\n",
    "\n",
    "{{df.describe().T}}\n",
    "\n",
    "{{df.plot(figsize=(3,1))}}\n",
    "    \n",
    "    import pandas\n",
    "    df = pandas.DataFrame(list(zip(range(10), reversed(range(10)))), columns=list('AB'))\n",
    "    globals().update(df)"
   ]
  }
 ],
 "metadata": {
  "kernelspec": {
   "display_name": "p6",
   "language": "python",
   "name": "other-env"
  },
  "language_info": {
   "codemirror_mode": {
    "name": "ipython",
    "version": 3
   },
   "file_extension": ".py",
   "mimetype": "text/x-python",
   "name": "python",
   "nbconvert_exporter": "python",
   "pygments_lexer": "ipython3",
   "version": "3.6.8"
  }
 },
 "nbformat": 4,
 "nbformat_minor": 4
}
