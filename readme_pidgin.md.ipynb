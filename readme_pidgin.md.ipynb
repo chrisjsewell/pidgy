{
 "cells": [
  {
   "cell_type": "markdown",
   "metadata": {},
   "source": [
    "`pidgin` is a collection of `IPython` extensions for creating computable essays."
   ]
  },
  {
   "cell_type": "markdown",
   "metadata": {},
   "source": [
    "    #Execute this cell to install pidgin.\n",
    "    #!pip install pidgin\n",
    "    !pip install git+https://github.com/deathbeds/pidgin"
   ]
  },
  {
   "cell_type": "markdown",
   "metadata": {},
   "source": [
    "Then load the `pidgin` extension."
   ]
  },
  {
   "cell_type": "code",
   "execution_count": 1,
   "metadata": {},
   "outputs": [],
   "source": [
    "    from IPython import get_ipython\n",
    "    %reload_ext pidgin"
   ]
  },
  {
   "cell_type": "code",
   "execution_count": 2,
   "metadata": {},
   "outputs": [
    {
     "data": {
      "text/html": [
       "<style>.highlight .hll { background-color: #ffffcc }\n",
       ".highlight  { background: #f8f8f8; }\n",
       ".highlight .c { color: #408080; font-style: italic } /* Comment */\n",
       ".highlight .err { border: 1px solid #FF0000 } /* Error */\n",
       ".highlight .k { color: #008000; font-weight: bold } /* Keyword */\n",
       ".highlight .o { color: #666666 } /* Operator */\n",
       ".highlight .ch { color: #408080; font-style: italic } /* Comment.Hashbang */\n",
       ".highlight .cm { color: #408080; font-style: italic } /* Comment.Multiline */\n",
       ".highlight .cp { color: #BC7A00 } /* Comment.Preproc */\n",
       ".highlight .cpf { color: #408080; font-style: italic } /* Comment.PreprocFile */\n",
       ".highlight .c1 { color: #408080; font-style: italic } /* Comment.Single */\n",
       ".highlight .cs { color: #408080; font-style: italic } /* Comment.Special */\n",
       ".highlight .gd { color: #A00000 } /* Generic.Deleted */\n",
       ".highlight .ge { font-style: italic } /* Generic.Emph */\n",
       ".highlight .gr { color: #FF0000 } /* Generic.Error */\n",
       ".highlight .gh { color: #000080; font-weight: bold } /* Generic.Heading */\n",
       ".highlight .gi { color: #00A000 } /* Generic.Inserted */\n",
       ".highlight .go { color: #888888 } /* Generic.Output */\n",
       ".highlight .gp { color: #000080; font-weight: bold } /* Generic.Prompt */\n",
       ".highlight .gs { font-weight: bold } /* Generic.Strong */\n",
       ".highlight .gu { color: #800080; font-weight: bold } /* Generic.Subheading */\n",
       ".highlight .gt { color: #0044DD } /* Generic.Traceback */\n",
       ".highlight .kc { color: #008000; font-weight: bold } /* Keyword.Constant */\n",
       ".highlight .kd { color: #008000; font-weight: bold } /* Keyword.Declaration */\n",
       ".highlight .kn { color: #008000; font-weight: bold } /* Keyword.Namespace */\n",
       ".highlight .kp { color: #008000 } /* Keyword.Pseudo */\n",
       ".highlight .kr { color: #008000; font-weight: bold } /* Keyword.Reserved */\n",
       ".highlight .kt { color: #B00040 } /* Keyword.Type */\n",
       ".highlight .m { color: #666666 } /* Literal.Number */\n",
       ".highlight .s { color: #BA2121 } /* Literal.String */\n",
       ".highlight .na { color: #7D9029 } /* Name.Attribute */\n",
       ".highlight .nb { color: #008000 } /* Name.Builtin */\n",
       ".highlight .nc { color: #0000FF; font-weight: bold } /* Name.Class */\n",
       ".highlight .no { color: #880000 } /* Name.Constant */\n",
       ".highlight .nd { color: #AA22FF } /* Name.Decorator */\n",
       ".highlight .ni { color: #999999; font-weight: bold } /* Name.Entity */\n",
       ".highlight .ne { color: #D2413A; font-weight: bold } /* Name.Exception */\n",
       ".highlight .nf { color: #0000FF } /* Name.Function */\n",
       ".highlight .nl { color: #A0A000 } /* Name.Label */\n",
       ".highlight .nn { color: #0000FF; font-weight: bold } /* Name.Namespace */\n",
       ".highlight .nt { color: #008000; font-weight: bold } /* Name.Tag */\n",
       ".highlight .nv { color: #19177C } /* Name.Variable */\n",
       ".highlight .ow { color: #AA22FF; font-weight: bold } /* Operator.Word */\n",
       ".highlight .w { color: #bbbbbb } /* Text.Whitespace */\n",
       ".highlight .mb { color: #666666 } /* Literal.Number.Bin */\n",
       ".highlight .mf { color: #666666 } /* Literal.Number.Float */\n",
       ".highlight .mh { color: #666666 } /* Literal.Number.Hex */\n",
       ".highlight .mi { color: #666666 } /* Literal.Number.Integer */\n",
       ".highlight .mo { color: #666666 } /* Literal.Number.Oct */\n",
       ".highlight .sa { color: #BA2121 } /* Literal.String.Affix */\n",
       ".highlight .sb { color: #BA2121 } /* Literal.String.Backtick */\n",
       ".highlight .sc { color: #BA2121 } /* Literal.String.Char */\n",
       ".highlight .dl { color: #BA2121 } /* Literal.String.Delimiter */\n",
       ".highlight .sd { color: #BA2121; font-style: italic } /* Literal.String.Doc */\n",
       ".highlight .s2 { color: #BA2121 } /* Literal.String.Double */\n",
       ".highlight .se { color: #BB6622; font-weight: bold } /* Literal.String.Escape */\n",
       ".highlight .sh { color: #BA2121 } /* Literal.String.Heredoc */\n",
       ".highlight .si { color: #BB6688; font-weight: bold } /* Literal.String.Interpol */\n",
       ".highlight .sx { color: #008000 } /* Literal.String.Other */\n",
       ".highlight .sr { color: #BB6688 } /* Literal.String.Regex */\n",
       ".highlight .s1 { color: #BA2121 } /* Literal.String.Single */\n",
       ".highlight .ss { color: #19177C } /* Literal.String.Symbol */\n",
       ".highlight .bp { color: #008000 } /* Name.Builtin.Pseudo */\n",
       ".highlight .fm { color: #0000FF } /* Name.Function.Magic */\n",
       ".highlight .vc { color: #19177C } /* Name.Variable.Class */\n",
       ".highlight .vg { color: #19177C } /* Name.Variable.Global */\n",
       ".highlight .vi { color: #19177C } /* Name.Variable.Instance */\n",
       ".highlight .vm { color: #19177C } /* Name.Variable.Magic */\n",
       ".highlight .il { color: #666666 } /* Literal.Number.Integer.Long */</style><div class=\"highlight\"><pre><span></span>    <span class=\"kn\">import</span> <span class=\"nn\">pidgin</span><span class=\"o\">,</span> <span class=\"nn\">IPython</span>\n",
       "</pre></div>\n",
       "<p><span class=\"highlight\"><code><span></span><span class=\"n\">pidgin</span>\n",
       "</code></span>\n",
       " allows <strong>Markdown</strong> as <strong>Code Cell</strong> source in <span class=\"highlight\"><code><span></span><span class=\"n\">IPython</span>\n",
       "</code></span>\n",
       ".</p>\n",
       "<ol>\n",
       "<li>The <strong>Markdown</strong> is converted to valid <strong>Python</strong> source.</li>\n",
       "<li>The <strong>Python</strong> source is executed.</li>\n",
       "<li>Any <span class=\"highlight\"><code><span></span><span class=\"s2\">&quot;doctest&quot;</span>\n",
       "</code></span>\n",
       "s are evaluated.</li>\n",
       "<li>All inline code is evaluated.</li>\n",
       "<li>The <strong>Markdown</strong> source is display with special rules defined in <span class=\"highlight\"><code><span></span><span class=\"n\">pidgin</span><span class=\"o\">.</span><span class=\"n\">display</span>\n",
       "</code></span>\n",
       " including <span class=\"highlight\"><code><span></span><span class=\"s2\">&quot;jinja2&quot;</span>\n",
       "</code></span>\n",
       " templates\n",
       "for including data in the display.</li>\n",
       "</ol>\n",
       "<p>Each stuff must succeed without raising an <span class=\"highlight\"><code><span></span><span class=\"ne\">Exception</span>\n",
       "</code></span>\n",
       ".</p>"
      ],
      "text/markdown": [
       "        import pidgin, IPython\n",
       "`pidgin` allows __Markdown__ as __Code Cell__ source in `IPython`.\n",
       "\n",
       "1. The __Markdown__ is converted to valid __Python__ source.\n",
       "2. The __Python__ source is executed.\n",
       "3. Any `\"doctest\"`s are evaluated.\n",
       "4. All inline code is evaluated.\n",
       "5. The __Markdown__ source is display with special rules defined in `pidgin.display` including `\"jinja2\"` templates\n",
       "for including data in the display.\n",
       "\n",
       "Each stuff must succeed without raising an `Exception`.  "
      ],
      "text/plain": [
       "'        import pidgin, IPython\\n`pidgin` allows __Markdown__ as __Code Cell__ source in `IPython`.\\n\\n1. The __Markdown__ is converted to valid __Python__ source.\\n2. The __Python__ source is executed.\\n3. Any `\"doctest\"`s are evaluated.\\n4. All inline code is evaluated.\\n5. The __Markdown__ source is display with special rules defined in `pidgin.display` including `\"jinja2\"` templates\\nfor including data in the display.\\n\\nEach stuff must succeed without raising an `Exception`.  '"
      ]
     },
     "metadata": {},
     "output_type": "display_data"
    }
   ],
   "source": [
    "        import pidgin, IPython\n",
    "`pidgin` allows __Markdown__ as __Code Cell__ source in `IPython`.\n",
    "\n",
    "1. The __Markdown__ is converted to valid __Python__ source.\n",
    "2. The __Python__ source is executed.\n",
    "3. Any `\"doctest\"`s are evaluated.\n",
    "4. All inline code is evaluated.\n",
    "5. The __Markdown__ source is display with special rules defined in `pidgin.display` including `\"jinja2\"` templates\n",
    "for including data in the display.\n",
    "\n",
    "Each stuff must succeed without raising an `Exception`.  "
   ]
  },
  {
   "cell_type": "code",
   "execution_count": 16,
   "metadata": {},
   "outputs": [
    {
     "data": {
      "text/html": [
       "<h2>Benefits of <span class=\"highlight\"><code><span></span><span class=\"n\">pidgin</span>\n",
       "</code></span>\n",
       "</h2>\n",
       "<ul>\n",
       "<li><span class=\"highlight\"><code><span></span><span class=\"n\">pidgin</span>\n",
       "</code></span>\n",
       " requires that all code in a document is valid.</li>\n",
       "<li><span class=\"highlight\"><code><span></span><span class=\"n\">pidgin</span>\n",
       "</code></span>\n",
       " places tighter constraints on the <strong>Run All-ability</strong> of the document.</li>\n",
       "<li><p><span class=\"highlight\"><code><span></span><span class=\"n\">pidgin</span>\n",
       "</code></span>\n",
       " encourages tighter weaving of code and narrative.</p>\n",
       "<div class=\"highlight\"><pre><span></span>  <span class=\"kn\">import</span> <span class=\"nn\">jinja2</span>\n",
       "</pre></div>\n",
       "<p>Use <span class=\"highlight\"><code><span></span><span class=\"n\">jinja2</span>\n",
       "</code></span>\n",
       " syntaxes in <strong>Code Cells</strong>.  On the last display step with include \n",
       "  pretty representations of template expression.  The <span class=\"highlight\"><code><span></span><span class=\"n\">jinja2</span><span class=\"o\">.</span><span class=\"n\">Environment</span>\n",
       "</code></span>\n",
       " returns <strong>html</strong> formatted\n",
       "  display <span class=\"highlight\"><code><span></span><span class=\"nb\">object</span>\n",
       "</code></span>\n",
       "s including <span class=\"highlight\"><code><span></span><span class=\"s2\">&quot;pandas&quot;</span>\n",
       "</code></span>\n",
       " tables and <span class=\"highlight\"><code><span></span><span class=\"s2\">&quot;matplotlib&quot;</span>\n",
       "</code></span>\n",
       " figures.</p>\n",
       "</li>\n",
       "<li><span class=\"highlight\"><code><span></span><span class=\"n\">pidgin</span>\n",
       "</code></span>\n",
       " separates display statements from compute statements.</li>\n",
       "<li><span class=\"highlight\"><code><span></span><span class=\"n\">pidgin</span>\n",
       "</code></span>\n",
       " documents are importable because of <span class=\"highlight\"><code><span></span><span class=\"kn\">import</span> <span class=\"nn\">importnb</span>\n",
       "</code></span>\n",
       "        </li>\n",
       "</ul>\n",
       "<div class=\"highlight\"><pre><span></span><span class=\"k\">with</span> <span class=\"n\">pidgin</span><span class=\"o\">.</span><span class=\"n\">PidginImporter</span><span class=\"p\">(</span><span class=\"n\">position</span><span class=\"o\">=</span><span class=\"mi\">1</span><span class=\"p\">):</span>\n",
       "    <span class=\"kn\">import</span> <span class=\"nn\">readme_pidgin</span> <span class=\"kn\">as</span> <span class=\"nn\">readme</span>\n",
       "</pre></div>"
      ],
      "text/markdown": [
       "## Benefits of `pidgin`\n",
       "\n",
       "* `pidgin` requires that all code in a document is valid.\n",
       "* `pidgin` places tighter constraints on the __Run All-ability__ of the document.\n",
       "* `pidgin` encourages tighter weaving of code and narrative.\n",
       "  \n",
       "        import jinja2\n",
       "    Use `jinja2` syntaxes in __Code Cells__.  On the last display step with include \n",
       "    pretty representations of template expression.  The `jinja2.Environment` returns __html__ formatted\n",
       "    display `object`s including `\"pandas\"` tables and `\"matplotlib\"` figures.\n",
       "* `pidgin` separates display statements from compute statements.\n",
       "* `pidgin` documents are importable because of `import importnb`        \n",
       "        \n",
       "```ipython\n",
       "with pidgin.PidginImporter(position=1):\n",
       "    import readme_pidgin as readme\n",
       "```\n",
       "            "
      ],
      "text/plain": [
       "'## Benefits of `pidgin`\\n\\n* `pidgin` requires that all code in a document is valid.\\n* `pidgin` places tighter constraints on the __Run All-ability__ of the document.\\n* `pidgin` encourages tighter weaving of code and narrative.\\n  \\n        import jinja2\\n    Use `jinja2` syntaxes in __Code Cells__.  On the last display step with include \\n    pretty representations of template expression.  The `jinja2.Environment` returns __html__ formatted\\n    display `object`s including `\"pandas\"` tables and `\"matplotlib\"` figures.\\n* `pidgin` separates display statements from compute statements.\\n* `pidgin` documents are importable because of `import importnb`        \\n        \\n```ipython\\nwith pidgin.PidginImporter(position=1):\\n    import readme_pidgin as readme\\n```\\n            '"
      ]
     },
     "metadata": {},
     "output_type": "display_data"
    }
   ],
   "source": [
    "## Benefits of `pidgin`\n",
    "\n",
    "* `pidgin` requires that all code in a document is valid.\n",
    "* `pidgin` places tighter constraints on the __Run All-ability__ of the document.\n",
    "* `pidgin` encourages tighter weaving of code and narrative.\n",
    "  \n",
    "        import jinja2\n",
    "    Use `jinja2` syntaxes in __Code Cells__.  On the last display step with include \n",
    "    pretty representations of template expression.  The `jinja2.Environment` returns __html__ formatted\n",
    "    display `object`s including `\"pandas\"` tables and `\"matplotlib\"` figures.\n",
    "* `pidgin` separates display statements from compute statements.\n",
    "* `pidgin` documents are importable because of `import importnb`        \n",
    "        \n",
    "```ipython\n",
    "with pidgin.PidginImporter(position=1):\n",
    "    import readme_pidgin as readme\n",
    "```\n",
    "            "
   ]
  },
  {
   "cell_type": "markdown",
   "metadata": {},
   "source": [
    "`pidgin` introduces __.md.ipynb__, a hybird file extension, to identity __Markdown__ forward computational essays. When\n",
    "this document (`readme`) is imported we can `assert readme.__file__.endswith('.md.ipynb')`."
   ]
  },
  {
   "cell_type": "code",
   "execution_count": 4,
   "metadata": {},
   "outputs": [
    {
     "data": {
      "text/html": [
       "<h2><span class=\"highlight\"><code><span></span><span class=\"n\">pidgin</span>\n",
       "</code></span>\n",
       " works with</h2>\n",
       "<ul>\n",
       "<li><p><strong><em>Binder</em></strong> <a href=\"https://mybinder.org/v2/gh/deathbeds/pidgin/master?filepath=readme.ipynb\"><img src=\"https://mybinder.org/badge.svg\" alt=\"Binder\"></a></p>\n",
       "<p>Take <span class=\"highlight\"><code><span></span><span class=\"n\">pidgin</span>\n",
       "</code></span>\n",
       " for a spin on <a href=\"https://mybinder.org/v2/gh/deathbeds/pidgin/master?filepath=readme.ipynb\"><strong><em>Binder</em></strong></a>.</p>\n",
       "</li>\n",
       "<li><p><strong><em>Pytest</em></strong> <a href=\"https://github.com/pytest-dev\"><img src=\"https://avatars1.githubusercontent.com/u/8897583?s=40&amp;v=4\" alt=\"\"></a></p>\n",
       "<p><span class=\"highlight\"><code><span></span><span class=\"n\">pidgin</span>\n",
       "</code></span>\n",
       " works great with the <a href=\"https://github.com/computationalmodelling/nbval\"><strong>nbval</strong></a> and <a href=\"https://github.com/deathbeds/importnb\"><strong>importnb</strong></a> notebook specific pytest extensions.  <span class=\"highlight\"><code><span></span><span class=\"n\">pidgin</span>\n",
       "</code></span>\n",
       " itself is a <span class=\"highlight\"><code><span></span><span class=\"kn\">import</span> <span class=\"nn\">pytest</span>\n",
       "</code></span>\n",
       "\n",
       "  plugin that permits tests with <strong>.md.ipynb</strong> and <strong>.md</strong> extensions.</p>\n",
       "<p><strong><em>Pro Tip</em></strong> test <span class=\"highlight\"><code><span></span><span class=\"n\">IPython</span>\n",
       "</code></span>\n",
       " specific features using <strong>ipython</strong> as the <span class=\"highlight\"><code><span></span><span class=\"n\">pytest</span>\n",
       "</code></span>\n",
       " runner instead of <strong>python</strong> <span class=\"highlight\"><code><span></span><span class=\"ch\">#!ipython -m pytest -- --collect-only</span>\n",
       "</code></span>\n",
       "</p>\n",
       "</li>\n",
       "<li><strong><em>Jupyter</em></strong> <a href=\"https://github.com/jupyterlab\"><img src=\"https://avatars1.githubusercontent.com/u/7388996?s=40\" alt=\"\"></a> </li>\n",
       "<li><strong><em>JupyterLab</em></strong> <a href=\"https://github.com/jupyterlab\"><img src=\"https://avatars1.githubusercontent.com/u/22800682?s=40\" alt=\"\"></a> </li>\n",
       "<li><strong><em>Google Colaboratory</em></strong> <a href=\"https://colab.research.google.com/github/deathbeds/pidgin/blob/mistune/readme.ipynb\"><img src=\"https://avatars0.githubusercontent.com/u/33467679?s=40\" alt=\"\"></a></li>\n",
       "<li><strong><em>nteract</em></strong> <a href=\"https://nteract.io\"><img src=\"https://avatars0.githubusercontent.com/u/12401040?s=40\" alt=\"\"></a></li>\n",
       "</ul>"
      ],
      "text/markdown": [
       "## `pidgin` works with\n",
       "\n",
       "* __*Binder*__ [![Binder](https://mybinder.org/badge.svg)](https://mybinder.org/v2/gh/deathbeds/pidgin/master?filepath=readme.ipynb) \n",
       "\n",
       "    Take `pidgin` for a spin on [__*Binder*__](https://mybinder.org/v2/gh/deathbeds/pidgin/master?filepath=readme.ipynb).\n",
       "* __*Pytest*__ [![](https://avatars1.githubusercontent.com/u/8897583?s=40&v=4)](https://github.com/pytest-dev) \n",
       "\n",
       "    `pidgin` works great with the [__nbval__](https://github.com/computationalmodelling/nbval) and [__importnb__](https://github.com/deathbeds/importnb) notebook specific pytest extensions.  `pidgin` itself is a `import pytest`\n",
       "    plugin that permits tests with __.md.ipynb__ and __.md__ extensions.\n",
       "    \n",
       "    __*Pro Tip*__ test `IPython` specific features using __ipython__ as the `pytest` runner instead of __python__ `#!ipython -m pytest -- --collect-only`\n",
       "* __*Jupyter*__ [![](https://avatars1.githubusercontent.com/u/7388996?s=40)](https://github.com/jupyterlab) \n",
       "* __*JupyterLab*__ [![](https://avatars1.githubusercontent.com/u/22800682?s=40)](https://github.com/jupyterlab) \n",
       "* __*Google Colaboratory*__ [![](https://avatars0.githubusercontent.com/u/33467679?s=40)](https://colab.research.google.com/github/deathbeds/pidgin/blob/mistune/readme.ipynb)\n",
       "* __*nteract*__ [![](https://avatars0.githubusercontent.com/u/12401040?s=40)](https://nteract.io)"
      ],
      "text/plain": [
       "'## `pidgin` works with\\n\\n* __*Binder*__ [![Binder](https://mybinder.org/badge.svg)](https://mybinder.org/v2/gh/deathbeds/pidgin/master?filepath=readme.ipynb) \\n\\n    Take `pidgin` for a spin on [__*Binder*__](https://mybinder.org/v2/gh/deathbeds/pidgin/master?filepath=readme.ipynb).\\n* __*Pytest*__ [![](https://avatars1.githubusercontent.com/u/8897583?s=40&v=4)](https://github.com/pytest-dev) \\n\\n    `pidgin` works great with the [__nbval__](https://github.com/computationalmodelling/nbval) and [__importnb__](https://github.com/deathbeds/importnb) notebook specific pytest extensions.  `pidgin` itself is a `import pytest`\\n    plugin that permits tests with __.md.ipynb__ and __.md__ extensions.\\n    \\n    __*Pro Tip*__ test `IPython` specific features using __ipython__ as the `pytest` runner instead of __python__ `#!ipython -m pytest -- --collect-only`\\n* __*Jupyter*__ [![](https://avatars1.githubusercontent.com/u/7388996?s=40)](https://github.com/jupyterlab) \\n* __*JupyterLab*__ [![](https://avatars1.githubusercontent.com/u/22800682?s=40)](https://github.com/jupyterlab) \\n* __*Google Colaboratory*__ [![](https://avatars0.githubusercontent.com/u/33467679?s=40)](https://colab.research.google.com/github/deathbeds/pidgin/blob/mistune/readme.ipynb)\\n* __*nteract*__ [![](https://avatars0.githubusercontent.com/u/12401040?s=40)](https://nteract.io)'"
      ]
     },
     "metadata": {},
     "output_type": "display_data"
    }
   ],
   "source": [
    "## `pidgin` works with\n",
    "\n",
    "* __*Binder*__ [![Binder](https://mybinder.org/badge.svg)](https://mybinder.org/v2/gh/deathbeds/pidgin/master?filepath=readme.ipynb) \n",
    "\n",
    "    Take `pidgin` for a spin on [__*Binder*__](https://mybinder.org/v2/gh/deathbeds/pidgin/master?filepath=readme.ipynb).\n",
    "* __*Pytest*__ [![](https://avatars1.githubusercontent.com/u/8897583?s=40&v=4)](https://github.com/pytest-dev) \n",
    "\n",
    "    `pidgin` works great with the [__nbval__](https://github.com/computationalmodelling/nbval) and [__importnb__](https://github.com/deathbeds/importnb) notebook specific pytest extensions.  `pidgin` itself is a `import pytest`\n",
    "    plugin that permits tests with __.md.ipynb__ and __.md__ extensions.\n",
    "    \n",
    "    __*Pro Tip*__ test `IPython` specific features using __ipython__ as the `pytest` runner instead of __python__ `#!ipython -m pytest -- --collect-only`\n",
    "* __*Jupyter*__ [![](https://avatars1.githubusercontent.com/u/7388996?s=40)](https://github.com/jupyterlab) \n",
    "* __*JupyterLab*__ [![](https://avatars1.githubusercontent.com/u/22800682?s=40)](https://github.com/jupyterlab) \n",
    "* __*Google Colaboratory*__ [![](https://avatars0.githubusercontent.com/u/33467679?s=40)](https://colab.research.google.com/github/deathbeds/pidgin/blob/mistune/readme.ipynb)\n",
    "* __*nteract*__ [![](https://avatars0.githubusercontent.com/u/12401040?s=40)](https://nteract.io)"
   ]
  },
  {
   "cell_type": "code",
   "execution_count": 7,
   "metadata": {},
   "outputs": [
    {
     "data": {
      "text/html": [
       "<h2>Architecture</h2>\n",
       "<p>The <span class=\"highlight\"><code><span></span><span class=\"n\">pidgin</span>\n",
       "</code></span>\n",
       " source is written almost entirely in Jupyter notebooks.  The hope is that the notebooks will serve as an important\n",
       "interactive resourcing in the early development.  As the project matures, <span class=\"highlight\"><code><span></span><span class=\"n\">pidgin</span>\n",
       "</code></span>\n",
       " will adopt different combinations of python\n",
       "and notebook files.</p>\n",
       "<div class=\"highlight\"><pre><span></span><span class=\"n\">ip</span> <span class=\"o\">=</span> <span class=\"n\">IPython</span><span class=\"o\">.</span><span class=\"n\">get_ipython</span><span class=\"p\">()</span>\n",
       "</pre></div>\n",
       "<p><span class=\"highlight\"><code><span></span><span class=\"n\">pidgin</span>\n",
       "</code></span>\n",
       " is architected as a collection of <span class=\"highlight\"><code><span></span><span class=\"n\">IPython</span>\n",
       "</code></span>\n",
       " extensions that modify <span class=\"highlight\"><code><span></span><span class=\"n\">ip</span> <span class=\"o\">=</span> <span class=\"n\">IPython</span><span class=\"o\">.</span><span class=\"n\">get_ipython</span><span class=\"p\">()</span>\n",
       "</code></span>\n",
       " and <span class=\"highlight\"><code><span></span><span class=\"n\">ip</span><span class=\"o\">.</span><span class=\"n\">kernel</span>\n",
       "</code></span>\n",
       ".</p>\n",
       "<div class=\"highlight\"><pre><span></span><span class=\"k\">if</span> <span class=\"mi\">0</span><span class=\"p\">:</span>\n",
       "    <span class=\"o\">%</span><span class=\"k\">reload_ext</span> pidgin\n",
       "</pre></div>\n",
       "<p>Each component of <span class=\"highlight\"><code><span></span><span class=\"n\">pidgin</span>\n",
       "</code></span>\n",
       " can be loaded individually.</p>\n",
       "<div class=\"highlight\"><pre><span></span>    <span class=\"o\">%</span><span class=\"k\">reload_ext</span> pidgin.tangle\n",
       "    <span class=\"o\">%</span><span class=\"k\">reload_ext</span> pidgin.display\n",
       "    <span class=\"o\">%</span><span class=\"k\">reload_ext</span> pidgin.inspector\n",
       "    <span class=\"o\">%</span><span class=\"k\">reload_ext</span> pidgin.post_run_cell\n",
       "</pre></div>"
      ],
      "text/markdown": [
       "## Architecture\n",
       "\n",
       "The `pidgin` source is written almost entirely in Jupyter notebooks.  The hope is that the notebooks will serve as an important\n",
       "interactive resourcing in the early development.  As the project matures, `pidgin` will adopt different combinations of python\n",
       "and notebook files.\n",
       "\n",
       "    ip = IPython.get_ipython()\n",
       "`pidgin` is architected as a collection of `IPython` extensions that modify `ip = IPython.get_ipython()` and `ip.kernel`.\n",
       "    \n",
       "    if 0:\n",
       "        %reload_ext pidgin\n",
       "    \n",
       "Each component of `pidgin` can be loaded individually.\n",
       "\n",
       "        %reload_ext pidgin.tangle\n",
       "        %reload_ext pidgin.display\n",
       "        %reload_ext pidgin.inspector\n",
       "        %reload_ext pidgin.post_run_cell"
      ],
      "text/plain": [
       "'## Architecture\\n\\nThe `pidgin` source is written almost entirely in Jupyter notebooks.  The hope is that the notebooks will serve as an important\\ninteractive resourcing in the early development.  As the project matures, `pidgin` will adopt different combinations of python\\nand notebook files.\\n\\n    ip = IPython.get_ipython()\\n`pidgin` is architected as a collection of `IPython` extensions that modify `ip = IPython.get_ipython()` and `ip.kernel`.\\n    \\n    if 0:\\n        %reload_ext pidgin\\n    \\nEach component of `pidgin` can be loaded individually.\\n\\n        %reload_ext pidgin.tangle\\n        %reload_ext pidgin.display\\n        %reload_ext pidgin.inspector\\n        %reload_ext pidgin.post_run_cell'"
      ]
     },
     "metadata": {},
     "output_type": "display_data"
    }
   ],
   "source": [
    "## Architecture\n",
    "\n",
    "The `pidgin` source is written almost entirely in Jupyter notebooks.  The hope is that the notebooks will serve as an important\n",
    "interactive resourcing in the early development.  As the project matures, `pidgin` will adopt different combinations of python\n",
    "and notebook files.\n",
    "\n",
    "    ip = IPython.get_ipython()\n",
    "`pidgin` is architected as a collection of `IPython` extensions that modify `ip = IPython.get_ipython()` and `ip.kernel`.\n",
    "    \n",
    "    if 0:\n",
    "        %reload_ext pidgin\n",
    "    \n",
    "Each component of `pidgin` can be loaded individually.\n",
    "\n",
    "        %reload_ext pidgin.tangle\n",
    "        %reload_ext pidgin.display\n",
    "        %reload_ext pidgin.inspector\n",
    "        %reload_ext pidgin.post_run_cell"
   ]
  },
  {
   "cell_type": "code",
   "execution_count": 8,
   "metadata": {},
   "outputs": [
    {
     "data": {
      "text/html": [
       "<h2>Roadmap</h2>\n",
       "<ul>\n",
       "<li><span class=\"highlight\"><code><span></span><span class=\"n\">pidgin</span>\n",
       "</code></span>\n",
       " should become an <span class=\"highlight\"><code><span></span><span class=\"kn\">import</span> <span class=\"nn\">ipykernel</span>\n",
       "</code></span>\n",
       ".</li>\n",
       "<li><span class=\"highlight\"><code><span></span><span class=\"n\">pidgin</span>\n",
       "</code></span>\n",
       " should extend to other ipykernels.</li>\n",
       "<li><span class=\"highlight\"><code><span></span><span class=\"n\">pidgin</span>\n",
       "</code></span>\n",
       " should become an <span class=\"highlight\"><code><span></span><span class=\"kn\">import</span> <span class=\"nn\">nbconvert.nbconvertapp</span>\n",
       "</code></span>\n",
       " and <span class=\"highlight\"><code><span></span><span class=\"n\">nbconvert</span><span class=\"o\">.</span><span class=\"n\">preprocessors</span>\n",
       "</code></span>\n",
       ".</li>\n",
       "</ul>"
      ],
      "text/markdown": [
       "## Roadmap\n",
       "\n",
       "* `pidgin` should become an `import ipykernel`.\n",
       "* `pidgin` should extend to other ipykernels.\n",
       "* `pidgin` should become an `import nbconvert.nbconvertapp` and `nbconvert.preprocessors`."
      ],
      "text/plain": [
       "'## Roadmap\\n\\n* `pidgin` should become an `import ipykernel`.\\n* `pidgin` should extend to other ipykernels.\\n* `pidgin` should become an `import nbconvert.nbconvertapp` and `nbconvert.preprocessors`.'"
      ]
     },
     "metadata": {},
     "output_type": "display_data"
    }
   ],
   "source": [
    "## Roadmap\n",
    "\n",
    "* `pidgin` should become an `import ipykernel`.\n",
    "* `pidgin` should extend to other ipykernels.\n",
    "* `pidgin` should become an `import nbconvert.nbconvertapp` and `nbconvert.preprocessors`."
   ]
  },
  {
   "cell_type": "markdown",
   "metadata": {},
   "source": [
    "## Developer\n",
    "    "
   ]
  },
  {
   "cell_type": "code",
   "execution_count": 9,
   "metadata": {},
   "outputs": [],
   "source": [
    "    build = False"
   ]
  },
  {
   "cell_type": "markdown",
   "metadata": {},
   "source": [
    "    !ipython -m readme_pidgin.md.ipynb -- --uml=True --nbconvert=True --test=True\n",
    "\n",
    "### Test `pidgin`\n",
    "\n",
    "    if __name__ == '__main__':\n",
    "        !ipython -m pytest -- --nbval"
   ]
  },
  {
   "cell_type": "code",
   "execution_count": 10,
   "metadata": {},
   "outputs": [
    {
     "data": {
      "text/html": [
       "<h3>Run tests</h3>\n",
       "<div class=\"highlight\"><pre><span></span><span class=\"n\">test</span> <span class=\"o\">=</span> <span class=\"bp\">False</span>\n",
       "</pre></div>"
      ],
      "text/markdown": [
       "### Run tests\n",
       "\n",
       "    test = False"
      ],
      "text/plain": [
       "'### Run tests\\n\\n    test = False'"
      ]
     },
     "metadata": {},
     "output_type": "display_data"
    }
   ],
   "source": [
    "### Run tests\n",
    "\n",
    "    test = False"
   ]
  },
  {
   "cell_type": "code",
   "execution_count": 11,
   "metadata": {},
   "outputs": [],
   "source": [
    "    if test or build: \n",
    "        !ipython -m pytest -- --nbval"
   ]
  },
  {
   "cell_type": "code",
   "execution_count": 12,
   "metadata": {},
   "outputs": [
    {
     "data": {
      "text/html": [
       "<h3>UML diagrams</h3>\n",
       "<div class=\"highlight\"><pre><span></span><span class=\"n\">uml</span> <span class=\"o\">=</span> <span class=\"bp\">False</span>\n",
       "</pre></div>"
      ],
      "text/markdown": [
       "### UML diagrams\n",
       "    \n",
       "    uml = False"
      ],
      "text/plain": [
       "'### UML diagrams\\n    \\n    uml = False'"
      ]
     },
     "metadata": {},
     "output_type": "display_data"
    }
   ],
   "source": [
    "### UML diagrams\n",
    "    \n",
    "    uml = False"
   ]
  },
  {
   "cell_type": "code",
   "execution_count": 13,
   "metadata": {},
   "outputs": [],
   "source": [
    "    if uml or build:\n",
    "        import shutil, pathlib, os\n",
    "        %pushd pidgin\n",
    "        !jupyter nbconvert --to python *.ipynb\n",
    "        %popd pidgin\n",
    "        !pyreverse pidgin -ppidgin -opng\n",
    "        list(os.remove(path.with_suffix('.py')) for path in pathlib.Path('pidgin').glob('*.ipynb'))\n",
    "        list((shutil.copy(path, 'docs'), os.remove(path)) for path in pathlib.Path('').glob('*.png'));  "
   ]
  },
  {
   "cell_type": "code",
   "execution_count": 14,
   "metadata": {},
   "outputs": [
    {
     "data": {
      "text/html": [
       "<h3>Convert to the <strong>readme.md</strong></h3>\n",
       "<div class=\"highlight\"><pre><span></span><span class=\"n\">nbconvert</span><span class=\"o\">=</span><span class=\"bp\">False</span>\n",
       "</pre></div>"
      ],
      "text/markdown": [
       "### Convert to the __readme.md__\n",
       "    \n",
       "    nbconvert=False"
      ],
      "text/plain": [
       "'### Convert to the __readme.md__\\n    \\n    nbconvert=False'"
      ]
     },
     "metadata": {},
     "output_type": "display_data"
    }
   ],
   "source": [
    "### Convert to the __readme.md__\n",
    "    \n",
    "    nbconvert=False"
   ]
  },
  {
   "cell_type": "code",
   "execution_count": 15,
   "metadata": {},
   "outputs": [],
   "source": [
    "    if nbconvert or build:\n",
    "        !jupyter nbconvert --to markdown --stdout --TemplateExporter.exclude_input=True readme_pidgin.md.ipynb > readme.md"
   ]
  }
 ],
 "metadata": {
  "kernelspec": {
   "display_name": "Python 3",
   "language": "python",
   "name": "python3"
  },
  "language_info": {
   "codemirror_mode": {
    "name": "ipython",
    "version": 3
   },
   "file_extension": ".py",
   "mimetype": "text/x-python",
   "name": "python",
   "nbconvert_exporter": "python",
   "pygments_lexer": "ipython3",
   "version": "3.6.6"
  }
 },
 "nbformat": 4,
 "nbformat_minor": 2
}
