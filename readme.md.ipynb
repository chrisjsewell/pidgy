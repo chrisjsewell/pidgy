{
 "cells": [
  {
   "cell_type": "markdown",
   "metadata": {},
   "source": [
    "[![Binder](https://mybinder.org/badge_logo.svg)](https://mybinder.org/v2/gh/deathbeds/pidgin/again)\n",
    "![Python package](https://github.com/deathbeds/pidgin/workflows/Python%20package/badge.svg)"
   ]
  },
  {
   "cell_type": "code",
   "execution_count": 2,
   "metadata": {},
   "outputs": [],
   "source": [
    "    \n",
    "    %reload_ext pidgin\n",
    "    import pidgin\n",
    "    #with pidgin.imports.PidginLoader(): import pidgin.intro\n",
    "    import jupyter, notebook, IPython, mistune as markdown, IPython as python, jinja2 as template, doctest    "
   ]
  },
  {
   "cell_type": "code",
   "execution_count": 3,
   "metadata": {},
   "outputs": [
    {
     "data": {
      "text/markdown": [
       "`pidgin` is a literate programming designed specifically for `jupyter` `notebook`s running `IPython` kernels.\n",
       "It is an `IPython` extension that can be loaded with\n",
       "\n",
       "<code>%load_ext pidgin</code>\n",
       "\n",
       "If you need to install `pidgin`, you can install it from `\"pypi\"`\n",
       "\n",
       "<code>pip install pidgin</code> "
      ],
      "text/plain": [
       "<IPython.core.display.Markdown object>"
      ]
     },
     "metadata": {
      "text/markdown": {
       "end_time": "2020-02-01T22:50:35.171958",
       "modules": [],
       "names": [],
       "start_time": "2020-02-01T22:50:35.156727"
      }
     },
     "output_type": "display_data"
    }
   ],
   "source": [
    "`pidgin` is a literate programming designed specifically for `jupyter` `notebook`s running `IPython` kernels.\n",
    "It is an `IPython` extension that can be loaded with\n",
    "\n",
    "<code>%load_ext pidgin</code>\n",
    "\n",
    "If you need to install `pidgin`, you can install it from `\"pypi\"`\n",
    "\n",
    "<code>pip install pidgin</code> \n"
   ]
  },
  {
   "cell_type": "code",
   "execution_count": 4,
   "metadata": {},
   "outputs": [
    {
     "data": {
      "text/markdown": [
       "`pidgin` provides a `markdown and python` literate programming interface for `jupyter` `notebook`.\n",
       "Authors will develop documentation and source code at the same time,\n",
       "wherein literary excellence is the goal.\n",
       "When a cell is executed in `pidgin` mode:\n",
       "1. The fenced & indented code in `markdown` is executed as python.\n",
       "2. Any `doctest`s and inline code are unit tested.\n",
       "3. The `markdown` `input` is passed into a `template` engine then rendered by `jupyter`'s rich display system."
      ],
      "text/plain": [
       "<IPython.core.display.Markdown object>"
      ]
     },
     "metadata": {
      "text/markdown": {
       "end_time": "2020-02-01T22:50:35.328930",
       "modules": [],
       "names": [],
       "start_time": "2020-02-01T22:50:35.317291"
      }
     },
     "output_type": "display_data"
    }
   ],
   "source": [
    "`pidgin` provides a `markdown and python` literate programming interface for `jupyter` `notebook`.\n",
    "Authors will develop documentation and source code at the same time,\n",
    "wherein literary excellence is the goal.\n",
    "When a cell is executed in `pidgin` mode:\n",
    "1. The fenced & indented code in `markdown` is executed as python.\n",
    "2. Any `doctest`s and inline code are unit tested.\n",
    "3. The `markdown` `input` is passed into a `template` engine then rendered by `jupyter`'s rich display system."
   ]
  },
  {
   "cell_type": "code",
   "execution_count": 6,
   "metadata": {},
   "outputs": [
    {
     "data": {
      "text/plain": [
       "Ellipsis"
      ]
     },
     "execution_count": 6,
     "metadata": {},
     "output_type": "execute_result"
    }
   ],
   "source": [
    "    \n",
    "    if __name__ == '__main__':\n",
    "        out = !jupyter nbconvert --to markdown --TemplateExporter.exclude_input=True --stdout readme.md.ipynb > readme.md\n",
    "        \n",
    "        \n",
    "    ..."
   ]
  },
  {
   "cell_type": "code",
   "execution_count": null,
   "metadata": {},
   "outputs": [],
   "source": []
  }
 ],
 "metadata": {
  "kernelspec": {
   "display_name": "Python 3",
   "language": "python",
   "name": "python3"
  },
  "language_info": {
   "codemirror_mode": {
    "name": "ipython",
    "version": 3
   },
   "file_extension": ".py",
   "mimetype": "text/x-python",
   "name": "python",
   "nbconvert_exporter": "python",
   "pygments_lexer": "ipython3",
   "version": "3.7.3"
  }
 },
 "nbformat": 4,
 "nbformat_minor": 4
}
