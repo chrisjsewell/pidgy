{
 "cells": [
  {
   "cell_type": "code",
   "execution_count": 1,
   "metadata": {},
   "outputs": [],
   "source": [
    "    \n",
    "    import pidgy, IPython, notebook, mistune as markdown, doctest, jinja2, jinja2 as template, jupyter"
   ]
  },
  {
   "cell_type": "code",
   "execution_count": 2,
   "metadata": {},
   "outputs": [
    {
     "data": {
      "text/markdown": [
       "# `pidgy` literate `notebook` programming\n",
       "\n",
       "[![Binder](https://mybinder.org/badge_logo.svg)](https://mybinder.org/v2/gh/deathbeds/pidgy/master)\n",
       "\n",
       "\n",
       "\n",
       "`pidgy` is literate programming kernel and shell for `IPython`.\n",
       "When `pidgy` is enabled:\n",
       "* Write code in `markdown`, indented and fenced are executed.\n",
       "* `doctest`s in `markdown` are tested.\n",
       "* Include `object`s in `markdown` with `jinja2` `template` syntax.\n",
       "* `notebook`s can be woven and tangled as documentation and code.\n",
       "* `notebook`s can be reproduced as tests.\n",
       "* `\".md.ipynb\"` is a composite extension that indicates \n",
       "`pidgy` `notebook`s primarly written in `markdown`\n",
       "\n",
       "## The `pidgy` programming paper.\n",
       "\n",
       "`pidgy` is written as literate programming in `notebook`s;\n",
       "the narrative develop together into a cohesive program \n",
       "that serves dually as literature and reusable source code."
      ],
      "text/plain": [
       "<IPython.core.display.Markdown object>"
      ]
     },
     "metadata": {
      "text/markdown": {
       "end_time": "2020-02-12T15:12:21.039211",
       "modules": [],
       "names": [],
       "start_time": "2020-02-12T15:12:20.999083"
      }
     },
     "output_type": "display_data"
    }
   ],
   "source": [
    "# `pidgy` literate `notebook` programming\n",
    "\n",
    "[![Binder](https://mybinder.org/badge_logo.svg)](https://mybinder.org/v2/gh/deathbeds/pidgy/master)\n",
    "\n",
    "\n",
    "\n",
    "`pidgy` is literate programming kernel and shell for `IPython`.\n",
    "When `pidgy` is enabled:\n",
    "* Write code in `markdown`, indented and fenced are executed.\n",
    "* `doctest`s in `markdown` are tested.\n",
    "* Include `object`s in `markdown` with `jinja2` `template` syntax.\n",
    "* `notebook`s can be woven and tangled as documentation and code.\n",
    "* `notebook`s can be reproduced as tests.\n",
    "* `\".md.ipynb\"` is a composite extension that indicates \n",
    "`pidgy` `notebook`s primarly written in `markdown`\n",
    "\n",
    "## The `pidgy` programming paper.\n",
    "\n",
    "`pidgy` is written as literate programming in `notebook`s;\n",
    "the narrative develop together into a cohesive program \n",
    "that serves dually as literature and reusable source code."
   ]
  },
  {
   "cell_type": "code",
   "execution_count": 3,
   "metadata": {},
   "outputs": [
    {
     "data": {
      "text/markdown": [
       "    import pidgy"
      ],
      "text/plain": [
       "<IPython.core.display.Markdown object>"
      ]
     },
     "metadata": {
      "text/markdown": {
       "end_time": "2020-02-12T15:12:21.175090",
       "modules": [],
       "names": [],
       "start_time": "2020-02-12T15:12:21.172936"
      }
     },
     "output_type": "display_data"
    }
   ],
   "source": [
    "    import pidgy"
   ]
  },
  {
   "cell_type": "code",
   "execution_count": 4,
   "metadata": {},
   "outputs": [
    {
     "data": {
      "text/markdown": [
       "## `pidgy` command line application"
      ],
      "text/plain": [
       "<IPython.core.display.Markdown object>"
      ]
     },
     "metadata": {
      "text/markdown": {
       "end_time": "2020-02-12T15:12:21.346128",
       "modules": [],
       "names": [],
       "start_time": "2020-02-12T15:12:21.341908"
      }
     },
     "output_type": "display_data"
    }
   ],
   "source": [
    "## `pidgy` command line application"
   ]
  },
  {
   "cell_type": "code",
   "execution_count": 5,
   "metadata": {},
   "outputs": [
    {
     "data": {
      "text/markdown": [
       "### Install the `IPython` kernels\n",
       "\n",
       "Install the `pidgy` kernel so you can use whenever you want.\n",
       "\n",
       "```bash\n",
       "pidgy kernel install\n",
       "```"
      ],
      "text/plain": [
       "<IPython.core.display.Markdown object>"
      ]
     },
     "metadata": {
      "text/markdown": {
       "end_time": "2020-02-12T15:12:22.131177",
       "modules": [],
       "names": [],
       "start_time": "2020-02-12T15:12:22.125885"
      }
     },
     "output_type": "display_data"
    }
   ],
   "source": [
    "### Install the `IPython` kernels\n",
    "\n",
    "Install the `pidgy` kernel so you can use whenever you want.\n",
    "\n",
    "```bash\n",
    "pidgy kernel install\n",
    "```"
   ]
  },
  {
   "cell_type": "code",
   "execution_count": 6,
   "metadata": {},
   "outputs": [
    {
     "data": {
      "text/markdown": [
       "### Load the `IPython` extension\n",
       "\n",
       "Otherwise, using the `pidgy` `IPython` extension any `jupyter` `notebook`.\n",
       "\n",
       "```bash\n",
       "%load_ext pidgy\n",
       "```\n",
       "\n",
       "Likely, the only other paper of the api you made need is the `pidgy.pidgyLoader`\n",
       "that allows `pidgy` documents to be imported as normal source code.\n",
       "The loader searches for `notebook`s with the `\".md.ipynb\"` extension\n",
       "and adds them to the python import system."
      ],
      "text/plain": [
       "<IPython.core.display.Markdown object>"
      ]
     },
     "metadata": {
      "text/markdown": {
       "end_time": "2020-02-12T15:12:22.812135",
       "modules": [],
       "names": [],
       "start_time": "2020-02-12T15:12:22.798437"
      }
     },
     "output_type": "display_data"
    }
   ],
   "source": [
    "### Load the `IPython` extension\n",
    "\n",
    "Otherwise, using the `pidgy` `IPython` extension any `jupyter` `notebook`.\n",
    "\n",
    "```bash\n",
    "%load_ext pidgy\n",
    "```\n",
    "\n",
    "Likely, the only other paper of the api you made need is the `pidgy.pidgyLoader`\n",
    "that allows `pidgy` documents to be imported as normal source code.\n",
    "The loader searches for `notebook`s with the `\".md.ipynb\"` extension\n",
    "and adds them to the python import system."
   ]
  },
  {
   "cell_type": "code",
   "execution_count": 7,
   "metadata": {},
   "outputs": [
    {
     "data": {
      "text/markdown": [
       "## reuse `pidgy` documents as modules \n",
       "\n",
       "    with pidgy.pidgyLoader():\n",
       "        import readme\n",
       "    assert readme.__file__.endswith('.md.ipynb')"
      ],
      "text/plain": [
       "<IPython.core.display.Markdown object>"
      ]
     },
     "metadata": {
      "text/markdown": {
       "end_time": "2020-02-12T15:12:22.992927",
       "modules": [
        "readme"
       ],
       "names": [
        "readme"
       ],
       "start_time": "2020-02-12T15:12:22.974569"
      }
     },
     "output_type": "display_data"
    }
   ],
   "source": [
    "## reuse `pidgy` documents as modules \n",
    "\n",
    "    with pidgy.pidgyLoader():\n",
    "        import readme\n",
    "    assert readme.__file__.endswith('.md.ipynb')"
   ]
  },
  {
   "cell_type": "code",
   "execution_count": 9,
   "metadata": {},
   "outputs": [],
   "source": [
    "\n",
    "Export the the `pidgy` document as `markdown`.\n",
    "\n",
    "    if __name__ == '__main__':\n",
    "        out = !jupyter nbconvert --to markdown --TemplateExporter.exclude_input=True --stdout readme.md.ipynb > readme.md\n",
    "    ...;"
   ]
  }
 ],
 "metadata": {
  "kernelspec": {
   "display_name": "pidgy 3",
   "language": "python",
   "name": "pidgy"
  },
  "language_info": {
   "codemirror_mode": {
    "name": "ipython",
    "version": 3
   },
   "file_extension": ".py",
   "mimetype": "text/x-python",
   "name": "python",
   "nbconvert_exporter": "python",
   "pygments_lexer": "ipython3",
   "version": "3.7.3"
  }
 },
 "nbformat": 4,
 "nbformat_minor": 4
}
