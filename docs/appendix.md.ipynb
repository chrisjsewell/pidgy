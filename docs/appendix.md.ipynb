{
 "cells": [
  {
   "cell_type": "code",
   "execution_count": 1,
   "metadata": {},
   "outputs": [],
   "source": [
    "    \n",
    "    import  pidgy\n",
    "    import requests, IPython\n",
    "    get_ipython = IPython.get_ipython\n",
    "\n",
    "    __all__ = 'get exports'.split()"
   ]
  },
  {
   "cell_type": "code",
   "execution_count": 3,
   "metadata": {},
   "outputs": [
    {
     "data": {
      "text/markdown": [
       "    import requests_cache\n",
       "    requests_cache.install_cache('pidgy')\n",
       "\n",
       "    \n",
       "    def get(url, json=True, **kwargs):\n",
       "\n",
       "        \n",
       "        object = requests.get(url, **kwargs)\n",
       "        try: return object.json()\n",
       "        except: return object.text"
      ],
      "text/plain": [
       "<IPython.core.display.Markdown object>"
      ]
     },
     "metadata": {
      "text/markdown": {
       "end_time": "2020-02-10T13:54:55.912553",
       "modules": [
        "requests_cache",
        "redis"
       ],
       "names": [
        "requests_cache",
        "get"
       ],
       "start_time": "2020-02-10T13:54:55.881401"
      }
     },
     "output_type": "display_data"
    }
   ],
   "source": [
    "    import requests_cache\n",
    "    requests_cache.install_cache('pidgy')\n",
    "\n",
    "    \n",
    "    def get(url, json=True, **kwargs):\n",
    "\n",
    "        \n",
    "        object = requests.get(url, **kwargs)\n",
    "        try: return object.json()\n",
    "        except: return object.text"
   ]
  },
  {
   "cell_type": "code",
   "execution_count": 8,
   "metadata": {},
   "outputs": [
    {
     "data": {
      "text/markdown": [
       "    import nbconvert as export\n",
       "    def exports(object, change=1, exclude_input=True):\n",
       "        format, object, kwargs = 'markdown', object[0], {\n",
       "            'exclude_input': True,}\n",
       "        \n",
       "        return ''.join((\n",
       "            '#'*change if x.startswith('#') else ''\n",
       "        )+x for x in export.get_exporter(format)(**kwargs).from_filename(object.__file__)[0].splitlines(True))"
      ],
      "text/plain": [
       "<IPython.core.display.Markdown object>"
      ]
     },
     "metadata": {
      "text/markdown": {
       "end_time": "2020-02-10T13:58:47.450438",
       "modules": [],
       "names": [],
       "start_time": "2020-02-10T13:58:47.447377"
      }
     },
     "output_type": "display_data"
    }
   ],
   "source": [
    "    import nbconvert as export\n",
    "    def exports(object, change=1, exclude_input=True):\n",
    "        format, object, kwargs = 'markdown', object, {'exclude_input': True,}\n",
    "        \n",
    "        return ''.join((\n",
    "            '#'*change if x.startswith('#') else ''\n",
    "        )+x for x in export.get_exporter(format)(**kwargs).from_filename(object.__file__)[0].splitlines(True))"
   ]
  }
 ],
 "metadata": {
  "kernelspec": {
   "display_name": "pidgy 3",
   "language": "python",
   "name": "pidgy"
  },
  "language_info": {
   "codemirror_mode": {
    "name": "ipython",
    "version": 3
   },
   "file_extension": ".py",
   "mimetype": "text/x-python",
   "name": "python",
   "nbconvert_exporter": "python",
   "pygments_lexer": "ipython3",
   "version": "3.7.3"
  }
 },
 "nbformat": 4,
 "nbformat_minor": 4
}
