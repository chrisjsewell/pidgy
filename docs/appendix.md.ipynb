{
 "cells": [
  {
   "cell_type": "code",
   "execution_count": null,
   "metadata": {},
   "outputs": [],
   "source": []
  },
  {
   "cell_type": "code",
   "execution_count": 7,
   "metadata": {},
   "outputs": [],
   "source": [
    "    \n",
    "    import __init__ as pidgy\n",
    "    if __name__ == '__main__':\n",
    "        %reload_ext __init__\n",
    "        with pidgy.imports.pidgyLoader():\n",
    "            import implementation\n",
    "    \n",
    "        \n",
    "\n",
    "    import requests, IPython\n",
    "    get_ipython = IPython.get_ipython\n",
    "\n",
    "    __all__ = 'get exports'.split()"
   ]
  },
  {
   "cell_type": "code",
   "execution_count": 8,
   "metadata": {},
   "outputs": [
    {
     "data": {
      "text/markdown": [
       "The appendix contains functions used the `pidgy` `implementation`."
      ],
      "text/plain": [
       "<IPython.core.display.Markdown object>"
      ]
     },
     "metadata": {
      "text/markdown": {
       "end_time": "2020-01-28T14:13:00.848914",
       "modules": [],
       "names": [],
       "start_time": "2020-01-28T14:13:00.843570"
      }
     },
     "output_type": "display_data"
    }
   ],
   "source": [
    "The appendix contains functions used the `pidgy` `implementation`."
   ]
  },
  {
   "cell_type": "code",
   "execution_count": 9,
   "metadata": {},
   "outputs": [
    {
     "data": {
      "text/markdown": [
       "    import requests_cache\n",
       "    requests_cache.install_cache('pidgy')\n",
       "\n",
       "    \n",
       "    def get(url, json=True, **kwargs):\n",
       "\n",
       "        \n",
       "        object = requests.get(url, **kwargs)\n",
       "        try: return object.json()\n",
       "        except: return object.text"
      ],
      "text/plain": [
       "<IPython.core.display.Markdown object>"
      ]
     },
     "metadata": {
      "text/markdown": {
       "end_time": "2020-01-28T14:13:24.704784",
       "modules": [],
       "names": [
        "get"
       ],
       "start_time": "2020-01-28T14:13:24.702189"
      }
     },
     "output_type": "display_data"
    }
   ],
   "source": [
    "    import requests_cache\n",
    "    requests_cache.install_cache('pidgy')\n",
    "\n",
    "    \n",
    "    def get(url, json=True, **kwargs):\n",
    "\n",
    "        \n",
    "        object = requests.get(url, **kwargs)\n",
    "        try: return object.json()\n",
    "        except: return object.text"
   ]
  },
  {
   "cell_type": "code",
   "execution_count": 10,
   "metadata": {},
   "outputs": [
    {
     "data": {
      "text/markdown": [
       "    import nbconvert as export\n",
       "    def exports(*object, exclude_input=True):\n",
       "        if len(object) == 1:\n",
       "            format, object, kwargs = 'markdown', object[0], {'exclude_input': True}\n",
       "        else: format, object, kwargs = *object, {}\n",
       "        return export.get_exporter(format)(**kwargs).from_filename(object.__file__)[0]"
      ],
      "text/plain": [
       "<IPython.core.display.Markdown object>"
      ]
     },
     "metadata": {
      "text/markdown": {
       "end_time": "2020-01-28T14:13:26.529081",
       "modules": [],
       "names": [
        "export",
        "exports"
       ],
       "start_time": "2020-01-28T14:13:26.526185"
      }
     },
     "output_type": "display_data"
    }
   ],
   "source": [
    "    import nbconvert as export\n",
    "    def exports(*object, exclude_input=True):\n",
    "        if len(object) == 1:\n",
    "            format, object, kwargs = 'markdown', object[0], {'exclude_input': True}\n",
    "        else: format, object, kwargs = *object, {}\n",
    "        return export.get_exporter(format)(**kwargs).from_filename(object.__file__)[0]"
   ]
  },
  {
   "cell_type": "code",
   "execution_count": null,
   "metadata": {},
   "outputs": [],
   "source": []
  }
 ],
 "metadata": {
  "kernelspec": {
   "display_name": "Python 3",
   "language": "python",
   "name": "python3"
  },
  "language_info": {
   "codemirror_mode": {
    "name": "ipython",
    "version": 3
   },
   "file_extension": ".py",
   "mimetype": "text/x-python",
   "name": "python",
   "nbconvert_exporter": "python",
   "pygments_lexer": "ipython3",
   "version": "3.7.3"
  }
 },
 "nbformat": 4,
 "nbformat_minor": 4
}
