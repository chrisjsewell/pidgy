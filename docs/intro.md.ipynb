{
 "cells": [
  {
   "cell_type": "code",
   "execution_count": 17,
   "metadata": {},
   "outputs": [
    {
     "data": {
      "text/markdown": [
       "# `\"pidgin\"` programming"
      ],
      "text/plain": [
       "<IPython.core.display.Markdown object>"
      ]
     },
     "metadata": {
      "text/markdown": {
       "end_time": "2020-02-05T00:47:17.427938",
       "modules": [],
       "names": [],
       "start_time": "2020-02-05T00:47:17.424601"
      }
     },
     "output_type": "display_data"
    }
   ],
   "source": [
    "# `\"pidgin\"` programming"
   ]
  },
  {
   "cell_type": "code",
   "execution_count": 51,
   "metadata": {},
   "outputs": [],
   "source": [
    "    \n",
    "    import jupyterlab, jupyter, notebook, notebook as 📓, IPython, pidgy, pidgy as 🐦, mistune as markdown, mistune as M⬇️, IPython as python, ast, jinja2 as template, importnb as _import_, doctest, pathlib, graphviz, ipykernel\n",
    "    shell = IPython.get_ipython()\n",
    "    import nbformat, jsonschema, nbconvert, pytest"
   ]
  },
  {
   "cell_type": "code",
   "execution_count": 61,
   "metadata": {},
   "outputs": [
    {
     "data": {
      "text/markdown": [
       "`\"pidgin\"` literate programming is an approach to writing \n",
       "computational literature where `\"code\"` is included to supplement\n",
       "and support the meaning of the narrative.\n",
       "The outcome of `\"pidgin\"` programs are `\"pidgin\"` documents\n",
       "written in fluid combinations of natural and programming languages.\n",
       "Ultimately, `\"pidgin\"` authors and programmers will find themselves\n",
       "writing literature with sprinkles of code or\n",
       "code supplemented by literature, \n",
       "and in either application the documents will have varying qualities \n",
       "of readability and reproducible, or literacy or computability.\n",
       "\n",
       "`pidgy` is an implementation of `\"pidgin\"` programming developed \n",
       "throughout this document to demonstrate specific concepts.\n",
       "`pidgy` is designed for authoring `\"pidgin\"` documents \n",
       "using the `jupyter` `notebook` and `jupyterlab` as a word processing\n",
       "tool back by an iterative, literate computing environment.\n",
       "`notebook`s are a natural substrate for reproducible, literate programs\n",
       "because their schema refers explicitly to \n",
       "two primary cell types: `markdown and \"code\"`.\n",
       "It follows that `🐦 `'s document language is `markdown`\n",
       "with `IPython, python` as the glue programming language.\n",
       "\n",
       "In `🐦, pidgy and \"pidgin\"` programming, units (ie. cells)\n",
       "in a `notebook` are written in `markdown` with the \n",
       "shared intent of designing readable outputs\n",
       "and source that `python` can `compile`.\n",
       "`pidgy` demonstrates this behavior with\n",
       "extensions for the `IPython.InteractiveShell` and `ipykernel`\n",
       "that augments the interactive REPL experience to be \n",
       "suitable for an implicit literate programming experience.\n",
       "Authors interactively read, write, and revise their \n",
       "input as units readable output units,\n",
       "as working code units,\n",
       "and formal test objects.\n",
       "\n",
       "`\"pidgin\"` documents are flexible formats that can \n",
       "be transformed in varities of literature, source code, and formal tests.\n",
       "`pidgy` relies on open source infrastructure to \n",
       "provide multiple reusable states of `pidgy` documents. \n",
       "`pidgy` documents abide an `nbformat` version which \n",
       "identifies a `jsonschema` that validates the shape of the document.\n",
       "From the `nbformat`, \n",
       "`nbconvert` transforms `notebook`s to other file formats (eg. `markdown and python`),\n",
       "`importnb` allows `pidgy` documents to be import like any python module, \n",
       "`doctest` to provide interactive documentation testing,\n",
       "and `pytest` to establish formal testing procedures for `pidgy` documents.\n",
       "\n",
       "Open source communities have worked together to \n",
       "improve access scientific computing technologies.\n",
       "Increased access to scientific computing technologies\n",
       "has reduced the demand for verbose code bases\n",
       "and may be acheived by a simple api.\n",
       "As such, non programmers can begin to participate in\n",
       "interactive computing through their abilities to tell stories.\n",
       "\n",
       "`pidgy` is hella fun to write in."
      ],
      "text/plain": [
       "<IPython.core.display.Markdown object>"
      ]
     },
     "metadata": {
      "text/markdown": {
       "end_time": "2020-02-05T01:42:11.390621",
       "modules": [],
       "names": [],
       "start_time": "2020-02-05T01:42:11.330260"
      }
     },
     "output_type": "display_data"
    }
   ],
   "source": [
    "`\"pidgin\"` literate programming is an approach to writing \n",
    "computational literature where `\"code\"` is included to supplement\n",
    "and support the meaning of the narrative.\n",
    "The outcome of `\"pidgin\"` programs are `\"pidgin\"` documents\n",
    "written in fluid combinations of natural and programming languages.\n",
    "Ultimately, `\"pidgin\"` authors and programmers will find themselves\n",
    "writing literature with sprinkles of code or\n",
    "code supplemented by literature, \n",
    "and in either application the documents will have varying qualities \n",
    "of readability and reproducible, or literacy or computability.\n",
    "\n",
    "`pidgy` is an implementation of `\"pidgin\"` programming developed \n",
    "throughout this document to demonstrate specific concepts.\n",
    "`pidgy` is designed for authoring `\"pidgin\"` documents \n",
    "using the `jupyter` `notebook` and `jupyterlab` as a word processing\n",
    "tool back by an iterative, literate computing environment.\n",
    "`notebook`s are a natural substrate for reproducible, literate programs\n",
    "because their schema refers explicitly to \n",
    "two primary cell types: `markdown and \"code\"`.\n",
    "It follows that `🐦 `'s document language is `markdown`\n",
    "with `IPython, python` as the glue programming language.\n",
    "\n",
    "In `🐦, pidgy and \"pidgin\"` programming, units (ie. cells)\n",
    "in a `notebook` are written in `markdown` with the \n",
    "shared intent of designing readable outputs\n",
    "and source that `python` can `compile`.\n",
    "`pidgy` demonstrates this behavior with\n",
    "extensions for the `IPython.InteractiveShell` and `ipykernel`\n",
    "that augments the interactive REPL experience to be \n",
    "suitable for an implicit literate programming experience.\n",
    "Authors interactively read, write, and revise their \n",
    "input as units readable output units,\n",
    "as working code units,\n",
    "and formal test objects.\n",
    "\n",
    "`\"pidgin\"` documents are flexible formats that can \n",
    "be transformed in varities of literature, source code, and formal tests.\n",
    "`pidgy` relies on open source infrastructure to \n",
    "provide multiple reusable states of `pidgy` documents. \n",
    "`pidgy` documents abide an `nbformat` version which \n",
    "identifies a `jsonschema` that validates the shape of the document.\n",
    "From the `nbformat`, \n",
    "`nbconvert` transforms `notebook`s to other file formats (eg. `markdown and python`),\n",
    "`importnb` allows `pidgy` documents to be import like any python module, \n",
    "`doctest` to provide interactive documentation testing,\n",
    "and `pytest` to establish formal testing procedures for `pidgy` documents.\n",
    "\n",
    "Open source communities have worked together to \n",
    "improve access scientific computing technologies.\n",
    "Increased access to scientific computing technologies\n",
    "has reduced the demand for verbose code bases\n",
    "and may be acheived by a simple api.\n",
    "As such, non programmers can begin to participate in\n",
    "interactive computing through their abilities to tell stories.\n",
    "\n",
    "`pidgy` is hella fun to write in."
   ]
  }
 ],
 "metadata": {
  "kernelspec": {
   "display_name": "pidgy 3",
   "language": "python",
   "name": "pidgy"
  },
  "language_info": {
   "codemirror_mode": {
    "name": "ipython",
    "version": 3
   },
   "file_extension": ".py",
   "mimetype": "text/x-python",
   "name": "python",
   "nbconvert_exporter": "python",
   "pygments_lexer": "ipython3",
   "version": "3.7.3"
  }
 },
 "nbformat": 4,
 "nbformat_minor": 4
}
