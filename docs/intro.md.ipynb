{
 "cells": [
  {
   "cell_type": "code",
   "execution_count": 1,
   "metadata": {},
   "outputs": [],
   "source": [
    "    \n",
    "    import jupyter, notebook, notebook as 📓, IPython, pidgy, pidgy as 🐦, mistune as markdown, mistune as M⬇️, IPython as python, ast, jinja2 as template, importnb as _import_, doctest, pathlib, graphviz"
   ]
  },
  {
   "cell_type": "code",
   "execution_count": 2,
   "metadata": {},
   "outputs": [
    {
     "data": {
      "text/markdown": [
       "# `pidgy` programming"
      ],
      "text/plain": [
       "<IPython.core.display.Markdown object>"
      ]
     },
     "metadata": {
      "text/markdown": {
       "end_time": "2020-02-03T22:24:46.350498",
       "modules": [],
       "names": [],
       "start_time": "2020-02-03T22:24:46.339717"
      }
     },
     "output_type": "display_data"
    }
   ],
   "source": [
    "# `pidgy` programming"
   ]
  },
  {
   "cell_type": "code",
   "execution_count": 1,
   "metadata": {},
   "outputs": [
    {
     "data": {
      "text/markdown": [
       "`🐦,pidgy` programming is a fun and expressive style of literate computing\n",
       "designed for writing nonfiction literature in `jupyter` computational `📓`s.\n",
       "It presents a `M⬇️`-forward style of programming where authors\n",
       "codevelop code and narrative. \n",
       "`pidgy`programs are intermediate documents \n",
       "that can be read, written, and formally tested."
      ],
      "text/plain": [
       "<IPython.core.display.Markdown object>"
      ]
     },
     "metadata": {
      "text/markdown": {
       "end_time": "2020-02-03T23:12:53.437746",
       "modules": [],
       "names": [],
       "start_time": "2020-02-03T23:12:53.424688"
      }
     },
     "output_type": "display_data"
    }
   ],
   "source": [
    "`🐦,pidgy` programming is a fun and expressive style of literate computing\n",
    "designed for writing nonfiction literature in `jupyter` computational `📓`s.\n",
    "It presents a `M⬇️`-forward style of programming where authors\n",
    "codevelop code and narrative. \n",
    "`pidgy`programs are intermediate documents \n",
    "that can be read, written, and formally tested.\n"
   ]
  },
  {
   "cell_type": "code",
   "execution_count": 4,
   "metadata": {},
   "outputs": [
    {
     "data": {
      "text/markdown": [
       "pidgy programming is a style of literate computing,\n",
       "it is an expressive way of writing program"
      ],
      "text/plain": [
       "<IPython.core.display.Markdown object>"
      ]
     },
     "metadata": {
      "text/markdown": {
       "end_time": "2020-02-03T22:24:46.990506",
       "modules": [],
       "names": [],
       "start_time": "2020-02-03T22:24:46.988882"
      }
     },
     "output_type": "display_data"
    }
   ],
   "source": [
    "pidgy programming is a style of literate computing,\n",
    "it is an expressive way of writing program"
   ]
  },
  {
   "cell_type": "markdown",
   "metadata": {},
   "source": [
    "pidgy programming is concerned with scientific literacy, the general abilities to read & write scientific literature, and the implicit pleasure of interactively\n",
    "composing modern literate programs.\n",
    "Access to commodity computing infrastructures have affected \n",
    "the forms of scientific information architecture and \n",
    "scientific literature.\n",
    "Programming languages represent novel forms\n",
    "that express heuristics that are explicitly reusable, they fill the voids where \n",
    "the superior code of language fails to communicate phenomenon.\n",
    "Scientific literature written in `pidgy` accept all \n",
    "languages equitably, it assigns language the role of communicating\n",
    "computational thought in fluid combinations of human or machine logic."
   ]
  }
 ],
 "metadata": {
  "kernelspec": {
   "display_name": "pidgy 3",
   "language": "python",
   "name": "pidgy"
  },
  "language_info": {
   "codemirror_mode": {
    "name": "ipython",
    "version": 3
   },
   "file_extension": ".py",
   "mimetype": "text/x-python",
   "name": "python",
   "nbconvert_exporter": "python",
   "pygments_lexer": "ipython3",
   "version": "3.7.3"
  }
 },
 "nbformat": 4,
 "nbformat_minor": 4
}
