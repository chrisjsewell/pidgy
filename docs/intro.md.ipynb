{
 "cells": [
  {
   "cell_type": "code",
   "execution_count": 23,
   "metadata": {},
   "outputs": [],
   "source": [
    "    \n",
    "    import jupyterlab, jupyter, notebook, notebook as 📓, IPython, pidgy, pidgy as 🐦, mistune as markdown, mistune as M⬇️, IPython as python, ast, jinja2 as template, importnb as _import_, doctest, pathlib, graphviz, ipykernel\n",
    "    shell = IPython.get_ipython()\n",
    "    import nbformat, jsonschema, nbconvert, pytest"
   ]
  },
  {
   "cell_type": "code",
   "execution_count": 24,
   "metadata": {},
   "outputs": [
    {
     "data": {
      "text/markdown": [
       "`\"pidgin\"` literate programming is a specification & implementation for writing computational essays \n",
       "that freely use natural and programming languages to bring meaning a subject and theme.\n",
       "Donald Knuth introduced literate programming in 1979 as an approach to writing \n",
       "documentation written with the shared intent of being both literature and a program.\n",
       "Since, rote software development styles have prevailed \n",
       "for most topics dependent on programming languages.\n",
       "Increasingly, we are seeing a rise in literate programs with the\n",
       "successful adoption of computational notebooks as substrates\n",
       "for data-driven narratives.\n",
       "Thoughout this document we'll implement `pidgy`, a literate programming\n",
       "interface in `jupyter` `notebook`s running using the `ipykernel`,\n",
       "and we'll discuss how modern software practices can be used\n",
       "to create readable, reproducible, & reusable computational literature.\n",
       "\n",
       "One of the most charming features of `\"literate programming\"` is the \n",
       "authentic pleasure of writing that Donald Knuth describes while \n",
       "discussing about novel technical content.\n",
       "The outcome is a paper that is a pleasure to read.\n",
       "The `pidgy` implementation had to be written to test\n",
       "how enjoyable literate programming can be.\n",
       "Hopefully think document does demonstrate and confirm how fun\n",
       "writing about technical scientific content may be.\n",
       "\n",
       "Only in the wake of the literate programming did we learn of\n",
       "(1) unit testing, (2) notebook interfaces, and (3) the world wide web.\n",
       "`\"pidgin\"` programming promotes literate programming \n",
       "as a means of writing data-driven narratives in computational notebooks.\n",
       "`notebook`s are a natural substrate for reproducible, literate programs\n",
       "because their schema refers explicitly to \n",
       "two primary cell types: `markdown and \"code\"`.\n",
       "It follows that `🐦 `'s document language is `markdown`\n",
       "with `IPython, python` as the glue programming language."
      ],
      "text/plain": [
       "<IPython.core.display.Markdown object>"
      ]
     },
     "metadata": {
      "text/markdown": {
       "end_time": "2020-02-10T02:23:43.314820",
       "modules": [],
       "names": [],
       "start_time": "2020-02-10T02:23:43.297945"
      }
     },
     "output_type": "display_data"
    }
   ],
   "source": [
    "`\"pidgin\"` literate programming is a specification & implementation for writing computational essays \n",
    "that freely use natural and programming languages to bring meaning a subject and theme.\n",
    "Donald Knuth introduced literate programming in 1979 as an approach to writing \n",
    "documentation written with the shared intent of being both literature and a program.\n",
    "Since, rote software development styles have prevailed \n",
    "for most topics dependent on programming languages.\n",
    "Increasingly, we are seeing a rise in literate programs with the\n",
    "successful adoption of computational notebooks as substrates\n",
    "for data-driven narratives.\n",
    "Thoughout this document we'll implement `pidgy`, a literate programming\n",
    "interface in `jupyter` `notebook`s running using the `ipykernel`,\n",
    "and we'll discuss how modern software practices can be used\n",
    "to create readable, reproducible, & reusable computational literature.\n",
    "\n",
    "One of the most charming features of `\"literate programming\"` is the \n",
    "authentic pleasure of writing that Donald Knuth describes while \n",
    "discussing about novel technical content.\n",
    "The outcome is a paper that is a pleasure to read.\n",
    "The `pidgy` implementation had to be written to test\n",
    "how enjoyable literate programming can be.\n",
    "Hopefully think document does demonstrate and confirm how fun\n",
    "writing about technical scientific content may be.\n",
    "\n",
    "Only in the wake of the literate programming did we learn of\n",
    "(1) unit testing, (2) notebook interfaces, and (3) the world wide web.\n",
    "`\"pidgin\"` programming promotes literate programming \n",
    "as a means of writing data-driven narratives in computational notebooks.\n",
    "`notebook`s are a natural substrate for reproducible, literate programs\n",
    "because their schema refers explicitly to \n",
    "two primary cell types: `markdown and \"code\"`.\n",
    "It follows that `🐦 `'s document language is `markdown`\n",
    "with `IPython, python` as the glue programming language."
   ]
  },
  {
   "cell_type": "code",
   "execution_count": null,
   "metadata": {
    "jupyter": {
     "source_hidden": true
    }
   },
   "outputs": [],
   "source": []
  },
  {
   "cell_type": "code",
   "execution_count": 25,
   "metadata": {},
   "outputs": [
    {
     "data": {
      "text/markdown": [
       "In `🐦, pidgy and \"pidgin\"` programming, units (ie. cells)\n",
       "in a `notebook` are written in `markdown` with the \n",
       "shared intent of designing readable outputs\n",
       "and source that `python` can `compile`.\n",
       "`pidgy` demonstrates this behavior with\n",
       "extensions for the `IPython.InteractiveShell` and `ipykernel`\n",
       "that augments the interactive REPL experience to be \n",
       "suitable for an implicit literate programming experience.\n",
       "Authors interactively read, write, and revise their \n",
       "input as units readable output units,\n",
       "as working code units,\n",
       "and formal test objects.\n",
       "\n",
       "`\"pidgin\"` documents are flexible formats that can \n",
       "be transformed in varities of literature, source code, and formal tests.\n",
       "`pidgy` relies on open source infrastructure to \n",
       "provide multiple reusable states of `pidgy` documents. \n",
       "`pidgy` documents abide an `nbformat` version which \n",
       "identifies a `jsonschema` that validates the shape of the document.\n",
       "From the `nbformat`, \n",
       "`nbconvert` transforms `notebook`s to other file formats (eg. `markdown and python`),\n",
       "`importnb` allows `pidgy` documents to be import like any python module, \n",
       "`doctest` to provide interactive documentation testing,\n",
       "and `pytest` to establish formal testing procedures for `pidgy` documents.\n",
       "\n",
       "Open source communities have worked together to \n",
       "improve access scientific computing technologies.\n",
       "Increased access to scientific computing technologies\n",
       "has reduced the demand for verbose code bases\n",
       "and may be acheived by a simple api.\n",
       "As such, non programmers can begin to participate in\n",
       "interactive computing through their abilities to tell stories.\n",
       "\n",
       "`pidgy` is hella fun to write in."
      ],
      "text/plain": [
       "<IPython.core.display.Markdown object>"
      ]
     },
     "metadata": {
      "text/markdown": {
       "end_time": "2020-02-10T02:23:43.719927",
       "modules": [],
       "names": [],
       "start_time": "2020-02-10T02:23:43.689804"
      }
     },
     "output_type": "display_data"
    }
   ],
   "source": [
    "In `🐦, pidgy and \"pidgin\"` programming, units (ie. cells)\n",
    "in a `notebook` are written in `markdown` with the \n",
    "shared intent of designing readable outputs\n",
    "and source that `python` can `compile`.\n",
    "`pidgy` demonstrates this behavior with\n",
    "extensions for the `IPython.InteractiveShell` and `ipykernel`\n",
    "that augments the interactive REPL experience to be \n",
    "suitable for an implicit literate programming experience.\n",
    "Authors interactively read, write, and revise their \n",
    "input as units readable output units,\n",
    "as working code units,\n",
    "and formal test objects.\n",
    "\n",
    "`\"pidgin\"` documents are flexible formats that can \n",
    "be transformed in varities of literature, source code, and formal tests.\n",
    "`pidgy` relies on open source infrastructure to \n",
    "provide multiple reusable states of `pidgy` documents. \n",
    "`pidgy` documents abide an `nbformat` version which \n",
    "identifies a `jsonschema` that validates the shape of the document.\n",
    "From the `nbformat`, \n",
    "`nbconvert` transforms `notebook`s to other file formats (eg. `markdown and python`),\n",
    "`importnb` allows `pidgy` documents to be import like any python module, \n",
    "`doctest` to provide interactive documentation testing,\n",
    "and `pytest` to establish formal testing procedures for `pidgy` documents.\n",
    "\n",
    "Open source communities have worked together to \n",
    "improve access scientific computing technologies.\n",
    "Increased access to scientific computing technologies\n",
    "has reduced the demand for verbose code bases\n",
    "and may be acheived by a simple api.\n",
    "As such, non programmers can begin to participate in\n",
    "interactive computing through their abilities to tell stories.\n",
    "\n",
    "`pidgy` is hella fun to write in."
   ]
  }
 ],
 "metadata": {
  "kernelspec": {
   "display_name": "pidgy 3",
   "language": "python",
   "name": "pidgy"
  },
  "language_info": {
   "codemirror_mode": {
    "name": "ipython",
    "version": 3
   },
   "file_extension": ".py",
   "mimetype": "text/x-python",
   "name": "python",
   "nbconvert_exporter": "python",
   "pygments_lexer": "ipython3",
   "version": "3.7.3"
  }
 },
 "nbformat": 4,
 "nbformat_minor": 4
}
