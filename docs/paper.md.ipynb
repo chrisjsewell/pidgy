{
 "cells": [
  {
   "cell_type": "code",
   "execution_count": 4,
   "metadata": {
    "jupyter": {
     "source_hidden": true
    }
   },
   "outputs": [
    {
     "data": {
      "text/html": [
       "<style>\n",
       ".jp-mod-presentationMode {\n",
       "    --jp-notebook-padding: 0;\n",
       "}\n",
       ".jp-RenderedHTMLCommon pre code {\n",
       "    opacity: 0.25;\n",
       "}\n",
       ".jp-Placeholder-content .jp-MoreHorizIcon {\n",
       "    background-size: 32px;\n",
       "}\n",
       "</style><style>\n",
       ".jp-mod-presentationMode .jp-SideBar,\n",
       ".jp-mod-presentationMode #jp-top-panel {\n",
       "    opacity: 0.0;\n",
       "    transition: all 0.2s;\n",
       "}\n",
       ".jp-mod-presentationMode .jp-SideBar:hover,\n",
       ".jp-mod-presentationMode #jp-top-panel:hover {\n",
       "    opacity: 0.9;\n",
       "    transition: all 0.2s;\n",
       "}</style><style>\n",
       ".jp-mod-presentationMode.jp-ApplicationShell,\n",
       ".jp-mod-presentationMode .p-TabBar-content{\n",
       "    background-color: var(--jp-layout-color0);\n",
       "}\n",
       "</style><style>\n",
       ".jp-mod-presentationMode .p-DockPanel-widget,\n",
       ".jp-mod-presentationMode #jp-left-stack{\n",
       "    border-color: transparent;\n",
       "}\n",
       ".jp-mod-presentationMode .jp-Toolbar-item,\n",
       ".jp-mod-presentationMode .jp-Toolbar {\n",
       "    opacity: 0.1;\n",
       "    transition: all 0.2s;\n",
       "}\n",
       ".jp-mod-presentationMode .jp-Toolbar-item:hover,\n",
       ".jp-mod-presentationMode .jp-Toolbar:hover {\n",
       "    opacity: 0.9;\n",
       "    transition: all 0.2s;\n",
       "}\n",
       "\n",
       ".jp-mod-presentationMode .jp-InputArea {\n",
       "    flex-direction: column;\n",
       "}\n",
       "\n",
       "</style><style>\n",
       ".jp-mod-presentationMode .jp-Notebook .jp-Cell .jp-InputPrompt, \n",
       ".jp-mod-presentationMode .jp-Notebook .jp-Cell .jp-OutputPrompt {\n",
       "    flex: 0 0 2rem !important;\n",
       "    opacity: 0;\n",
       "}\n",
       ".jp-mod-presentationMode .jp-Notebook .jp-Cell.jp-mod-active .jp-OutputPrompt,\n",
       ".jp-mod-presentationMode .jp-Notebook .jp-Cell.jp-mod-active .jp-OutputPrompt {\n",
       "    opacity: 0.5;\n",
       "}\n",
       ".jp-mod-presentationMode .jp-Notebook .jp-Cell .jp-InputPrompt, \n",
       ".jp-mod-presentationMode .jp-Notebook .jp-Cell .jp-OutputPrompt\n",
       "\n",
       ".jp-mod-presentationMode hr {\n",
       "    opacity: 0.1;\n",
       "}\n",
       "</style>\n",
       "    <style>\n",
       "    .jp-TableOfContents-content h1, \n",
       "    .jp-TableOfContents-content h2 {\n",
       "        margin-bottom: var(--jp-ui-font-size0);\n",
       "    }\n",
       "    </style>\n",
       "    \n",
       "    <style>\n",
       "    .jp-mod-presentationMode {\n",
       "        --jp-content-heading-line-height: 1.25 !important;\n",
       "    }\n",
       "    </style>\n",
       "    \n",
       "    <style>\n",
       "    .jp-mod-presentationMode #jp-main-status-bar {\n",
       "        opacity: 0.06;\n",
       "        transition: all 0.2s;\n",
       "    }\n",
       "    .jp-mod-presentationMode #jp-main-status-bar:hover {\n",
       "        opacity: 0.8;\n",
       "        transition: all 0.2s;\n",
       "    }\n",
       "    </style>\n",
       "    "
      ],
      "text/plain": [
       "<IPython.core.display.HTML object>"
      ]
     },
     "metadata": {},
     "output_type": "display_data"
    },
    {
     "data": {
      "text/html": [
       "<style>\n",
       ".jp-mod-presentationMode {\n",
       "    --jp-notebook-padding: 0;\n",
       "}\n",
       ".jp-RenderedHTMLCommon pre code {\n",
       "    opacity: 0.25;\n",
       "}\n",
       ".jp-Placeholder-content .jp-MoreHorizIcon {\n",
       "    background-size: 32px;\n",
       "}\n",
       "</style><style>\n",
       ".jp-mod-presentationMode .jp-SideBar,\n",
       ".jp-mod-presentationMode #jp-top-panel {\n",
       "    opacity: 0.0;\n",
       "    transition: all 0.2s;\n",
       "}\n",
       ".jp-mod-presentationMode .jp-SideBar:hover,\n",
       ".jp-mod-presentationMode #jp-top-panel:hover {\n",
       "    opacity: 0.9;\n",
       "    transition: all 0.2s;\n",
       "}</style><style>\n",
       ".jp-mod-presentationMode.jp-ApplicationShell,\n",
       ".jp-mod-presentationMode .p-TabBar-content{\n",
       "    background-color: var(--jp-layout-color0);\n",
       "}\n",
       "</style><style>\n",
       ".jp-mod-presentationMode .p-DockPanel-widget,\n",
       ".jp-mod-presentationMode #jp-left-stack{\n",
       "    border-color: transparent;\n",
       "}\n",
       ".jp-mod-presentationMode .jp-Toolbar-item,\n",
       ".jp-mod-presentationMode .jp-Toolbar {\n",
       "    opacity: 0.1;\n",
       "    transition: all 0.2s;\n",
       "}\n",
       ".jp-mod-presentationMode .jp-Toolbar-item:hover,\n",
       ".jp-mod-presentationMode .jp-Toolbar:hover {\n",
       "    opacity: 0.9;\n",
       "    transition: all 0.2s;\n",
       "}\n",
       "\n",
       ".jp-mod-presentationMode .jp-InputArea {\n",
       "    flex-direction: column;\n",
       "}\n",
       "\n",
       "</style><style>\n",
       ".jp-mod-presentationMode .jp-Notebook .jp-Cell .jp-InputPrompt, \n",
       ".jp-mod-presentationMode .jp-Notebook .jp-Cell .jp-OutputPrompt {\n",
       "    flex: 0 0 2rem !important;\n",
       "    opacity: 0;\n",
       "}\n",
       ".jp-mod-presentationMode .jp-Notebook .jp-Cell.jp-mod-active .jp-OutputPrompt,\n",
       ".jp-mod-presentationMode .jp-Notebook .jp-Cell.jp-mod-active .jp-OutputPrompt {\n",
       "    opacity: 0.5;\n",
       "}\n",
       ".jp-mod-presentationMode .jp-Notebook .jp-Cell .jp-InputPrompt, \n",
       ".jp-mod-presentationMode .jp-Notebook .jp-Cell .jp-OutputPrompt\n",
       "\n",
       ".jp-mod-presentationMode hr {\n",
       "    opacity: 0.1;\n",
       "}\n",
       "</style>\n",
       "    <style>\n",
       "    .jp-TableOfContents-content h1, \n",
       "    .jp-TableOfContents-content h2 {\n",
       "        margin-bottom: var(--jp-ui-font-size0);\n",
       "    }\n",
       "    </style>\n",
       "    \n",
       "    <style>\n",
       "    .jp-mod-presentationMode {\n",
       "        --jp-content-heading-line-height: 1.25 !important;\n",
       "    }\n",
       "    </style>\n",
       "    \n",
       "    <style>\n",
       "    .jp-mod-presentationMode #jp-main-status-bar {\n",
       "        opacity: 0.06;\n",
       "        transition: all 0.2s;\n",
       "    }\n",
       "    .jp-mod-presentationMode #jp-main-status-bar:hover {\n",
       "        opacity: 0.8;\n",
       "        transition: all 0.2s;\n",
       "    }\n",
       "    </style>\n",
       "    "
      ],
      "text/plain": [
       "<IPython.core.display.HTML object>"
      ]
     },
     "metadata": {},
     "output_type": "display_data"
    }
   ],
   "source": [
    "    \n",
    "    import jupyter, notebook, notebook as 📓, IPython, pidgy, pidgy as 🐦, mistune as markdown, mistune as M⬇️, IPython as python, ast, jinja2 as template, importnb as _import_, doctest, pathlib, graphviz    \n",
    "    from pidgy.tests import interactive as testing\n",
    "    shell = IPython.get_ipython()\n",
    "    import pandas as 🐼\n",
    "    Ø = __name__ == '__main__'\n",
    "\n",
    "    import pidgy.reuse, pidgy.conversion, pidgy.cli, pidgy.tests.readme, appendix, intro, test_pidgin_syntax\n",
    "    input_formats = !pandoc --list-input-formats\n",
    "    input_formats = {x.split('_')[0] for x in input_formats}\n",
    "    kernels = 🐼.read_html(appendix.get('https://github.com/jupyter/jupyter/wiki/Jupyter-kernels'))[0]\n",
    "    display(🐦.__style__)\n",
    "\n",
    "    🐦.__style__"
   ]
  },
  {
   "cell_type": "code",
   "execution_count": 5,
   "metadata": {},
   "outputs": [
    {
     "data": {
      "text/markdown": [
       "# `\"pidgin\"` programming\n",
       "\n",
       "\n",
       "\n",
       "`\"pidgin\"` literate programming is an approach to writing \n",
       "computational literature where `\"code\"` is included to supplement\n",
       "and support the meaning of the narrative.\n",
       "The outcome of `\"pidgin\"` programs are `\"pidgin\"` documents\n",
       "written in fluid combinations of natural and programming languages.\n",
       "Ultimately, `\"pidgin\"` authors and programmers will find themselves\n",
       "writing literature with sprinkles of code or\n",
       "code supplemented by literature, \n",
       "and in either application the documents will have varying qualities \n",
       "of readability and reproducible, or literacy or computability.\n",
       "\n",
       "`pidgy` is an implementation of `\"pidgin\"` programming developed \n",
       "throughout this document to demonstrate specific concepts.\n",
       "`pidgy` is designed for authoring `\"pidgin\"` documents \n",
       "using the `jupyter` `notebook` and `jupyterlab` as a word processing\n",
       "tool back by an iterative, literate computing environment.\n",
       "`notebook`s are a natural substrate for reproducible, literate programs\n",
       "because their schema refers explicitly to \n",
       "two primary cell types: `markdown and \"code\"`.\n",
       "It follows that `🐦 `'s document language is `markdown`\n",
       "with `IPython, python` as the glue programming language.\n",
       "\n",
       "In `🐦, pidgy and \"pidgin\"` programming, units (ie. cells)\n",
       "in a `notebook` are written in `markdown` with the \n",
       "shared intent of designing readable outputs\n",
       "and source that `python` can `compile`.\n",
       "`pidgy` demonstrates this behavior with\n",
       "extensions for the `IPython.InteractiveShell` and `ipykernel`\n",
       "that augments the interactive REPL experience to be \n",
       "suitable for an implicit literate programming experience.\n",
       "Authors interactively read, write, and revise their \n",
       "input as units readable output units,\n",
       "as working code units,\n",
       "and formal test objects.\n",
       "\n",
       "`\"pidgin\"` documents are flexible formats that can \n",
       "be transformed in varities of literature, source code, and formal tests.\n",
       "`pidgy` relies on open source infrastructure to \n",
       "provide multiple reusable states of `pidgy` documents. \n",
       "`pidgy` documents abide an `nbformat` version which \n",
       "identifies a `jsonschema` that validates the shape of the document.\n",
       "From the `nbformat`, \n",
       "`nbconvert` transforms `notebook`s to other file formats (eg. `markdown and python`),\n",
       "`importnb` allows `pidgy` documents to be import like any python module, \n",
       "`doctest` to provide interactive documentation testing,\n",
       "and `pytest` to establish formal testing procedures for `pidgy` documents.\n",
       "\n",
       "Open source communities have worked together to \n",
       "improve access scientific computing technologies.\n",
       "Increased access to scientific computing technologies\n",
       "has reduced the demand for verbose code bases\n",
       "and may be acheived by a simple api.\n",
       "As such, non programmers can begin to participate in\n",
       "interactive computing through their abilities to tell stories.\n",
       "\n",
       "`pidgy` is hella fun to write in.\n",
       "\n"
      ],
      "text/plain": [
       "<IPython.core.display.Markdown object>"
      ]
     },
     "metadata": {
      "text/markdown": {
       "end_time": "2020-02-05T02:13:26.680700",
       "modules": [],
       "names": [],
       "start_time": "2020-02-05T02:13:26.595797"
      }
     },
     "output_type": "display_data"
    }
   ],
   "source": [
    "{{appendix.exports(intro)}}"
   ]
  },
  {
   "cell_type": "code",
   "execution_count": 9,
   "metadata": {
    "jupyter": {
     "source_hidden": true
    }
   },
   "outputs": [
    {
     "data": {
      "text/markdown": [
       "# Reusable computable literature\n",
       "\n",
       "\n",
       "\n",
       "    def load_ipython_extension(shell):\n",
       "        \"\"\"\n",
       "A primary requirement is that `pidgy` documents can be included\n",
       "in other `pidgy` documents, and, consequently, other `python` tools.\n",
       "To acheive this, `pidgy` modifies\n",
       "how `python` finds `__import__`s, this is acheived with an\n",
       "existing tool called `importnb` that includes\n",
       "`notebook` documents in `sys.path_hooks` used to discover modules.      \n",
       "        \n",
       "        \"\"\"; pidgy.pidgyLoader(position=-1).__enter__()\n",
       "\n",
       "\n",
       "\n",
       "    class pidgyLoader(importnb.Notebook): \n",
       "        \"\"\"\n",
       "To identify `pidgy` `notebook`s against other notebooks we \n",
       "introduce the hybrid extension `\".md.ipynb\"`.\n",
       "\n",
       "        \"\"\"\n",
       "        extensions = \".md.ipynb\".split()\n",
       "        \n",
       "        def code(self, str): \n",
       "            \"\"\"\n",
       "The `\"code\"` method of the `__import__` loader\n",
       "performs string transforms to code cells.\n",
       "`pidgy` uses the same method \n",
       "that the `shell.input_transformer_manager`.\n",
       "\n",
       "\n",
       "            \"\"\"\n",
       "            with importnb.Notebook():\n",
       "                try: from . import translate\n",
       "                except: import translate\n",
       "            return ''.join(translate.pidgy.transform_cell(str))\n",
       "        \n",
       "        def visit(self, node):\n",
       "            \"\"\"\n",
       "The `\"visit\"` method provides modifications to the\n",
       "abstract syntax tree.\n",
       "            \n",
       "            \"\"\"\n",
       "            with importnb.Notebook():\n",
       "                try: from . import translate\n",
       "                except: import translate\n",
       "            return translate.ReturnYield().visit(node)\n",
       "\n"
      ],
      "text/plain": [
       "<IPython.core.display.Markdown object>"
      ]
     },
     "metadata": {
      "text/markdown": {
       "end_time": "2020-02-05T02:14:22.263896",
       "modules": [],
       "names": [],
       "start_time": "2020-02-05T02:14:22.169201"
      }
     },
     "output_type": "display_data"
    }
   ],
   "source": [
    "{{appendix.exports(pidgy.reuse)}}"
   ]
  },
  {
   "cell_type": "code",
   "execution_count": 7,
   "metadata": {
    "jupyter": {
     "source_hidden": true
    },
    "toc-hr-collapsed": true
   },
   "outputs": [
    {
     "data": {
      "text/markdown": [
       "# Deriving files from `pidgy` documents.\n",
       "\n",
       "\n",
       "\n",
       "There are numerous tools that use the `notebook` format as an intermediate formats\n",
       "for different documents.\n",
       "\n",
       "The original literate programming used latex as the sole export format\n",
       "where as the notebook recognizes quite a few formats:\n",
       "    \n",
       "<details><summary><code>nbconvert</code> can generate <b>12</b> different formats from the files that abide the <code>nbformat</code>\n",
       "schema.</summary>\n",
       "<ul><li>html</li>\n",
       "<li>python</li>\n",
       "<li>asciidoc</li>\n",
       "<li>notebook</li>\n",
       "<li>slides</li>\n",
       "<li>pdf</li>\n",
       "<li>latex</li>\n",
       "<li>selectLanguage</li>\n",
       "<li>custom</li>\n",
       "<li>script</li>\n",
       "<li>markdown</li>\n",
       "<li>rst</li>\n",
       "</ul>\n",
       "</details>\n",
       "\n",
       "\n",
       "\n",
       "\n",
       "    class pidgyTranslate(nbconvert.preprocessors.Preprocessor):\n",
       "        def preprocess_cell(self, cell, resources, index, ):\n",
       "            import pidgy\n",
       "            if cell['cell_type'] == 'code':\n",
       "                cell['source'] = pidgy.imports.pidgy.transform_cell(''.join(cell['source']))\n",
       "            return cell, resources\n",
       "\n",
       "\n",
       "\n",
       "    class pidgyNormalize(nbconvert.preprocessors.Preprocessor):\n",
       "Untangle a pidgy notebook into a normalized notebook that explicitly sepearting code and markdown cells.\n",
       "A normalized notebook can be imported by importnb.\n",
       "        \n",
       "        def preprocess(self, nb, resources):\n",
       "            new, tokens = nbformat.v4.new_notebook(), []\n",
       "            for cell in nb.cells:\n",
       "                for token in tokenizer.parse(''.join(cell.source)) if cell.cell_type == 'code' else [{'type': 'paragraph', 'text': ''.join(cell.source)}]:\n",
       "                    new.cells.append((\n",
       "                        nbformat.v4.new_code_cell if token['type'] == 'code' else nbformat.v4.new_markdown_cell\n",
       "                    )(token['text'].splitlines(True)))\n",
       "            return nb, resources\n",
       "\n"
      ],
      "text/plain": [
       "<IPython.core.display.Markdown object>"
      ]
     },
     "metadata": {
      "text/markdown": {
       "end_time": "2020-02-05T02:13:27.846000",
       "modules": [],
       "names": [],
       "start_time": "2020-02-05T02:13:27.753353"
      }
     },
     "output_type": "display_data"
    }
   ],
   "source": [
    "{{appendix.exports(pidgy.conversion)}}"
   ]
  },
  {
   "cell_type": "code",
   "execution_count": 5,
   "metadata": {
    "jupyter": {
     "source_hidden": true
    }
   },
   "outputs": [
    {
     "data": {
      "text/markdown": [
       "## Literature as the test\n",
       "\n",
       "A strong intertextuallity may emerge when \n",
       "the primary target of a document is literature.\n",
       "Some of the literary content may include `\"code\"` `object`s\n",
       "that can be tested to qualify the veracity of these\n",
       "dual signifiers.\n",
       "\n",
       "`pidgy` documents are designed to be tested under\n",
       "multiple formal testing conditions.\n",
       "This is motivated by the `python`ic concept of documentation testing,\n",
       "or `doctest`ing, which in itself is a literate programming style.\n",
       "A `pidgy` document includes `doctest`, it verifies `notebook` `input`/`\"output\"`,\n",
       "and any formally defined tests are collected.\n",
       "\n",
       "\n",
       "\n",
       "`pidgy` provides a `pytest` plugin that works only on `\".md.ipynb\"` files.\n",
       "The `pidgy.kernel` works directly with `nbval`, install the python packkage and use the --nbval flag.\n",
       "`pidgy` uses features from `importnb` to support standard tests discovery, \n",
       "and `doctest` discovery across all strings.\n",
       "\n",
       "Still working on coverage.\n",
       "\n",
       "\n",
       "\n",
       "    class pidgyModule(importnb.utils.pytest_importnb.NotebookModule):\n",
       "The `pidgyModule` permits standard test discovery in notebooks.\n",
       "Functions beginning with `\"test_\"` indicate test functions.\n",
       "\n",
       "        loader = pidgy.imports.pidgyLoader\n",
       "\n",
       "\n",
       "\n",
       "    class pidgyTests(importnb.utils.pytest_importnb.NotebookTests):\n",
       "        modules = pidgyModule,\n",
       "\n",
       "    pytest_collect_file = pidgyTests.__call__\n",
       "\n"
      ],
      "text/plain": [
       "<IPython.core.display.Markdown object>"
      ]
     },
     "metadata": {
      "text/markdown": {
       "end_time": "2020-02-04T18:31:28.134777",
       "modules": [],
       "names": [],
       "start_time": "2020-02-04T18:31:28.048218"
      }
     },
     "output_type": "display_data"
    }
   ],
   "source": [
    "{{appendix.exports(pidgy.tests.readme)}}"
   ]
  },
  {
   "cell_type": "code",
   "execution_count": 6,
   "metadata": {
    "jupyter": {
     "source_hidden": true
    }
   },
   "outputs": [
    {
     "data": {
      "text/markdown": [
       "![svg](output_1_0.svg)\n",
       "\n",
       "\n",
       "\n",
       "\n",
       "# `pidgy` co-developments\n",
       "\n",
       "`pidgy` documents are written in `markdown`,\n",
       "and `\"code\"` is an intertextual feature of the narrative.\n",
       "We'll find that `pidgy` documents can serve many purposes like:\n",
       "* being a piece of literature.\n",
       "* being a piece of documentation.\n",
       "* being a testing unit.\n",
       "* being a `python` module.\n",
       "* being a command line application.\n",
       "* being a web service.\n",
       "\n",
       "`markdown`as a programming language can encapsulate\n",
       "any formal programming languages as\n",
       "either block or fenced objects.\n",
       "They are literate programs that combine human & machine logic \n",
       "to provide enriched meaning to the document.\n",
       "\n",
       "\n",
       "\n",
       "`pidgy`'s literate programs are designed to be reused in multiple contexts.\n",
       "\n",
       "\n",
       "\n",
       "    @click.group()\n",
       "    def app(): \n",
       "The `pidgy` command line application operates on passive notebooks\n",
       "documents.\n",
       "\n",
       "\n",
       "\n",
       "    @app.group()\n",
       "    def kernel():\n",
       "Serve notebook modules from fastapi creating an openapi schema for each \n",
       "literate document.\n",
       "\n",
       "    @kernel.command()\n",
       "    def install(user=False, replace=None, prefix=None):\n",
       "        with pidgy.translate.pidgyLoader():\n",
       "            from .kernel import shell\n",
       "        dest =shell.install(user=user, replace=replace, prefix=prefix)\n",
       "        click.echo(F\"The pidgy kernel was install in {dest}\")\n",
       "        \n",
       "    @kernel.command()\n",
       "    def uninstall(user=True, replace=None, prefix=None):\n",
       "        with pidgy.translate.pidgyLoader():\n",
       "            from .kernel import shell\n",
       "        shell.uninstall()\n",
       "        click.echo(F\"The pidgy kernel was removed.\")\n",
       "        \n",
       "\n",
       "\n",
       "\n",
       "    @app.command()\n",
       "    def serve(modules):\n",
       "Serve notebook modules from fastapi creating an openapi schema for each \n",
       "literate document.\n",
       "\n",
       "\n",
       "\n",
       "    @app.command()\n",
       "    def run(modules, parallel=True):\n",
       "Run a collection of notebook modules.\n",
       "\n",
       "\n",
       "\n",
       "    @app.command()\n",
       "    def convert(modules):\n",
       "Convert notebook written in pidgy to difference formats.\n",
       "\n"
      ],
      "text/plain": [
       "<IPython.core.display.Markdown object>"
      ]
     },
     "metadata": {
      "text/markdown": {
       "end_time": "2020-02-04T18:30:09.153576",
       "modules": [],
       "names": [],
       "start_time": "2020-02-04T18:30:09.042824"
      }
     },
     "output_type": "display_data"
    }
   ],
   "source": [
    "{{appendix.exports(pidgy.cli)}}"
   ]
  },
  {
   "cell_type": "code",
   "execution_count": 7,
   "metadata": {
    "jupyter": {
     "source_hidden": true
    }
   },
   "outputs": [
    {
     "data": {
      "text/markdown": [
       "# The `pidgy` shell-kernel model\n",
       "\n",
       "\n",
       "The shell is the application either jupyterlab or jupyter notebook, the kernel determines the programming language.  Below we design a just jupyter kernel that can be installed using \n",
       "\n",
       "    !pidgy kernel install\n",
       "\n",
       "\n",
       "    def install(kernel_name='pidgy',\n",
       "        user=True,\n",
       "        replace=None,\n",
       "        prefix=None\n",
       "    ):\n",
       "        return ipykernel.kernelspec.KernelSpecManager().install_kernel_spec(\n",
       "            str(pathlib.Path(globals().get('__file__', pathlib.Path('spec'))).parent/'spec'), kernel_name=kernel_name,\n",
       "            user=user, replace=replace, prefix=prefix)\n",
       "\n",
       "\n",
       "\n",
       "    def uninstall(kernel_name='pidgy',):\n",
       "        ipykernel.kernelspec.KernelSpecManager().remove_kernel_spec(kernel_name)\n",
       "\n"
      ],
      "text/plain": [
       "<IPython.core.display.Markdown object>"
      ]
     },
     "metadata": {
      "text/markdown": {
       "end_time": "2020-02-04T18:30:09.617605",
       "modules": [],
       "names": [],
       "start_time": "2020-02-04T18:30:09.526896"
      }
     },
     "output_type": "display_data"
    }
   ],
   "source": [
    "{{appendix.exports(pidgy.kernel.shell)}}"
   ]
  },
  {
   "cell_type": "code",
   "execution_count": 8,
   "metadata": {
    "jupyter": {
     "source_hidden": true
    },
    "toc-hr-collapsed": false
   },
   "outputs": [
    {
     "data": {
      "text/markdown": [
       "# Building the `pidgy` extension\n"
      ],
      "text/plain": [
       "<IPython.core.display.Markdown object>"
      ]
     },
     "metadata": {
      "text/markdown": {
       "end_time": "2020-02-04T18:30:09.839095",
       "modules": [],
       "names": [],
       "start_time": "2020-02-04T18:30:09.758258"
      }
     },
     "output_type": "display_data"
    }
   ],
   "source": [
    "{{appendix.exports(pidgy.extension)}}"
   ]
  },
  {
   "cell_type": "code",
   "execution_count": 9,
   "metadata": {
    "jupyter": {
     "source_hidden": true
    }
   },
   "outputs": [
    {
     "data": {
      "image/svg+xml": [
       "<?xml version=\"1.0\" encoding=\"UTF-8\" standalone=\"no\"?>\n",
       "<!DOCTYPE svg PUBLIC \"-//W3C//DTD SVG 1.1//EN\"\n",
       " \"http://www.w3.org/Graphics/SVG/1.1/DTD/svg11.dtd\">\n",
       "<!-- Generated by graphviz version 2.40.1 (20161225.0304)\n",
       " -->\n",
       "<!-- Title: %3 Pages: 1 -->\n",
       "<svg width=\"461pt\" height=\"170pt\"\n",
       " viewBox=\"0.00 0.00 461.00 170.00\" xmlns=\"http://www.w3.org/2000/svg\" xmlns:xlink=\"http://www.w3.org/1999/xlink\">\n",
       "<g id=\"graph0\" class=\"graph\" transform=\"scale(1 1) rotate(0) translate(4 166)\">\n",
       "<title>%3</title>\n",
       "<polygon fill=\"#ffffff\" stroke=\"transparent\" points=\"-4,4 -4,-166 457,-166 457,4 -4,4\"/>\n",
       "<g id=\"clust1\" class=\"cluster\">\n",
       "<title>cluster_pidgy</title>\n",
       "<polygon fill=\"none\" stroke=\"#000000\" points=\"8,-8 8,-154 262,-154 262,-8 8,-8\"/>\n",
       "<text text-anchor=\"middle\" x=\"135\" y=\"-138.8\" font-family=\"Times,serif\" font-size=\"14.00\" fill=\"#000000\">new school</text>\n",
       "</g>\n",
       "<g id=\"clust3\" class=\"cluster\">\n",
       "<title>cluster_web</title>\n",
       "<polygon fill=\"none\" stroke=\"#000000\" points=\"270,-8 270,-154 445,-154 445,-8 270,-8\"/>\n",
       "<text text-anchor=\"middle\" x=\"357.5\" y=\"-138.8\" font-family=\"Times,serif\" font-size=\"14.00\" fill=\"#000000\">old school</text>\n",
       "</g>\n",
       "<!-- pidgy -->\n",
       "<g id=\"node1\" class=\"node\">\n",
       "<title>pidgy</title>\n",
       "<ellipse fill=\"none\" stroke=\"#000000\" cx=\"126\" cy=\"-106\" rx=\"30.0035\" ry=\"18\"/>\n",
       "<text text-anchor=\"middle\" x=\"126\" y=\"-101.8\" font-family=\"Times,serif\" font-size=\"14.00\" fill=\"#000000\">pidgy</text>\n",
       "</g>\n",
       "<!-- PYTHON -->\n",
       "<g id=\"node2\" class=\"node\">\n",
       "<title>PYTHON</title>\n",
       "<ellipse fill=\"none\" stroke=\"#000000\" cx=\"62\" cy=\"-34\" rx=\"45.9459\" ry=\"18\"/>\n",
       "<text text-anchor=\"middle\" x=\"62\" y=\"-29.8\" font-family=\"Times,serif\" font-size=\"14.00\" fill=\"#000000\">PYTHON</text>\n",
       "</g>\n",
       "<!-- pidgy&#45;&gt;PYTHON -->\n",
       "<g id=\"edge1\" class=\"edge\">\n",
       "<title>pidgy&#45;&gt;PYTHON</title>\n",
       "<path fill=\"none\" stroke=\"#000000\" d=\"M111.7963,-90.0209C103.6382,-80.843 93.2174,-69.1196 84.0192,-58.7716\"/>\n",
       "<polygon fill=\"#000000\" stroke=\"#000000\" points=\"86.5409,-56.3403 77.2813,-51.1915 81.309,-60.9909 86.5409,-56.3403\"/>\n",
       "</g>\n",
       "<!-- MARKDOWN -->\n",
       "<g id=\"node3\" class=\"node\">\n",
       "<title>MARKDOWN</title>\n",
       "<ellipse fill=\"none\" stroke=\"#000000\" cx=\"190\" cy=\"-34\" rx=\"64.296\" ry=\"18\"/>\n",
       "<text text-anchor=\"middle\" x=\"190\" y=\"-29.8\" font-family=\"Times,serif\" font-size=\"14.00\" fill=\"#000000\">MARKDOWN</text>\n",
       "</g>\n",
       "<!-- pidgy&#45;&gt;MARKDOWN -->\n",
       "<g id=\"edge2\" class=\"edge\">\n",
       "<title>pidgy&#45;&gt;MARKDOWN</title>\n",
       "<path fill=\"none\" stroke=\"#000000\" d=\"M140.2037,-90.0209C148.2444,-80.975 158.4832,-69.4564 167.583,-59.2191\"/>\n",
       "<polygon fill=\"#000000\" stroke=\"#000000\" points=\"170.2367,-61.5019 174.2644,-51.7025 165.0048,-56.8513 170.2367,-61.5019\"/>\n",
       "</g>\n",
       "<!-- WEB -->\n",
       "<g id=\"node4\" class=\"node\">\n",
       "<title>WEB</title>\n",
       "<ellipse fill=\"none\" stroke=\"#000000\" cx=\"364\" cy=\"-106\" rx=\"29.5104\" ry=\"18\"/>\n",
       "<text text-anchor=\"middle\" x=\"364\" y=\"-101.8\" font-family=\"Times,serif\" font-size=\"14.00\" fill=\"#000000\">WEB</text>\n",
       "</g>\n",
       "<!-- PASCAL -->\n",
       "<g id=\"node5\" class=\"node\">\n",
       "<title>PASCAL</title>\n",
       "<ellipse fill=\"none\" stroke=\"#000000\" cx=\"321\" cy=\"-34\" rx=\"43.4111\" ry=\"18\"/>\n",
       "<text text-anchor=\"middle\" x=\"321\" y=\"-29.8\" font-family=\"Times,serif\" font-size=\"14.00\" fill=\"#000000\">PASCAL</text>\n",
       "</g>\n",
       "<!-- WEB&#45;&gt;PASCAL -->\n",
       "<g id=\"edge3\" class=\"edge\">\n",
       "<title>WEB&#45;&gt;PASCAL</title>\n",
       "<path fill=\"none\" stroke=\"#000000\" d=\"M353.8096,-88.937C348.7281,-80.4284 342.4682,-69.9468 336.7833,-60.4279\"/>\n",
       "<polygon fill=\"#000000\" stroke=\"#000000\" points=\"339.6987,-58.4833 331.5663,-51.6924 333.6889,-62.0725 339.6987,-58.4833\"/>\n",
       "</g>\n",
       "<!-- TEX -->\n",
       "<g id=\"node6\" class=\"node\">\n",
       "<title>TEX</title>\n",
       "<ellipse fill=\"none\" stroke=\"#000000\" cx=\"410\" cy=\"-34\" rx=\"27.0958\" ry=\"18\"/>\n",
       "<text text-anchor=\"middle\" x=\"410\" y=\"-29.8\" font-family=\"Times,serif\" font-size=\"14.00\" fill=\"#000000\">TEX</text>\n",
       "</g>\n",
       "<!-- WEB&#45;&gt;TEX -->\n",
       "<g id=\"edge4\" class=\"edge\">\n",
       "<title>WEB&#45;&gt;TEX</title>\n",
       "<path fill=\"none\" stroke=\"#000000\" d=\"M374.9014,-88.937C380.5155,-80.1496 387.4741,-69.2579 393.7112,-59.4956\"/>\n",
       "<polygon fill=\"#000000\" stroke=\"#000000\" points=\"396.7424,-61.2519 399.1769,-50.9405 390.8435,-57.4831 396.7424,-61.2519\"/>\n",
       "</g>\n",
       "</g>\n",
       "</svg>\n"
      ],
      "text/plain": [
       "<graphviz.files.Source at 0x120814b38>"
      ]
     },
     "execution_count": 9,
     "metadata": {},
     "output_type": "execute_result"
    },
    {
     "ename": "UndefinedError",
     "evalue": "'translate' is undefined",
     "output_type": "error",
     "traceback": [
      "\u001b[0;31m---------------------------------------------------------------------------\u001b[0m",
      "\u001b[0;31mUndefinedError\u001b[0m                            Traceback (most recent call last)",
      "\u001b[0;32m~/anaconda3/lib/python3.7/site-packages/jinja2/asyncsupport.py\u001b[0m in \u001b[0;36mrender\u001b[0;34m(self, *args, **kwargs)\u001b[0m\n\u001b[1;32m     74\u001b[0m     \u001b[0;32mdef\u001b[0m \u001b[0mrender\u001b[0m\u001b[0;34m(\u001b[0m\u001b[0mself\u001b[0m\u001b[0;34m,\u001b[0m \u001b[0;34m*\u001b[0m\u001b[0margs\u001b[0m\u001b[0;34m,\u001b[0m \u001b[0;34m**\u001b[0m\u001b[0mkwargs\u001b[0m\u001b[0;34m)\u001b[0m\u001b[0;34m:\u001b[0m\u001b[0;34m\u001b[0m\u001b[0;34m\u001b[0m\u001b[0m\n\u001b[1;32m     75\u001b[0m         \u001b[0;32mif\u001b[0m \u001b[0;32mnot\u001b[0m \u001b[0mself\u001b[0m\u001b[0;34m.\u001b[0m\u001b[0menvironment\u001b[0m\u001b[0;34m.\u001b[0m\u001b[0mis_async\u001b[0m\u001b[0;34m:\u001b[0m\u001b[0;34m\u001b[0m\u001b[0;34m\u001b[0m\u001b[0m\n\u001b[0;32m---> 76\u001b[0;31m             \u001b[0;32mreturn\u001b[0m \u001b[0moriginal_render\u001b[0m\u001b[0;34m(\u001b[0m\u001b[0mself\u001b[0m\u001b[0;34m,\u001b[0m \u001b[0;34m*\u001b[0m\u001b[0margs\u001b[0m\u001b[0;34m,\u001b[0m \u001b[0;34m**\u001b[0m\u001b[0mkwargs\u001b[0m\u001b[0;34m)\u001b[0m\u001b[0;34m\u001b[0m\u001b[0;34m\u001b[0m\u001b[0m\n\u001b[0m\u001b[1;32m     77\u001b[0m         \u001b[0mloop\u001b[0m \u001b[0;34m=\u001b[0m \u001b[0masyncio\u001b[0m\u001b[0;34m.\u001b[0m\u001b[0mget_event_loop\u001b[0m\u001b[0;34m(\u001b[0m\u001b[0;34m)\u001b[0m\u001b[0;34m\u001b[0m\u001b[0;34m\u001b[0m\u001b[0m\n\u001b[1;32m     78\u001b[0m         \u001b[0;32mreturn\u001b[0m \u001b[0mloop\u001b[0m\u001b[0;34m.\u001b[0m\u001b[0mrun_until_complete\u001b[0m\u001b[0;34m(\u001b[0m\u001b[0mself\u001b[0m\u001b[0;34m.\u001b[0m\u001b[0mrender_async\u001b[0m\u001b[0;34m(\u001b[0m\u001b[0;34m*\u001b[0m\u001b[0margs\u001b[0m\u001b[0;34m,\u001b[0m \u001b[0;34m**\u001b[0m\u001b[0mkwargs\u001b[0m\u001b[0;34m)\u001b[0m\u001b[0;34m)\u001b[0m\u001b[0;34m\u001b[0m\u001b[0;34m\u001b[0m\u001b[0m\n",
      "\u001b[0;32m~/anaconda3/lib/python3.7/site-packages/jinja2/environment.py\u001b[0m in \u001b[0;36mrender\u001b[0;34m(self, *args, **kwargs)\u001b[0m\n\u001b[1;32m   1006\u001b[0m         \u001b[0;32mexcept\u001b[0m \u001b[0mException\u001b[0m\u001b[0;34m:\u001b[0m\u001b[0;34m\u001b[0m\u001b[0;34m\u001b[0m\u001b[0m\n\u001b[1;32m   1007\u001b[0m             \u001b[0mexc_info\u001b[0m \u001b[0;34m=\u001b[0m \u001b[0msys\u001b[0m\u001b[0;34m.\u001b[0m\u001b[0mexc_info\u001b[0m\u001b[0;34m(\u001b[0m\u001b[0;34m)\u001b[0m\u001b[0;34m\u001b[0m\u001b[0;34m\u001b[0m\u001b[0m\n\u001b[0;32m-> 1008\u001b[0;31m         \u001b[0;32mreturn\u001b[0m \u001b[0mself\u001b[0m\u001b[0;34m.\u001b[0m\u001b[0menvironment\u001b[0m\u001b[0;34m.\u001b[0m\u001b[0mhandle_exception\u001b[0m\u001b[0;34m(\u001b[0m\u001b[0mexc_info\u001b[0m\u001b[0;34m,\u001b[0m \u001b[0;32mTrue\u001b[0m\u001b[0;34m)\u001b[0m\u001b[0;34m\u001b[0m\u001b[0;34m\u001b[0m\u001b[0m\n\u001b[0m\u001b[1;32m   1009\u001b[0m \u001b[0;34m\u001b[0m\u001b[0m\n\u001b[1;32m   1010\u001b[0m     \u001b[0;32mdef\u001b[0m \u001b[0mrender_async\u001b[0m\u001b[0;34m(\u001b[0m\u001b[0mself\u001b[0m\u001b[0;34m,\u001b[0m \u001b[0;34m*\u001b[0m\u001b[0margs\u001b[0m\u001b[0;34m,\u001b[0m \u001b[0;34m**\u001b[0m\u001b[0mkwargs\u001b[0m\u001b[0;34m)\u001b[0m\u001b[0;34m:\u001b[0m\u001b[0;34m\u001b[0m\u001b[0;34m\u001b[0m\u001b[0m\n",
      "\u001b[0;32m~/anaconda3/lib/python3.7/site-packages/jinja2/environment.py\u001b[0m in \u001b[0;36mhandle_exception\u001b[0;34m(self, exc_info, rendered, source_hint)\u001b[0m\n\u001b[1;32m    778\u001b[0m             \u001b[0mself\u001b[0m\u001b[0;34m.\u001b[0m\u001b[0mexception_handler\u001b[0m\u001b[0;34m(\u001b[0m\u001b[0mtraceback\u001b[0m\u001b[0;34m)\u001b[0m\u001b[0;34m\u001b[0m\u001b[0;34m\u001b[0m\u001b[0m\n\u001b[1;32m    779\u001b[0m         \u001b[0mexc_type\u001b[0m\u001b[0;34m,\u001b[0m \u001b[0mexc_value\u001b[0m\u001b[0;34m,\u001b[0m \u001b[0mtb\u001b[0m \u001b[0;34m=\u001b[0m \u001b[0mtraceback\u001b[0m\u001b[0;34m.\u001b[0m\u001b[0mstandard_exc_info\u001b[0m\u001b[0;34m\u001b[0m\u001b[0;34m\u001b[0m\u001b[0m\n\u001b[0;32m--> 780\u001b[0;31m         \u001b[0mreraise\u001b[0m\u001b[0;34m(\u001b[0m\u001b[0mexc_type\u001b[0m\u001b[0;34m,\u001b[0m \u001b[0mexc_value\u001b[0m\u001b[0;34m,\u001b[0m \u001b[0mtb\u001b[0m\u001b[0;34m)\u001b[0m\u001b[0;34m\u001b[0m\u001b[0;34m\u001b[0m\u001b[0m\n\u001b[0m\u001b[1;32m    781\u001b[0m \u001b[0;34m\u001b[0m\u001b[0m\n\u001b[1;32m    782\u001b[0m     \u001b[0;32mdef\u001b[0m \u001b[0mjoin_path\u001b[0m\u001b[0;34m(\u001b[0m\u001b[0mself\u001b[0m\u001b[0;34m,\u001b[0m \u001b[0mtemplate\u001b[0m\u001b[0;34m,\u001b[0m \u001b[0mparent\u001b[0m\u001b[0;34m)\u001b[0m\u001b[0;34m:\u001b[0m\u001b[0;34m\u001b[0m\u001b[0;34m\u001b[0m\u001b[0m\n",
      "\u001b[0;32m~/anaconda3/lib/python3.7/site-packages/jinja2/_compat.py\u001b[0m in \u001b[0;36mreraise\u001b[0;34m(tp, value, tb)\u001b[0m\n\u001b[1;32m     35\u001b[0m     \u001b[0;32mdef\u001b[0m \u001b[0mreraise\u001b[0m\u001b[0;34m(\u001b[0m\u001b[0mtp\u001b[0m\u001b[0;34m,\u001b[0m \u001b[0mvalue\u001b[0m\u001b[0;34m,\u001b[0m \u001b[0mtb\u001b[0m\u001b[0;34m=\u001b[0m\u001b[0;32mNone\u001b[0m\u001b[0;34m)\u001b[0m\u001b[0;34m:\u001b[0m\u001b[0;34m\u001b[0m\u001b[0;34m\u001b[0m\u001b[0m\n\u001b[1;32m     36\u001b[0m         \u001b[0;32mif\u001b[0m \u001b[0mvalue\u001b[0m\u001b[0;34m.\u001b[0m\u001b[0m__traceback__\u001b[0m \u001b[0;32mis\u001b[0m \u001b[0;32mnot\u001b[0m \u001b[0mtb\u001b[0m\u001b[0;34m:\u001b[0m\u001b[0;34m\u001b[0m\u001b[0;34m\u001b[0m\u001b[0m\n\u001b[0;32m---> 37\u001b[0;31m             \u001b[0;32mraise\u001b[0m \u001b[0mvalue\u001b[0m\u001b[0;34m.\u001b[0m\u001b[0mwith_traceback\u001b[0m\u001b[0;34m(\u001b[0m\u001b[0mtb\u001b[0m\u001b[0;34m)\u001b[0m\u001b[0;34m\u001b[0m\u001b[0;34m\u001b[0m\u001b[0m\n\u001b[0m\u001b[1;32m     38\u001b[0m         \u001b[0;32mraise\u001b[0m \u001b[0mvalue\u001b[0m\u001b[0;34m\u001b[0m\u001b[0;34m\u001b[0m\u001b[0m\n\u001b[1;32m     39\u001b[0m \u001b[0;34m\u001b[0m\u001b[0m\n",
      "\u001b[0;32m<template>\u001b[0m in \u001b[0;36mtop-level template code\u001b[0;34m()\u001b[0m\n",
      "\u001b[0;32m~/anaconda3/lib/python3.7/site-packages/jinja2/environment.py\u001b[0m in \u001b[0;36mgetattr\u001b[0;34m(self, obj, attribute)\u001b[0m\n\u001b[1;32m    432\u001b[0m             \u001b[0;32mpass\u001b[0m\u001b[0;34m\u001b[0m\u001b[0;34m\u001b[0m\u001b[0m\n\u001b[1;32m    433\u001b[0m         \u001b[0;32mtry\u001b[0m\u001b[0;34m:\u001b[0m\u001b[0;34m\u001b[0m\u001b[0;34m\u001b[0m\u001b[0m\n\u001b[0;32m--> 434\u001b[0;31m             \u001b[0;32mreturn\u001b[0m \u001b[0mobj\u001b[0m\u001b[0;34m[\u001b[0m\u001b[0mattribute\u001b[0m\u001b[0;34m]\u001b[0m\u001b[0;34m\u001b[0m\u001b[0;34m\u001b[0m\u001b[0m\n\u001b[0m\u001b[1;32m    435\u001b[0m         \u001b[0;32mexcept\u001b[0m \u001b[0;34m(\u001b[0m\u001b[0mTypeError\u001b[0m\u001b[0;34m,\u001b[0m \u001b[0mLookupError\u001b[0m\u001b[0;34m,\u001b[0m \u001b[0mAttributeError\u001b[0m\u001b[0;34m)\u001b[0m\u001b[0;34m:\u001b[0m\u001b[0;34m\u001b[0m\u001b[0;34m\u001b[0m\u001b[0m\n\u001b[1;32m    436\u001b[0m             \u001b[0;32mreturn\u001b[0m \u001b[0mself\u001b[0m\u001b[0;34m.\u001b[0m\u001b[0mundefined\u001b[0m\u001b[0;34m(\u001b[0m\u001b[0mobj\u001b[0m\u001b[0;34m=\u001b[0m\u001b[0mobj\u001b[0m\u001b[0;34m,\u001b[0m \u001b[0mname\u001b[0m\u001b[0;34m=\u001b[0m\u001b[0mattribute\u001b[0m\u001b[0;34m)\u001b[0m\u001b[0;34m\u001b[0m\u001b[0;34m\u001b[0m\u001b[0m\n",
      "\u001b[0;31mUndefinedError\u001b[0m: 'translate' is undefined"
     ]
    },
    {
     "data": {
      "text/markdown": [
       "## programming in `markdown and python` \n",
       "[📓]({{pathlib.Path(translate.__file__).name}})\n",
       "\n",
       "\n",
       "{{appendix.exports(pidgy.translate)}}\n",
       "\n",
       "    graphviz.Source(\n",
       "digraph{rankdir=UD \n",
       "subgraph cluster_pidgy {label=\"new school\" pidgy->{PYTHON MARKDOWN}}\n",
       "subgraph cluster_web {label=\"old school\" WEB->{PASCAL TEX} }}\n",
       "    \n",
       "    )"
      ],
      "text/plain": [
       "<IPython.core.display.Markdown object>"
      ]
     },
     "metadata": {
      "text/markdown": {
       "end_time": "2020-02-04T18:30:10.119613",
       "modules": [],
       "names": [],
       "start_time": "2020-02-04T18:30:09.965550"
      }
     },
     "output_type": "display_data"
    }
   ],
   "source": [
    "## programming in `markdown and python` \n",
    "[📓]({{pathlib.Path(translate.__file__).name}})\n",
    "\n",
    "\n",
    "{{appendix.exports(pidgy.translate)}}\n",
    "\n",
    "    graphviz.Source(\n",
    "digraph{rankdir=UD \n",
    "subgraph cluster_pidgy {label=\"new school\" pidgy->{PYTHON MARKDOWN}}\n",
    "subgraph cluster_web {label=\"old school\" WEB->{PASCAL TEX} }}\n",
    "    \n",
    "    )"
   ]
  },
  {
   "cell_type": "code",
   "execution_count": 10,
   "metadata": {
    "jupyter": {
     "source_hidden": true
    }
   },
   "outputs": [
    {
     "data": {
      "text/markdown": [
       "## testing `\"code\"` in the `markdown` narrative.\n",
       "[📔](interactive.md.ipynb)\n",
       "\n",
       "    import IPython as python, doctest, textwrap\n",
       "    pidgy= None\n",
       "\n",
       "\n",
       "\n",
       "In literate programs, `\"code\"` is deeply entangled with the narrative.\n",
       "`\"code\"` object can signify meaning and can be validated through testing.\n",
       "`python` introduced the `doctest` literate programming convention that indicates some text in a narrative can be tested.\n",
       "`pidgy` extends the `doctest` opinion to the inline markdown code.\n",
       "Each time a `pidgy` cell is executed, the `doctest`s and inline code are executed ensuring that\n",
       "any code in a `pidgy` program is valid.\n",
       "\n",
       "\n",
       "\n",
       "    def post_run_cell(result):\n",
       "        result.runner = test_markdown_string(result.info.raw_cell, IPython.get_ipython(), False, doctest.ELLIPSIS)\n",
       "\n",
       "    def load_ipython_extension(shell): \n",
       "        unload_ipython_extension(shell)\n",
       "        shell.events.register('post_run_cell', post_run_cell)\n",
       "\n",
       "\n",
       "\n",
       "    import doctest, contextlib, mistune as markdown, re, ast, __main__, IPython, operator\n",
       "    shell = IPython.get_ipython()\n",
       "\n",
       "\n",
       "`test_markdown_string` extends the standard python `doctest` tools \n",
       "to inline code objects written in markdown.  \n",
       "This approach compliments are markdown forward programming language to test\n",
       "intertextual references between code and narrative.\n",
       "\n",
       "\n",
       "    INLINE = re.compile(\n",
       "        markdown.InlineGrammar.code\n",
       "        .pattern[1:]\n",
       "        .replace('[\\s\\S]*', '?P<source>[\\s\\S]+')\n",
       "        .replace('+)\\s*', '{1,2})(?P<indent>\\s{0})'), \n",
       "    )\n",
       "\n",
       "\n",
       "    (TICK,), SPACE = '`'.split(), ' '\n",
       "\n",
       "\n",
       "\n",
       "    import doctest\n",
       "\n",
       "\n",
       "\n",
       "    def test_markdown_string(str, shell=shell, verbose=False, compileflags=None):\n",
       "        globs, filename = shell.user_ns, F\"In[{shell.last_execution_result.execution_count}]\"\n",
       "        runner = doctest.DocTestRunner(verbose=verbose, optionflags=compileflags)  \n",
       "        parsers = DocTestParser(runner), InlineDoctestParser(runner)\n",
       "        parsers = {\n",
       "            parser: doctest.DocTestFinder(verbose, parser).find(str, filename) for parser in parsers\n",
       "        }\n",
       "        examples = sum([test.examples for x in parsers.values() for test in x], [])\n",
       "        examples.sort(key=operator.attrgetter('lineno'))\n",
       "        with ipython_compiler(shell):\n",
       "            for example in examples:\n",
       "                for parser, value in parsers.items():\n",
       "                    for value in value:\n",
       "                        if example in value.examples:\n",
       "                            with parser:\n",
       "                                runner.run(doctest.DocTest(\n",
       "                                    [example], globs, value.name, filename, example.lineno, value.docstring\n",
       "                                ), compileflags=compileflags, clear_globs=False)\n",
       "        shell.log.info(F\"In[{shell.last_execution_result.execution_count}]: {runner.summarize()}\")\n",
       "        return runner\n",
       "\n",
       "\n",
       "\n",
       "    @contextlib.contextmanager\n",
       "    def ipython_compiler(shell):\n",
       "        def compiler(input, filename, symbol, *args, **kwargs):\n",
       "            nonlocal shell\n",
       "            return shell.compile(\n",
       "                ast.Interactive(\n",
       "                    body=shell.transform_ast(\n",
       "                        shell.compile.ast_parse(shell.transform_cell(textwrap.indent(input, ' '*4)))\n",
       "                    ).body\n",
       "                ),\n",
       "                F\"In[{shell.last_execution_result.execution_count}]\",\n",
       "                \"single\",\n",
       "            )\n",
       "\n",
       "        yield setattr(doctest, \"compile\", compiler)\n",
       "        doctest.compile = compile\n",
       "\n"
      ],
      "text/plain": [
       "<IPython.core.display.Markdown object>"
      ]
     },
     "metadata": {
      "text/markdown": {
       "end_time": "2020-02-04T18:30:10.274304",
       "modules": [],
       "names": [],
       "start_time": "2020-02-04T18:30:10.158142"
      }
     },
     "output_type": "display_data"
    }
   ],
   "source": [
    "## testing `\"code\"` in the `markdown` narrative.\n",
    "[📔]({{pathlib.Path(testing.__file__).name}})\n",
    "\n",
    "{{appendix.exports(pidgy.tests.interactive)}}"
   ]
  },
  {
   "cell_type": "code",
   "execution_count": 11,
   "metadata": {
    "jupyter": {
     "source_hidden": true
    }
   },
   "outputs": [
    {
     "data": {
      "text/markdown": [
       "## Weaving the `markdown` to a rich display.\n",
       "[📗](outputs.md.ipynb)\n",
       "\n"
      ],
      "text/plain": [
       "<IPython.core.display.Markdown object>"
      ]
     },
     "metadata": {
      "text/markdown": {
       "end_time": "2020-02-04T18:30:10.445892",
       "modules": [],
       "names": [],
       "start_time": "2020-02-04T18:30:10.358817"
      }
     },
     "output_type": "display_data"
    }
   ],
   "source": [
    "## Weaving the `markdown` to a rich display.\n",
    "[📗]({{pathlib.Path(pidgy.outputs.__file__).name}})\n",
    "\n",
    "{{appendix.exports(pidgy.outputs)}}"
   ]
  },
  {
   "cell_type": "code",
   "execution_count": 12,
   "metadata": {
    "jupyter": {
     "source_hidden": true
    }
   },
   "outputs": [
    {
     "data": {
      "text/markdown": [
       "## `pidgy` metasyntax at language interfaces.\n",
       "[📗](test_pidgin_syntax.md.ipynb)\n",
       "\n",
       "The combinations of document, programming, and templating languages\n",
       "provides unique syntaxes as the interfaces.\n",
       "\n",
       "This is a code string\n",
       "\n",
       "\n",
       "\n",
       "\n",
       "`pidgy` programming is a `markdown`-forward approach to programming,\n",
       "it extends computational to interactive literate programming environment.\n",
       "One feature `markdown` uses to identify `markdown.BlockGrammar.block_code`\n",
       "is indented code.\n",
       "`pidgy` starts here, all cells are `markdown` forward, and code is identified as indented code.\n",
       "\n",
       "            \"This is a code string\"\n",
       "    \n",
       "\n",
       "\n",
       "\n",
       "### Code fences\n",
       "\n",
       "Some folks may prefer code fences and they may be used without a language specified.\n",
       "\n",
       "\n",
       "```\n",
       "\"This is code\"\n",
       "```\n",
       "\n",
       "```python\n",
       "\"This is not code.\"\n",
       "```\n",
       "\n",
       "\n",
       "\n",
       "    class DocStrings:\n",
       "### Docstrings\n",
       "\n",
       "\n",
       "    >>> assert DocStrings.__doc__.startswith('### Docstrings')\n",
       "    >>> DocStrings.function_docstring.__doc__\n",
       "    '`DocStrings.function_docstring`s appear as native docstrings, ...'\n",
       "\n",
       "\n",
       "        def function_docstring():\n",
       "`DocStrings.function_docstring`s appear as native docstrings, but render as `markdown`.\n",
       "            \n",
       "            ...\n",
       "\n",
       "    \n",
       "\n",
       "\n",
       "\n",
       "\n",
       "\n",
       "    import doctest\n",
       "### `doctest`\n",
       "\n",
       "    >>> assert True\n",
       "    >>> print\n",
       "    <built-in function print>\n",
       "    >>> pidgy\n",
       "    <module...__init__.py'>\n",
       "\n",
       "\n",
       "\n",
       "### templating\n",
       "\n",
       "filters\n",
       "jinja docs\n",
       "\n"
      ],
      "text/plain": [
       "<IPython.core.display.Markdown object>"
      ]
     },
     "metadata": {
      "text/markdown": {
       "end_time": "2020-02-04T18:30:10.673245",
       "modules": [],
       "names": [],
       "start_time": "2020-02-04T18:30:10.569125"
      }
     },
     "output_type": "display_data"
    }
   ],
   "source": [
    "## `pidgy` metasyntax at language interfaces.\n",
    "[📗]({{pathlib.Path(test_pidgin_syntax.__file__).name}})\n",
    "\n",
    "The combinations of document, programming, and templating languages\n",
    "provides unique syntaxes as the interfaces.\n",
    "\n",
    "{{appendix.exports(test_pidgin_syntax)}}"
   ]
  },
  {
   "cell_type": "code",
   "execution_count": 13,
   "metadata": {
    "jupyter": {
     "source_hidden": true
    }
   },
   "outputs": [
    {
     "name": "stdout",
     "output_type": "stream",
     "text": [
      "[NbConvertApp] Converting notebook paper.md.ipynb to markdown\n"
     ]
    }
   ],
   "source": [
    "    \n",
    "    if __name__ == '__main__':\n",
    "        !jupyter nbconvert --to markdown --TemplateExporter.exclude_input=True --stdout paper.md.ipynb > readme.md\n",
    "    ...;"
   ]
  },
  {
   "cell_type": "code",
   "execution_count": null,
   "metadata": {
    "collapsed": true,
    "jupyter": {
     "outputs_hidden": true,
     "source_hidden": true
    }
   },
   "outputs": [],
   "source": []
  }
 ],
 "metadata": {
  "kernelspec": {
   "display_name": "pidgy 3",
   "language": "python",
   "name": "pidgy"
  },
  "language_info": {
   "codemirror_mode": {
    "name": "ipython",
    "version": 3
   },
   "file_extension": ".py",
   "mimetype": "text/x-python",
   "name": "python",
   "nbconvert_exporter": "python",
   "pygments_lexer": "ipython3",
   "version": "3.7.3"
  }
 },
 "nbformat": 4,
 "nbformat_minor": 4
}
