{
 "cells": [
  {
   "cell_type": "code",
   "execution_count": 1,
   "metadata": {
    "jupyter": {
     "source_hidden": true
    }
   },
   "outputs": [],
   "source": [
    "    \n",
    "    import notebook, pidgy, pidgy as 🐦, mistune as markdown, doctest, jinja2 as template\n",
    "    from graphviz import Source as 🕸"
   ]
  },
  {
   "cell_type": "code",
   "execution_count": 44,
   "metadata": {
    "jupyter": {
     "source_hidden": true
    }
   },
   "outputs": [
    {
     "data": {
      "text/markdown": [
       "# `🐦, pidgy` programming\n",
       "\n",
       "An Literate Interactive Programming Read-Eval-Print-Loop for `notebook`s.\n",
       "\n",
       "1. Write input/output in `markdown`.\n",
       "2. Translate `markdown` to python and `exec`ute it.\n",
       "3. Test the `markdown` source.\n",
       "4. Display the input as formatted output.\n",
       "\n",
       "`pidgy` programming allows the codevelopment of documentation and code."
      ],
      "text/plain": [
       "<IPython.core.display.Markdown object>"
      ]
     },
     "metadata": {
      "text/markdown": {
       "end_time": "2020-02-06T18:29:55.484829",
       "modules": [],
       "names": [],
       "start_time": "2020-02-06T18:29:55.472937"
      }
     },
     "output_type": "display_data"
    }
   ],
   "source": [
    "# `🐦, pidgy` programming\n",
    "\n",
    "An Literate Interactive Programming Read-Eval-Print-Loop for `notebook`s.\n",
    "\n",
    "1. Write input/output in `markdown`.\n",
    "2. Translate `markdown` to python and `exec`ute it.\n",
    "3. Test the `markdown` source.\n",
    "4. Display the input as formatted output.\n",
    "\n",
    "`pidgy` programming allows the codevelopment of documentation and code."
   ]
  },
  {
   "cell_type": "code",
   "execution_count": 31,
   "metadata": {
    "jupyter": {
     "source_hidden": true
    }
   },
   "outputs": [
    {
     "data": {
      "text/markdown": [
       "> ## I opened up a `notebook` to test an idea?\n",
       "\n",
       "> ### Can I test your test?\n",
       "\n",
       "> ## nah.\n",
       "\n",
       "> ### WTF."
      ],
      "text/plain": [
       "<IPython.core.display.Markdown object>"
      ]
     },
     "metadata": {
      "text/markdown": {
       "end_time": "2020-02-06T18:02:11.100818",
       "modules": [],
       "names": [],
       "start_time": "2020-02-06T18:02:11.096347"
      }
     },
     "output_type": "display_data"
    }
   ],
   "source": [
    "> ## I opened up a `notebook` to test an idea?\n",
    "\n",
    "> ### Can I test your test?\n",
    "\n",
    "> ## nah.\n",
    "\n",
    "> ### WTF."
   ]
  },
  {
   "cell_type": "code",
   "execution_count": 32,
   "metadata": {
    "jupyter": {
     "source_hidden": true
    }
   },
   "outputs": [
    {
     "data": {
      "text/markdown": [
       "# How can `notebook`s mature as tests?\n",
       "\n",
       "    🕸('digraph {rankdir=LR informal->formal->{doctest unittest} doctest->{document strings} label=testing}')\n",
       "    \n",
       "There are quite a few testing styles developers may choose."
      ],
      "text/plain": [
       "<IPython.core.display.Markdown object>"
      ]
     },
     "metadata": {
      "text/markdown": {
       "end_time": "2020-02-06T18:02:11.266938",
       "modules": [],
       "names": [],
       "start_time": "2020-02-06T18:02:11.262889"
      }
     },
     "output_type": "display_data"
    }
   ],
   "source": [
    "# How can `notebook`s mature as tests?\n",
    "\n",
    "    🕸('digraph {rankdir=LR informal->formal->{doctest unittest} doctest->{document strings} label=testing}')\n",
    "    \n",
    "There are quite a few testing styles developers may choose."
   ]
  },
  {
   "cell_type": "code",
   "execution_count": 33,
   "metadata": {
    "jupyter": {
     "source_hidden": true
    }
   },
   "outputs": [
    {
     "data": {
      "text/markdown": [
       "## Literate Programming\n",
       "\n",
       "* In literate programming, our primary goal is literary excellence,\n",
       "and natural and programming languages have equity within a document.\n",
       "* In 1979, Donald Knuth developed [literate programming] as documentation.\n",
       "This style of programming preceeded modern collaborative software development\n",
       "tools.\n",
       "* `pidgy` is a modern interpretation of literate programming\n",
       "designed authors who must use code to occupy the voids in language\n",
       "to communicate logic."
      ],
      "text/plain": [
       "<IPython.core.display.Markdown object>"
      ]
     },
     "metadata": {
      "text/markdown": {
       "end_time": "2020-02-06T18:02:11.421713",
       "modules": [],
       "names": [],
       "start_time": "2020-02-06T18:02:11.417180"
      }
     },
     "output_type": "display_data"
    }
   ],
   "source": [
    "## Literate Programming\n",
    "\n",
    "* In literate programming, our primary goal is literary excellence,\n",
    "and natural and programming languages have equity within a document.\n",
    "* In 1979, Donald Knuth developed [literate programming] as documentation.\n",
    "This style of programming preceeded modern collaborative software development\n",
    "tools.\n",
    "* `pidgy` is a modern interpretation of literate programming\n",
    "designed authors who must use code to occupy the voids in language\n",
    "to communicate logic."
   ]
  },
  {
   "cell_type": "code",
   "execution_count": 34,
   "metadata": {
    "jupyter": {
     "source_hidden": true
    }
   },
   "outputs": [
    {
     "data": {
      "text/markdown": [
       "## `doctest`s\n",
       "\n",
       "    >>> assert True\n",
       "    \n",
       "### \"`doctest`\" `notebook`\n",
       "\n",
       "> Can we verify the output against an `input` for a notebook?\n",
       "\n",
       "    \n",
       "## formal testing discovery\n",
       "\n",
       "    def test_me():\n",
       "The `test_me` function is named so that `\"pytest\"` can discover the test.\n",
       "    \n",
       "    import unittest\n",
       "    \n",
       "    class TestJawn(unittest.TestCase):\n",
       "        def test_this(self):\n",
       "            assert True"
      ],
      "text/plain": [
       "<IPython.core.display.Markdown object>"
      ]
     },
     "metadata": {
      "text/markdown": {
       "end_time": "2020-02-06T18:02:12.069238",
       "modules": [],
       "names": [],
       "start_time": "2020-02-06T18:02:12.056948"
      }
     },
     "output_type": "display_data"
    }
   ],
   "source": [
    "## `doctest`s\n",
    "\n",
    "    >>> assert True\n",
    "    \n",
    "### \"`doctest`\" `notebook`\n",
    "\n",
    "> Can we verify the output against an `input` for a notebook?\n",
    "\n",
    "    \n",
    "## formal testing discovery\n",
    "\n",
    "    def test_me():\n",
    "The `test_me` function is named so that `\"pytest\"` can discover the test.\n",
    "    \n",
    "    import unittest\n",
    "    \n",
    "    class TestJawn(unittest.TestCase):\n",
    "        def test_this(self):\n",
    "            assert True"
   ]
  },
  {
   "cell_type": "code",
   "execution_count": 35,
   "metadata": {
    "jupyter": {
     "source_hidden": true
    }
   },
   "outputs": [],
   "source": [
    "\n",
    "`pidgy` leverages `\"pytest\"` to perform multiple formal \n",
    "testing practices to measure the veracity of the\n",
    "computational logic in the narrative."
   ]
  },
  {
   "cell_type": "code",
   "execution_count": 36,
   "metadata": {
    "jupyter": {
     "source_hidden": true
    }
   },
   "outputs": [
    {
     "data": {
      "text/markdown": [
       "## Beyond testing.\n",
       "\n",
       "* Syntax\n",
       "* Exporting documents.\n",
       "* TOC"
      ],
      "text/plain": [
       "<IPython.core.display.Markdown object>"
      ]
     },
     "metadata": {
      "text/markdown": {
       "end_time": "2020-02-06T18:02:12.810943",
       "modules": [],
       "names": [],
       "start_time": "2020-02-06T18:02:12.808998"
      }
     },
     "output_type": "display_data"
    }
   ],
   "source": [
    "## Beyond testing.\n",
    "\n",
    "* Syntax\n",
    "* Exporting documents.\n",
    "* TOC"
   ]
  },
  {
   "cell_type": "code",
   "execution_count": 37,
   "metadata": {
    "jupyter": {
     "source_hidden": true
    }
   },
   "outputs": [
    {
     "data": {
      "text/markdown": [
       "## `pidgy` metasyntax\n",
       "\n",
       "`pidgy` translates, line-for-line, `markdown` in to python. \n",
       "Consequently some metasyntaxes arise \n",
       "\n",
       "    var=\\\n",
       "I'm a variable!\n",
       "    \n",
       "    s= F\"\"\"\n",
       "This is __{var}__\n",
       "\n",
       "    \"\"\"\n",
       "    def pure_markdown_docstrings():\n",
       "Docstrings are rendered in pretty `markdown`.\n",
       "\n",
       "        ...\n",
       "\n",
       "&nbsp;\n",
       "\n",
       "    >>> pure_markdown_docstrings.__doc__.strip()\n",
       "    'Docstrings are rendered in pretty `markdown`.'\n"
      ],
      "text/plain": [
       "<IPython.core.display.Markdown object>"
      ]
     },
     "metadata": {
      "text/markdown": {
       "end_time": "2020-02-06T18:02:12.989483",
       "modules": [],
       "names": [],
       "start_time": "2020-02-06T18:02:12.977607"
      }
     },
     "output_type": "display_data"
    }
   ],
   "source": [
    "## `pidgy` metasyntax\n",
    "\n",
    "`pidgy` translates, line-for-line, `markdown` in to python. \n",
    "Consequently some metasyntaxes arise \n",
    "\n",
    "    var=\\\n",
    "I'm a variable!\n",
    "    \n",
    "    s= F\"\"\"\n",
    "This is __{var}__\n",
    "\n",
    "    \"\"\"\n",
    "    def pure_markdown_docstrings():\n",
    "Docstrings are rendered in pretty `markdown`.\n",
    "\n",
    "        ...\n",
    "\n",
    "&nbsp;\n",
    "\n",
    "    >>> pure_markdown_docstrings.__doc__.strip()\n",
    "    'Docstrings are rendered in pretty `markdown`.'\n",
    "\n"
   ]
  },
  {
   "cell_type": "code",
   "execution_count": 38,
   "metadata": {
    "jupyter": {
     "source_hidden": true
    }
   },
   "outputs": [
    {
     "data": {
      "text/markdown": [
       "## transclusion\n",
       "\n",
       "        >>> import lightning\n",
       "    \n",
       "* `pidgy` docs can be imported\n",
       "\n",
       "        >>> assert lightning.__file__.endswith('.md.ipynb')\n",
       "    \n",
       "* `markdown` cells accept `template` syntax."
      ],
      "text/plain": [
       "<IPython.core.display.Markdown object>"
      ]
     },
     "metadata": {
      "text/markdown": {
       "end_time": "2020-02-06T18:02:13.521871",
       "modules": [],
       "names": [],
       "start_time": "2020-02-06T18:02:13.509499"
      }
     },
     "output_type": "display_data"
    }
   ],
   "source": [
    "## transclusion\n",
    "\n",
    "        >>> import lightning\n",
    "    \n",
    "* `pidgy` docs can be imported\n",
    "\n",
    "        >>> assert lightning.__file__.endswith('.md.ipynb')\n",
    "    \n",
    "* `markdown` cells accept `template` syntax."
   ]
  },
  {
   "cell_type": "code",
   "execution_count": 39,
   "metadata": {
    "jupyter": {
     "source_hidden": true
    }
   },
   "outputs": [
    {
     "data": {
      "text/markdown": [
       "    import pandas as 🐼\n",
       "    \n",
       "<table border=\"1\" class=\"dataframe\">\n",
       "  <thead>\n",
       "    <tr style=\"text-align: right;\">\n",
       "      <th></th>\n",
       "      <th>ldieStEh3t</th>\n",
       "      <th>Nr9925bGCD</th>\n",
       "      <th>roRLLLlKgf</th>\n",
       "      <th>7bORvojhdM</th>\n",
       "      <th>5wLVC4Ru5g</th>\n",
       "      <th>tXwSN4uJkC</th>\n",
       "      <th>ooHCYvBmdu</th>\n",
       "      <th>22sWZJDcDt</th>\n",
       "      <th>ZM7veTwTd3</th>\n",
       "      <th>QpVSTOAU39</th>\n",
       "      <th>4GtKi8SwQp</th>\n",
       "      <th>O5R63vmbTy</th>\n",
       "      <th>gl5XxJTIlB</th>\n",
       "      <th>0I9zioFgK5</th>\n",
       "      <th>UwG48zagw1</th>\n",
       "      <th>6k3a2w6LfE</th>\n",
       "      <th>qEd5hA4giN</th>\n",
       "      <th>mKqvw8qZTe</th>\n",
       "      <th>DpPmL9IuSh</th>\n",
       "      <th>cXdln39pOQ</th>\n",
       "      <th>HCOfYFlv6O</th>\n",
       "      <th>M56ioEOcm7</th>\n",
       "      <th>q7aTA57AN9</th>\n",
       "      <th>o63LfCFlN9</th>\n",
       "      <th>cCy69nnagR</th>\n",
       "      <th>QBkCAtq7xM</th>\n",
       "      <th>F9XyLdITLg</th>\n",
       "      <th>f7YkzePnP1</th>\n",
       "      <th>5G5W1WbmxO</th>\n",
       "      <th>C7jBCbkiYZ</th>\n",
       "    </tr>\n",
       "  </thead>\n",
       "  <tbody>\n",
       "    <tr>\n",
       "      <th>A</th>\n",
       "      <td>-0.186977</td>\n",
       "      <td>-0.901499</td>\n",
       "      <td>-0.553397</td>\n",
       "      <td>-0.589433</td>\n",
       "      <td>-0.031113</td>\n",
       "      <td>0.074377</td>\n",
       "      <td>0.562878</td>\n",
       "      <td>-0.324411</td>\n",
       "      <td>1.145632</td>\n",
       "      <td>-0.638225</td>\n",
       "      <td>0.847846</td>\n",
       "      <td>0.427795</td>\n",
       "      <td>-0.106252</td>\n",
       "      <td>-0.378455</td>\n",
       "      <td>-0.051684</td>\n",
       "      <td>0.144940</td>\n",
       "      <td>-0.746007</td>\n",
       "      <td>0.113441</td>\n",
       "      <td>0.031934</td>\n",
       "      <td>-0.355853</td>\n",
       "      <td>-0.690938</td>\n",
       "      <td>0.655750</td>\n",
       "      <td>0.015597</td>\n",
       "      <td>-0.160257</td>\n",
       "      <td>0.044270</td>\n",
       "      <td>-1.315743</td>\n",
       "      <td>-0.406241</td>\n",
       "      <td>-0.370386</td>\n",
       "      <td>-1.200540</td>\n",
       "      <td>1.132619</td>\n",
       "    </tr>\n",
       "    <tr>\n",
       "      <th>B</th>\n",
       "      <td>0.048043</td>\n",
       "      <td>-1.243961</td>\n",
       "      <td>-0.613704</td>\n",
       "      <td>-0.899122</td>\n",
       "      <td>-1.035808</td>\n",
       "      <td>0.004216</td>\n",
       "      <td>0.996499</td>\n",
       "      <td>0.261753</td>\n",
       "      <td>-1.278597</td>\n",
       "      <td>-1.525640</td>\n",
       "      <td>-0.966597</td>\n",
       "      <td>1.574932</td>\n",
       "      <td>-0.524629</td>\n",
       "      <td>1.002801</td>\n",
       "      <td>-1.088766</td>\n",
       "      <td>-0.764506</td>\n",
       "      <td>0.010981</td>\n",
       "      <td>-0.667469</td>\n",
       "      <td>-0.134194</td>\n",
       "      <td>1.307660</td>\n",
       "      <td>1.617568</td>\n",
       "      <td>-0.977806</td>\n",
       "      <td>0.134374</td>\n",
       "      <td>0.457233</td>\n",
       "      <td>0.583401</td>\n",
       "      <td>1.091469</td>\n",
       "      <td>1.085368</td>\n",
       "      <td>-0.500748</td>\n",
       "      <td>0.302194</td>\n",
       "      <td>-0.498773</td>\n",
       "    </tr>\n",
       "    <tr>\n",
       "      <th>C</th>\n",
       "      <td>1.067270</td>\n",
       "      <td>1.628002</td>\n",
       "      <td>-0.352056</td>\n",
       "      <td>0.651464</td>\n",
       "      <td>-0.505376</td>\n",
       "      <td>1.774660</td>\n",
       "      <td>-1.192964</td>\n",
       "      <td>1.077630</td>\n",
       "      <td>1.370209</td>\n",
       "      <td>-0.016742</td>\n",
       "      <td>0.108484</td>\n",
       "      <td>-0.349610</td>\n",
       "      <td>-0.674740</td>\n",
       "      <td>0.875845</td>\n",
       "      <td>-0.326181</td>\n",
       "      <td>1.656421</td>\n",
       "      <td>-0.629146</td>\n",
       "      <td>-0.255456</td>\n",
       "      <td>0.346669</td>\n",
       "      <td>0.456057</td>\n",
       "      <td>-1.124657</td>\n",
       "      <td>-1.281050</td>\n",
       "      <td>2.073111</td>\n",
       "      <td>1.622716</td>\n",
       "      <td>0.779557</td>\n",
       "      <td>-0.853225</td>\n",
       "      <td>0.486689</td>\n",
       "      <td>-0.004987</td>\n",
       "      <td>-0.848137</td>\n",
       "      <td>-0.466808</td>\n",
       "    </tr>\n",
       "    <tr>\n",
       "      <th>D</th>\n",
       "      <td>0.752332</td>\n",
       "      <td>0.654862</td>\n",
       "      <td>-0.531481</td>\n",
       "      <td>-0.178192</td>\n",
       "      <td>0.397444</td>\n",
       "      <td>-0.134805</td>\n",
       "      <td>-0.386292</td>\n",
       "      <td>0.141000</td>\n",
       "      <td>0.344448</td>\n",
       "      <td>-0.730865</td>\n",
       "      <td>1.266029</td>\n",
       "      <td>-0.702947</td>\n",
       "      <td>0.432157</td>\n",
       "      <td>0.108066</td>\n",
       "      <td>0.256062</td>\n",
       "      <td>0.510436</td>\n",
       "      <td>-1.208983</td>\n",
       "      <td>-1.322144</td>\n",
       "      <td>-0.473121</td>\n",
       "      <td>0.427217</td>\n",
       "      <td>0.740910</td>\n",
       "      <td>-0.223763</td>\n",
       "      <td>-0.004511</td>\n",
       "      <td>-1.189014</td>\n",
       "      <td>1.237241</td>\n",
       "      <td>3.052194</td>\n",
       "      <td>-1.461813</td>\n",
       "      <td>-0.015674</td>\n",
       "      <td>-0.558500</td>\n",
       "      <td>-1.351105</td>\n",
       "    </tr>\n",
       "  </tbody>\n",
       "</table>"
      ],
      "text/plain": [
       "<IPython.core.display.Markdown object>"
      ]
     },
     "metadata": {
      "text/markdown": {
       "end_time": "2020-02-06T18:02:13.863890",
       "modules": [],
       "names": [],
       "start_time": "2020-02-06T18:02:13.849433"
      }
     },
     "output_type": "display_data"
    }
   ],
   "source": [
    "    import pandas as 🐼\n",
    "    \n",
    "{{_panda_face_.util.testing.makeDataFrame().T.to_html()}}"
   ]
  },
  {
   "cell_type": "code",
   "execution_count": null,
   "metadata": {
    "jupyter": {
     "source_hidden": true
    }
   },
   "outputs": [],
   "source": []
  },
  {
   "cell_type": "code",
   "execution_count": 40,
   "metadata": {
    "jupyter": {
     "source_hidden": true
    }
   },
   "outputs": [
    {
     "name": "stdout",
     "output_type": "stream",
     "text": [
      "\u001b[1m============================= test session starts ==============================\u001b[0m\n",
      "platform darwin -- Python 3.7.3, pytest-5.1.2, py-1.8.0, pluggy-0.13.0\n",
      "hypothesis profile 'default' -> database=DirectoryBasedExampleDatabase('/Users/tonyfast/pidgin/docs/.hypothesis/examples')\n",
      "rootdir: /Users/tonyfast/pidgin\n",
      "plugins: hypothesis-4.36.2, importnb-0.6.0, nbval-0.9.2, black-0.3.7, cov-2.8.1, pylint-0.14.1, xonsh-0.9.11, pidgy-0.2.0\n",
      "collected 18 items                                                             \u001b[0m\u001b[1m\n",
      "<pidgyModule docs/lightning.md.ipynb>\n",
      "  <Function test_me>\n",
      "  <UnitTestCase TestJawn>\n",
      "    <TestCaseFunction test_this>\n",
      "  <DoctestItem lightning.md.__test__.string-244>\n",
      "  <DoctestItem lightning.md.__test__.string-374>\n",
      "  <DoctestItem lightning.md.__test__.string-421>\n",
      "<IPyNbFile docs/lightning.md.ipynb>\n",
      "  <IPyNbCell Cell 0>\n",
      "  <IPyNbCell Cell 1>\n",
      "  <IPyNbCell Cell 2>\n",
      "  <IPyNbCell Cell 3>\n",
      "  <IPyNbCell Cell 4>\n",
      "  <IPyNbCell Cell 5>\n",
      "  <IPyNbCell Cell 6>\n",
      "  <IPyNbCell Cell 7>\n",
      "  <IPyNbCell Cell 8>\n",
      "  <IPyNbCell Cell 9>\n",
      "  <IPyNbCell Cell 10>\n",
      "  <IPyNbCell Cell 11>\n",
      "  <IPyNbCell Cell 12>\n",
      "\n",
      "\u001b[33m=============================== warnings summary ===============================\u001b[0m\n",
      "<input>:2\n",
      "<input>:2\n",
      "<input>:2\n",
      "<input>:2\n",
      "<input>:2\n",
      "<input>:2\n",
      "  <input>:2: DeprecationWarning: invalid escape sequence \\s\n",
      "\n",
      "/Users/tonyfast/pidgin/pidgy/translate.ipynb:699\n",
      "  /Users/tonyfast/pidgin/pidgy/translate.ipynb:699: DeprecationWarning: invalid escape sequence \\s\n",
      "    WHITESPACE = re.compile('^\\s*', re.MULTILINE)\n",
      "\n",
      "/Users/tonyfast/anaconda3/lib/python3.7/site-packages/jinja2/utils.py:485\n",
      "  /Users/tonyfast/anaconda3/lib/python3.7/site-packages/jinja2/utils.py:485: DeprecationWarning: Using or importing the ABCs from 'collections' instead of from 'collections.abc' is deprecated, and in 3.8 it will stop working\n",
      "    from collections import MutableMapping\n",
      "\n",
      "-- Docs: https://docs.pytest.org/en/latest/warnings.html\n",
      "\u001b[33m\u001b[1m============================= 8 warnings in 0.79s ==============================\u001b[0m\n"
     ]
    },
    {
     "data": {
      "text/plain": [
       "Ellipsis"
      ]
     },
     "execution_count": 40,
     "metadata": {},
     "output_type": "execute_result"
    },
    {
     "data": {
      "text/markdown": [
       "    if __name__ == '__main__' and 'pytest' not in __import__('sys').modules:\n",
       "       !pytest --nbval --doctest-modules --collect-only lightning.md.ipynb \n",
       "    ..."
      ],
      "text/plain": [
       "<IPython.core.display.Markdown object>"
      ]
     },
     "metadata": {
      "text/markdown": {
       "end_time": "2020-02-06T18:02:18.276677",
       "modules": [],
       "names": [],
       "start_time": "2020-02-06T18:02:15.641919"
      }
     },
     "output_type": "display_data"
    }
   ],
   "source": [
    "    if __name__ == '__main__' and 'pytest' not in __import__('sys').modules:\n",
    "       !pytest --nbval --doctest-modules --collect-only lightning.md.ipynb \n",
    "    ..."
   ]
  },
  {
   "cell_type": "code",
   "execution_count": 47,
   "metadata": {},
   "outputs": [
    {
     "data": {
      "text/markdown": [
       "## Benefits of `pidgy`\n",
       "\n",
       "* The `notebook` interface becomes a crappy word processor instead of a crappy IDE.\n",
       "* Documentation and code are emergent.\n",
       "* `pidgy` notebooks, with the `\".md.ipynb\"` extension, can mature to documentation, tests, or source code.\n",
       "* Non-programmers can contribute to `\"coded\"` narratives.\n",
       "* `pidgy` documents can build `\"python\"`.\n",
       "* The specification could be generally applied to other programming languages using different \n",
       "translation heuristics."
      ],
      "text/plain": [
       "<IPython.core.display.Markdown object>"
      ]
     },
     "metadata": {
      "text/markdown": {
       "end_time": "2020-02-06T18:31:37.517066",
       "modules": [],
       "names": [],
       "start_time": "2020-02-06T18:31:37.505252"
      }
     },
     "output_type": "display_data"
    }
   ],
   "source": [
    "## Benefits of `pidgy`\n",
    "\n",
    "* The `notebook` interface becomes a crappy word processor instead of a crappy IDE.\n",
    "* Documentation and code are emergent.\n",
    "* `pidgy` notebooks, with the `\".md.ipynb\"` extension, can mature to documentation, tests, or source code.\n",
    "* Non-programmers can contribute to `\"coded\"` narratives.\n",
    "* `pidgy` documents can build `\"python\"`.\n",
    "* The specification could be generally applied to other programming languages using different \n",
    "translation heuristics."
   ]
  },
  {
   "cell_type": "code",
   "execution_count": null,
   "metadata": {
    "jupyter": {
     "source_hidden": true
    }
   },
   "outputs": [],
   "source": []
  }
 ],
 "metadata": {
  "kernelspec": {
   "display_name": "pidgy 3",
   "language": "python",
   "name": "pidgy"
  },
  "language_info": {
   "codemirror_mode": {
    "name": "ipython",
    "version": 3
   },
   "file_extension": ".py",
   "mimetype": "text/x-python",
   "name": "python",
   "nbconvert_exporter": "python",
   "pygments_lexer": "ipython3",
   "version": "3.7.3"
  }
 },
 "nbformat": 4,
 "nbformat_minor": 4
}
