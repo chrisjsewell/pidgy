{
 "cells": [
  {
   "cell_type": "code",
   "execution_count": 1,
   "metadata": {},
   "outputs": [],
   "source": [
    "    \n",
    "    import mistune as markdown, IPython as python, pidgy\n",
    "Cells starting with a blank line are not displayed."
   ]
  },
  {
   "cell_type": "code",
   "execution_count": 2,
   "metadata": {},
   "outputs": [
    {
     "data": {
      "text/markdown": [
       "All indented code markdown blocks are executed as code"
      ],
      "text/plain": [
       "'All indented code markdown blocks are executed as code'"
      ]
     },
     "execution_count": 2,
     "metadata": {},
     "output_type": "execute_result"
    },
    {
     "data": {
      "text/markdown": [
       "`pidgy` is programming in markdown.\n",
       "\n",
       "    \"All indented code markdown blocks are executed as code\""
      ],
      "text/plain": [
       "<IPython.core.display.Markdown object>"
      ]
     },
     "metadata": {
      "text/markdown": {
       "cellId": "0374e858-98d9-4de2-a645-4660dd6fc4a2",
       "deletedCells": [],
       "end_at": "2020-02-17T20:16:00.789692",
       "modules": [],
       "names": [],
       "sessionId": "21f07a9d9e85c1f2a77cca3b18df2e11a081eb3a7f4c241331d1f407dfdda89e",
       "start_at": "2020-02-17T20:16:00.782000+00:00"
      }
     },
     "output_type": "display_data"
    }
   ],
   "source": [
    "`pidgy` is programming in markdown.\n",
    "\n",
    "    \"All indented code markdown blocks are executed as code\""
   ]
  },
  {
   "cell_type": "code",
   "execution_count": 3,
   "metadata": {},
   "outputs": [
    {
     "data": {
      "text/markdown": [
       "This is a code string"
      ],
      "text/plain": [
       "'This is a code string'"
      ]
     },
     "execution_count": 3,
     "metadata": {},
     "output_type": "execute_result"
    },
    {
     "data": {
      "text/markdown": [
       "`pidgy` programming is a `markdown`-forward approach to programming,\n",
       "it extends computational to interactive literate programming environment.\n",
       "One feature `markdown` uses to identify `markdown.BlockGrammar.block_code`\n",
       "is indented code.\n",
       "`pidgy` starts here, all cells are `markdown` forward, and code is identified as indented code.\n",
       "\n",
       "            \"This is a code string\"\n",
       "    "
      ],
      "text/plain": [
       "<IPython.core.display.Markdown object>"
      ]
     },
     "metadata": {
      "text/markdown": {
       "cellId": "8b0eca27-37db-425a-ba97-9bea8d0178e2",
       "deletedCells": [],
       "end_at": "2020-02-17T20:16:00.965245",
       "modules": [],
       "names": [],
       "sessionId": "21f07a9d9e85c1f2a77cca3b18df2e11a081eb3a7f4c241331d1f407dfdda89e",
       "start_at": "2020-02-17T20:16:00.958000+00:00"
      }
     },
     "output_type": "display_data"
    }
   ],
   "source": [
    "`pidgy` programming is a `markdown`-forward approach to programming,\n",
    "it extends computational to interactive literate programming environment.\n",
    "One feature `markdown` uses to identify `markdown.BlockGrammar.block_code`\n",
    "is indented code.\n",
    "`pidgy` starts here, all cells are `markdown` forward, and code is identified as indented code.\n",
    "\n",
    "            \"This is a code string\"\n",
    "    "
   ]
  },
  {
   "cell_type": "code",
   "execution_count": 4,
   "metadata": {},
   "outputs": [
    {
     "data": {
      "text/markdown": [
       "### Code fences\n",
       "\n",
       "Some folks may prefer code fences and they may be used without a language specified.\n",
       "\n",
       "\n",
       "```\n",
       "\"This is code\"\n",
       "```\n",
       "\n",
       "```python\n",
       "\"This is not code.\"\n",
       "```"
      ],
      "text/plain": [
       "<IPython.core.display.Markdown object>"
      ]
     },
     "metadata": {
      "text/markdown": {
       "cellId": "5298d34c-4f80-482b-9eb5-1cf9fee3da49",
       "deletedCells": [],
       "end_at": "2020-02-17T20:16:01.115882",
       "modules": [],
       "names": [],
       "sessionId": "21f07a9d9e85c1f2a77cca3b18df2e11a081eb3a7f4c241331d1f407dfdda89e",
       "start_at": "2020-02-17T20:16:01.110000+00:00"
      }
     },
     "output_type": "display_data"
    }
   ],
   "source": [
    "### Code fences\n",
    "\n",
    "Some folks may prefer code fences and they may be used without a language specified.\n",
    "\n",
    "\n",
    "```\n",
    "\"This is code\"\n",
    "```\n",
    "\n",
    "```python\n",
    "\"This is not code.\"\n",
    "```"
   ]
  },
  {
   "cell_type": "code",
   "execution_count": 5,
   "metadata": {},
   "outputs": [
    {
     "data": {
      "text/markdown": [
       "    class DocStrings:\n",
       "### Docstrings\n",
       "\n",
       "\n",
       "    >>> assert DocStrings.__doc__.startswith('### Docstrings')\n",
       "    >>> DocStrings.function_docstring.__doc__\n",
       "    '`DocStrings.function_docstring`s appear as native docstrings, ...'\n",
       "\n",
       "\n",
       "        def function_docstring():\n",
       "`DocStrings.function_docstring`s appear as native docstrings, but render as `markdown`.\n",
       "            \n",
       "            ...\n",
       "\n",
       "    \n"
      ],
      "text/plain": [
       "<IPython.core.display.Markdown object>"
      ]
     },
     "metadata": {
      "text/markdown": {
       "cellId": "ead2cfa0-4a31-463d-bd80-37cef99beca0",
       "deletedCells": [],
       "end_at": "2020-02-17T20:16:01.800986",
       "modules": [
        "readline"
       ],
       "names": [],
       "sessionId": "21f07a9d9e85c1f2a77cca3b18df2e11a081eb3a7f4c241331d1f407dfdda89e",
       "start_at": "2020-02-17T20:16:01.790000+00:00"
      }
     },
     "output_type": "display_data"
    }
   ],
   "source": [
    "    class DocStrings:\n",
    "### Docstrings\n",
    "\n",
    "\n",
    "    >>> assert DocStrings.__doc__.startswith('### Docstrings')\n",
    "    >>> DocStrings.function_docstring.__doc__\n",
    "    '`DocStrings.function_docstring`s appear as native docstrings, ...'\n",
    "\n",
    "\n",
    "        def function_docstring():\n",
    "`DocStrings.function_docstring`s appear as native docstrings, but render as `markdown`.\n",
    "            \n",
    "            ...\n",
    "\n",
    "    \n",
    "\n",
    "\n"
   ]
  },
  {
   "cell_type": "code",
   "execution_count": 6,
   "metadata": {},
   "outputs": [
    {
     "data": {
      "text/markdown": [
       "    import doctest\n",
       "### `doctest`\n",
       "\n",
       "    >>> assert True\n",
       "    >>> print\n",
       "    <built-in function print>\n",
       "    >>> pidgy\n",
       "    <module...__init__.py'>"
      ],
      "text/plain": [
       "<IPython.core.display.Markdown object>"
      ]
     },
     "metadata": {
      "text/markdown": {
       "cellId": "cb305ce7-dfbb-4400-8a39-9707e2a7964c",
       "deletedCells": [],
       "end_at": "2020-02-17T20:16:02.501532",
       "modules": [],
       "names": [
        "doctest"
       ],
       "sessionId": "21f07a9d9e85c1f2a77cca3b18df2e11a081eb3a7f4c241331d1f407dfdda89e",
       "start_at": "2020-02-17T20:16:02.494000+00:00"
      }
     },
     "output_type": "display_data"
    }
   ],
   "source": [
    "    import doctest\n",
    "### `doctest`\n",
    "\n",
    "    >>> assert True\n",
    "    >>> print\n",
    "    <built-in function print>\n",
    "    >>> pidgy\n",
    "    <module...__init__.py'>\n"
   ]
  },
  {
   "cell_type": "code",
   "execution_count": 7,
   "metadata": {},
   "outputs": [
    {
     "data": {
      "text/markdown": [
       "### templating\n",
       "\n",
       "filters\n",
       "jinja docs"
      ],
      "text/plain": [
       "<IPython.core.display.Markdown object>"
      ]
     },
     "metadata": {
      "text/markdown": {
       "cellId": "eae666c8-4429-4e6f-9ab2-29b53ff147c0",
       "deletedCells": [],
       "end_at": "2020-02-17T20:16:03.154148",
       "modules": [],
       "names": [],
       "sessionId": "21f07a9d9e85c1f2a77cca3b18df2e11a081eb3a7f4c241331d1f407dfdda89e",
       "start_at": "2020-02-17T20:16:03.149000+00:00"
      }
     },
     "output_type": "display_data"
    }
   ],
   "source": [
    "### templating\n",
    "\n",
    "filters\n",
    "jinja docs"
   ]
  }
 ],
 "metadata": {
  "kernelspec": {
   "display_name": "pidgy 3",
   "language": "python",
   "name": "pidgy"
  },
  "language_info": {
   "codemirror_mode": {
    "name": "ipython",
    "version": 3
   },
   "file_extension": ".py",
   "mimetype": "text/x-python",
   "name": "python",
   "nbconvert_exporter": "python",
   "pygments_lexer": "ipython3",
   "version": "3.7.3"
  }
 },
 "nbformat": 4,
 "nbformat_minor": 4
}
