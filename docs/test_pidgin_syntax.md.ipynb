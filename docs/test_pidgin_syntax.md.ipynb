{
 "cells": [
  {
   "cell_type": "code",
   "execution_count": 7,
   "metadata": {},
   "outputs": [
    {
     "data": {
      "text/markdown": [
       "    import mistune as markdown, IPython as python, pidgy"
      ],
      "text/plain": [
       "<IPython.core.display.Markdown object>"
      ]
     },
     "metadata": {
      "text/markdown": {
       "end_time": "2020-02-11T23:23:08.717405",
       "modules": [],
       "names": [],
       "start_time": "2020-02-11T23:23:08.715681"
      }
     },
     "output_type": "display_data"
    }
   ],
   "source": [
    "    import mistune as markdown, IPython as python, pidgy"
   ]
  },
  {
   "cell_type": "code",
   "execution_count": 8,
   "metadata": {},
   "outputs": [
    {
     "data": {
      "text/markdown": [
       "This is a code string"
      ],
      "text/plain": [
       "'This is a code string'"
      ]
     },
     "execution_count": 8,
     "metadata": {},
     "output_type": "execute_result"
    },
    {
     "data": {
      "text/markdown": [
       "`pidgy` programming is a `markdown`-forward approach to programming,\n",
       "it extends computational to interactive literate programming environment.\n",
       "One feature `markdown` uses to identify `markdown.BlockGrammar.block_code`\n",
       "is indented code.\n",
       "`pidgy` starts here, all cells are `markdown` forward, and code is identified as indented code.\n",
       "\n",
       "            \"This is a code string\"\n",
       "    "
      ],
      "text/plain": [
       "<IPython.core.display.Markdown object>"
      ]
     },
     "metadata": {
      "text/markdown": {
       "end_time": "2020-02-11T23:23:09.418701",
       "modules": [],
       "names": [],
       "start_time": "2020-02-11T23:23:09.408213"
      }
     },
     "output_type": "display_data"
    }
   ],
   "source": [
    "`pidgy` programming is a `markdown`-forward approach to programming,\n",
    "it extends computational to interactive literate programming environment.\n",
    "One feature `markdown` uses to identify `markdown.BlockGrammar.block_code`\n",
    "is indented code.\n",
    "`pidgy` starts here, all cells are `markdown` forward, and code is identified as indented code.\n",
    "\n",
    "            \"This is a code string\"\n",
    "    "
   ]
  },
  {
   "cell_type": "code",
   "execution_count": 9,
   "metadata": {},
   "outputs": [
    {
     "data": {
      "text/markdown": [
       "### Code fences\n",
       "\n",
       "Some folks may prefer code fences and they may be used without a language specified.\n",
       "\n",
       "\n",
       "```\n",
       "\"This is code\"\n",
       "```\n",
       "\n",
       "```python\n",
       "\"This is not code.\"\n",
       "```"
      ],
      "text/plain": [
       "<IPython.core.display.Markdown object>"
      ]
     },
     "metadata": {
      "text/markdown": {
       "end_time": "2020-02-11T23:23:09.584959",
       "modules": [],
       "names": [],
       "start_time": "2020-02-11T23:23:09.582826"
      }
     },
     "output_type": "display_data"
    }
   ],
   "source": [
    "### Code fences\n",
    "\n",
    "Some folks may prefer code fences and they may be used without a language specified.\n",
    "\n",
    "\n",
    "```\n",
    "\"This is code\"\n",
    "```\n",
    "\n",
    "```python\n",
    "\"This is not code.\"\n",
    "```"
   ]
  },
  {
   "cell_type": "code",
   "execution_count": 10,
   "metadata": {},
   "outputs": [
    {
     "data": {
      "text/markdown": [
       "    class DocStrings:\n",
       "### Docstrings\n",
       "\n",
       "\n",
       "    >>> assert DocStrings.__doc__.startswith('### Docstrings')\n",
       "    >>> DocStrings.function_docstring.__doc__\n",
       "    '`DocStrings.function_docstring`s appear as native docstrings, ...'\n",
       "\n",
       "\n",
       "        def function_docstring():\n",
       "`DocStrings.function_docstring`s appear as native docstrings, but render as `markdown`.\n",
       "            \n",
       "            ...\n",
       "\n",
       "    \n",
       "\n"
      ],
      "text/plain": [
       "<IPython.core.display.Markdown object>"
      ]
     },
     "metadata": {
      "text/markdown": {
       "end_time": "2020-02-11T23:23:09.774570",
       "modules": [],
       "names": [],
       "start_time": "2020-02-11T23:23:09.766312"
      }
     },
     "output_type": "display_data"
    }
   ],
   "source": [
    "    class DocStrings:\n",
    "### Docstrings\n",
    "\n",
    "\n",
    "    >>> assert DocStrings.__doc__.startswith('### Docstrings')\n",
    "    >>> DocStrings.function_docstring.__doc__\n",
    "    '`DocStrings.function_docstring`s appear as native docstrings, ...'\n",
    "\n",
    "\n",
    "        def function_docstring():\n",
    "`DocStrings.function_docstring`s appear as native docstrings, but render as `markdown`.\n",
    "            \n",
    "            ...\n",
    "\n",
    "    \n",
    "\n",
    "\n"
   ]
  },
  {
   "cell_type": "code",
   "execution_count": 11,
   "metadata": {},
   "outputs": [
    {
     "data": {
      "text/markdown": [
       "    import doctest\n",
       "### `doctest`\n",
       "\n",
       "    >>> assert True\n",
       "    >>> print\n",
       "    <built-in function print>\n",
       "    >>> pidgy\n",
       "    <module...__init__.py'>"
      ],
      "text/plain": [
       "<IPython.core.display.Markdown object>"
      ]
     },
     "metadata": {
      "text/markdown": {
       "end_time": "2020-02-11T23:23:09.958314",
       "modules": [],
       "names": [],
       "start_time": "2020-02-11T23:23:09.950844"
      }
     },
     "output_type": "display_data"
    }
   ],
   "source": [
    "    import doctest\n",
    "### `doctest`\n",
    "\n",
    "    >>> assert True\n",
    "    >>> print\n",
    "    <built-in function print>\n",
    "    >>> pidgy\n",
    "    <module...__init__.py'>\n"
   ]
  },
  {
   "cell_type": "code",
   "execution_count": 12,
   "metadata": {},
   "outputs": [
    {
     "data": {
      "text/markdown": [
       "### templating\n",
       "\n",
       "filters\n",
       "jinja docs"
      ],
      "text/plain": [
       "<IPython.core.display.Markdown object>"
      ]
     },
     "metadata": {
      "text/markdown": {
       "end_time": "2020-02-11T23:23:10.169461",
       "modules": [],
       "names": [],
       "start_time": "2020-02-11T23:23:10.167723"
      }
     },
     "output_type": "display_data"
    }
   ],
   "source": [
    "### templating\n",
    "\n",
    "filters\n",
    "jinja docs"
   ]
  }
 ],
 "metadata": {
  "kernelspec": {
   "display_name": "pidgy 3",
   "language": "python",
   "name": "pidgy"
  },
  "language_info": {
   "codemirror_mode": {
    "name": "ipython",
    "version": 3
   },
   "file_extension": ".py",
   "mimetype": "text/x-python",
   "name": "python",
   "nbconvert_exporter": "python",
   "pygments_lexer": "ipython3",
   "version": "3.7.3"
  }
 },
 "nbformat": 4,
 "nbformat_minor": 4
}
