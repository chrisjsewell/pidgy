{
 "cells": [
  {
   "cell_type": "code",
   "execution_count": 1,
   "metadata": {},
   "outputs": [],
   "source": [
    "    import abc, fnmatch, io, dataclasses, IPython, jinja2, inspect, collections, mistune, vdom.core, toolz.curried as toolz, base64, vdom.svg as vdom, string, traitlets, mistletoe\n",
    "    from mimetypes import guess_type; guess = lambda x: guess_type(x)[0]\n",
    "    try: \n",
    "        from .html_to_vdom import html_to_vdom\n",
    "        from .weave import markdown_to_vdom, markdown_to_vdom_flex\n",
    "        from .utils import format_images\n",
    "    except: \n",
    "        from weave import markdown_to_vdom, markdown_to_vdom_flex\n",
    "        from html_to_vdom import html_to_vdom\n",
    "        from utils import format_images\n",
    "    ip = IPython.get_ipython()"
   ]
  },
  {
   "cell_type": "code",
   "execution_count": 2,
   "metadata": {},
   "outputs": [],
   "source": [
    "def graphviz(ip, str): \n",
    "    import graphviz, vdom\n",
    "    if '->' in str and not str.startswith('di'): str = 'di' + str\n",
    "    return html_to_vdom()(graphviz.Source(str)._repr_svg_(), vdom.span)"
   ]
  },
  {
   "cell_type": "code",
   "execution_count": 3,
   "metadata": {},
   "outputs": [],
   "source": [
    "def eval_shorthand_ipython(ip, str):\n",
    "    return eval(ip.input_transformer_manager.transform_cell(str), ip.user_ns, ip.user_global_ns)"
   ]
  },
  {
   "cell_type": "code",
   "execution_count": 4,
   "metadata": {},
   "outputs": [],
   "source": [
    "    def flatten(str): return ''.join(str.splitlines())"
   ]
  },
  {
   "cell_type": "code",
   "execution_count": 5,
   "metadata": {},
   "outputs": [],
   "source": [
    "def embed(ip, str):\n",
    "    type = guess(str) or ''\n",
    "    if str.startswith('http'): \n",
    "        if type.startswith('image') and not type.endswith('svg'):\n",
    "            return vdom.img(src=str)\n",
    "        return vdom.iframe(src=str, style=dict(width='100%', height=\"400px\"))"
   ]
  },
  {
   "cell_type": "code",
   "execution_count": 6,
   "metadata": {},
   "outputs": [],
   "source": [
    "    mimes = toolz.pipe(\"\"\"\n",
    "        50 text/html\n",
    "        70 text/latex\n",
    "        80 image/svg+xml\n",
    "        90 image/bmp image/png image/jpeg image/gif'\n",
    "        60 text/markdown\n",
    "        110 text/javascript application/javascript \n",
    "        120 text/plain\n",
    "        \"\"\", str.strip, str.splitlines, toolz.map(toolz.compose(toolz.juxt(toolz.compose(int, next), list), iter, str.split)), list)"
   ]
  },
  {
   "cell_type": "code",
   "execution_count": 7,
   "metadata": {},
   "outputs": [],
   "source": [
    "  def ipython_formatter(object):\n",
    "        bundle, metadata = IPython.get_ipython().display_formatter.format(object)\n",
    "        for type in toolz.pipe(mimes, toolz.map(toolz.second), toolz.concat):\n",
    "            if type == 'text/plain': return object\n",
    "            if type in bundle:  \n",
    "                object = bundle[type]\n",
    "                if type.startswith('image') and 'svg' not in type: \n",
    "                    object = format_images(type, bundle)._repr_html_()\n",
    "                if type == 'text/html':\n",
    "                    object = flatten(object)\n",
    "                break\n",
    "        return object"
   ]
  },
  {
   "cell_type": "code",
   "execution_count": 8,
   "metadata": {},
   "outputs": [],
   "source": [
    "class StringFormatter(IPython.core.formatters.MimeBundleFormatter):\n",
    "    mimebundle_formatter = traitlets.Instance(IPython.core.formatters.MimeBundleFormatter)\n",
    "    formatters = traitlets.Dict()\n",
    "    environment = traitlets.Instance(jinja2.Environment, kw={\n",
    "        'finalize': ipython_formatter,\n",
    "        'lstrip_blocks': True\n",
    "    })\n",
    "    @traitlets.default('formatters')\n",
    "    def _default_formatters(self):return {\n",
    "        'https://*' : embed,\n",
    "        'http://*' : embed,\n",
    "        'graph {*}': graphviz, \n",
    "        'digraph {*}': graphviz,\n",
    "        ';[! ]*': eval_shorthand_ipython,\n",
    "        ',[! ]*': eval_shorthand_ipython,\n",
    "    }\n",
    "\n",
    "    \n",
    "    def __call__(self, object, include=None, exclude=None):\n",
    "        if isinstance(object, str):\n",
    "            if all(map(object.__contains__, (\n",
    "                self.environment.variable_start_string, self.environment.variable_end_string))):\n",
    "                object = self.environment.from_string(object).render(**self.parent.user_ns)\n",
    "            for type, callable in self.formatters.items():\n",
    "                if fnmatch.fnmatch(object, type):\n",
    "                    result = callable(self.parent, object)\n",
    "                    if result: return ip.display_formatter.format(result)\n",
    "            \n",
    "            else: object = markdown_to_vdom_flex()(object)\n",
    "        object = self.mimebundle_formatter(object, include, exclude)\n",
    "                \n",
    "        return object\n",
    "\n",
    "IPython.core.formatters.FormatterABC.register(StringFormatter);"
   ]
  },
  {
   "cell_type": "code",
   "execution_count": 9,
   "metadata": {},
   "outputs": [],
   "source": [
    "def format_module_doc(type):\n",
    "    if type.__doc__:\n",
    "        return IPython.get_ipython().display_formatter.format(type.__doc__)"
   ]
  },
  {
   "cell_type": "code",
   "execution_count": 10,
   "metadata": {},
   "outputs": [],
   "source": [
    "def attach_repr_html(vdom):\n",
    "    data= vdom._repr_mimebundle_([],[])\n",
    "    return {**data, 'text/html': vdom._repr_html_()}, {}"
   ]
  },
  {
   "cell_type": "code",
   "execution_count": 11,
   "metadata": {},
   "outputs": [],
   "source": [
    "   def show_axes(object):\n",
    "        ip = IPython.get_ipython()\n",
    "        import matplotlib.backends.backend_agg\n",
    "        bytes = io.BytesIO()\n",
    "        matplotlib.backends.backend_agg.FigureCanvasAgg(object.figure).print_png(bytes)\n",
    "        bundle = {\n",
    "            'image/png': bytes.getvalue()\n",
    "        }\n",
    "        return attach_repr_html(format_images('image/png', bundle))"
   ]
  },
  {
   "cell_type": "code",
   "execution_count": 12,
   "metadata": {},
   "outputs": [],
   "source": [
    "def load_ipython_extension(ip): \n",
    "    ip = ip or IPython.get_ipython()\n",
    "    import matplotlib.figure\n",
    "\n",
    "    ip.display_formatter.mimebundle_formatter.for_type(matplotlib.figure.Axes, show_axes)\n",
    "    \n",
    "    ip.display_formatter.mimebundle_formatter = StringFormatter(\n",
    "        mimebundle_formatter=ip.display_formatter.mimebundle_formatter, parent=ip)\n",
    "    ip.display_formatter.mimebundle_formatter.for_type(type, format_module_doc)\n",
    "    ip.display_formatter.mimebundle_formatter.for_type(__import__('vdom.core').core.VDOM, attach_repr_html)\n",
    "    \n",
    "def unload_ipython_extension(ip=None):\n",
    "    ip.display_formatter.mimebundle_formatter = IPython.core.formatters.MimeBundleFormatter(parent=ip)\n",
    "    \n",
    "__name__ == '__main__' and load_ipython_extension(get_ipython())"
   ]
  },
  {
   "cell_type": "code",
   "execution_count": 13,
   "metadata": {},
   "outputs": [
    {
     "data": {
      "application/vdom.v1+json": {
       "attributes": {},
       "children": [
        {
         "attributes": {},
         "children": [
          "Testing"
         ],
         "tagName": "h1"
        },
        {
         "attributes": {},
         "children": [
          "This is not working  10"
         ],
         "tagName": "p"
        },
        {
         "attributes": {
          "style": {
           "display": "flex",
           "flex-direction": "row",
           "width": "100%"
          }
         },
         "children": [
          {
           "attributes": {
            "style": {
             "flex": "1",
             "max-width": "100%"
            }
           },
           "children": [
            {
             "attributes": {},
             "children": [
              {
               "attributes": {},
               "children": [
                {
                 "attributes": {
                  "height": "44pt",
                  "viewbox": "0.00 0.00 62.00 44.00",
                  "width": "62pt",
                  "xmlns": "http://www.w3.org/2000/svg",
                  "xmlns:xlink": "http://www.w3.org/1999/xlink"
                 },
                 "children": [
                  {
                   "attributes": {
                    "class": "graph",
                    "id": "graph0",
                    "transform": "scale(1 1) rotate(0) translate(4 40)"
                   },
                   "children": [
                    {
                     "attributes": {},
                     "children": [
                      "%3"
                     ],
                     "tagName": "title"
                    },
                    {
                     "attributes": {
                      "fill": "white",
                      "points": "-4,4 -4,-40 58,-40 58,4 -4,4",
                      "stroke": "none"
                     },
                     "children": [],
                     "tagName": "polygon"
                    },
                    {
                     "attributes": {
                      "class": "node",
                      "id": "node1"
                     },
                     "children": [
                      {
                       "attributes": {},
                       "children": [
                        "A"
                       ],
                       "tagName": "title"
                      },
                      {
                       "attributes": {
                        "cx": "27",
                        "cy": "-18",
                        "fill": "none",
                        "rx": "27",
                        "ry": "18",
                        "stroke": "black"
                       },
                       "children": [],
                       "tagName": "ellipse"
                      },
                      {
                       "attributes": {
                        "font-family": "Times New Roman,serif",
                        "font-size": "14.00",
                        "text-anchor": "middle",
                        "x": "27",
                        "y": "-14.3"
                       },
                       "children": [
                        "A"
                       ],
                       "tagName": "text"
                      }
                     ],
                     "tagName": "g"
                    }
                   ],
                   "tagName": "g"
                  }
                 ],
                 "tagName": "svg"
                }
               ],
               "tagName": "span"
              }
             ],
             "tagName": "div"
            }
           ],
           "tagName": "div"
          },
          {
           "attributes": {
            "style": {
             "flex": "1",
             "max-width": "100%"
            }
           },
           "children": [
            {
             "attributes": {},
             "children": [
              {
               "attributes": {},
               "children": [
                {
                 "attributes": {
                  "height": "44pt",
                  "viewbox": "0.00 0.00 62.00 44.00",
                  "width": "62pt",
                  "xmlns": "http://www.w3.org/2000/svg",
                  "xmlns:xlink": "http://www.w3.org/1999/xlink"
                 },
                 "children": [
                  {
                   "attributes": {
                    "class": "graph",
                    "id": "graph0",
                    "transform": "scale(1 1) rotate(0) translate(4 40)"
                   },
                   "children": [
                    {
                     "attributes": {},
                     "children": [
                      "%3"
                     ],
                     "tagName": "title"
                    },
                    {
                     "attributes": {
                      "fill": "white",
                      "points": "-4,4 -4,-40 58,-40 58,4 -4,4",
                      "stroke": "none"
                     },
                     "children": [],
                     "tagName": "polygon"
                    },
                    {
                     "attributes": {
                      "class": "node",
                      "id": "node1"
                     },
                     "children": [
                      {
                       "attributes": {},
                       "children": [
                        "B"
                       ],
                       "tagName": "title"
                      },
                      {
                       "attributes": {
                        "cx": "27",
                        "cy": "-18",
                        "fill": "none",
                        "rx": "27",
                        "ry": "18",
                        "stroke": "black"
                       },
                       "children": [],
                       "tagName": "ellipse"
                      },
                      {
                       "attributes": {
                        "font-family": "Times New Roman,serif",
                        "font-size": "14.00",
                        "text-anchor": "middle",
                        "x": "27",
                        "y": "-14.3"
                       },
                       "children": [
                        "B"
                       ],
                       "tagName": "text"
                      }
                     ],
                     "tagName": "g"
                    }
                   ],
                   "tagName": "g"
                  }
                 ],
                 "tagName": "svg"
                }
               ],
               "tagName": "span"
              }
             ],
             "tagName": "div"
            }
           ],
           "tagName": "div"
          }
         ],
         "tagName": "div"
        }
       ],
       "tagName": "div"
      },
      "text/plain": [
       "'# Testing\\n\\nThis is not working  {{10}}\\n\\n-   {{\\'graph {A}\\'}}\\n-  {{\"graph {B}\"}}\\n\\n'"
      ]
     },
     "execution_count": 13,
     "metadata": {},
     "output_type": "execute_result"
    }
   ],
   "source": [
    "(\"\"\"# Testing\n",
    "\n",
    "This is not working  {{10}}\n",
    "\n",
    "-   {{'graph {A}'}}\n",
    "-  {{\"graph {B}\"}}\n",
    "\n",
    "\"\"\")"
   ]
  },
  {
   "cell_type": "code",
   "execution_count": null,
   "metadata": {},
   "outputs": [],
   "source": []
  }
 ],
 "metadata": {
  "kernelspec": {
   "display_name": "Python 3",
   "language": "python",
   "name": "python3"
  },
  "language_info": {
   "codemirror_mode": {
    "name": "ipython",
    "version": 3
   },
   "file_extension": ".py",
   "mimetype": "text/x-python",
   "name": "python",
   "nbconvert_exporter": "python",
   "pygments_lexer": "ipython3",
   "version": "3.6.6"
  }
 },
 "nbformat": 4,
 "nbformat_minor": 2
}
