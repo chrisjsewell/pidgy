{
 "cells": [
  {
   "cell_type": "code",
   "execution_count": 12,
   "metadata": {},
   "outputs": [],
   "source": [
    "    import abc, fnmatch, dataclasses, IPython, jinja2, inspect, collections, vdom.core, toolz.curried as toolz, base64, vdom.svg as vdom, string, traitlets, mistletoe\n",
    "    from mimetypes import guess_type; guess = lambda x: guess_type(x)[0]\n",
    "    try: \n",
    "        from .html_to_vdom import html_to_vdom\n",
    "        from .weave import markdown_to_vdom, markdown_to_vdom_flex\n",
    "    except: \n",
    "        from weave import markdown_to_vdom, markdown_to_vdom_flex\n",
    "        from html_to_vdom import html_to_vdom\n",
    "    ip = IPython.get_ipython()"
   ]
  },
  {
   "cell_type": "code",
   "execution_count": 2,
   "metadata": {},
   "outputs": [],
   "source": [
    "def graphviz(ip, str): \n",
    "    import graphviz, vdom\n",
    "    if '->' in str and not str.startswith('di'): str = 'di' + str\n",
    "    return html_to_vdom()(graphviz.Source(str)._repr_svg_(), vdom.span)"
   ]
  },
  {
   "cell_type": "code",
   "execution_count": 3,
   "metadata": {},
   "outputs": [],
   "source": [
    "def eval_shorthand_ipython(ip, str):\n",
    "    return eval(ip.input_transformer_manager.transform_cell(str), ip.user_ns, ip.user_global_ns)"
   ]
  },
  {
   "cell_type": "code",
   "execution_count": 4,
   "metadata": {},
   "outputs": [],
   "source": [
    "    def flatten(str): return ''.join(str.splitlines())"
   ]
  },
  {
   "cell_type": "code",
   "execution_count": 5,
   "metadata": {},
   "outputs": [],
   "source": [
    "def embed(ip, str):\n",
    "    type = guess(str) or ''\n",
    "    if str.startswith('http'): \n",
    "        if type.startswith('image') and not type.endswith('svg'):\n",
    "            return vdom.img(src=str)\n",
    "        return vdom.iframe(src=str, style=dict(width='100%', height=\"400px\"))"
   ]
  },
  {
   "cell_type": "code",
   "execution_count": 6,
   "metadata": {},
   "outputs": [],
   "source": [
    "    mimes = toolz.pipe(\"\"\"\n",
    "        50 text/html\n",
    "        70 text/latex\n",
    "        80 image/svg+xml\n",
    "        90 image/bmp image/png image/jpeg image/gif'\n",
    "        60 text/markdown\n",
    "        110 text/javascript application/javascript \n",
    "        120 text/plain\n",
    "        \"\"\", str.strip, str.splitlines, toolz.map(toolz.compose(toolz.juxt(toolz.compose(int, next), list), iter, str.split)), list)"
   ]
  },
  {
   "cell_type": "code",
   "execution_count": 7,
   "metadata": {},
   "outputs": [],
   "source": [
    "  def ipython_formatter(object):\n",
    "        bundle, metadata = IPython.get_ipython().display_formatter.format(object)\n",
    "        for type in toolz.pipe(mimes, toolz.map(toolz.second), toolz.concat):\n",
    "            if type == 'text/plain': return object\n",
    "            if type in bundle:  \n",
    "                object = bundle[type]\n",
    "                if type.startswith('image') and 'svg' not in type: \n",
    "                    object = format_images(type, bundle)._repr_html_()\n",
    "                if type == 'text/html':\n",
    "                    object = flatten(object)\n",
    "                break\n",
    "        return object"
   ]
  },
  {
   "cell_type": "code",
   "execution_count": 8,
   "metadata": {},
   "outputs": [],
   "source": [
    "class StringFormatter(IPython.core.formatters.MimeBundleFormatter):\n",
    "    mimebundle_formatter = traitlets.Instance(IPython.core.formatters.MimeBundleFormatter)\n",
    "    formatters = traitlets.Dict()\n",
    "    environment = traitlets.Instance(jinja2.Environment, kw={'finalize': ipython_formatter})\n",
    "    @traitlets.default('formatters')\n",
    "    def _default_formatters(self):return {\n",
    "        'https://*' : embed,\n",
    "        'http://*' : embed,\n",
    "        'graph {*}': graphviz, \n",
    "        'digraph {*}': graphviz,\n",
    "        ';[! ]*': eval_shorthand_ipython,\n",
    "        ',[! ]*': eval_shorthand_ipython,\n",
    "    }\n",
    "\n",
    "    \n",
    "    def __call__(self, object, include=None, exclude=None):\n",
    "        if isinstance(object, str):\n",
    "            if all(map(object.__contains__, (\n",
    "                self.environment.variable_start_string, self.environment.variable_end_string))):\n",
    "                object = self.environment.from_string(object).render(**self.parent.user_ns)\n",
    "\n",
    "            for type, callable in self.formatters.items():\n",
    "                if fnmatch.fnmatch(object, type):\n",
    "                    result = callable(self.parent, object)\n",
    "                    if result: return ip.display_formatter.format(result)\n",
    "            \n",
    "            else: object = markdown_to_vdom_flex()(object)\n",
    "        object = self.mimebundle_formatter(object, include, exclude)\n",
    "                \n",
    "        return object\n",
    "\n",
    "IPython.core.formatters.FormatterABC.register(StringFormatter);"
   ]
  },
  {
   "cell_type": "code",
   "execution_count": 9,
   "metadata": {},
   "outputs": [],
   "source": [
    "def format_module_doc(type):\n",
    "    if len(type.__mro__) == 2:\n",
    "        if (type, object) == type.__mro__:\n",
    "            if type.__doc__:\n",
    "                return IPython.get_ipython().display_formatter.format(type.__doc__)"
   ]
  },
  {
   "cell_type": "code",
   "execution_count": 16,
   "metadata": {},
   "outputs": [],
   "source": [
    "def attach_repr_html(vdom):\n",
    "    data= vdom._repr_mimebundle_([],[])\n",
    "    return {**data, 'text/html': vdom._repr_html_()}, {}"
   ]
  },
  {
   "cell_type": "code",
   "execution_count": 18,
   "metadata": {},
   "outputs": [],
   "source": [
    "def load_ipython_extension(ip): \n",
    "    ip = ip or IPython.get_ipython()\n",
    "    ip.display_formatter.mimebundle_formatter.for_type(__import__('vdom.core').core.VDOM, attach_repr_html)\n",
    "    ip.display_formatter.mimebundle_formatter = StringFormatter(\n",
    "        mimebundle_formatter=ip.display_formatter.mimebundle_formatter, parent=ip)\n",
    "    \n",
    "    ip.display_formatter.mimebundle_formatter.for_type(type, format_module_doc)\n",
    "    \n",
    "def unload_ipython_extension(ip=None):\n",
    "    ip.display_formatter.mimebundle_formatter = IPython.core.formatters.MimeBundleFormatter(parent=ip)\n",
    "    \n",
    "__name__ == '__main__' and load_ipython_extension(get_ipython())"
   ]
  }
 ],
 "metadata": {
  "kernelspec": {
   "display_name": "Python 3",
   "language": "python",
   "name": "python3"
  },
  "language_info": {
   "codemirror_mode": {
    "name": "ipython",
    "version": 3
   },
   "file_extension": ".py",
   "mimetype": "text/x-python",
   "name": "python",
   "nbconvert_exporter": "python",
   "pygments_lexer": "ipython3",
   "version": "3.6.6"
  }
 },
 "nbformat": 4,
 "nbformat_minor": 2
}
