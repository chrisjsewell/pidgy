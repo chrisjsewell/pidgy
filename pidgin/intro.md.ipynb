{
 "cells": [
  {
   "cell_type": "markdown",
   "metadata": {},
   "source": [
    "pidgin programming is concerned with scientific literacy, the general abilities to read & write scientific literature, and the implicit pleasure of interactively\n",
    "composing modern literate programs.\n",
    "Access to commodity computing infrastructures have affected \n",
    "the forms of scientific information architecture and \n",
    "scientific literature.\n",
    "Programming languages represent novel forms\n",
    "that express heuristics that are explicitly reusable, they fill the voids where \n",
    "the superior code of language fails to communicate phenomenon.\n",
    "Scientific literature written in `pidgin` accept all \n",
    "languages equitably, it assigns language the role of communicating\n",
    "computational thought in fluid combinations of human or machine logic."
   ]
  },
  {
   "cell_type": "code",
   "execution_count": null,
   "metadata": {},
   "outputs": [],
   "source": []
  }
 ],
 "metadata": {
  "kernelspec": {
   "display_name": "Python 3",
   "language": "python",
   "name": "python3"
  },
  "language_info": {
   "codemirror_mode": {
    "name": "ipython",
    "version": 3
   },
   "file_extension": ".py",
   "mimetype": "text/x-python",
   "name": "python",
   "nbconvert_exporter": "python",
   "pygments_lexer": "ipython3",
   "version": "3.7.3"
  }
 },
 "nbformat": 4,
 "nbformat_minor": 4
}
