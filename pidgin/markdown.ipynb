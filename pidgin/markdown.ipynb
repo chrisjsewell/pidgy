{
 "cells": [
  {
   "cell_type": "code",
   "execution_count": 3,
   "metadata": {},
   "outputs": [],
   "source": [
    "    import CommonMark\n",
    "    from CommonMark import Parser\n",
    "    from CommonMark.render.renderer import Renderer\n",
    "    from textwrap import indent, dedent\n",
    "    from importnb import Notebook\n",
    "    from collections import UserList\n",
    "    from abc import abstractmethod, ABCMeta\n",
    "    try:\n",
    "        from IPython.display import display, Markdown, HTML\n",
    "        from IPython.core.inputtransformer import InputTransformer\n",
    "        from IPython import get_ipython\n",
    "    except:\n",
    "        class InputTransformer:\n",
    "            def __init__(self, *args, **kwargs): ...\n",
    "            def transform_cell(self, str): return dedent(str)\n",
    "            \n",
    "        def get_ipython(): ..."
   ]
  },
  {
   "cell_type": "markdown",
   "metadata": {},
   "source": [
    "## Markdown to code\n",
    "\n",
    "Markdown is converted to code by persisting all code_blocks and replacing all non-code lines with blank lines.  The blank line replacement assures the right line numbering.\n",
    "\n",
    "* Create a custom CommonMark renderer for code only.  It maintains the lines and positions of the original source to give better error messages.\n",
    "\n",
    "* The commonmark renderer only catches code cells\n",
    "\n",
    "    > There is an interesting discussion to be had about the role of inline cells."
   ]
  },
  {
   "cell_type": "code",
   "execution_count": 5,
   "metadata": {},
   "outputs": [],
   "source": [
    "    class CodeRenderer(Renderer):\n",
    "        def code(self, node, entering):\n",
    "            if self.user_expressions is not None: self.user_expressions.update({node.literal:node.literal})\n",
    "        def code_block(self, node, entering):\n",
    "            while len(self.buf.splitlines()) <  node.sourcepos[0][0]-1:\n",
    "                self.out(\"\\n\")\n",
    "            self.out(indent(node.literal, ' '*(\n",
    "                node.sourcepos[0][1])))\n",
    "            \n",
    "        repr = staticmethod(Markdown)\n",
    "            \n",
    "        def __call__(self, str, user_expressions=None):\n",
    "            self.user_expressions = user_expressions\n",
    "            return dedent(self.render(Parser().parse(str)))"
   ]
  },
  {
   "cell_type": "code",
   "execution_count": 13,
   "metadata": {},
   "outputs": [],
   "source": [
    "    class CallableTransformer(InputTransformer, UserList, metaclass=ABCMeta):\n",
    "        \"\"\"Define a __call__ method define a callable transformer.\"\"\"\n",
    "        \n",
    "        push = UserList.append\n",
    "\n",
    "        def reset(self, str = \"\"):\n",
    "            while self.data: str += self.data.pop(0) + '\\n'\n",
    "            return self(str)\n",
    "        \n",
    "        @abstractmethod\n",
    "        def __call__(self, str): raise NotImplemented()\n",
    "            \n",
    "        "
   ]
  },
  {
   "cell_type": "code",
   "execution_count": 14,
   "metadata": {},
   "outputs": [],
   "source": [
    "    renderer = CodeRenderer()"
   ]
  },
  {
   "cell_type": "code",
   "execution_count": 15,
   "metadata": {},
   "outputs": [],
   "source": [
    "    class MarkdownTransformer(CallableTransformer):\n",
    "        def __call__(self, str):  \n",
    "            str = renderer(str)\n",
    "            if str.strip(): return str\n",
    "            return ''"
   ]
  },
  {
   "cell_type": "code",
   "execution_count": 16,
   "metadata": {},
   "outputs": [],
   "source": [
    "    class MarkdownImporter(Notebook):\n",
    "        extensions = '.md.ipynb',\n",
    "        def format(self, str): return super().format(renderer(str))"
   ]
  },
  {
   "cell_type": "code",
   "execution_count": 17,
   "metadata": {},
   "outputs": [],
   "source": [
    "    try:\n",
    "        from IPython.display import HTML, Javascript\n",
    "        \n",
    "        style = HTML(\"\"\"<style>\n",
    "        .code-cell-toggle {\n",
    "            position: fixed;\n",
    "            bottom: 20px;\n",
    "            right: 20px;\n",
    "        }\n",
    "        .code-cell-hidden .code_cell .input {\n",
    "            display: none;\n",
    "        }\n",
    "        </style>\"\"\")\n",
    "\n",
    "        toggle = Javascript(\"\"\"$(\"button.code-cell-toggle\").remove();\n",
    "        var btn = $(\"<button/>\", {\"class\": \"code-cell-toggle\"}).text(\"</>\");\n",
    "        btn.bind(\"click\", function(){\n",
    "            $(\"body\").toggleClass(\"code-cell-hidden\");\n",
    "        });\n",
    "        $(\"#notebook\").append(btn);\n",
    "        if (!window.location.host.startsWith('localhost')){\n",
    "            $(\"body\").addClass(\"code-cell-hidden\");\n",
    "        };\"\"\")\n",
    "    except: ..."
   ]
  },
  {
   "cell_type": "code",
   "execution_count": 18,
   "metadata": {},
   "outputs": [],
   "source": [
    "    def load_ipython_extension(ip=None):\n",
    "        ip = ip or get_ipython()\n",
    "        ip.input_transformer_manager.physical_line_transforms = [\n",
    "            MarkdownTransformer()] + [\n",
    "            object for object in ip.input_transformer_manager.physical_line_transforms\n",
    "            if not isinstance(object, MarkdownTransformer)]\n",
    "        try:\n",
    "            from IPython.display import display\n",
    "            display(style, toggle)\n",
    "        except: ...\n",
    "            \n",
    "    def unload_ipython_extension(ip=None):\n",
    "        ip = ip or get_ipython()\n",
    "        ip.input_transformer_manager.physical_line_transforms = list(\n",
    "            object for object in ip.input_transformer_manager.physical_line_transforms\n",
    "            if not isinstance(object, MarkdownTransformer)\n",
    "        )"
   ]
  },
  {
   "cell_type": "code",
   "execution_count": 19,
   "metadata": {},
   "outputs": [],
   "source": [
    "    class Test(__import__('unittest').TestCase): \n",
    "        def setUp(Test):\n",
    "            %reload_ext pidgin\n",
    "            %reload_ext pidgin.markdown\n",
    "            load_ipython_extension()\n",
    "            from nbformat import write, v4\n",
    "            with open('test_markdown.md.ipynb', 'w') as file:\n",
    "                write(v4.new_notebook(cells=[v4.new_code_cell(\"\"\"Some paragraph\\n\\n    a=42\"\"\")]), file)\n",
    "                \n",
    "        def runTest(Test):\n",
    "            global test_markdown\n",
    "            import test_markdown\n",
    "            assert test_markdown.__file__.endswith('.ipynb')\n",
    "            assert test_markdown.a is 42\n",
    "            \n",
    "        def tearDown(Test):\n",
    "            %unload_ext pidgin.markdown\n",
    "            from pathlib import Path\n",
    "            #__import__('os').remove('test_markdown.md.ipynb')\n",
    "            unload_ipython_extension()"
   ]
  },
  {
   "cell_type": "code",
   "execution_count": 20,
   "metadata": {},
   "outputs": [
    {
     "data": {
      "text/html": [
       "<style>\n",
       "    .code-cell-toggle {\n",
       "        position: fixed;\n",
       "        bottom: 20px;\n",
       "        right: 20px;\n",
       "    }\n",
       "    .code-cell-hidden .code_cell .input {\n",
       "        display: none;\n",
       "    }\n",
       "    </style>"
      ],
      "text/plain": [
       "<IPython.core.display.HTML object>"
      ]
     },
     "metadata": {},
     "output_type": "display_data"
    },
    {
     "data": {
      "application/javascript": [
       "$(\"button.code-cell-toggle\").remove();\n",
       "    var btn = $(\"<button/>\", {\"class\": \"code-cell-toggle\"}).text(\"</>\");\n",
       "    btn.bind(\"click\", function(){\n",
       "        $(\"body\").toggleClass(\"code-cell-hidden\");\n",
       "    });\n",
       "    $(\"#notebook\").append(btn);\n",
       "    if (!window.location.host.startsWith('localhost')){\n",
       "        $(\"body\").addClass(\"code-cell-hidden\");\n",
       "    };"
      ],
      "text/plain": [
       "<IPython.core.display.Javascript object>"
      ]
     },
     "metadata": {},
     "output_type": "display_data"
    }
   ],
   "source": [
    "    if __name__ == '__main__':\n",
    "        %reload_ext pidgin\n",
    "        load_ipython_extension()"
   ]
  },
  {
   "cell_type": "markdown",
   "metadata": {},
   "source": [
    "### if __name__ == '__main__': \n",
    "        __import__('unittest').TextTestRunner().run(Test())"
   ]
  }
 ],
 "metadata": {
  "kernelspec": {
   "display_name": "Python 3",
   "language": "python",
   "name": "python3"
  },
  "language_info": {
   "codemirror_mode": {
    "name": "ipython",
    "version": 3
   },
   "file_extension": ".py",
   "mimetype": "text/x-python",
   "name": "python",
   "nbconvert_exporter": "python",
   "pygments_lexer": "ipython3",
   "version": "3.6.6"
  },
  "toc": {
   "colors": {
    "hover_highlight": "#DAA520",
    "running_highlight": "#FF0000",
    "selected_highlight": "#FFD700"
   },
   "moveMenuLeft": true,
   "nav_menu": {
    "height": "29px",
    "width": "252px"
   },
   "navigate_menu": true,
   "number_sections": true,
   "sideBar": true,
   "threshold": 4,
   "toc_cell": false,
   "toc_section_display": "block",
   "toc_window_display": false,
   "widenNotebook": false
  },
  "varInspector": {
   "cols": {
    "lenName": 16,
    "lenType": 16,
    "lenVar": 40
   },
   "kernels_config": {
    "python": {
     "delete_cmd_postfix": "",
     "delete_cmd_prefix": "del ",
     "library": "var_list.py",
     "varRefreshCmd": "print(var_dic_list())"
    },
    "r": {
     "delete_cmd_postfix": ") ",
     "delete_cmd_prefix": "rm(",
     "library": "var_list.r",
     "varRefreshCmd": "cat(var_dic_list()) "
    }
   },
   "types_to_exclude": [
    "module",
    "function",
    "builtin_function_or_method",
    "instance",
    "_Feature"
   ],
   "window_display": false
  }
 },
 "nbformat": 4,
 "nbformat_minor": 2
}
