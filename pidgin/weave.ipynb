{
 "cells": [
  {
   "cell_type": "markdown",
   "metadata": {},
   "source": [
    "`vdom` is Python data object for composing HTML. `mistletoe` is a markdown converter; in this notebook we write a `mistletoe` to `vdom`\n",
    "renderer.\n",
    "\n",
    "> There are some outstanding issues about how to handle inline span html.\n",
    "\n",
    "> __Personal Opinion__: `mistletoe` is easier to extend than `mistune` and `commonmark`.\n",
    "\n",
    "`vdom`, like `altair`, embed extra data into the notebook that can be consumed later."
   ]
  },
  {
   "cell_type": "markdown",
   "metadata": {},
   "source": [
    "This post builds [on previous work that converts `html` to `vdom`](2018-11-01-vdom-from-raw-html.ipynb)."
   ]
  },
  {
   "cell_type": "code",
   "execution_count": 1,
   "metadata": {},
   "outputs": [],
   "source": [
    "try:\n",
    "    from .html_to_vdom import html_to_vdom\n",
    "except:\n",
    "    from html_to_vdom import html_to_vdom\n",
    "import mistletoe, vdom, functools, html"
   ]
  },
  {
   "cell_type": "code",
   "execution_count": 21,
   "metadata": {},
   "outputs": [],
   "source": [
    "mistletoe.span_token._tags.add('svg')\n",
    "mistletoe.span_token._tags.add('span')"
   ]
  },
  {
   "cell_type": "code",
   "execution_count": 29,
   "metadata": {},
   "outputs": [],
   "source": [
    "class markdown_to_vdom(mistletoe.html_renderer.HTMLRenderer):\n",
    "    def __call__(self, str): return self.render(mistletoe.Document(str.splitlines()))\n",
    "    \n",
    "    def render_document(self, token):\n",
    "        result = self.render_inner(token, vdom.div)\n",
    "        if isinstance(result, str):\n",
    "            result = self._dom.flush()\n",
    "        return result\n",
    "        \n",
    "    def render_image(self, token):\n",
    "        return vdom.img(src=token.src, alt=self.render_to_plain(token), title=token.title and self.escape_html(token.title) or '')\n",
    "\n",
    "    def render_to_plain(self, token):\n",
    "        if hasattr(token, 'children'):\n",
    "            token = ''.join(self.render_to_plain(child) for child in token.children)\n",
    "        else: token = token.content\n",
    "        return self.render_inner(token)\n",
    "\n",
    "    def render_link(self, token): return self.render_inner(\n",
    "        token, vdom.a, href=self.escape_url(token.target), \n",
    "        title=token.title and self.escape_html(token.title) or '')\n",
    "\n",
    "    def render_auto_link(self, token): return self.render_inner(\n",
    "        token, vdom.a, href=token.mailto and 'mailto:{}'.format(token.target)  or self.escape_url(token.target))\n",
    "\n",
    "    def render_raw_text(self, token): \n",
    "        return self.render_inner(token)\n",
    "\n",
    "    def render_heading(self, token): \n",
    "        return self.render_inner(token, getattr(vdom, F'h{token.level}'))\n",
    "\n",
    "    def render_block_code(self, token): return vdom.pre(\n",
    "        vdom.code(html.escape(token.children[0].content), **({\n",
    "            'class': F\"language-{self.escape_html(token.language)}\"\n",
    "        } if token.language else {})))\n",
    "    \n",
    "    def render_table(self, token, tag=vdom.table):\n",
    "        if hasattr(token, 'header'): \n",
    "            tag = functools.partial(tag, vdom.thead(self.render_table_row(token.header, is_header=True)))\n",
    "        return tag(self.render_inner(token, vdom.tbody))\n",
    "\n",
    "    def render_table_row(self, token, is_header=False): \n",
    "        return vdom.tr(*(self.render_table_cell(child, is_header) for child in token.children))\n",
    "\n",
    "    def render_table_cell(self, token, in_header=False): \n",
    "        return self.render_inner(\n",
    "            token, vdom.th if in_header else vdom.td, align={None: 'left', 0: 'center', 1: 'right'}[token.align])\n",
    "    \n",
    "    @staticmethod\n",
    "    def render_thematic_break(token):  return vdom.hr()\n",
    "    \n",
    "    @staticmethod\n",
    "    def render_line_break(token): return '\\n' if token.soft else vdom.br()\n",
    "\n",
    "    @staticmethod\n",
    "    def render_html_block(token):  \n",
    "        return html_to_vdom()(token.content)\n",
    "\n",
    "    def render_inline_code(self, token): \n",
    "        return self.render_inner(token.children[0], vdom.code)\n",
    "\n",
    "    _dom = None\n",
    "    \n",
    "    def render_html_span(self, token):  \n",
    "        self._dom = (self._dom or html_to_vdom())\n",
    "        self._dom.feed(token.content)\n",
    "        if token.content.startswith('</'):\n",
    "            return self._dom.flush()\n",
    "        \n",
    "        return ''\n",
    "    \n",
    "    def render_inner(self, token, tag=None, **data):\n",
    "        tag = tag or (lambda x: x)\n",
    "        \n",
    "        if hasattr(token, 'children'):\n",
    "            for child in token.children:\n",
    "                tag = functools.partial(tag, self.render(child))\n",
    "        else:\n",
    "            tag = functools.partial(tag, token.content)\n",
    "        render = tag(**data)\n",
    "        if self._dom and self._dom.buf:\n",
    "            self._dom.append(render)\n",
    "            return ''\n",
    "        return render\n",
    "    \n",
    "    render_strong = functools.partialmethod(render_inner, tag=vdom.strong)\n",
    "    render_emphasis = functools.partialmethod(render_inner, tag=vdom.em)\n",
    "    render_strikethrough = functools.partialmethod(render_inner, tag=vdom.create_component('del'))        \n",
    "    render_escape_sequence = functools.partialmethod(render_inner, tag=vdom.span)\n",
    "    render_paragraph = functools.partialmethod(render_inner, tag=vdom.p)\n",
    "    render_quote = functools.partialmethod(render_inner, tag=vdom.blockquote)\n",
    "    render_list_item = functools.partialmethod(render_inner, tag=vdom.li)\n",
    "\n",
    "    def render_list(self, token, tag=vdom.ul, **data):\n",
    "        self._dom = (self._dom or html_to_vdom())\n",
    "\n",
    "        if token.start is not None:\n",
    "            tag = vdom.ol\n",
    "            data.update(start=token.start if token.start != 1 else '')\n",
    "        return self.render_inner(token, tag, **data)\n"
   ]
  },
  {
   "cell_type": "markdown",
   "metadata": {},
   "source": [
    "    g =__import__('graphviz').Source('graph {A}')\n",
    "\n",
    "    markdown_to_vdom()(F\"\"\"{''.join(g._repr_svg_().splitlines())}\n",
    "    \"\"\")"
   ]
  },
  {
   "cell_type": "code",
   "execution_count": 30,
   "metadata": {},
   "outputs": [],
   "source": [
    "class markdown_to_vdom_flex(markdown_to_vdom):\n",
    "    prepend = None\n",
    "    def render_list(self, token, tag=vdom.ul, **data):\n",
    "        setattr(self, 'prepend', getattr(self, 'prepend') or [])\n",
    "        self.prepend.append(token.children[0].leader if token.children and token.children[0].leader == '-' else None)  \n",
    "        try:\n",
    "            if self.prepend[-1]: \n",
    "                data.update(style={\n",
    "                    'width': '100%', 'display': 'flex', 'flex-direction': ['column', 'row'][1]#[sum(map(bool, self.prepend))%2]\n",
    "                })\n",
    "                return self.render_inner(token, vdom.div, **data)        \n",
    "            else: return super().render_list(token, tag, **data)\n",
    "        finally: self.prepend.pop()        \n",
    "    \n",
    "    def render_list_item(self, token, tag=vdom.li, **data):\n",
    "        if self.prepend[-1]:\n",
    "            tag = vdom.div\n",
    "            data.update(style={'flex': '1', 'max-width': '100%'})\n",
    "        return self.render_inner(token, tag, **data)"
   ]
  },
  {
   "cell_type": "markdown",
   "metadata": {},
   "source": [
    "    if __name__ == '__main__':\n",
    "        !ipython -m pytest -- weave.ipynb"
   ]
  },
  {
   "cell_type": "code",
   "execution_count": 31,
   "metadata": {},
   "outputs": [],
   "source": [
    "    renderers = __import__('pytest').mark.parametrize('renderer', (markdown_to_vdom_flex, markdown_to_vdom))"
   ]
  },
  {
   "cell_type": "code",
   "execution_count": 32,
   "metadata": {},
   "outputs": [],
   "source": [
    "    @renderers\n",
    "    def test_renderer(renderer):\n",
    "        r = markdown_to_vdom()\n",
    "        r.render(mistletoe.Document(\"\"\"---\n",
    "    \n",
    "    # A table \n",
    "\n",
    "    | Tables        | Are           | Cool  |\n",
    "    | ------------- |:-------------:| -----:|\n",
    "    | col 3 is      | right-aligned | $1600 |\n",
    "    | col 2 is      | centered      |   $12 |\n",
    "    | zebra stripes | are neat      |    $1 |\n",
    "    \n",
    "    \n",
    "    \n",
    "    * Now we are talaking about some business and that bu Now we are talaking about some business and that bu Now we are talaking about some business and that bu Now we are talaking about some business and that bu Now we are talaking about some business and that bu Now we are talaking about some business and that bu Now we are talaking about some business and that bu Now we are talaking about some business and that bu Now we are talaking about some business and that bu Now we are talaking about some business and that bu Now we are talaking about some business and that bu Now we are talaking about some business and that bu Now we are talaking about some business and that bu Now we are talaking about some business and that bu Now we are talaking about some business and that bu Now we are talaking about some business and that bu Now we are talaking about some business and that bu Now we are talaking about some business and that bu Now we are talaking about some business and that bu Now we are talaking about some business and that bu Now we are talaking about some business and that bu Now we are talaking about some business and that bu Now we are talaking about some business and that bu Now we are talaking about some business and that bu Now we are talaking about some business and that bu \n",
    "      * > Does a block quote work in line item\n",
    "\n",
    "    * asdklfjaskdfj\n",
    "    \n",
    "        * Fuck\n",
    "             \n",
    "        * A\n",
    "       \n",
    "       * B\n",
    "                \n",
    "            1. C\n",
    "            2. D\n",
    "        * Q\n",
    "        \n",
    "    * ###  B\n",
    "    \n",
    "    ---\n",
    "\n",
    "    > Testing things\n",
    "\n",
    "    ### Howdy\\n\\n~~Good~~ look buh <span><code>__crap__</code></span>.\\n\\n<h1>Things</h1>\"\"\".splitlines()))"
   ]
  },
  {
   "cell_type": "code",
   "execution_count": 33,
   "metadata": {},
   "outputs": [],
   "source": [
    "    @renderers\n",
    "    def test_graphviz_in_markdown_in_vdom(renderer):\n",
    "        import graphviz\n",
    "        g = graphviz.Source(\"graph {A}\")\n",
    "        renderer().render(mistletoe.Document(\n",
    "        F\"\"\"# bUST\n",
    "\n",
    "        {''.join(g._repr_svg_().splitlines())}\"\"\".splitlines()\n",
    "        ))"
   ]
  },
  {
   "cell_type": "markdown",
   "metadata": {},
   "source": [
    "markdown_to_vdom()('https://docs.google.com/document/d/1cejQ1SGD4-dNOzsueUq5Fx_V4gKjEgNTDxr6tC__PVw/edit?usp=sharing')._repr_html_()"
   ]
  },
  {
   "cell_type": "code",
   "execution_count": null,
   "metadata": {},
   "outputs": [],
   "source": []
  }
 ],
 "metadata": {
  "kernelspec": {
   "display_name": "Python 3",
   "language": "python",
   "name": "python3"
  },
  "language_info": {
   "codemirror_mode": {
    "name": "ipython",
    "version": 3
   },
   "file_extension": ".py",
   "mimetype": "text/x-python",
   "name": "python",
   "nbconvert_exporter": "python",
   "pygments_lexer": "ipython3",
   "version": "3.6.6"
  }
 },
 "nbformat": 4,
 "nbformat_minor": 2
}
