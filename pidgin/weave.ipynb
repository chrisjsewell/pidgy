{
 "cells": [
  {
   "cell_type": "markdown",
   "metadata": {},
   "source": [
    "`weave` objects controls the output behaviours of a string containing source code."
   ]
  },
  {
   "cell_type": "code",
   "execution_count": 3,
   "metadata": {},
   "outputs": [],
   "source": [
    "from dataclasses import dataclass, field\n",
    "import collections, mistune, IPython, string, jinja2, operator, textwrap, tokenize, trio, toolz.curried as toolz, vdom"
   ]
  },
  {
   "cell_type": "code",
   "execution_count": 4,
   "metadata": {},
   "outputs": [],
   "source": [
    "try:\n",
    "    from .strings.markdown import renderer\n",
    "    from .strings.environment import environment, IPythonDollarTemplate\n",
    "except:\n",
    "    from strings.markdown import renderer\n",
    "    from strings.environment import environment, IPythonDollarTemplate"
   ]
  },
  {
   "cell_type": "code",
   "execution_count": 5,
   "metadata": {},
   "outputs": [],
   "source": [
    "ip = IPython.get_ipython()"
   ]
  },
  {
   "cell_type": "markdown",
   "metadata": {},
   "source": [
    "## Statements and Expressions\n",
    "\n",
    "In Python, `exec` is an statement and `eval` is a expression.  A difference between these function is that `exec` does not return a result and `eval` does return a result.  `exec` accepts any Python statements or expressions while `eval` accepts a subset of Python; assignments are not allowed.. "
   ]
  },
  {
   "cell_type": "markdown",
   "metadata": {},
   "source": [
    "`Text` is an `object` that manages the statements and expressions contained within a block of __Markdown__ text.\n",
    "\n",
    "`Text.data` contains the input source text may be __Markdown__; indented source code is valid __Markdown__ code.  With `Text.markdown` enabled `Text.data` is:\n",
    "\n",
    "1. Passes through a __Markdown__ parser to extract the\n",
    "\n",
    "    * block code statements and expressions \n",
    "    * inline code expressions\n",
    "    \n",
    "    > `Text.markdown` will toggle Markdown mode being on and off. \n",
    "    \n",
    "2. `Text.data` passes through a `string.Template` operator to replace templated expressions with `IPython.display` `object`s.\n",
    "\n",
    "    > `Text.format` will toggle the `string.Template` operation.\n",
    "\n",
    "`Text.source` is extracted from `Text.data` during `Text.__post_init__`.  `Text.source` is block code from the __Markdown___ body; fenced code blocks are executed as magics. \n",
    "\n",
    "`Text.expressions` is a `tuple` of inline __Markdown__ code objects.   These expressions will always return a display when there is \n",
    "an error to assure that all code objects are reproducible.  `Test.expressions` are motivated by the `IPython.core.interactiveshell.InteractiveShell.user_expressions` that only evaluate single expression\n",
    "\n",
    "> `Text.inline` toggles the display behavior of `Test.expressions`"
   ]
  },
  {
   "cell_type": "code",
   "execution_count": 26,
   "metadata": {},
   "outputs": [],
   "source": [
    "@dataclass\n",
    "class Text(collections.UserString):\n",
    "    __doc__ = \"\"\"`Text` is an `object` that manages the statements and expressions\n",
    "    contained within a block of markdown text.\"\"\"\n",
    "    \n",
    "    data: str = None\n",
    "    \n",
    "    markdown: bool = True\n",
    "    format: bool = True\n",
    "    display: IPython.display.DisplayObject = None\n",
    "    \n",
    "    source: str = ''\n",
    "    \n",
    "    expressions: tuple = field(default_factory=tuple)\n",
    "    inline: bool = False\n",
    "        \n",
    "    environment: None = field(default=environment)\n",
    "    template: bool = True\n",
    "    \n",
    "    globals: dict = field(default_factory=lambda:IPython.get_ipython().user_ns, repr=False)\n",
    "        \n",
    "    ip: IPython.core.interactiveshell.InteractiveShell = field(default=IPython.get_ipython())\n",
    "    \n",
    "    html: str = False\n",
    "    should_display: bool = None\n",
    "                \n",
    "    def __post_init__(self):\n",
    "        if self.markdown: self.source, self.expressions = renderer(self.data)\n",
    "            \n",
    "        if self.format:\n",
    "            self.data = IPythonDollarTemplate(self.data).safe_substitute(**self.globals)\n",
    "            \n",
    "        if not self.markdown: self.source = self.data\n",
    "            \n",
    "        self.expressions = set(self.expressions)\n",
    "        \n",
    "    def __bool__(self):\n",
    "        if self.should_display is None: \n",
    "            self.should_display =  bool(\n",
    "                self.data.strip() and self.data.splitlines()[0].strip()\n",
    "                and (\n",
    "                    textwrap.dedent(self.data).strip()\n",
    "                    != textwrap.dedent(self.source).strip())\n",
    "            )\n",
    "        return self.should_display\n",
    "    \n",
    "    @property\n",
    "    def _ipython_display_cls_(self): \n",
    "        return self.html and IPython.display.HTML or IPython.display.Markdown\n",
    "    \n",
    "    def _ipython_display_(self):\n",
    "        if self:\n",
    "            self.display = IPython.display.display(self._ipython_display_cls_(str(self)), display_id=True)            \n",
    "    \n",
    "    def __str__(self):\n",
    "        if self.html: return mistune.markdown(self.data, escape=False, parse_block_html=True, parse_inline_html=True)\n",
    "        else: return self.data        "
   ]
  },
  {
   "cell_type": "code",
   "execution_count": 26,
   "metadata": {},
   "outputs": [],
   "source": [
    "@dataclass\n",
    "class Text(collections.UserString):\n",
    "    __doc__ = \"\"\"`Text` is an `object` that manages the statements and expressions\n",
    "    contained within a block of markdown text.\"\"\"\n",
    "    \n",
    "    data: str = None\n",
    "    \n",
    "    markdown: bool = True\n",
    "    format: bool = True\n",
    "    display: IPython.display.DisplayObject = None\n",
    "    \n",
    "    source: str = ''\n",
    "    \n",
    "    expressions: tuple = field(default_factory=tuple)\n",
    "    inline: bool = False\n",
    "        \n",
    "    environment: None = field(default=environment)\n",
    "    template: bool = True\n",
    "    \n",
    "    globals: dict = field(default_factory=lambda:IPython.get_ipython().user_ns, repr=False)\n",
    "        \n",
    "    ip: IPython.core.interactiveshell.InteractiveShell = field(default=IPython.get_ipython())\n",
    "    \n",
    "    html: str = False\n",
    "    should_display: bool = None\n",
    "                \n",
    "    def __post_init__(self):\n",
    "        if self.markdown: self.source, self.expressions = renderer(self.data)\n",
    "            \n",
    "        if self.format:\n",
    "            self.data = IPythonDollarTemplate(self.data).safe_substitute(**self.globals)\n",
    "            \n",
    "        if not self.markdown: self.source = self.data\n",
    "            \n",
    "        self.expressions = set(self.expressions)\n",
    "        \n",
    "    def __bool__(self):\n",
    "        if self.should_display is None: \n",
    "            self.should_display =  bool(\n",
    "                self.data.strip() and self.data.splitlines()[0].strip()\n",
    "                and (\n",
    "                    textwrap.dedent(self.data).strip()\n",
    "                    != textwrap.dedent(self.source).strip())\n",
    "            )\n",
    "        return self.should_display\n",
    "    \n",
    "    @property\n",
    "    def _ipython_display_cls_(self): \n",
    "        return self.html and IPython.display.HTML or IPython.display.Markdown\n",
    "    \n",
    "    def _ipython_display_(self):\n",
    "        if self:\n",
    "            self.display = IPython.display.display(self._ipython_display_cls_(str(self)), display_id=True)            \n",
    "    \n",
    "    def __str__(self):\n",
    "        if self.html: return mistune.markdown(self.data, escape=False, parse_block_html=True, parse_inline_html=True)\n",
    "        else: return self.data        "
   ]
  },
  {
   "cell_type": "code",
   "execution_count": 8,
   "metadata": {},
   "outputs": [],
   "source": [
    "class Template:\n",
    "    def _ipython_display_(self):\n",
    "        object = self._ipython_display_cls_(\n",
    "            self.environment.from_string(str(self)).render(**self.globals)\n",
    "        )\n",
    "        if self.display and self.display is not True: self.display.update(object)\n",
    "        else: IPython.display.display(object)"
   ]
  },
  {
   "cell_type": "code",
   "execution_count": 9,
   "metadata": {},
   "outputs": [],
   "source": [
    "class Expression(Text):\n",
    "    def __iter__(self):\n",
    "        yield from split_expression(self.data)\n",
    "        \n",
    "    def _ipython_display_(self):\n",
    "        texts = list(self)\n",
    "        for text in texts:\n",
    "            exception = None\n",
    "            try:\n",
    "                with IPython.utils.capture.capture_output() as capture:\n",
    "                    object = self(text)\n",
    "            except BaseException as Exception:\n",
    "                IPython.display.display(IPython.display.Markdown(F\"`>>> {self.data}`\")) \n",
    "                ip.showtraceback((type(Exception), Exception, Exception.__traceback__))\n",
    "                break\n",
    "                \n",
    "            if self.inline and text is texts[-1]:\n",
    "                IPython.display.display(IPython.display.Markdown(F\"`>>> {self.data}`\")) \n",
    "                text.strip() and capture.show()\n",
    "                object and IPython.display.display(object)\n",
    "                \n",
    "                \n",
    "    def __call__(self, source):\n",
    "        if source.strip():\n",
    "            return eval(self.ip.input_transformer_manager.transform_cell(source), \n",
    "                self.globals, self.globals)\n",
    "        return None"
   ]
  },
  {
   "cell_type": "code",
   "execution_count": null,
   "metadata": {},
   "outputs": [],
   "source": [
    "class Document(Text):    \n",
    "    def _ipython_display_(self):\n",
    "        (self.template and Template or Text)._ipython_display_(self)\n",
    "        for expression in self.expressions:\n",
    "            IPython.display.display(Expression(expression))"
   ]
  },
  {
   "cell_type": "code",
   "execution_count": null,
   "metadata": {},
   "outputs": [],
   "source": [
    "    class Cell(Text):\n",
    "        async def eval(self):\n",
    "            async with trio.open_nursery() as nursery:\n",
    "                for expression in self.expressions:\n",
    "                    nursery.start_soon(async_display, Expression(expression))\n",
    "                self and self.template and nursery.start_soon(async_display, self, Template)\n",
    "        \n",
    "        def _ipython_display_(self):\n",
    "            Text._ipython_display_(self)\n",
    "            trio.run(self.eval)\n",
    "            \n",
    "    async def async_display(object, cls=None):\n",
    "        if cls: cls._ipython_display_(object)\n",
    "        else: IPython.display.display(object)        "
   ]
  },
  {
   "cell_type": "code",
   "execution_count": 3,
   "metadata": {},
   "outputs": [],
   "source": [
    "    def split_expression(str, *expressions):\n",
    "        \"\"\"Split an expression on the semi colons.\"\"\"\n",
    "        start = 0\n",
    "        if str.startswith(';'): \n",
    "            \"\"\"This complies with the special IPython ; syntax\"\"\"\n",
    "            return str, \n",
    "        for id in toolz.pipe(\n",
    "            str, expression_tokens, \n",
    "            toolz.filter(toolz.compose(\n",
    "                ';'.__eq__, operator.attrgetter('string')\n",
    "            )), \n",
    "            toolz.map(toolz.compose(\n",
    "                toolz.second,\n",
    "                operator.attrgetter('start')\n",
    "            )),\n",
    "            list\n",
    "        ) + [len(str)]:\n",
    "            expressions += str[start:id].strip(),\n",
    "            start = id + 1\n",
    "        return expressions"
   ]
  },
  {
   "cell_type": "code",
   "execution_count": 4,
   "metadata": {},
   "outputs": [],
   "source": [
    "    def expression_tokens(str): \n",
    "        \"\"\"Tokenize expressions.\n",
    "        \"\"\"\n",
    "        try: return list(tokenize.generate_tokens(io.StringIO(str).readline))\n",
    "        except: return []"
   ]
  },
  {
   "cell_type": "code",
   "execution_count": null,
   "metadata": {},
   "outputs": [],
   "source": [
    "    def expression_tokens(str): \n",
    "        try: return list(tokenize.generate_tokens(io.StringIO(str).readline))\n",
    "        except: return []"
   ]
  },
  {
   "cell_type": "code",
   "execution_count": null,
   "metadata": {},
   "outputs": [],
   "source": []
  }
 ],
 "metadata": {
  "kernelspec": {
   "display_name": "Python 3",
   "language": "python",
   "name": "python3"
  },
  "language_info": {
   "codemirror_mode": {
    "name": "ipython",
    "version": 3
   },
   "file_extension": ".py",
   "mimetype": "text/x-python",
   "name": "python",
   "nbconvert_exporter": "python",
   "pygments_lexer": "ipython3",
   "version": "3.6.6"
  }
 },
 "nbformat": 4,
 "nbformat_minor": 2
}
