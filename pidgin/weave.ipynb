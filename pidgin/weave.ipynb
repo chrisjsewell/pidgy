{
 "cells": [
  {
   "cell_type": "code",
   "execution_count": 30,
   "metadata": {},
   "outputs": [],
   "source": [
    "    try:\n",
    "        from .markdown import renderer, CommonMark\n",
    "        from .environment import environment\n",
    "    except:\n",
    "        from markdown import renderer, CommonMark\n",
    "        from environment import environment\n",
    "\n",
    "        import IPython\n",
    "    import types, sys, IPython, asyncio, trio, traceback, ipykernel, traitlets, nbconvert, jinja2, operator, toolz.curried as toolz, tokenize, io, textwrap\n",
    "    ip = IPython.get_ipython()\n",
    "    import vdom\n",
    "\n",
    "    import toolz.curried as toolz\n",
    "\n",
    "    from dataclasses import dataclass, field\n",
    "\n",
    "    tangle = renderer\n",
    "\n",
    "    try:\n",
    "        from .expressions import evaluate_expression, evaluate_single_expressions\n",
    "    except:\n",
    "        from expressions import evaluate_expression, evaluate_single_expressions\n",
    "        "
   ]
  },
  {
   "cell_type": "code",
   "execution_count": 54,
   "metadata": {},
   "outputs": [],
   "source": [
    "    import contextlib"
   ]
  },
  {
   "cell_type": "code",
   "execution_count": 55,
   "metadata": {},
   "outputs": [],
   "source": [
    "    c = contextlib.ExitStack()"
   ]
  },
  {
   "cell_type": "code",
   "execution_count": 56,
   "metadata": {},
   "outputs": [],
   "source": [
    "    class AsyncMixin:\n",
    "        def __enter__(self):\n",
    "            IPython.display.display(self)\n",
    "            self._capturer = IPython.utils.capture.capture_output()\n",
    "            self.captured = self._capturer.__enter__()\n",
    "            return self\n",
    "                \n",
    "        def __exit__(self, *exc):\n",
    "            self._capturer.__exit__(*exc)\n",
    "            self.capture or self.captured.show()\n",
    "            if all(e is None for e in exc): \n",
    "                trio.run(self.aeval)\n"
   ]
  },
  {
   "cell_type": "code",
   "execution_count": 57,
   "metadata": {},
   "outputs": [],
   "source": [
    "    @dataclass\n",
    "    class Weave(AsynxMixin):\n",
    "        \"\"\"A contextmanager to initialize and finalize a weave step.  \n",
    "        \"\"\"\n",
    "        source: str = \"\"\n",
    "        block: str = \"\"\n",
    "        inline: bool = False\n",
    "        expressions: tuple = field(default_factory=tuple)\n",
    "        template: bool = True\n",
    "        markdown: bool = True\n",
    "        namespace: dict = field(default_factory=dict, repr=False)\n",
    "        display: bool = True\n",
    "        capture: bool = False\n",
    "        update: bool = True\n",
    "        environment: jinja2.Environment = field(default=environment)\n",
    "        ip: IPython.core.interactiveshell.InteractiveShell = field(default_factory=get_ipython)        \n",
    "        \n",
    "        def __post_init__(self):\n",
    "            if self.markdown:\n",
    "                self.block, self.expressions = renderer(self.source)\n",
    "            else:\n",
    "                self.block = self.block or self.source                \n",
    "            self.namespace = self.namespace or self.ip.user_ns\n",
    "            \n",
    "            if self.display is True:\n",
    "                self.display = IPython.core.display.DisplayHandle()\n",
    "                        \n",
    "        async def eval(self, *futures): \n",
    "            async with trio.open_nursery() as nursery:\n",
    "                self.inline and self.expressions and IPython.display.display(IPython.display.Markdown('---'))\n",
    "                for expression in self.expressions:\n",
    "                    nursery.start_soon(\n",
    "                        evaluate_expression, self.ip, expression, \n",
    "                        self.namespace, self.namespace)\n",
    "                self.template and nursery.start_soon(self.update)\n",
    "        \n",
    "        \n",
    "\n",
    "        async def update(self):\n",
    "            try:\n",
    "                self._should_display and self.display.update(\n",
    "                    IPython.display.Markdown(self.render()))\n",
    "            except: __import__('traceback').print_exc()\n",
    "        \n",
    "        def render(self):\n",
    "            return self.environment.from_string(self.source).render(**self.namespace)\n",
    "                \n",
    "        @property\n",
    "        def _should_display(self):\n",
    "            if not self.display: return \n",
    "            if not self.source.splitlines()[0].strip(): return \n",
    "            if self.source.lstrip().startswith('%%'): return \n",
    "            if textwrap.dedent(self.source).strip() == self.block.strip(): return \n",
    "            if self.display is False: return \n",
    "            return True\n",
    "                \n",
    "                    \n",
    "        def _ipython_display_(self):\n",
    "            self._should_display and self.display.display(IPython.display.Markdown(self.source))"
   ]
  },
  {
   "cell_type": "code",
   "execution_count": 58,
   "metadata": {},
   "outputs": [],
   "source": [
    "    class SyncMixin:\n",
    "                    \n",
    "        def __enter__(self):\n",
    "            self._capturer = IPython.utils.capture.capture_output()\n",
    "            self.captured = self._capturer.__enter__()\n",
    "            return self\n",
    "                \n",
    "        def __exit__(self, *exc):\n",
    "            self._capturer.__exit__(*exc)\n",
    "            \n",
    "            IPython.display.display(IPython.display.Markdown(self.render()))\n",
    "            if exc == (None, None, None):\n",
    "                self.capture or self.captured.show()\n",
    "            else:\n",
    "                traceback.print_last()\n",
    "                \n",
    "            self.expressions and IPython.display.display(IPython.display.Markdown('---'))\n",
    "            for expression in self.expressions:\n",
    "                IPython.display.display(vdom.code('>>> '+expression))\n",
    "                IPython.display.display(evaluate_single_expressions(self.ip, expression, self.namespace, self.namespace))\n"
   ]
  },
  {
   "cell_type": "code",
   "execution_count": 59,
   "metadata": {},
   "outputs": [],
   "source": [
    "class WeaveSync(SyncMixin, Weave): ..."
   ]
  }
 ],
 "metadata": {
  "kernelspec": {
   "display_name": "Python 3",
   "language": "python",
   "name": "python3"
  },
  "language_info": {
   "codemirror_mode": {
    "name": "ipython",
    "version": 3
   },
   "file_extension": ".py",
   "mimetype": "text/x-python",
   "name": "python",
   "nbconvert_exporter": "python",
   "pygments_lexer": "ipython3",
   "version": "3.6.6"
  }
 },
 "nbformat": 4,
 "nbformat_minor": 2
}
