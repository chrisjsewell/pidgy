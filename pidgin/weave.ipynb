{
 "cells": [
  {
   "cell_type": "code",
   "execution_count": 1,
   "metadata": {},
   "outputs": [],
   "source": [
    "    try:\n",
    "        from .markdown import renderer, CommonMark\n",
    "        from .environment import environment\n",
    "    except:\n",
    "        from markdown import renderer, CommonMark\n",
    "        from environment import environment\n",
    "\n",
    "        import IPython\n",
    "    import types, sys, IPython, asyncio, trio, traceback, ipykernel, traitlets, nbconvert, jinja2, operator, toolz.curried as toolz, tokenize, io, textwrap\n",
    "    ip = IPython.get_ipython()\n",
    "\n",
    "\n",
    "    import toolz.curried as toolz"
   ]
  },
  {
   "cell_type": "code",
   "execution_count": 2,
   "metadata": {},
   "outputs": [],
   "source": [
    "    from dataclasses import dataclass, field"
   ]
  },
  {
   "cell_type": "code",
   "execution_count": 3,
   "metadata": {},
   "outputs": [],
   "source": [
    "    tangle = renderer"
   ]
  },
  {
   "cell_type": "code",
   "execution_count": 4,
   "metadata": {},
   "outputs": [],
   "source": [
    "    try:\n",
    "        from .user_expressions import user_expressions, evaluate_expression, display_expression_results\n",
    "    except:\n",
    "        from user_expressions import user_expressions, evaluate_expression, display_expression_results"
   ]
  },
  {
   "cell_type": "code",
   "execution_count": 6,
   "metadata": {},
   "outputs": [],
   "source": [
    "    import jinja2"
   ]
  },
  {
   "cell_type": "code",
   "execution_count": 23,
   "metadata": {},
   "outputs": [],
   "source": [
    "    @dataclass\n",
    "    class Weave:\n",
    "        \"\"\"A contextmanager to initialize and finalize a weave step.  \n",
    "        \"\"\"\n",
    "        source: str = \"\"\n",
    "        block: str = \"\"\n",
    "        inline: tuple = field(default_factory=tuple)\n",
    "        template: bool = True\n",
    "        markdown: bool = True\n",
    "        namespace: dict = field(default_factory=dict, repr=False)\n",
    "        display: bool = True\n",
    "        environment: jinja2.Environment = field(default=environment)\n",
    "        ip: IPython.core.interactiveshell.InteractiveShell = field(default_factory=get_ipython)        \n",
    "        \n",
    "        def __post_init__(self):\n",
    "            if self.markdown:\n",
    "                self.block, inline = renderer(self.source)\n",
    "                if self.inline is not False:\n",
    "                    self.inline = inline\n",
    "            else:\n",
    "                self.block = self.block or self.source\n",
    "                if self.inline is True:\n",
    "                    self.inline = set()                \n",
    "            self.namespace = self.namespace or self.ip.user_ns\n",
    "            \n",
    "            if self.display is True:\n",
    "                self.display = IPython.core.display.DisplayHandle()\n",
    "        \n",
    "        def __enter__(self):\n",
    "            self.display and IPython.display.display(self)\n",
    "            return self\n",
    "        \n",
    "        def __exit__(self, *exc):\n",
    "            if all(e is None for e in exc): trio.run(self.expressions)\n",
    "                    \n",
    "        async def expressions(self, *futures): \n",
    "            async with trio.open_nursery() as nursery:\n",
    "                if self.inline:\n",
    "                    for expression in set(self.inline):\n",
    "                        nursery.start_soon(\n",
    "                            evaluate_expression, self.ip, expression, \n",
    "                            self.namespace, self.namespace)\n",
    "                \n",
    "                self.template and nursery.start_soon(self.render)\n",
    "                    \n",
    "        async def render(self):\n",
    "            try:\n",
    "                self.display and self.display.update(\n",
    "                    IPython.display.Markdown(\n",
    "                        self.environment.from_string(self.source).render(**self.namespace)\n",
    "                    ))\n",
    "            except: __import__('traceback').print_exc()\n",
    "                    \n",
    "        def _ipython_display_(self):\n",
    "            if not self.source.splitlines()[0].strip(): return\n",
    "            if self.source.lstrip().startswith('%%'): return\n",
    "            if textwrap.dedent(self.source).strip() == self.block.strip(): return\n",
    "            if self.display is False: return\n",
    "            self.display.display(IPython.display.Markdown(self.source))"
   ]
  },
  {
   "cell_type": "code",
   "execution_count": null,
   "metadata": {},
   "outputs": [],
   "source": []
  }
 ],
 "metadata": {
  "kernelspec": {
   "display_name": "Python 3",
   "language": "python",
   "name": "python3"
  },
  "language_info": {
   "codemirror_mode": {
    "name": "ipython",
    "version": 3
   },
   "file_extension": ".py",
   "mimetype": "text/x-python",
   "name": "python",
   "nbconvert_exporter": "python",
   "pygments_lexer": "ipython3",
   "version": "3.6.6"
  }
 },
 "nbformat": 4,
 "nbformat_minor": 2
}
