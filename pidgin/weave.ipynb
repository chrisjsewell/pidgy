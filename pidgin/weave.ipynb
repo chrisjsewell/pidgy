{
 "cells": [
  {
   "cell_type": "markdown",
   "metadata": {},
   "source": [
    "`weave` objects controls the output behaviours of a string containing source code."
   ]
  },
  {
   "cell_type": "code",
   "execution_count": 1,
   "metadata": {},
   "outputs": [],
   "source": [
    "from dataclasses import dataclass, field\n",
    "import collections, mistune, IPython, string, jinja2, operator, textwrap, tokenize, trio, toolz.curried as toolz, vdom"
   ]
  },
  {
   "cell_type": "code",
   "execution_count": 2,
   "metadata": {},
   "outputs": [],
   "source": [
    "try:\n",
    "    from .strings.markdown import renderer\n",
    "    from .strings.environment import environment, IPythonDollarTemplate\n",
    "except:\n",
    "    from strings.markdown import renderer\n",
    "    from strings.environment import environment, IPythonDollarTemplate"
   ]
  },
  {
   "cell_type": "code",
   "execution_count": 3,
   "metadata": {},
   "outputs": [],
   "source": [
    "ip = IPython.get_ipython()"
   ]
  },
  {
   "cell_type": "markdown",
   "metadata": {},
   "source": [
    "## Statements and Expressions\n",
    "\n",
    "In Python, `exec` is an statement and `eval` is a expression.  A difference between these function is that `exec` does not return a result and `eval` does return a result.  `exec` accepts any Python statements or expressions while `eval` accepts a subset of Python; assignments are not allowed.. "
   ]
  },
  {
   "cell_type": "markdown",
   "metadata": {},
   "source": [
    "`Text` is an `object` that manages the statements and expressions contained within a block of __Markdown__ text.\n",
    "\n",
    "`Text.data` contains the input source text may be __Markdown__; indented source code is valid __Markdown__ code.  With `Text.markdown` enabled `Text.data` is:\n",
    "\n",
    "1. Passes through a __Markdown__ parser to extract the\n",
    "\n",
    "    * block code statements and expressions \n",
    "    * inline code expressions\n",
    "    \n",
    "    > `Text.markdown` will toggle Markdown mode being on and off. \n",
    "    \n",
    "2. `Text.data` passes through a `string.Template` operator to replace templated expressions with `IPython.display` `object`s.\n",
    "\n",
    "    > `Text.format` will toggle the `string.Template` operation.\n",
    "\n",
    "`Text.source` is extracted from `Text.data` during `Text.__post_init__`.  `Text.source` is block code from the __Markdown___ body; fenced code blocks are executed as magics. \n",
    "\n",
    "`Text.expressions` is a `tuple` of inline __Markdown__ code objects.   These expressions will always return a display when there is \n",
    "an error to assure that all code objects are reproducible.  `Test.expressions` are motivated by the `IPython.core.interactiveshell.InteractiveShell.user_expressions` that only evaluate single expression\n",
    "\n",
    "> `Text.inline` toggles the display behavior of `Test.expressions`"
   ]
  },
  {
   "cell_type": "code",
   "execution_count": 4,
   "metadata": {},
   "outputs": [],
   "source": [
    "    from pidgin.strings.markdown import requote"
   ]
  },
  {
   "cell_type": "markdown",
   "metadata": {},
   "source": [
    "%reload_ext pidgin.display"
   ]
  },
  {
   "cell_type": "code",
   "execution_count": 6,
   "metadata": {},
   "outputs": [],
   "source": [
    "    import ast"
   ]
  },
  {
   "cell_type": "code",
   "execution_count": 16,
   "metadata": {},
   "outputs": [],
   "source": [
    "@dataclass\n",
    "class Text(collections.UserString):\n",
    "    __doc__ = \"\"\"`Text` is an `object` that manages the statements and expressions\n",
    "    contained within a block of markdown text.\"\"\"\n",
    "    \n",
    "    data: str = None\n",
    "    \n",
    "    markdown: bool = True\n",
    "    format: bool = False\n",
    "    display: IPython.display.DisplayObject = None\n",
    "    \n",
    "    source: str = ''\n",
    "    \n",
    "    expressions: tuple = field(default_factory=tuple)\n",
    "    inline: bool = False\n",
    "        \n",
    "    environment: None = field(default=environment)\n",
    "    template: bool = True\n",
    "    \n",
    "    globals: dict = field(default_factory=lambda:IPython.get_ipython().user_ns, repr=False)\n",
    "        \n",
    "    ip: IPython.core.interactiveshell.InteractiveShell = field(default=IPython.get_ipython())\n",
    "    \n",
    "    html: str = False\n",
    "    should_display: bool = None\n",
    "                \n",
    "    def __post_init__(self):\n",
    "        # Test if the source is a valid string formatter\n",
    "        self.raw = self.data\n",
    "        if self.markdown: \n",
    "            self.source, self.expressions = renderer(self.data)\n",
    "                        \n",
    "        if self.data and self.format:\n",
    "            self.data = IPythonDollarTemplate(self.data).safe_substitute(**self.globals)\n",
    "            \n",
    "        if not self.markdown: self.source = self.data\n",
    "            \n",
    "        self.expressions = set(self.expressions)\n",
    "        \n",
    "    def __bool__(self):\n",
    "        stripped = self.data.strip()\n",
    "        try:\n",
    "            if  stripped == ast.literal_eval(self.source).strip(): \n",
    "                return False\n",
    "        except: ...\n",
    "\n",
    "        if stripped.rstrip().endswith(';'): return False\n",
    "        if stripped and not self.data.splitlines()[0].strip(): return False\n",
    "        if textwrap.dedent(self.data).strip() == textwrap.dedent(self.source).strip(): return False\n",
    "        return True\n",
    "        \n",
    "    \n",
    "    @property\n",
    "    def _ipython_display_cls_(self): \n",
    "        return self.html and IPython.display.HTML or IPython.display.Markdown\n",
    "    \n",
    "    def _ipython_display_(self):\n",
    "        if self:\n",
    "            self.display = IPython.display.display(self.data, display_id=True)            "
   ]
  },
  {
   "cell_type": "code",
   "execution_count": 17,
   "metadata": {},
   "outputs": [],
   "source": [
    "class Expression(Text):\n",
    "    def __iter__(self):\n",
    "        yield from split_expression(self.data)\n",
    "        \n",
    "    def _ipython_display_(self):\n",
    "        texts = list(self)\n",
    "        for text in texts:\n",
    "            exception = None\n",
    "            try:\n",
    "                with IPython.utils.capture.capture_output() as capture:\n",
    "                    object = self(text)\n",
    "            except BaseException as Exception:\n",
    "                IPython.display.display(IPython.display.Markdown(F\"`>>> {self.data}`\")) \n",
    "                ip.showtraceback((type(Exception), Exception, Exception.__traceback__))\n",
    "                break\n",
    "                \n",
    "            if self.inline and text is texts[-1]:\n",
    "                IPython.display.display(IPython.display.Markdown(F\"`>>> {self.data}`\")) \n",
    "                text.strip() and capture.show()\n",
    "                object and IPython.display.display(object)\n",
    "                \n",
    "                \n",
    "    def __call__(self, source):\n",
    "        if source.strip():\n",
    "            return eval(self.ip.input_transformer_manager.transform_cell(source), \n",
    "                self.globals, self.globals)\n",
    "        return None"
   ]
  },
  {
   "cell_type": "code",
   "execution_count": 18,
   "metadata": {},
   "outputs": [],
   "source": [
    "class Document(Text):    \n",
    "    def _ipython_display_(self):\n",
    "        Text._ipython_display_(self)\n",
    "        for expression in self.expressions:\n",
    "            IPython.display.display(Expression(expression))"
   ]
  },
  {
   "cell_type": "code",
   "execution_count": 19,
   "metadata": {},
   "outputs": [],
   "source": [
    "    def split_expression(str, *expressions):\n",
    "        \"\"\"Split an expression on the semi colons.\"\"\"\n",
    "        start = 0\n",
    "        if str.startswith(';') and str.strip().strip(';'): \n",
    "            \"\"\"This complies with the special IPython ; syntax\"\"\"\n",
    "            return str, \n",
    "        for id in toolz.pipe(\n",
    "            str, expression_tokens, \n",
    "            toolz.filter(toolz.compose(\n",
    "                ';'.__eq__, operator.attrgetter('string')\n",
    "            )), \n",
    "            toolz.map(toolz.compose(\n",
    "                toolz.second,\n",
    "                operator.attrgetter('start')\n",
    "            )),\n",
    "            list\n",
    "        ) + [len(str)]:\n",
    "            expressions += str[start:id].strip(),\n",
    "            start = id + 1\n",
    "        return expressions"
   ]
  },
  {
   "cell_type": "code",
   "execution_count": 20,
   "metadata": {},
   "outputs": [],
   "source": [
    "    def expression_tokens(str): \n",
    "        \"\"\"Tokenize expressions.\n",
    "        \"\"\"\n",
    "        try: return list(tokenize.generate_tokens(io.StringIO(str).readline))\n",
    "        except: return []"
   ]
  },
  {
   "cell_type": "code",
   "execution_count": 21,
   "metadata": {},
   "outputs": [],
   "source": [
    "    def expression_tokens(str): \n",
    "        try: return list(tokenize.generate_tokens(io.StringIO(str).readline))\n",
    "        except: return []"
   ]
  }
 ],
 "metadata": {
  "kernelspec": {
   "display_name": "Python 3",
   "language": "python",
   "name": "python3"
  },
  "language_info": {
   "codemirror_mode": {
    "name": "ipython",
    "version": 3
   },
   "file_extension": ".py",
   "mimetype": "text/x-python",
   "name": "python",
   "nbconvert_exporter": "python",
   "pygments_lexer": "ipython3",
   "version": "3.6.6"
  }
 },
 "nbformat": 4,
 "nbformat_minor": 2
}
