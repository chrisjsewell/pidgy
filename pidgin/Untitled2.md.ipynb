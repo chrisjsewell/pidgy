{
 "cells": [
  {
   "cell_type": "code",
   "execution_count": 1,
   "metadata": {},
   "outputs": [
    {
     "data": {
      "text/markdown": [
       "# `pidgin` programming\n",
       "\n",
       "    import pidgin\n",
       "\n",
       "`pidgin` programming arises when multiple languages or grammars are requirements to communicate computational thought."
      ],
      "text/plain": [
       "<IPython.core.display.Markdown object>"
      ]
     },
     "metadata": {},
     "output_type": "display_data"
    },
    {
     "name": "stdout",
     "output_type": "stream",
     "text": [
      "------> `pidgin`\n"
     ]
    },
    {
     "data": {
      "text/plain": [
       "<module 'pidgin' from 'c:\\\\users\\\\deathbeds\\\\pidgin\\\\pidgin\\\\__init__.py'>"
      ]
     },
     "metadata": {},
     "output_type": "display_data"
    }
   ],
   "source": [
    "# `pidgin` programming\n",
    "\n",
    "    import pidgin\n",
    "\n",
    "`pidgin` programming arises when multiple languages or grammars are requirements to communicate computational thought."
   ]
  },
  {
   "cell_type": "code",
   "execution_count": 2,
   "metadata": {},
   "outputs": [
    {
     "data": {
      "text/markdown": [
       "    import IPython"
      ],
      "text/plain": [
       "<IPython.core.display.Markdown object>"
      ]
     },
     "metadata": {},
     "output_type": "display_data"
    }
   ],
   "source": [
    "    import IPython"
   ]
  },
  {
   "cell_type": "code",
   "execution_count": null,
   "metadata": {},
   "outputs": [],
   "source": []
  },
  {
   "cell_type": "code",
   "execution_count": null,
   "metadata": {},
   "outputs": [],
   "source": [
    "    asyncio.run_coroutine_threadsafe"
   ]
  },
  {
   "cell_type": "code",
   "execution_count": 27,
   "metadata": {},
   "outputs": [
    {
     "data": {
      "text/markdown": [
       "    display_id = IPython.display.display(\"asdf\", display_id=True)"
      ],
      "text/plain": [
       "<IPython.core.display.Markdown object>"
      ]
     },
     "metadata": {},
     "output_type": "display_data"
    },
    {
     "data": {
      "text/markdown": [
       "Task C: Compute factorial(4)..."
      ],
      "text/plain": [
       "'Task C: Compute factorial(4)...'"
      ]
     },
     "metadata": {},
     "output_type": "display_data"
    }
   ],
   "source": [
    "    display_id = IPython.display.display(\"asdf\", display_id=True)"
   ]
  },
  {
   "cell_type": "code",
   "execution_count": 28,
   "metadata": {},
   "outputs": [
    {
     "data": {
      "text/plain": [
       "<Future at 0x146c07770f0 state=pending>"
      ]
     },
     "execution_count": 28,
     "metadata": {},
     "output_type": "execute_result"
    },
    {
     "name": "stdout",
     "output_type": "stream",
     "text": [
      "Task A: factorial(2) = 2\n",
      "Task B: factorial(3) = 6\n",
      "Task C: factorial(4) = 24\n"
     ]
    }
   ],
   "source": [
    "   \n",
    "    import asyncio\n",
    "\n",
    "    async def factorial(name, number):\n",
    "        f = 1\n",
    "        for i in range(2, number + 1):\n",
    "            # print(f\"Task {name}: Compute factorial({i})...\")\n",
    "            await asyncio.sleep(1)\n",
    "            IPython.display.update_display(f\"Task {name}: Compute factorial({i})...\", display_id=display_id.display_id)\n",
    "            f *= i\n",
    "        print(f\"Task {name}: factorial({number}) = {f}\")\n",
    "\n",
    "    async def main():\n",
    "        # Schedule three calls *concurrently*:\n",
    "        await asyncio.gather(\n",
    "            factorial(\"A\", 2),\n",
    "            factorial(\"B\", 3),\n",
    "            factorial(\"C\", 4),\n",
    "        )\n",
    "\n",
    "    asyncio.run_coroutine_threadsafe(main(), asyncio.get_event_loop())\n"
   ]
  },
  {
   "cell_type": "code",
   "execution_count": null,
   "metadata": {},
   "outputs": [],
   "source": []
  }
 ],
 "metadata": {
  "kernelspec": {
   "display_name": "pidgin",
   "language": "",
   "name": "pidgin"
  },
  "language_info": {
   "argv": [
    "python",
    "-m",
    "pidgin.kernel",
    "-f",
    "{connection_file}"
   ],
   "codemirror_mode": {
    "name": "ipython",
    "version": 3
   },
   "display_name": "pidgin",
   "file_extension": ".md.ipynb",
   "mimetype": "text/x-python",
   "name": "pidgin",
   "nbconvert_exporter": "python",
   "pygments_lexer": "ipython3",
   "version": "3.6.6"
  }
 },
 "nbformat": 4,
 "nbformat_minor": 2
}
