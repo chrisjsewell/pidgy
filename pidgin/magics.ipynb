{
 "cells": [
  {
   "cell_type": "code",
   "execution_count": 1,
   "metadata": {},
   "outputs": [],
   "source": [
    "    import argparse\n",
    "    from . import shell"
   ]
  },
  {
   "cell_type": "code",
   "execution_count": 2,
   "metadata": {},
   "outputs": [
    {
     "data": {
      "text/plain": [
       "_StoreTrueAction(option_strings=['-i', '--ipython'], dest='ipython', nargs=0, const=True, default=False, type=None, choices=None, help='Use normal IPython mode', metavar=None)"
      ]
     },
     "execution_count": 2,
     "metadata": {},
     "output_type": "execute_result"
    }
   ],
   "source": [
    "    parser = argparse.ArgumentParser(description=\"\"\"Modify settings for a running pidgin kernel.\"\"\")\n",
    "    parser.add_argument('-m', '--markdown', action='store_true', help='Allow markdown cells as input.')\n",
    "    parser.add_argument('-t', '--template', action='store_true', help='Template')\n",
    "    parser.add_argument('-l', '--literate', action='store_true', help='Use the literate computing mode.')\n",
    "    parser.add_argument('-i', '--ipython', action='store_true', help='Use normal IPython mode')"
   ]
  },
  {
   "cell_type": "code",
   "execution_count": 3,
   "metadata": {},
   "outputs": [],
   "source": [
    "    from IPython.core.magic import (Magics, magics_class, line_magic,\n",
    "                                    cell_magic, line_cell_magic)\n",
    "\n",
    "    @magics_class\n",
    "    class PidginMagics(Magics):\n",
    "        @line_magic\n",
    "        def pidgin(self, line, cell=None):\n",
    "            args = vars(parser.parse_args(line.split()))\n",
    "            literate, ipython = args.pop('literate'), args.pop('ipython')\n",
    "            if literate:\n",
    "                args['markdown'] = args['template'] = True\n",
    "                \n",
    "            elif ipython:\n",
    "                args['markdown'] = args['template'] = False\n",
    "\n",
    "            for key, value in args.items():\n",
    "                setattr(self.shell, key, value)\n",
    "                \n",
    "        @cell_magic('pidgin')\n",
    "        def pidgin_cell(self, line, cell):\n",
    "            shell.PidginShell.run_cell(self.shell, cell)"
   ]
  },
  {
   "cell_type": "code",
   "execution_count": 4,
   "metadata": {},
   "outputs": [],
   "source": [
    "    def load_ipython_extension(ip):\n",
    "        ip.register_magics(PidginMagics)\n",
    "    __name__ == '__main__' and load_ipython_extension(get_ipython())"
   ]
  }
 ],
 "metadata": {
  "kernelspec": {
   "display_name": "Python 3",
   "language": "python",
   "name": "python3"
  },
  "language_info": {
   "codemirror_mode": {
    "name": "ipython",
    "version": 3
   },
   "file_extension": ".py",
   "mimetype": "text/x-python",
   "name": "python",
   "nbconvert_exporter": "python",
   "pygments_lexer": "ipython3",
   "version": "3.6.6"
  }
 },
 "nbformat": 4,
 "nbformat_minor": 2
}
