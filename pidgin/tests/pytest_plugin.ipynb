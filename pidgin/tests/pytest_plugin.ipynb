{
 "cells": [
  {
   "cell_type": "code",
   "execution_count": 1,
   "metadata": {},
   "outputs": [],
   "source": [
    "    from nbval.plugin import *\n",
    "\n",
    "    try: from . import imports\n",
    "    except: from __init__ import imports\n",
    "\n",
    "    import types\n",
    "    def execute_cell_input(self, cell_input, allow_stdin=None):\n",
    "        return super(IPyNbFile, self).setup(imports.pidgin.transform_cell(cell_input), allow_stdin=None)\n",
    "\n",
    "\n",
    "    class PidginFile(IPyNbFile):\n",
    "        def setup(self):\n",
    "            super().setup()\n",
    "            \n",
    "\n",
    "    def pytest_collect_file(path, parent):\n",
    "        opt = parent.config.option\n",
    "        if (opt.nbval or opt.nbval_lax) and path.fnmatch(\"*.ipynb\"):\n",
    "            print(path)\n",
    "            return PidginFile(path, parent)\n"
   ]
  }
 ],
 "metadata": {
  "kernelspec": {
   "display_name": "Python 3",
   "language": "python",
   "name": "python3"
  },
  "language_info": {
   "codemirror_mode": {
    "name": "ipython",
    "version": 3
   },
   "file_extension": ".py",
   "mimetype": "text/x-python",
   "name": "python",
   "nbconvert_exporter": "python",
   "pygments_lexer": "ipython3",
   "version": "3.7.3"
  }
 },
 "nbformat": 4,
 "nbformat_minor": 4
}
