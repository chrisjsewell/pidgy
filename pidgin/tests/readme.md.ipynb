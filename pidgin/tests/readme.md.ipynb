{
 "cells": [
  {
   "cell_type": "code",
   "execution_count": 12,
   "metadata": {},
   "outputs": [
    {
     "data": {
      "text/markdown": [
       "    import pidgin, pytest, nbval, doctest, importnb.utils.pytest_importnb"
      ],
      "text/plain": [
       "<IPython.core.display.Markdown object>"
      ]
     },
     "metadata": {
      "text/markdown": {
       "end_time": "2020-02-03T02:18:56.873043",
       "modules": [],
       "names": [],
       "start_time": "2020-02-03T02:18:56.871377"
      }
     },
     "output_type": "display_data"
    }
   ],
   "source": [
    "    import pidgin, pytest, nbval, doctest, importnb.utils.pytest_importnb"
   ]
  },
  {
   "cell_type": "code",
   "execution_count": 13,
   "metadata": {},
   "outputs": [
    {
     "data": {
      "text/markdown": [
       "`pidgin` provides a `pytest` plugin that works only on `\".md.ipynb\"` files.\n",
       "The `pidgin.kernel` works directly with `nbval`, install the python packkage and use the --nbval flag.\n",
       "`pidgin` uses features from `importnb` to support standard tests discovery, \n",
       "and `doctest` discovery across all strings.\n",
       "\n",
       "Still working on coverage."
      ],
      "text/plain": [
       "<IPython.core.display.Markdown object>"
      ]
     },
     "metadata": {
      "text/markdown": {
       "end_time": "2020-02-03T02:18:58.211461",
       "modules": [],
       "names": [],
       "start_time": "2020-02-03T02:18:58.202788"
      }
     },
     "output_type": "display_data"
    }
   ],
   "source": [
    "`pidgin` provides a `pytest` plugin that works only on `\".md.ipynb\"` files.\n",
    "The `pidgin.kernel` works directly with `nbval`, install the python packkage and use the --nbval flag.\n",
    "`pidgin` uses features from `importnb` to support standard tests discovery, \n",
    "and `doctest` discovery across all strings.\n",
    "\n",
    "Still working on coverage."
   ]
  },
  {
   "cell_type": "code",
   "execution_count": 15,
   "metadata": {},
   "outputs": [
    {
     "data": {
      "text/markdown": [
       "    class PidginModule(importnb.utils.pytest_importnb.NotebookModule):\n",
       "The `PidginModule` permits standard test discovery in notebooks.\n",
       "Functions beginning with `\"test_\"` indicate test functions.\n",
       "\n",
       "        loader = pidgin.imports.PidginLoader"
      ],
      "text/plain": [
       "<IPython.core.display.Markdown object>"
      ]
     },
     "metadata": {
      "text/markdown": {
       "end_time": "2020-02-03T02:19:00.402415",
       "modules": [],
       "names": [],
       "start_time": "2020-02-03T02:19:00.397454"
      }
     },
     "output_type": "display_data"
    }
   ],
   "source": [
    "    class PidginModule(importnb.utils.pytest_importnb.NotebookModule):\n",
    "The `PidginModule` permits standard test discovery in notebooks.\n",
    "Functions beginning with `\"test_\"` indicate test functions.\n",
    "\n",
    "        loader = pidgin.imports.PidginLoader"
   ]
  },
  {
   "cell_type": "code",
   "execution_count": 16,
   "metadata": {},
   "outputs": [
    {
     "data": {
      "text/markdown": [
       "    class PidginTests(importnb.utils.pytest_importnb.NotebookTests):\n",
       "        modules = PidginModule,\n",
       "\n",
       "    pytest_collect_file = PidginTests.__call__"
      ],
      "text/plain": [
       "<IPython.core.display.Markdown object>"
      ]
     },
     "metadata": {
      "text/markdown": {
       "end_time": "2020-02-03T02:19:00.575952",
       "modules": [],
       "names": [
        "pytest_collect_file"
       ],
       "start_time": "2020-02-03T02:19:00.573887"
      }
     },
     "output_type": "display_data"
    }
   ],
   "source": [
    "    class PidginTests(importnb.utils.pytest_importnb.NotebookTests):\n",
    "        modules = PidginModule,\n",
    "\n",
    "    pytest_collect_file = PidginTests.__call__"
   ]
  }
 ],
 "metadata": {
  "kernelspec": {
   "display_name": "Pidgin 3",
   "language": "python",
   "name": "pidgin"
  },
  "language_info": {
   "codemirror_mode": {
    "name": "ipython",
    "version": 3
   },
   "file_extension": ".py",
   "mimetype": "text/x-python",
   "name": "python",
   "nbconvert_exporter": "python",
   "pygments_lexer": "ipython3",
   "version": "3.7.3"
  }
 },
 "nbformat": 4,
 "nbformat_minor": 4
}
