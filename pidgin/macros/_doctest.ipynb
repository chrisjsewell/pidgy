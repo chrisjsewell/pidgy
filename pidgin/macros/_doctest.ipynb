{
 "cells": [
  {
   "cell_type": "markdown",
   "metadata": {},
   "source": [
    "# `rules` are magic functions and regular expressions that express unique displays from strings."
   ]
  },
  {
   "cell_type": "code",
   "execution_count": 1,
   "metadata": {},
   "outputs": [],
   "source": [
    "import IPython"
   ]
  },
  {
   "cell_type": "code",
   "execution_count": 2,
   "metadata": {},
   "outputs": [],
   "source": [
    "from .base import MagicStrings"
   ]
  },
  {
   "cell_type": "code",
   "execution_count": 3,
   "metadata": {},
   "outputs": [],
   "source": [
    "docstring_pattern = globals().get('docstring_pattern', None)\n",
    "if not docstring_pattern:\n",
    "    for i, transformer in enumerate(IPython.get_ipython().input_transformers_cleanup):\n",
    "        if isinstance(transformer, IPython.core.inputtransformer2.PromptStripper) and transformer.prompt_re.pattern == '^(>>>|\\\\.\\\\.\\\\.)( |$)':\n",
    "            docstring_pattern = transformer"
   ]
  },
  {
   "cell_type": "code",
   "execution_count": 4,
   "metadata": {},
   "outputs": [],
   "source": [
    "@MagicStrings.append('*>>> *')\n",
    "def doctest(str):\n",
    "    import doctest\n",
    "    global runner\n",
    "    runner = doctest.DocTestRunner()\n",
    "    runner.run(\n",
    "        doctest.DocTest(\n",
    "            examples=doctest.DocTestParser().get_examples(str),\n",
    "            globs=IPython.get_ipython().user_global_ns, \n",
    "            name=__name__, \n",
    "            filename=__name__, \n",
    "            lineno=1, \n",
    "            docstring=str)\n",
    "    )\n",
    "    return '🏆'*(len(runner.test.examples)-runner.failures)"
   ]
  },
  {
   "cell_type": "code",
   "execution_count": 6,
   "metadata": {},
   "outputs": [],
   "source": [
    "def load_ipython_extension(ip):\n",
    "    transformers = list(ip.input_transformers_cleanup)\n",
    "    for i, transformer in enumerate(transformers):\n",
    "        if transformer is docstring_pattern:\n",
    "            ip.input_transformers_cleanup.pop(i)\n",
    "            break\n",
    "            \n",
    "    ip.display_formatter.mimebundle_formatter.for_type(str, MagicStrings)\n",
    "    \n",
    "def unload_ipython_extension(ip):\n",
    "    ip.display_formatter.mimebundle_formatter.for_type(str)\n",
    "    ip.input_transformers_cleanup.append(docstring_pattern)\n",
    "\n",
    "    \n",
    "__name__ == '__main__' and load_ipython_extension(IPython.get_ipython())"
   ]
  }
 ],
 "metadata": {
  "kernelspec": {
   "display_name": "Python 3",
   "language": "python",
   "name": "python3"
  },
  "language_info": {
   "codemirror_mode": {
    "name": "ipython",
    "version": 3
   },
   "file_extension": ".py",
   "mimetype": "text/x-python",
   "name": "python",
   "nbconvert_exporter": "python",
   "pygments_lexer": "ipython3",
   "version": "3.6.6"
  }
 },
 "nbformat": 4,
 "nbformat_minor": 2
}
