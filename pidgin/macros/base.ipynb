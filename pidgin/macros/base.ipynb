{
 "cells": [
  {
   "cell_type": "markdown",
   "metadata": {},
   "source": [
    "# `rules` are magic functions and regular expressions that express unique displays from strings."
   ]
  },
  {
   "cell_type": "code",
   "execution_count": 3,
   "metadata": {},
   "outputs": [],
   "source": [
    "import abc, fnmatch, IPython, functools"
   ]
  },
  {
   "cell_type": "code",
   "execution_count": 4,
   "metadata": {},
   "outputs": [],
   "source": [
    "import vdom; from vdom import div, img; from vdom.svg import iframe\n",
    "from mimetypes import guess_type; guess = lambda x: guess_type(x)[0]"
   ]
  },
  {
   "cell_type": "code",
   "execution_count": 5,
   "metadata": {},
   "outputs": [],
   "source": [
    "     import IPython"
   ]
  },
  {
   "cell_type": "code",
   "execution_count": 6,
   "metadata": {},
   "outputs": [],
   "source": [
    "    ip = get_ipython()"
   ]
  },
  {
   "cell_type": "code",
   "execution_count": 7,
   "metadata": {},
   "outputs": [],
   "source": [
    "    from dataclasses import dataclass"
   ]
  },
  {
   "cell_type": "code",
   "execution_count": 8,
   "metadata": {},
   "outputs": [],
   "source": [
    "    import inspect"
   ]
  },
  {
   "cell_type": "code",
   "execution_count": 9,
   "metadata": {},
   "outputs": [],
   "source": [
    "    import operator"
   ]
  },
  {
   "cell_type": "code",
   "execution_count": 10,
   "metadata": {},
   "outputs": [],
   "source": [
    "    @dataclass\n",
    "    class NoArgsCellMagic:\n",
    "        callable: callable = None\n",
    "        __name__ = property(operator.attrgetter('callable.__name__'))\n",
    "        __doc__ = property(operator.attrgetter('callable.__doc__'))\n",
    "        def __call__(self, line, cell): return self.callable(cell)"
   ]
  },
  {
   "cell_type": "code",
   "execution_count": 11,
   "metadata": {},
   "outputs": [],
   "source": [
    "    import mistune"
   ]
  },
  {
   "cell_type": "code",
   "execution_count": 16,
   "metadata": {},
   "outputs": [],
   "source": [
    "    class MagicStringsDispatch(abc.ABCMeta):\n",
    "        \n",
    "        def append(self, key):\n",
    "            ip = IPython.get_ipython()\n",
    "            def attach(callable): \n",
    "                ip.register_magic_function(NoArgsCellMagic(callable), 'cell')\n",
    "                setattr(self, key, callable)\n",
    "                return callable\n",
    "            return attach\n",
    "        \n",
    "\n",
    "        def __call__(self, str, result=None):\n",
    "            for attr in (x for x in dir(self) if '*' in x):\n",
    "                if fnmatch.fnmatch(str, attr):\n",
    "                    result = getattr(self, attr)(str)\n",
    "                    \n",
    "                    if isinstance(result, dict) and str in result:\n",
    "                        result = result[str]\n",
    "                        if result['status'] == 'ok':\n",
    "                            return result['data'], result['metadata']\n",
    "                        else: ...\n",
    "\n",
    "                    elif result is not None:\n",
    "                        data, metadata = IPython.get_ipython().display_formatter.format(result)\n",
    "                        return data, metadata\n",
    "                    \n",
    "                \n",
    "            if str and str.splitlines()[0].strip():\n",
    "                return {\n",
    "                    'text/markdown': str\n",
    "                }, {}"
   ]
  },
  {
   "cell_type": "code",
   "execution_count": 13,
   "metadata": {},
   "outputs": [],
   "source": [
    "    class MagicStrings(metaclass=MagicStringsDispatch): ..."
   ]
  },
  {
   "cell_type": "code",
   "execution_count": 14,
   "metadata": {},
   "outputs": [],
   "source": [
    "def load_ipython_extension(ip):\n",
    "    ip.display_formatter.mimebundle_formatter.for_type(str, MagicStrings)\n",
    "    \n",
    "def unload_ipython_extension(ip):\n",
    "    ip.display_formatter.mimebundle_formatter.for_type(str)\n",
    "    \n",
    "__name__ == '__main__' and load_ipython_extension(get_ipython())"
   ]
  },
  {
   "cell_type": "code",
   "execution_count": null,
   "metadata": {},
   "outputs": [],
   "source": []
  }
 ],
 "metadata": {
  "kernelspec": {
   "display_name": "Python 3",
   "language": "python",
   "name": "python3"
  },
  "language_info": {
   "codemirror_mode": {
    "name": "ipython",
    "version": 3
   },
   "file_extension": ".py",
   "mimetype": "text/x-python",
   "name": "python",
   "nbconvert_exporter": "python",
   "pygments_lexer": "ipython3",
   "version": "3.6.6"
  }
 },
 "nbformat": 4,
 "nbformat_minor": 2
}
