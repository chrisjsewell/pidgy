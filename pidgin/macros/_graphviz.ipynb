{
 "cells": [
  {
   "cell_type": "code",
   "execution_count": 2,
   "metadata": {},
   "outputs": [],
   "source": [
    "from .base import MagicStrings, load_ipython_extension, unload_ipython_extension"
   ]
  },
  {
   "cell_type": "code",
   "execution_count": 3,
   "metadata": {},
   "outputs": [],
   "source": [
    "class TheSads(BaseException): ..."
   ]
  },
  {
   "cell_type": "code",
   "execution_count": 18,
   "metadata": {},
   "outputs": [],
   "source": [
    "@MagicStrings.append('graph*{*}*')\n",
    "@MagicStrings.append('digraph*{*}*')\n",
    "def graphviz(str):\n",
    "    try:\n",
    "        import graphviz\n",
    "    except ModuleNotFoundError as Exception: \n",
    "        raise TheSads(\"\"\"🙁 awww, we're sorry you need graphviz to continue.\n",
    "    \n",
    "    We suggest using `conda`.\n",
    "    \n",
    "    `conda install -c conda-forge graphviz` \n",
    "    \"\"\") from Exception\n",
    "    class Source(graphviz.Source):\n",
    "        def _repr_svg_(self):\n",
    "            return ''.join(super()._repr_svg_().splitlines())\n",
    "    return Source(str)"
   ]
  }
 ],
 "metadata": {
  "kernelspec": {
   "display_name": "Python 3",
   "language": "python",
   "name": "python3"
  },
  "language_info": {
   "codemirror_mode": {
    "name": "ipython",
    "version": 3
   },
   "file_extension": ".py",
   "mimetype": "text/x-python",
   "name": "python",
   "nbconvert_exporter": "python",
   "pygments_lexer": "ipython3",
   "version": "3.6.6"
  }
 },
 "nbformat": 4,
 "nbformat_minor": 2
}
