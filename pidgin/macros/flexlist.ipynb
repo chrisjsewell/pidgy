{
 "cells": [
  {
   "cell_type": "code",
   "execution_count": 8,
   "metadata": {},
   "outputs": [],
   "source": [
    "from .base import MagicStrings, load_ipython_extension, unload_ipython_extension"
   ]
  },
  {
   "cell_type": "code",
   "execution_count": 9,
   "metadata": {},
   "outputs": [],
   "source": [
    "import base64, IPython"
   ]
  },
  {
   "cell_type": "code",
   "execution_count": 10,
   "metadata": {},
   "outputs": [],
   "source": [
    "from collections import UserList"
   ]
  },
  {
   "cell_type": "code",
   "execution_count": 11,
   "metadata": {},
   "outputs": [],
   "source": [
    "from vdom import *\n",
    "from vdom.svg import *"
   ]
  },
  {
   "cell_type": "code",
   "execution_count": 12,
   "metadata": {},
   "outputs": [],
   "source": [
    "element = div('%s', style={'flex': '1'})._repr_html_()\n",
    "row = div('%s', style={'display': 'flex', 'flex-direction': 'row'})._repr_html_()\n",
    "column = div('%s', style={'display': 'flex', 'flex-direction': 'column'})._repr_html_()"
   ]
  },
  {
   "cell_type": "code",
   "execution_count": 13,
   "metadata": {},
   "outputs": [],
   "source": [
    "import mistune"
   ]
  },
  {
   "cell_type": "code",
   "execution_count": 22,
   "metadata": {},
   "outputs": [],
   "source": [
    "from .utils import format_images"
   ]
  },
  {
   "cell_type": "code",
   "execution_count": 24,
   "metadata": {},
   "outputs": [],
   "source": [
    "class Container(UserList):\n",
    "    def _repr_html_(self, body=\"\"):\n",
    "        for object in self:\n",
    "            output, metadata = IPython.get_ipython().display_formatter.format(object)\n",
    "            for key in list(output):\n",
    "\n",
    "                if key.startswith('image'):\n",
    "                    encoded = output.pop(key)\n",
    "                    if key.endswith('xml'):\n",
    "                        output['text/html'] = encoded\n",
    "                    else:\n",
    "                        output.update(\n",
    "                             IPython.get_ipython().display_formatter.format(\n",
    "                                 format_images(key, output)\n",
    "                            )[0])\n",
    "            \n",
    "            if 'text/markdown' in output:\n",
    "                output['text/html'] = output.get('text/html', mistune.markdown(output.get(\n",
    "                    'text/markdown'\n",
    "                )))                                        \n",
    "            body += element%output.get('text/html', output.get('text/plain', str(object)))                \n",
    "        return {Row: row, Column: column}[type(self)]%body\n",
    "\n",
    "    def __iter__(self):\n",
    "        for object in super().__iter__(): yield ({Row, Column} - {type(self)}).pop()(object) if isinstance(object, list) else object\n",
    "\n",
    "class Row(Container): \"A flexbox row\"\n",
    "class Column(Container): \"A flexbox column\""
   ]
  },
  {
   "cell_type": "code",
   "execution_count": 25,
   "metadata": {},
   "outputs": [],
   "source": [
    "@MagicStrings.append('- *')\n",
    "@MagicStrings.append('[[]*[]]')\n",
    "def yaml(str):\n",
    "    import yaml, io\n",
    "    data = yaml.safe_load(io.StringIO(str))\n",
    "    if str.startswith('[') and len(data) == 1:\n",
    "        result = imports(str[1:-1])\n",
    "        if result: return result\n",
    "    return Row(data)"
   ]
  },
  {
   "cell_type": "code",
   "execution_count": 26,
   "metadata": {},
   "outputs": [],
   "source": [
    "def imports(str):\n",
    "    if len(str) > 2 and str[0] == str[1] == '`': return\n",
    "    try:\n",
    "        return __import__(str)\n",
    "    except:...\n",
    "        \n",
    "    if hasattr(__import__('__main__'), str):\n",
    "        return getattr(__import__('__main__'), str)\n",
    "    \n",
    "    if str in sys.modules:\n",
    "        return sys.modules[str] "
   ]
  },
  {
   "cell_type": "code",
   "execution_count": null,
   "metadata": {},
   "outputs": [],
   "source": []
  }
 ],
 "metadata": {
  "kernelspec": {
   "display_name": "Python 3",
   "language": "python",
   "name": "python3"
  },
  "language_info": {
   "codemirror_mode": {
    "name": "ipython",
    "version": 3
   },
   "file_extension": ".py",
   "mimetype": "text/x-python",
   "name": "python",
   "nbconvert_exporter": "python",
   "pygments_lexer": "ipython3",
   "version": "3.6.6"
  }
 },
 "nbformat": 4,
 "nbformat_minor": 2
}
