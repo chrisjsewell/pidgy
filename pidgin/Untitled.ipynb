{
 "cells": [
  {
   "cell_type": "code",
   "execution_count": 8,
   "metadata": {},
   "outputs": [
    {
     "data": {
      "text/markdown": [
       "    import CommonMark.render.html"
      ],
      "text/plain": [
       "<IPython.core.display.Markdown object>"
      ]
     },
     "metadata": {},
     "output_type": "display_data"
    }
   ],
   "source": [
    "    import CommonMark.render.html"
   ]
  },
  {
   "cell_type": "code",
   "execution_count": 9,
   "metadata": {},
   "outputs": [
    {
     "data": {
      "text/markdown": [
       "    parser = CommonMark.Parser()"
      ],
      "text/plain": [
       "<IPython.core.display.Markdown object>"
      ]
     },
     "metadata": {},
     "output_type": "display_data"
    }
   ],
   "source": [
    "    parser = CommonMark.Parser()"
   ]
  },
  {
   "cell_type": "code",
   "execution_count": 34,
   "metadata": {},
   "outputs": [
    {
     "data": {
      "text/markdown": [
       "    class Custom(CommonMark.render.html.HtmlRenderer):\n",
       "        def link(self, node, entering):\n",
       "            print(11,node.literal)\n",
       "            return super().link(node, entering)"
      ],
      "text/plain": [
       "<IPython.core.display.Markdown object>"
      ]
     },
     "metadata": {},
     "output_type": "display_data"
    }
   ],
   "source": [
    "    class Custom(CommonMark.render.html.HtmlRenderer):\n",
    "        def link(self, node, entering):\n",
    "            print(11,node.literal)\n",
    "            return super().link(node, entering)"
   ]
  },
  {
   "cell_type": "code",
   "execution_count": 35,
   "metadata": {},
   "outputs": [
    {
     "data": {
      "text/markdown": [
       "    renderer = Custom()"
      ],
      "text/plain": [
       "<IPython.core.display.Markdown object>"
      ]
     },
     "metadata": {},
     "output_type": "display_data"
    }
   ],
   "source": [
    "    renderer = Custom()"
   ]
  },
  {
   "cell_type": "code",
   "execution_count": 36,
   "metadata": {},
   "outputs": [
    {
     "data": {
      "text/markdown": [
       "    blob = \"\"\"This is a blob\n",
       "    \n",
       "    http://nbviewer.jupyter.org/github/deathbeds/deathbeds.github.io/tree/master/deathbeds/\n",
       "    \n",
       "    \"\"\"\n",
       "\n",
       "    renderer.render(parser.parse(blob)),"
      ],
      "text/plain": [
       "<IPython.core.display.Markdown object>"
      ]
     },
     "metadata": {},
     "output_type": "display_data"
    },
    {
     "data": {
      "text/plain": [
       "('<p>This is a blob</p>\\n<p>http://nbviewer.jupyter.org/github/deathbeds/deathbeds.github.io/tree/master/deathbeds/</p>\\n',)"
      ]
     },
     "execution_count": 36,
     "metadata": {},
     "output_type": "execute_result"
    }
   ],
   "source": [
    "    blob = \"\"\"This is a blob\n",
    "    \n",
    "    http://nbviewer.jupyter.org/github/deathbeds/deathbeds.github.io/tree/master/deathbeds/\n",
    "    \n",
    "    \"\"\"\n",
    "\n",
    "    renderer.render(parser.parse(blob)),"
   ]
  },
  {
   "cell_type": "code",
   "execution_count": null,
   "metadata": {},
   "outputs": [],
   "source": []
  },
  {
   "cell_type": "code",
   "execution_count": null,
   "metadata": {},
   "outputs": [],
   "source": []
  }
 ],
 "metadata": {
  "kernelspec": {
   "display_name": "pidgin",
   "language": "",
   "name": "pidgin"
  },
  "language_info": {
   "argv": [
    "python",
    "-m",
    "pidgin.kernel",
    "-f",
    "{connection_file}"
   ],
   "codemirror_mode": {
    "name": "ipython",
    "version": 3
   },
   "display_name": "pidgin",
   "file_extension": ".md.ipynb",
   "mimetype": "text/x-python",
   "name": "pidgin",
   "nbconvert_exporter": "python",
   "pygments_lexer": "ipython3",
   "version": "3.6.6"
  }
 },
 "nbformat": 4,
 "nbformat_minor": 2
}
