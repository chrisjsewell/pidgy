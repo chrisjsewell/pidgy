{
 "cells": [
  {
   "cell_type": "code",
   "execution_count": 1,
   "metadata": {},
   "outputs": [],
   "source": [
    "import base64, IPython"
   ]
  },
  {
   "cell_type": "code",
   "execution_count": 2,
   "metadata": {},
   "outputs": [],
   "source": [
    "from collections import UserList"
   ]
  },
  {
   "cell_type": "code",
   "execution_count": 3,
   "metadata": {},
   "outputs": [],
   "source": [
    "from vdom import *\n",
    "from vdom.svg import *"
   ]
  },
  {
   "cell_type": "code",
   "execution_count": 4,
   "metadata": {},
   "outputs": [],
   "source": [
    "element = div('%s', style={'flex': '1'})._repr_html_()\n",
    "row = div('%s', style={'display': 'flex', 'flex-direction': 'row'})._repr_html_()\n",
    "column = div('%s', style={'display': 'flex', 'flex-direction': 'column'})._repr_html_()"
   ]
  },
  {
   "cell_type": "code",
   "execution_count": 5,
   "metadata": {},
   "outputs": [],
   "source": [
    "import mistune"
   ]
  },
  {
   "cell_type": "code",
   "execution_count": 6,
   "metadata": {},
   "outputs": [],
   "source": [
    "    import yaml"
   ]
  },
  {
   "cell_type": "code",
   "execution_count": 8,
   "metadata": {},
   "outputs": [],
   "source": [
    "class Container(UserList):\n",
    "    def _repr_html_(self, body=\"\"):\n",
    "        try:\n",
    "            from .display import ipython_formatter\n",
    "        except: \n",
    "            from display import ipython_formatter\n",
    "        for object in self:\n",
    "            value = ipython_formatter(object, html=True)\n",
    "            body += element%value\n",
    "            \n",
    "        return {Row: column, Column: row}[type(self)]%body\n",
    "\n",
    "    def __iter__(self):\n",
    "        for object in super().__iter__(): \n",
    "            yield ({Row, Column} - {type(self)}).pop()(object) if isinstance(object, list) else object\n",
    "\n",
    "class Column(Container): \n",
    "    \"A flexbox row\"\n",
    "    def __init__(self, data=None):\n",
    "        if isinstance(data, str):\n",
    "            import yaml, io\n",
    "            data = yaml.safe_load(io.StringIO(data))\n",
    "        super().__init__(data)\n",
    "\n",
    "class Row(Container):  \n",
    "    \"A flexbox column\"\n",
    "    def __init__(self, data=None):\n",
    "        if isinstance(data, str):\n",
    "            import yaml, io\n",
    "            data = data.rstrip('---')\n",
    "            data = [\n",
    "                yaml.safe_load(io.StringIO(object))\n",
    "                for object in data.split('---\\n') if object.strip()]\n",
    "        super().__init__(data)\n"
   ]
  }
 ],
 "metadata": {
  "kernelspec": {
   "display_name": "Python 3",
   "language": "python",
   "name": "python3"
  },
  "language_info": {
   "codemirror_mode": {
    "name": "ipython",
    "version": 3
   },
   "file_extension": ".py",
   "mimetype": "text/x-python",
   "name": "python",
   "nbconvert_exporter": "python",
   "pygments_lexer": "ipython3",
   "version": "3.6.6"
  }
 },
 "nbformat": 4,
 "nbformat_minor": 2
}
