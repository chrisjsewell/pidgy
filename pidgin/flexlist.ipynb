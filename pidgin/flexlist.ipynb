{
 "cells": [
  {
   "cell_type": "code",
   "execution_count": 1,
   "metadata": {},
   "outputs": [],
   "source": [
    "import base64, IPython"
   ]
  },
  {
   "cell_type": "code",
   "execution_count": 2,
   "metadata": {},
   "outputs": [],
   "source": [
    "from collections import UserList"
   ]
  },
  {
   "cell_type": "code",
   "execution_count": 3,
   "metadata": {},
   "outputs": [],
   "source": [
    "from vdom import *\n",
    "from vdom.svg import *"
   ]
  },
  {
   "cell_type": "code",
   "execution_count": 4,
   "metadata": {},
   "outputs": [],
   "source": [
    "element = div('%s', style={'flex': '1'})._repr_html_()\n",
    "row = div('%s', style={'display': 'flex', 'flex-direction': 'row'})._repr_html_()\n",
    "column = div('%s', style={'display': 'flex', 'flex-direction': 'column'})._repr_html_()"
   ]
  },
  {
   "cell_type": "code",
   "execution_count": 5,
   "metadata": {},
   "outputs": [],
   "source": [
    "class Container(UserList):\n",
    "    def _repr_html_(self, body=\"\"):\n",
    "        for object in self:\n",
    "            output, metadata = IPython.get_ipython().display_formatter.format(object)\n",
    "            for key in list(output):\n",
    "                if key.startswith('image'):\n",
    "                    encoded = output.pop(key)\n",
    "                    if key.endswith('xml'):\n",
    "                        output['text/html'] = encoded\n",
    "                    else:\n",
    "                        if isinstance(encoded, bytes):\n",
    "                            encoded = base64.b64encode(encoded).decode('utf-8')\n",
    "                        output['text/html'] = img(src=f\"data:image/{key.split('/', 1)[1]};base64,{encoded}\")._repr_html_()\n",
    "                                        \n",
    "            body += element%output.get('text/html', output.get('text/plain', str(object)))                \n",
    "        return {Row: row, Column: column}[type(self)]%body\n",
    "\n",
    "    def __iter__(self):\n",
    "        for object in super().__iter__(): yield ({Row, Column} - {type(self)}).pop()(object) if isinstance(object, list) else object\n",
    "\n",
    "class Row(Container): \"A flexbox row\"\n",
    "class Column(Container): \"A flexbox column\""
   ]
  }
 ],
 "metadata": {
  "kernelspec": {
   "display_name": "Python 3",
   "language": "python",
   "name": "python3"
  },
  "language_info": {
   "codemirror_mode": {
    "name": "ipython",
    "version": 3
   },
   "file_extension": ".py",
   "mimetype": "text/x-python",
   "name": "python",
   "nbconvert_exporter": "python",
   "pygments_lexer": "ipython3",
   "version": "3.6.6"
  }
 },
 "nbformat": 4,
 "nbformat_minor": 2
}
