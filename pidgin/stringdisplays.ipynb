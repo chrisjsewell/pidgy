{
 "cells": [
  {
   "cell_type": "code",
   "execution_count": 1,
   "metadata": {},
   "outputs": [],
   "source": [
    "import abc, fnmatch, IPython, functools"
   ]
  },
  {
   "cell_type": "code",
   "execution_count": 2,
   "metadata": {},
   "outputs": [],
   "source": [
    "import vdom; from vdom import div, img; from vdom.svg import iframe\n",
    "from mimetypes import guess_type; guess = lambda x: guess_type(x)[0]"
   ]
  },
  {
   "cell_type": "code",
   "execution_count": 3,
   "metadata": {},
   "outputs": [],
   "source": [
    "    class StringDisplayBase(abc.ABCMeta):\n",
    "        def append(self, key):\n",
    "            def attach(callable): \n",
    "                setattr(self, key, callable)\n",
    "                return callable\n",
    "            return attach\n",
    "\n",
    "        def __call__(self, str, result=None):\n",
    "            for attr in (x for x in dir(self) if '*' in x):\n",
    "                if fnmatch.fnmatch(str, attr):\n",
    "                    result = getattr(self, attr)(str)\n",
    "                    \n",
    "                    if isinstance(result, dict) and str in result:\n",
    "                        result = result[str]\n",
    "                        if result['status'] == 'ok':\n",
    "                            return result['data'], result['metadata']\n",
    "                        else: ...\n",
    "\n",
    "                    elif result is not None:\n",
    "                        data, metadata = IPython.get_ipython().display_formatter.format(result)\n",
    "                        return data, metadata\n",
    "                    \n",
    "                \n",
    "            if str and str.splitlines()[0].strip():\n",
    "                return {\n",
    "                    'text/markdown': str\n",
    "                }, {}\n",
    "    class StringDisplay(metaclass=StringDisplayBase): ..."
   ]
  },
  {
   "cell_type": "code",
   "execution_count": 4,
   "metadata": {},
   "outputs": [],
   "source": [
    "import IPython"
   ]
  },
  {
   "cell_type": "code",
   "execution_count": 5,
   "metadata": {},
   "outputs": [],
   "source": [
    "@StringDisplay.append('graph*{*}')\n",
    "@StringDisplay.append('digraph*{*}')\n",
    "def graphviz(str):\n",
    "    return __import__('graphviz').Source(str)"
   ]
  },
  {
   "cell_type": "code",
   "execution_count": 6,
   "metadata": {},
   "outputs": [],
   "source": [
    "from .flexlist import Row"
   ]
  },
  {
   "cell_type": "code",
   "execution_count": 15,
   "metadata": {},
   "outputs": [],
   "source": [
    "@StringDisplay.append('- *')\n",
    "@StringDisplay.append('[[]*[]]')\n",
    "def yaml(str):\n",
    "    import yaml, io\n",
    "    data = yaml.safe_load(io.StringIO(str))\n",
    "    if str.startswith('[') and len(data) == 1:\n",
    "        result = imports(str[1:-1])\n",
    "        if result: return result\n",
    "    return Row(data)"
   ]
  },
  {
   "cell_type": "code",
   "execution_count": 16,
   "metadata": {},
   "outputs": [],
   "source": [
    "@StringDisplay.append('http*')\n",
    "def embed(str):\n",
    "    type = guess(str) or ''\n",
    "    if str.startswith('http'): \n",
    "        if type.startswith('image') and not type.endswith('svg'):\n",
    "            return img(src=str)\n",
    "        return iframe(src=str, style=dict(width='100%', height=\"400px\"))"
   ]
  },
  {
   "cell_type": "code",
   "execution_count": 17,
   "metadata": {},
   "outputs": [],
   "source": [
    "import sys"
   ]
  },
  {
   "cell_type": "code",
   "execution_count": 18,
   "metadata": {},
   "outputs": [],
   "source": [
    "@StringDisplay.append('*')\n",
    "def imports(str):\n",
    "    if str[0] == str[1] == '`': return\n",
    "    try:\n",
    "        return __import__(str)\n",
    "    except:...\n",
    "        \n",
    "    if hasattr(__import__('__main__'), str):\n",
    "        return getattr(__import__('__main__'), str)\n",
    "    \n",
    "    if str in sys.modules:\n",
    "        return sys.modules[str] "
   ]
  },
  {
   "cell_type": "code",
   "execution_count": 19,
   "metadata": {},
   "outputs": [],
   "source": [
    "def load_ipython_extension(ip):\n",
    "    ip.display_formatter.mimebundle_formatter.for_type(str, StringDisplay)\n",
    "    \n",
    "def unload_ipython_extension(ip):\n",
    "    ip.display_formatter.mimebundle_formatter.for_type(str)\n",
    "    \n",
    "__name__ == '__main__' and load_ipython_extension(get_ipython())"
   ]
  },
  {
   "cell_type": "code",
   "execution_count": null,
   "metadata": {},
   "outputs": [],
   "source": []
  }
 ],
 "metadata": {
  "kernelspec": {
   "display_name": "Python 3",
   "language": "python",
   "name": "python3"
  },
  "language_info": {
   "codemirror_mode": {
    "name": "ipython",
    "version": 3
   },
   "file_extension": ".py",
   "mimetype": "text/x-python",
   "name": "python",
   "nbconvert_exporter": "python",
   "pygments_lexer": "ipython3",
   "version": "3.6.6"
  }
 },
 "nbformat": 4,
 "nbformat_minor": 2
}
