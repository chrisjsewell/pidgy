{
 "cells": [
  {
   "cell_type": "code",
   "execution_count": 1,
   "metadata": {},
   "outputs": [],
   "source": [
    "    \n",
    "    if __name__ == '__main__':\n",
    "        %reload_ext __init__"
   ]
  },
  {
   "cell_type": "code",
   "execution_count": 2,
   "metadata": {},
   "outputs": [
    {
     "data": {
      "text/markdown": [
       "This is the weaving step."
      ],
      "text/plain": [
       "<IPython.core.display.Markdown object>"
      ]
     },
     "metadata": {
      "text/markdown": {
       "end_time": "2020-01-22T17:51:03.930815",
       "modules": [],
       "names": [],
       "start_time": "2020-01-22T17:51:03.922547"
      }
     },
     "output_type": "display_data"
    }
   ],
   "source": [
    "This is the weaving step."
   ]
  },
  {
   "cell_type": "code",
   "execution_count": 3,
   "metadata": {},
   "outputs": [
    {
     "data": {
      "text/markdown": [
       "    import datetime, dataclasses, sys, IPython as python, IPython, nbconvert as export, collections, IPython as python, mistune as markdown, hashlib\n",
       "    exporter, shell = export.exporters.TemplateExporter(), python.get_ipython()\n",
       "    modules = lambda:[x for x in sys.modules if '.' not in x and not str.startswith(x,'_')]"
      ],
      "text/plain": [
       "<IPython.core.display.Markdown object>"
      ]
     },
     "metadata": {
      "text/markdown": {
       "end_time": "2020-01-22T17:51:04.140797",
       "modules": [],
       "names": [
        "datetime",
        "dataclasses",
        "sys",
        "python",
        "IPython",
        "export",
        "collections",
        "markdown",
        "hashlib",
        "exporter",
        "shell",
        "modules"
       ],
       "start_time": "2020-01-22T17:51:04.133137"
      }
     },
     "output_type": "display_data"
    }
   ],
   "source": [
    "    import datetime, dataclasses, sys, IPython as python, IPython, nbconvert as export, collections, IPython as python, mistune as markdown, hashlib\n",
    "    exporter, shell = export.exporters.TemplateExporter(), python.get_ipython()\n",
    "    modules = lambda:[x for x in sys.modules if '.' not in x and not str.startswith(x,'_')]"
   ]
  },
  {
   "cell_type": "code",
   "execution_count": 4,
   "metadata": {},
   "outputs": [],
   "source": [
    "    def load_ipython_extension(shell):\n",
    "        shell.events.register('pre_run_cell', metadata.pre_run_cell)\n",
    "        shell.events.register('post_run_cell', metadata.post_run_cell)\n",
    "        shell.display_formatter.formatters['text/markdown'].for_type(str, lambda x: x)\n",
    "        "
   ]
  },
  {
   "cell_type": "code",
   "execution_count": 4,
   "metadata": {},
   "outputs": [
    {
     "data": {
      "text/markdown": [
       "Markdown input can fail to render when jinja2 is used in correctly.  Markdown is never wrong, but sometimes jinja is."
      ],
      "text/plain": [
       "<IPython.core.display.Markdown object>"
      ]
     },
     "metadata": {
      "text/markdown": {
       "end_time": "2020-01-21T16:07:52.428889",
       "modules": [],
       "names": [],
       "start_time": "2020-01-21T16:07:52.427131"
      }
     },
     "output_type": "display_data"
    }
   ],
   "source": [
    "Markdown input can fail to render when jinja2 is used in correctly.  Markdown is never wrong, but sometimes jinja is."
   ]
  },
  {
   "cell_type": "code",
   "execution_count": 1,
   "metadata": {},
   "outputs": [],
   "source": [
    "    import hashlib"
   ]
  },
  {
   "cell_type": "code",
   "execution_count": 1,
   "metadata": {},
   "outputs": [
    {
     "ename": "NameError",
     "evalue": "name 'dataclasses' is not defined",
     "output_type": "error",
     "traceback": [
      "\u001b[0;31m---------------------------------------------------------------------------\u001b[0m",
      "\u001b[0;31mNameError\u001b[0m                                 Traceback (most recent call last)",
      "\u001b[0;32m<ipython-input-1-25dc2f3cd961>\u001b[0m in \u001b[0;36m<module>\u001b[0;34m\u001b[0m\n\u001b[0;32m----> 1\u001b[0;31m \u001b[0;34m@\u001b[0m\u001b[0mdataclasses\u001b[0m\u001b[0;34m.\u001b[0m\u001b[0mdataclass\u001b[0m\u001b[0;34m\u001b[0m\u001b[0;34m\u001b[0m\u001b[0m\n\u001b[0m\u001b[1;32m      2\u001b[0m \u001b[0;32mclass\u001b[0m \u001b[0mMetadata\u001b[0m\u001b[0;34m:\u001b[0m\u001b[0;34m\u001b[0m\u001b[0;34m\u001b[0m\u001b[0m\n\u001b[1;32m      3\u001b[0m     \u001b[0;32mdef\u001b[0m \u001b[0mpre_run_cell\u001b[0m\u001b[0;34m(\u001b[0m\u001b[0mself\u001b[0m\u001b[0;34m,\u001b[0m \u001b[0minfo\u001b[0m\u001b[0;34m)\u001b[0m\u001b[0;34m:\u001b[0m\u001b[0;34m\u001b[0m\u001b[0;34m\u001b[0m\u001b[0m\n\u001b[1;32m      4\u001b[0m         \u001b[0mself\u001b[0m\u001b[0;34m.\u001b[0m\u001b[0mmodules\u001b[0m \u001b[0;34m=\u001b[0m \u001b[0mmodules\u001b[0m\u001b[0;34m(\u001b[0m\u001b[0;34m)\u001b[0m\u001b[0;34m\u001b[0m\u001b[0;34m\u001b[0m\u001b[0m\n\u001b[1;32m      5\u001b[0m         \u001b[0mself\u001b[0m\u001b[0;34m.\u001b[0m\u001b[0mstart\u001b[0m \u001b[0;34m=\u001b[0m \u001b[0mdatetime\u001b[0m\u001b[0;34m.\u001b[0m\u001b[0mdatetime\u001b[0m\u001b[0;34m.\u001b[0m\u001b[0mutcnow\u001b[0m\u001b[0;34m(\u001b[0m\u001b[0;34m)\u001b[0m\u001b[0;34m.\u001b[0m\u001b[0misoformat\u001b[0m\u001b[0;34m(\u001b[0m\u001b[0;34m)\u001b[0m\u001b[0;34m\u001b[0m\u001b[0;34m\u001b[0m\u001b[0m\n",
      "\u001b[0;31mNameError\u001b[0m: name 'dataclasses' is not defined"
     ]
    }
   ],
   "source": [
    "    @dataclasses.dataclass\n",
    "    class Metadata:\n",
    "        def pre_run_cell(self, info):\n",
    "            self.modules = modules()\n",
    "            self.start = datetime.datetime.utcnow().isoformat()\n",
    "            self.ns = self.names()\n",
    "            \n",
    "            return info\n",
    "        \n",
    "        def names(self):\n",
    "            return [x for x in self.shell.user_ns if x[0].islower()]\n",
    "\n",
    "        def post_run_cell(self, result):\n",
    "            text = result.info.raw_cell\n",
    "            lines = text.splitlines() or ['']\n",
    "            if lines[0].strip(): \n",
    "                exporter.environment.filters.update({\n",
    "                    k: v for k, v in shell.user_ns.items() if callable(v) and k not in exporter.environment.filters})\n",
    "                try:\n",
    "                    text = exporter.environment.from_string(text, globals=IPython.get_ipython().user_ns).render()\n",
    "                except BaseException as Exception:\n",
    "                    shell.showtraceback((type(Exception), Exception, Exception.__traceback__))\n",
    "                    \n",
    "                IPython.display.display(IPython.display.Markdown(text, metadata=dict(\n",
    "                    modules=[x for x in modules() if x not in self.modules], \n",
    "                    names=[x for x in self.names() if x not in self.ns],\n",
    "                    start_time=self.start,\n",
    "                    end_time=datetime.datetime.utcnow().isoformat(),\n",
    "                    #id=hashlib.sha256(bytes(id(self.shell))).hexdigest(),\n",
    "                )))\n",
    "            return result\n",
    "        shell: python.InteractiveShell = dataclasses.field(default_factory=python.get_ipython)\n",
    "        start: datetime.datetime = dataclasses.field(init=False)\n",
    "        modules: list = dataclasses.field(default_factory=list)\n",
    "        ns: list = lambda self: [x for x in self.shell.user_ns if '.' not in x and not str.startswith(x,'_')]\n",
    "\n",
    "    metadata = Metadata()"
   ]
  },
  {
   "cell_type": "code",
   "execution_count": 6,
   "metadata": {},
   "outputs": [],
   "source": [
    "    \n",
    "    def unload_ipython_extension(shell):\n",
    "        shell.events.unregister('pre_run_cell', metadata.pre_run_cell)\n",
    "        shell.events.unregister('post_run_cell', metadata.post_run_cell)"
   ]
  }
 ],
 "metadata": {
  "kernelspec": {
   "display_name": "Python 3",
   "language": "python",
   "name": "python3"
  },
  "language_info": {
   "codemirror_mode": {
    "name": "ipython",
    "version": 3
   },
   "file_extension": ".py",
   "mimetype": "text/x-python",
   "name": "python",
   "nbconvert_exporter": "python",
   "pygments_lexer": "ipython3",
   "version": "3.7.3"
  }
 },
 "nbformat": 4,
 "nbformat_minor": 4
}
