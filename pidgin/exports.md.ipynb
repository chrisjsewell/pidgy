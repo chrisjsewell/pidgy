{
 "cells": [
  {
   "cell_type": "code",
   "execution_count": 1,
   "metadata": {},
   "outputs": [],
   "source": [
    "    \n",
    "    if __name__ == '__main__':\n",
    "        %reload_ext __init__"
   ]
  },
  {
   "cell_type": "code",
   "execution_count": 2,
   "metadata": {},
   "outputs": [
    {
     "data": {
      "text/markdown": [
       "This is the weaving step."
      ],
      "text/plain": [
       "<IPython.core.display.Markdown object>"
      ]
     },
     "metadata": {
      "text/markdown": {
       "end_time": "2020-02-01T20:09:43.101278",
       "modules": [],
       "names": [],
       "start_time": "2020-02-01T20:09:43.092210"
      }
     },
     "output_type": "display_data"
    }
   ],
   "source": [
    "This is the weaving step."
   ]
  },
  {
   "cell_type": "code",
   "execution_count": 3,
   "metadata": {},
   "outputs": [
    {
     "data": {
      "text/markdown": [
       "    import datetime, dataclasses, sys, IPython as python, IPython, nbconvert as export, collections, IPython as python, mistune as markdown, hashlib\n",
       "    exporter, shell = export.exporters.TemplateExporter(), python.get_ipython()\n",
       "    modules = lambda:[x for x in sys.modules if '.' not in x and not str.startswith(x,'_')]"
      ],
      "text/plain": [
       "<IPython.core.display.Markdown object>"
      ]
     },
     "metadata": {
      "text/markdown": {
       "end_time": "2020-02-01T20:09:43.119645",
       "modules": [],
       "names": [
        "datetime",
        "dataclasses",
        "sys",
        "python",
        "export",
        "collections",
        "markdown",
        "hashlib",
        "exporter",
        "shell",
        "modules"
       ],
       "start_time": "2020-02-01T20:09:43.111088"
      }
     },
     "output_type": "display_data"
    }
   ],
   "source": [
    "    import datetime, dataclasses, sys, IPython as python, IPython, nbconvert as export, collections, IPython as python, mistune as markdown, hashlib\n",
    "    exporter, shell = export.exporters.TemplateExporter(), python.get_ipython()\n",
    "    modules = lambda:[x for x in sys.modules if '.' not in x and not str.startswith(x,'_')]"
   ]
  },
  {
   "cell_type": "code",
   "execution_count": 4,
   "metadata": {},
   "outputs": [
    {
     "data": {
      "text/markdown": [
       "    def load_ipython_extension(shell):\n",
       "        global metadata\n",
       "        metadata = Metadata(shell=shell)\n",
       "        shell.events.register('pre_run_cell', metadata.pre_run_cell)\n",
       "        shell.events.register('post_run_cell', metadata.post_run_cell)\n",
       "        shell.display_formatter.formatters['text/markdown'].for_type(str, lambda x: x)\n",
       "        "
      ],
      "text/plain": [
       "<IPython.core.display.Markdown object>"
      ]
     },
     "metadata": {
      "text/markdown": {
       "end_time": "2020-02-01T20:09:43.638889",
       "modules": [],
       "names": [
        "load_ipython_extension"
       ],
       "start_time": "2020-02-01T20:09:43.636045"
      }
     },
     "output_type": "display_data"
    }
   ],
   "source": [
    "    def load_ipython_extension(shell):\n",
    "        global metadata\n",
    "        metadata = Metadata(shell=shell)\n",
    "        shell.events.register('pre_run_cell', metadata.pre_run_cell)\n",
    "        shell.events.register('post_run_cell', metadata.post_run_cell)\n",
    "        shell.display_formatter.formatters['text/markdown'].for_type(str, lambda x: x)\n",
    "        "
   ]
  },
  {
   "cell_type": "code",
   "execution_count": 5,
   "metadata": {},
   "outputs": [
    {
     "data": {
      "text/markdown": [
       "Markdown input can fail to render when jinja2 is used in correctly.  Markdown is never wrong, but sometimes jinja is."
      ],
      "text/plain": [
       "<IPython.core.display.Markdown object>"
      ]
     },
     "metadata": {
      "text/markdown": {
       "end_time": "2020-02-01T20:09:43.828117",
       "modules": [],
       "names": [],
       "start_time": "2020-02-01T20:09:43.826228"
      }
     },
     "output_type": "display_data"
    }
   ],
   "source": [
    "Markdown input can fail to render when jinja2 is used in correctly.  Markdown is never wrong, but sometimes jinja is."
   ]
  },
  {
   "cell_type": "code",
   "execution_count": 6,
   "metadata": {},
   "outputs": [
    {
     "data": {
      "text/markdown": [
       "    import hashlib"
      ],
      "text/plain": [
       "<IPython.core.display.Markdown object>"
      ]
     },
     "metadata": {
      "text/markdown": {
       "end_time": "2020-02-01T20:09:44.004036",
       "modules": [],
       "names": [],
       "start_time": "2020-02-01T20:09:44.002271"
      }
     },
     "output_type": "display_data"
    }
   ],
   "source": [
    "    import hashlib"
   ]
  },
  {
   "cell_type": "code",
   "execution_count": 7,
   "metadata": {},
   "outputs": [
    {
     "data": {
      "text/markdown": [
       "    @dataclasses.dataclass\n",
       "    class Metadata:\n",
       "        def pre_run_cell(self, info):\n",
       "            self.modules = modules()\n",
       "            self.start = datetime.datetime.utcnow().isoformat()\n",
       "            if hasattr(self.shell, 'user_ns'):\n",
       "                self.ns = self.names()\n",
       "            \n",
       "            return info\n",
       "        \n",
       "        def names(self):\n",
       "            return [x for x in self.shell.user_ns if x[0].islower()]\n",
       "\n",
       "        def post_run_cell(self, result):\n",
       "            text = result.info.raw_cell\n",
       "            lines = text.splitlines() or ['']\n",
       "            if lines[0].strip(): \n",
       "                exporter.environment.filters.update({\n",
       "                    k: v for k, v in self.shell.user_ns.items() if callable(v) and k not in exporter.environment.filters})\n",
       "                try:\n",
       "                    text = exporter.environment.from_string(text, globals=IPython.get_ipython().user_ns).render()\n",
       "                except BaseException as Exception:\n",
       "                    shell.showtraceback((type(Exception), Exception, Exception.__traceback__))\n",
       "                    \n",
       "                IPython.display.display(IPython.display.Markdown(text, metadata=dict(\n",
       "                    modules=[x for x in modules() if x not in self.modules], \n",
       "                    names=[x for x in self.names() if x not in self.ns],\n",
       "                    start_time=self.start,\n",
       "                    end_time=datetime.datetime.utcnow().isoformat(),\n",
       "                    #id=hashlib.sha256(bytes(id(self.shell))).hexdigest(),\n",
       "                )))\n",
       "            return result\n",
       "        shell: python.InteractiveShell = dataclasses.field(default_factory=python.get_ipython)\n",
       "        start: datetime.datetime = dataclasses.field(init=False)\n",
       "        modules: list = dataclasses.field(default_factory=list)\n",
       "        ns: list = lambda self: [x for x in self.shell.user_ns if '.' not in x and not str.startswith(x,'_')]"
      ],
      "text/plain": [
       "<IPython.core.display.Markdown object>"
      ]
     },
     "metadata": {
      "text/markdown": {
       "end_time": "2020-02-01T20:09:44.181798",
       "modules": [],
       "names": [],
       "start_time": "2020-02-01T20:09:44.172449"
      }
     },
     "output_type": "display_data"
    }
   ],
   "source": [
    "    @dataclasses.dataclass\n",
    "    class Metadata:\n",
    "        def pre_run_cell(self, info):\n",
    "            self.modules = modules()\n",
    "            self.start = datetime.datetime.utcnow().isoformat()\n",
    "            if hasattr(self.shell, 'user_ns'):\n",
    "                self.ns = self.names()\n",
    "            \n",
    "            return info\n",
    "        \n",
    "        def names(self):\n",
    "            return [x for x in self.shell.user_ns if x[0].islower()]\n",
    "\n",
    "        def post_run_cell(self, result):\n",
    "            text = result.info.raw_cell\n",
    "            lines = text.splitlines() or ['']\n",
    "            if lines[0].strip(): \n",
    "                exporter.environment.filters.update({\n",
    "                    k: v for k, v in self.shell.user_ns.items() if callable(v) and k not in exporter.environment.filters})\n",
    "                try:\n",
    "                    text = exporter.environment.from_string(text, globals=IPython.get_ipython().user_ns).render()\n",
    "                except BaseException as Exception:\n",
    "                    shell.showtraceback((type(Exception), Exception, Exception.__traceback__))\n",
    "                    \n",
    "                IPython.display.display(IPython.display.Markdown(text, metadata=dict(\n",
    "                    modules=[x for x in modules() if x not in self.modules], \n",
    "                    names=[x for x in self.names() if x not in self.ns],\n",
    "                    start_time=self.start,\n",
    "                    end_time=datetime.datetime.utcnow().isoformat(),\n",
    "                    #id=hashlib.sha256(bytes(id(self.shell))).hexdigest(),\n",
    "                )))\n",
    "            return result\n",
    "        shell: python.InteractiveShell = dataclasses.field(default_factory=python.get_ipython)\n",
    "        start: datetime.datetime = dataclasses.field(init=False)\n",
    "        modules: list = dataclasses.field(default_factory=list)\n",
    "        ns: list = lambda self: [x for x in self.shell.user_ns if '.' not in x and not str.startswith(x,'_')]"
   ]
  },
  {
   "cell_type": "code",
   "execution_count": 8,
   "metadata": {},
   "outputs": [],
   "source": [
    "    \n",
    "    def unload_ipython_extension(shell):\n",
    "        if 'metadata' in globals():\n",
    "            global metadata\n",
    "            shell.events.unregister('pre_run_cell', metadata.pre_run_cell)\n",
    "            shell.events.unregister('post_run_cell', metadata.post_run_cell)"
   ]
  }
 ],
 "metadata": {
  "kernelspec": {
   "display_name": "Python 3",
   "language": "python",
   "name": "python3"
  },
  "language_info": {
   "codemirror_mode": {
    "name": "ipython",
    "version": 3
   },
   "file_extension": ".py",
   "mimetype": "text/x-python",
   "name": "python",
   "nbconvert_exporter": "python",
   "pygments_lexer": "ipython3",
   "version": "3.7.3"
  }
 },
 "nbformat": 4,
 "nbformat_minor": 4
}
