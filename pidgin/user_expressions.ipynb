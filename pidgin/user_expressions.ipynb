{
 "cells": [
  {
   "cell_type": "code",
   "execution_count": 1,
   "metadata": {},
   "outputs": [],
   "source": [
    "    from textwrap import dedent"
   ]
  },
  {
   "cell_type": "code",
   "execution_count": 2,
   "metadata": {},
   "outputs": [],
   "source": [
    "    try:\n",
    "        from .markdown import renderer, CommonMark\n",
    "        from .environment import environment\n",
    "    except:\n",
    "        from markdown import renderer, CommonMark\n",
    "        from environment import environment\n",
    "    import IPython\n",
    "    import types, sys, IPython, asyncio, traceback, ipykernel, traitlets, nbconvert, jinja2, operator, toolz.curried as toolz, tokenize, io, textwrap\n",
    "    ip = IPython.get_ipython()\n",
    "\n",
    "\n",
    "    import toolz.curried as toolz"
   ]
  },
  {
   "cell_type": "code",
   "execution_count": 3,
   "metadata": {},
   "outputs": [],
   "source": [
    "    def expression_tokens(str): \n",
    "        \"\"\"Tokenize expressions.\n",
    "        \"\"\"\n",
    "        try:\n",
    "            return list(tokenize.generate_tokens(io.StringIO(str).readline))\n",
    "        except: return []"
   ]
  },
  {
   "cell_type": "code",
   "execution_count": 17,
   "metadata": {},
   "outputs": [],
   "source": [
    "    import asyncio"
   ]
  },
  {
   "cell_type": "code",
   "execution_count": 18,
   "metadata": {},
   "outputs": [],
   "source": [
    "    def display_expression_results(ip, expression, result):\n",
    "        if result['status'] == 'error' or getattr(ip, 'inline', True):\n",
    "            IPython.display.display(IPython.display.Markdown(\n",
    "                \"`>>> {}`\".format(expression)\n",
    "            ))\n",
    "            IPython.display.publish_display_data(result.get('data', {}))"
   ]
  },
  {
   "cell_type": "code",
   "execution_count": 25,
   "metadata": {},
   "outputs": [],
   "source": [
    "    async def evaluate_expression(ip, expressions, globals=None, locals=None):\n",
    "        globals = globals or ip.user_global_ns\n",
    "        locals = locals or ip.user_ns\n",
    "\n",
    "        for expression in split_expression(expressions):\n",
    "            try: \n",
    "                result = ip._format_user_obj(\n",
    "                    eval(\n",
    "                        ip.input_transformer_manager.transform_cell(expression), globals, locals))\n",
    "            except: \n",
    "                result = ip._user_obj_error()\n",
    "                break\n",
    "                        \n",
    "        if result['status'] == 'error': \n",
    "            result['data'] = {'text/plain': ''.join(''.join(result['traceback']))}\n",
    "            \n",
    "        display_expression_results(ip, expressions, result)\n"
   ]
  },
  {
   "cell_type": "code",
   "execution_count": 26,
   "metadata": {},
   "outputs": [],
   "source": [
    "    import asyncio"
   ]
  },
  {
   "cell_type": "code",
   "execution_count": 27,
   "metadata": {},
   "outputs": [],
   "source": [
    "    async def _user_expressions(ip, expressions, globals=None, locals=None):\n",
    "        futures = [\n",
    "            evaluate_expression(ip, expression, globals, locals)\n",
    "            for name, expression in expressions.items()\n",
    "        ]\n",
    "        for future in asyncio.as_completed(futures):\n",
    "            result = await future\n",
    "            IPython.display.publish_display_data(result.get('data', {}))\n",
    "        return expressions"
   ]
  },
  {
   "cell_type": "code",
   "execution_count": 28,
   "metadata": {},
   "outputs": [],
   "source": [
    "    def user_expressions(ip, expressions, globals=None, locals=None):\n",
    "        asyncio.ensure_future(_user_expressions(ip, expressions, globals, locals))"
   ]
  },
  {
   "cell_type": "code",
   "execution_count": 29,
   "metadata": {},
   "outputs": [],
   "source": [
    "    def split_expression(str, *expressions):\n",
    "        \"\"\"Split an expression on the semi colons.\"\"\"\n",
    "        start = 0\n",
    "        if str.startswith(';'): \n",
    "            \"\"\"This complies with the special IPython ; syntax\"\"\"\n",
    "            return str, \n",
    "        for id in toolz.pipe(\n",
    "            str, expression_tokens, \n",
    "            toolz.filter(toolz.compose(\n",
    "                ';'.__eq__, operator.attrgetter('string')\n",
    "            )), \n",
    "            toolz.map(toolz.compose(\n",
    "                toolz.second,\n",
    "                operator.attrgetter('start')\n",
    "            )),\n",
    "            list\n",
    "        ) + [len(str)]:\n",
    "            expressions += str[start:id].strip(),\n",
    "            start = id + 1\n",
    "        return expressions"
   ]
  },
  {
   "cell_type": "code",
   "execution_count": 30,
   "metadata": {},
   "outputs": [],
   "source": [
    "    def requote(str, token='\"\"\"'):\n",
    "        if token in str: token = \"'''\"\n",
    "        return token+str+token"
   ]
  },
  {
   "cell_type": "code",
   "execution_count": null,
   "metadata": {},
   "outputs": [],
   "source": []
  }
 ],
 "metadata": {
  "kernelspec": {
   "display_name": "Python 3",
   "language": "python",
   "name": "python3"
  },
  "language_info": {
   "codemirror_mode": {
    "name": "ipython",
    "version": 3
   },
   "file_extension": ".py",
   "mimetype": "text/x-python",
   "name": "python",
   "nbconvert_exporter": "python",
   "pygments_lexer": "ipython3",
   "version": "3.6.6"
  }
 },
 "nbformat": 4,
 "nbformat_minor": 2
}
