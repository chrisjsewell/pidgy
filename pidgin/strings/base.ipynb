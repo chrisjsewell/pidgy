{
 "cells": [
  {
   "cell_type": "markdown",
   "metadata": {},
   "source": [
    "# `rules` are magic functions and regular expressions that express unique displays from strings."
   ]
  },
  {
   "cell_type": "code",
   "execution_count": 1,
   "metadata": {},
   "outputs": [],
   "source": [
    "import abc, fnmatch, IPython, functools"
   ]
  },
  {
   "cell_type": "code",
   "execution_count": 2,
   "metadata": {},
   "outputs": [],
   "source": [
    "import vdom; from vdom import div, img; from vdom.svg import iframe\n",
    "from mimetypes import guess_type; guess = lambda x: guess_type(x)[0]"
   ]
  },
  {
   "cell_type": "code",
   "execution_count": 3,
   "metadata": {},
   "outputs": [],
   "source": [
    "     import IPython"
   ]
  },
  {
   "cell_type": "code",
   "execution_count": 4,
   "metadata": {},
   "outputs": [],
   "source": [
    "    from dataclasses import dataclass"
   ]
  },
  {
   "cell_type": "code",
   "execution_count": 5,
   "metadata": {},
   "outputs": [],
   "source": [
    "    import inspect"
   ]
  },
  {
   "cell_type": "code",
   "execution_count": 17,
   "metadata": {},
   "outputs": [],
   "source": [
    "    import operator\n",
    "    import string"
   ]
  },
  {
   "cell_type": "code",
   "execution_count": 18,
   "metadata": {},
   "outputs": [],
   "source": [
    "    @dataclass\n",
    "    class NoArgsCellMagic:\n",
    "        callable: callable = None\n",
    "        __name__ = property(operator.attrgetter('callable.__name__'))\n",
    "        __doc__ = property(operator.attrgetter('callable.__doc__'))\n",
    "        def __call__(self, line, cell): return self.callable(cell)"
   ]
  },
  {
   "cell_type": "code",
   "execution_count": 19,
   "metadata": {},
   "outputs": [],
   "source": [
    "    import mistune"
   ]
  },
  {
   "cell_type": "code",
   "execution_count": 26,
   "metadata": {},
   "outputs": [],
   "source": [
    "    class MagicStringsDispatch(abc.ABCMeta):\n",
    "        \n",
    "        def append(self, key):\n",
    "            ip = IPython.get_ipython()\n",
    "            def attach(callable): \n",
    "                ip.register_magic_function(NoArgsCellMagic(callable), 'cell')\n",
    "                setattr(self, key, staticmethod(callable))\n",
    "                return callable\n",
    "            return attach"
   ]
  },
  {
   "cell_type": "code",
   "execution_count": 27,
   "metadata": {},
   "outputs": [],
   "source": [
    "    from dataclasses import dataclass, field"
   ]
  },
  {
   "cell_type": "code",
   "execution_count": 28,
   "metadata": {},
   "outputs": [],
   "source": [
    "    import IPython"
   ]
  },
  {
   "cell_type": "code",
   "execution_count": 29,
   "metadata": {},
   "outputs": [],
   "source": [
    "    def none(object): return"
   ]
  },
  {
   "cell_type": "code",
   "execution_count": 30,
   "metadata": {},
   "outputs": [],
   "source": [
    "    @dataclass\n",
    "    class MagicStrings(metaclass=MagicStringsDispatch):\n",
    "        ip: IPython.core.interactiveshell.InteractiveShell = field(default_factory=IPython.get_ipython, repr=False)\n",
    "        namespace: dict = field(default_factory=dict, repr=False)\n",
    "        previous: callable = field(default=none)\n",
    "        def __post_init__(self):\n",
    "            self.namespace = self.namespace or self.ip.user_ns\n",
    "            \n",
    "        def __call__(self, str, result=None):\n",
    "            for attr in (x for x in dir(self) if '*' in x):\n",
    "                if fnmatch.fnmatch(str, attr):\n",
    "                    self.ip.log.error((self, attr))\n",
    "                    result = getattr(self, attr)(str)\n",
    "                    \n",
    "                    if isinstance(result, dict) and str in result:\n",
    "                        result = result[str]\n",
    "                        if result['status'] == 'ok':\n",
    "                            return result['data'], result['metadata']\n",
    "                        else: ...\n",
    "\n",
    "                    elif result is not None:\n",
    "                        data, metadata = IPython.get_ipython().display_formatter.format(result)\n",
    "                        return data, metadata\n",
    "                    \n",
    "                \n",
    "            if str and str.splitlines()[0].strip():\n",
    "                return {\n",
    "                    'text/markdown': str\n",
    "                }, {}\n",
    "            \n",
    "        def __enter__(self):\n",
    "            try: self.previous = self.ip.display_formatter.mimebundle_formatter.lookup_by_type(str)\n",
    "            except: self.previous = None\n",
    "            finally: self.ip.display_formatter.mimebundle_formatter.for_type(str, self)\n",
    "            \n",
    "        def __exit__(self, *exc): self.ip.display_formatter.mimebundle_formatter.for_type(str, self.previous)"
   ]
  },
  {
   "cell_type": "code",
   "execution_count": 31,
   "metadata": {},
   "outputs": [],
   "source": [
    "def load_ipython_extension(ip): MagicStrings().__enter__()\n",
    "    \n",
    "def unload_ipython_extension(ip): MagicStrings().__exit__()\n",
    "    \n",
    "__name__ == '__main__' and load_ipython_extension(get_ipython())"
   ]
  }
 ],
 "metadata": {
  "kernelspec": {
   "display_name": "Python 3",
   "language": "python",
   "name": "python3"
  },
  "language_info": {
   "codemirror_mode": {
    "name": "ipython",
    "version": 3
   },
   "file_extension": ".py",
   "mimetype": "text/x-python",
   "name": "python",
   "nbconvert_exporter": "python",
   "pygments_lexer": "ipython3",
   "version": "3.6.6"
  }
 },
 "nbformat": 4,
 "nbformat_minor": 2
}
