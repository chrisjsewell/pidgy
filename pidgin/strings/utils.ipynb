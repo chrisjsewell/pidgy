{
 "cells": [
  {
   "cell_type": "code",
   "execution_count": 2,
   "metadata": {},
   "outputs": [],
   "source": [
    "    import vdom, base64, IPython\n",
    "\n",
    "    def flatten(string):\n",
    "        return ''.join(map(str.strip, string.splitlines()))\n",
    "\n",
    "    def format_images(type, bundle):\n",
    "        str = bundle[type]\n",
    "        \n",
    "        \n",
    "        if isinstance(str, bytes):\n",
    "            str = base64.b64encode(str).decode('utf-8')\n",
    "            \n",
    "        if type in ('image/svg+xml', 'text/html'):\n",
    "            return IPython.display.HTML(flatten(str))\n",
    "            \n",
    "        if str.startswith('http'):\n",
    "            return vdom.img(src=str)\n",
    "\n",
    "        return vdom.img(src=f\"data:{type};base64,{str}\")"
   ]
  },
  {
   "cell_type": "code",
   "execution_count": null,
   "metadata": {},
   "outputs": [],
   "source": []
  },
  {
   "cell_type": "code",
   "execution_count": null,
   "metadata": {},
   "outputs": [],
   "source": []
  }
 ],
 "metadata": {
  "kernelspec": {
   "display_name": "Python 3",
   "language": "python",
   "name": "python3"
  },
  "language_info": {
   "codemirror_mode": {
    "name": "ipython",
    "version": 3
   },
   "file_extension": ".py",
   "mimetype": "text/x-python",
   "name": "python",
   "nbconvert_exporter": "python",
   "pygments_lexer": "ipython3",
   "version": "3.6.6"
  }
 },
 "nbformat": 4,
 "nbformat_minor": 2
}
