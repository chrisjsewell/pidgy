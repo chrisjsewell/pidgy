{
 "cells": [
  {
   "cell_type": "code",
   "execution_count": 1,
   "metadata": {},
   "outputs": [],
   "source": [
    "    try:\n",
    "        import commonmark as CommonMark\n",
    "        from commonmark import Parser\n",
    "        from commonmark.render.renderer import Renderer\n",
    "    except:\n",
    "        import CommonMark\n",
    "        from CommonMark import Parser\n",
    "        from CommonMark.render.renderer import Renderer\n",
    "    from textwrap import indent, dedent\n",
    "    from importnb import Notebook\n",
    "    from collections import UserList\n",
    "    from abc import abstractmethod, ABCMeta\n",
    "    try:\n",
    "        from IPython.display import display, Markdown, HTML\n",
    "        from IPython.core.inputtransformer import InputTransformer\n",
    "        from IPython import get_ipython\n",
    "    except:\n",
    "        class InputTransformer:\n",
    "            def __init__(self, *args, **kwargs): ...\n",
    "            def transform_cell(self, str): return dedent(str)\n",
    "            \n",
    "        def get_ipython(): ..."
   ]
  },
  {
   "cell_type": "markdown",
   "metadata": {},
   "source": [
    "## Markdown to code\n",
    "\n",
    "Markdown is converted to code by persisting all code_blocks and replacing all non-code lines with blank lines.  The blank line replacement assures the right line numbering.\n",
    "\n",
    "* Create a custom CommonMark renderer for code only.  It maintains the lines and positions of the original source to give better error messages.\n",
    "\n",
    "* The commonmark renderer only catches code cells\n",
    "\n",
    "    > There is an interesting discussion to be had about the role of inline cells."
   ]
  },
  {
   "cell_type": "markdown",
   "metadata": {},
   "source": [
    "Code fences can't be mixed with indented code at this point."
   ]
  },
  {
   "cell_type": "code",
   "execution_count": 20,
   "metadata": {},
   "outputs": [],
   "source": [
    "    class CodeRenderer(Renderer):\n",
    "        def code(self, node, entering):\n",
    "            if self.user_expressions is not None: \n",
    "                self.user_expressions += node.literal,\n",
    "                \n",
    "        def code_block(self, node, entering):\n",
    "            if node.is_fenced: return\n",
    "            self.slices.append(slice(node.sourcepos[0][0]-1, node.sourcepos[1][0]))            \n",
    "            \n",
    "        repr = staticmethod(Markdown)\n",
    "            \n",
    "        def __call__(self, str, *user_expressions):\n",
    "            str = ''.join(str)\n",
    "            source = str.splitlines(True)\n",
    "            self.slices = []\n",
    "            self.user_expressions = user_expressions\n",
    "            self.render(Parser().parse(str))\n",
    "            parsed = dedent(combine_slices(str, self.slices))                \n",
    "            return parsed, self.user_expressions\n",
    "\n",
    "    renderer = CodeRenderer()"
   ]
  },
  {
   "cell_type": "code",
   "execution_count": 21,
   "metadata": {},
   "outputs": [],
   "source": [
    "    def load_ipython_extension(ip=None):\n",
    "        ip = ip or get_ipython()\n",
    "        if render not in ip.input_transformers_cleanup:\n",
    "            ip.input_transformers_cleanup.insert(0, lambda x: renderer(x)[0])"
   ]
  },
  {
   "cell_type": "code",
   "execution_count": 22,
   "metadata": {},
   "outputs": [],
   "source": [
    "    def unload_ipython_extension(ip=None):\n",
    "        ip = ip or get_ipython()\n",
    "        ip.input_transformers_cleanup = [\n",
    "            object for object in ip.input_transformers_cleanup \n",
    "            if object != renderer\n",
    "        ]\n",
    "        "
   ]
  },
  {
   "cell_type": "markdown",
   "metadata": {},
   "source": [
    "    renderer(\"\\nTest\")"
   ]
  },
  {
   "cell_type": "code",
   "execution_count": 23,
   "metadata": {},
   "outputs": [],
   "source": [
    "    def requote(str, punc=''):\n",
    "        str = ''.join(str)\n",
    "        _ = '\"\"\"'\n",
    "        \n",
    "        if _ in str: _ = \"'''\"\n",
    "        \n",
    "        if not str.strip(): _ = punc = ''\n",
    "        \n",
    "        str, br, end = str.rpartition('\\n')\n",
    "                \n",
    "        if not str.strip():\n",
    "            str, end = end, ''\n",
    "        \n",
    "        return F\"{_}{str}{_}{punc}{br}{end}\""
   ]
  },
  {
   "cell_type": "code",
   "execution_count": 24,
   "metadata": {},
   "outputs": [],
   "source": [
    "    def count_indent(str): return len(str) - len(str.lstrip())"
   ]
  },
  {
   "cell_type": "code",
   "execution_count": 25,
   "metadata": {},
   "outputs": [],
   "source": [
    "    def combine_slices(str, slices, *code, **prior):\n",
    "        str += '\\n'\n",
    "        lines = str.splitlines(True)\n",
    "        min =0\n",
    "        prior = {slice: slice(0, 0), 'tabs': 0}\n",
    "        last_line = ''\n",
    "        for range in slices:\n",
    "            block = lines[range]\n",
    "            for indented in block:\n",
    "                if indented.strip(): \n",
    "                    tabs = count_indent(indented)\n",
    "                    break\n",
    "                    \n",
    "            min = min or tabs\n",
    "\n",
    "            if prior['tabs'] > tabs: tabs = prior['tabs']\n",
    "            \n",
    "            if prior['tabs'] == tabs and last_line.rstrip().endswith(':'):\n",
    "                tabs = prior['tabs'] + 4\n",
    "            \n",
    "            code += tuple(indent(\n",
    "                ' '*(tabs-min) + requote(lines[prior[slice].stop: range.start]), ' '*min\n",
    "            ).splitlines(True))\n",
    "                                    \n",
    "            code += tuple(block)\n",
    "            for last_line in reversed(code):\n",
    "                if last_line.strip(): break\n",
    "                    \n",
    "            prior.update({'tabs': count_indent(last_line), slice: range})\n",
    "\n",
    "        \n",
    "        if last_line.rstrip().endswith(':'):\n",
    "            tabs = prior['tabs'] + 4\n",
    "        else:  tabs = 0\n",
    "            \n",
    "        rest = lines[prior[slice].stop:]\n",
    "                \n",
    "        punc = ''\n",
    "        \n",
    "        if not ''.join(rest).strip(): return ''.join(code)\n",
    "        if slices:\n",
    "            punc = ';'\n",
    "        elif (\n",
    "            not lines[0].strip() or str.rstrip().endswith(';')\n",
    "        ):\n",
    "            punc = ';'\n",
    "\n",
    "\n",
    "\n",
    "        code += tuple(indent(\n",
    "            ' '*(tabs) + requote(rest, punc=punc), ' '*min\n",
    "        ).splitlines(True))\n",
    "\n",
    "        code = ''.join(code)\n",
    "        \n",
    "        if str.strip() and (\n",
    "            not lines[0].strip() or str.rstrip().endswith(';')\n",
    "        ):\n",
    "            if not code.rstrip().endswith(';'):\n",
    "                code = code.rstrip() + ';'\n",
    "        \n",
    "        return code\n",
    "    "
   ]
  },
  {
   "cell_type": "code",
   "execution_count": 4,
   "metadata": {},
   "outputs": [],
   "source": [
    "    class MarkdownImporter(Notebook):\n",
    "        extensions = '.md.ipynb',\n",
    "        def format(self, str): \n",
    "            source, user_expressions = renderer(str)\n",
    "            return super().format(source)"
   ]
  },
  {
   "cell_type": "code",
   "execution_count": 5,
   "metadata": {},
   "outputs": [],
   "source": [
    "    try:\n",
    "        from IPython.display import HTML, Javascript\n",
    "        \n",
    "        style = HTML(\"\"\"<style>\n",
    "        .code-cell-toggle {\n",
    "            position: fixed;\n",
    "            bottom: 20px;\n",
    "            right: 20px;\n",
    "        }\n",
    "        .code-cell-hidden .code_cell .input {\n",
    "            display: none;\n",
    "        }\n",
    "        </style>\"\"\")\n",
    "\n",
    "        toggle = Javascript(\"\"\"$(\"button.code-cell-toggle\").remove();\n",
    "        var btn = $(\"<button/>\", {\"class\": \"code-cell-toggle\"}).text(\"</>\");\n",
    "        btn.bind(\"click\", function(){\n",
    "            $(\"body\").toggleClass(\"code-cell-hidden\");\n",
    "        });\n",
    "        $(\"#notebook\").append(btn);\n",
    "        if (!window.location.host.startsWith('localhost')){\n",
    "            $(\"body\").addClass(\"code-cell-hidden\");\n",
    "        };\"\"\")\n",
    "    except: ..."
   ]
  },
  {
   "cell_type": "code",
   "execution_count": 6,
   "metadata": {},
   "outputs": [],
   "source": [
    "    class Test(__import__('unittest').TestCase): \n",
    "        def setUp(Test):\n",
    "            %reload_ext pidgin\n",
    "            load_ipython_extension()\n",
    "            from nbformat import write, v4\n",
    "            with open('test_markdown.md.ipynb', 'w') as file:\n",
    "                write(v4.new_notebook(cells=[v4.new_code_cell(\"\"\"Some paragraph\\n\\n    a=42\"\"\")]), file)\n",
    "                \n",
    "        def runTest(Test):\n",
    "            global test_markdown\n",
    "            import test_markdown\n",
    "            assert test_markdown.__file__.endswith('.ipynb')\n",
    "            assert test_markdown.a is 42"
   ]
  },
  {
   "cell_type": "code",
   "execution_count": 6,
   "metadata": {},
   "outputs": [],
   "source": [
    "    if __name__ == '__main__':\n",
    "        %reload_ext pidgin"
   ]
  },
  {
   "cell_type": "markdown",
   "metadata": {},
   "source": [
    "### if __name__ == '__main__': \n",
    "        __import__('unittest').TextTestRunner().run(Test())"
   ]
  }
 ],
 "metadata": {
  "kernelspec": {
   "display_name": "Python 3",
   "language": "python",
   "name": "python3"
  },
  "language_info": {
   "codemirror_mode": {
    "name": "ipython",
    "version": 3
   },
   "file_extension": ".py",
   "mimetype": "text/x-python",
   "name": "python",
   "nbconvert_exporter": "python",
   "pygments_lexer": "ipython3",
   "version": "3.6.6"
  },
  "toc": {
   "colors": {
    "hover_highlight": "#DAA520",
    "running_highlight": "#FF0000",
    "selected_highlight": "#FFD700"
   },
   "moveMenuLeft": true,
   "nav_menu": {
    "height": "29px",
    "width": "252px"
   },
   "navigate_menu": true,
   "number_sections": true,
   "sideBar": true,
   "threshold": 4,
   "toc_cell": false,
   "toc_section_display": "block",
   "toc_window_display": false,
   "widenNotebook": false
  },
  "varInspector": {
   "cols": {
    "lenName": 16,
    "lenType": 16,
    "lenVar": 40
   },
   "kernels_config": {
    "python": {
     "delete_cmd_postfix": "",
     "delete_cmd_prefix": "del ",
     "library": "var_list.py",
     "varRefreshCmd": "print(var_dic_list())"
    },
    "r": {
     "delete_cmd_postfix": ") ",
     "delete_cmd_prefix": "rm(",
     "library": "var_list.r",
     "varRefreshCmd": "cat(var_dic_list()) "
    }
   },
   "types_to_exclude": [
    "module",
    "function",
    "builtin_function_or_method",
    "instance",
    "_Feature"
   ],
   "window_display": false
  }
 },
 "nbformat": 4,
 "nbformat_minor": 2
}
