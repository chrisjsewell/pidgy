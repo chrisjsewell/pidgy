{
 "cells": [
  {
   "cell_type": "markdown",
   "metadata": {},
   "source": [
    "`phrases` invalid python variable names, a string containing a frame will access phrases on the user_namespace."
   ]
  },
  {
   "cell_type": "code",
   "execution_count": 5,
   "metadata": {},
   "outputs": [],
   "source": [
    "    import IPython, io, base64\n",
    "    from .base import MagicStrings"
   ]
  },
  {
   "cell_type": "markdown",
   "metadata": {},
   "source": [
    "    %phrase Some yaml: "
   ]
  },
  {
   "cell_type": "code",
   "execution_count": 42,
   "metadata": {},
   "outputs": [],
   "source": [
    "    import ast, abc"
   ]
  },
  {
   "cell_type": "code",
   "execution_count": 43,
   "metadata": {},
   "outputs": [],
   "source": [
    "    class PhraseMeta(abc.ABCMeta):\n",
    "        def __new__(self, *args, **kwargs):\n",
    "            print(*args)\n",
    "            return type.__new__(self, *args, **kwargs)"
   ]
  },
  {
   "cell_type": "code",
   "execution_count": 44,
   "metadata": {},
   "outputs": [],
   "source": [
    "    from dataclasses import dataclass, field"
   ]
  },
  {
   "cell_type": "code",
   "execution_count": 45,
   "metadata": {},
   "outputs": [],
   "source": [
    "    @dataclass(order=True)\n",
    "    class Phrase:\n",
    "        str: None = None\n",
    "        display: object = None\n",
    "        namespace: dict = field(default_factory=lambda: IPython.get_ipython().user_ns)\n",
    "        def _post_init_(self):\n",
    "            self.namespace.update({self.str: self})\n",
    "        \n",
    "        def _ipython_display_(self):\n",
    "            object = self.str\n",
    "            if self.display:\n",
    "                 \n",
    "                if callable(self.display):\n",
    "                    object = self.display(object)\n",
    "                else:\n",
    "                    object = self.display\n",
    "            IPython.display.display(object)"
   ]
  },
  {
   "cell_type": "code",
   "execution_count": 49,
   "metadata": {},
   "outputs": [],
   "source": [
    "@MagicStrings.append('*')\n",
    "def phrase(str):\n",
    "    object = IPython.get_ipython().user_ns.get(str, None)\n",
    "    if object is not None:\n",
    "        return IPython.get_ipython().display_formatter.format(object)"
   ]
  }
 ],
 "metadata": {
  "kernelspec": {
   "display_name": "Python 3",
   "language": "python",
   "name": "python3"
  },
  "language_info": {
   "codemirror_mode": {
    "name": "ipython",
    "version": 3
   },
   "file_extension": ".py",
   "mimetype": "text/x-python",
   "name": "python",
   "nbconvert_exporter": "python",
   "pygments_lexer": "ipython3",
   "version": "3.6.6"
  }
 },
 "nbformat": 4,
 "nbformat_minor": 2
}
