{
 "cells": [
  {
   "cell_type": "markdown",
   "metadata": {},
   "source": [
    "`pidgin.strings` creates functions, rules, and magics for working with strings."
   ]
  },
  {
   "cell_type": "code",
   "execution_count": 1,
   "metadata": {},
   "outputs": [
    {
     "data": {
      "text/markdown": [
       "%reload_ext pidgin"
      ],
      "text/plain": [
       "<IPython.core.display.Markdown object>"
      ]
     },
     "metadata": {},
     "output_type": "display_data"
    }
   ],
   "source": [
    "%reload_ext pidgin"
   ]
  },
  {
   "cell_type": "code",
   "execution_count": 19,
   "metadata": {},
   "outputs": [],
   "source": [
    "    import pidgin.strings, inspect"
   ]
  },
  {
   "cell_type": "code",
   "execution_count": 20,
   "metadata": {},
   "outputs": [],
   "source": [
    "    from pathlib import Path"
   ]
  },
  {
   "cell_type": "code",
   "execution_count": 21,
   "metadata": {},
   "outputs": [],
   "source": [
    "    import types"
   ]
  },
  {
   "cell_type": "code",
   "execution_count": 38,
   "metadata": {},
   "outputs": [],
   "source": [
    "    \n",
    "    module = \"\"\"### __{name}__\n",
    "        \n",
    "    {module.__doc__}\n",
    "\n",
    "    \"\"\"\n",
    "    \n",
    "{{''.join([module]*4)}}"
   ]
  },
  {
   "cell_type": "code",
   "execution_count": 32,
   "metadata": {},
   "outputs": [
    {
     "data": {
      "text/markdown": [
       "### __base__\n",
       "\n",
       "# `rules` are magic functions and regular expressions that express unique displays from strings.\n",
       "\n",
       "\n",
       "### ___doctest__\n",
       "\n",
       "# `rules` are magic functions and regular expressions that express unique displays from strings.\n",
       "\n",
       "\n",
       "### ___graphviz__\n",
       "\n",
       "None\n",
       "\n",
       "### __utils__\n",
       "\n",
       "None\n",
       "\n",
       "### ___matplotlib__\n",
       "\n",
       "None\n",
       "\n",
       "### __phrases__\n",
       "\n",
       "`phrases` invalid python variable names, a string containing a frame will access phrases on the user_namespace.\n",
       "\n",
       "\n",
       "### __embed__\n",
       "\n",
       "None\n",
       "\n",
       "### __flexlist__\n",
       "\n",
       "None\n",
       "\n",
       "### __markdown__\n",
       "\n",
       "None\n",
       "\n",
       "### __environment__\n",
       "\n",
       "None\n",
       "\n",
       "### ___pidgin__\n",
       "\n",
       "None\n",
       "\n"
      ],
      "text/plain": [
       "'### __base__\\n\\n# `rules` are magic functions and regular expressions that express unique displays from strings.\\n\\n\\n### ___doctest__\\n\\n# `rules` are magic functions and regular expressions that express unique displays from strings.\\n\\n\\n### ___graphviz__\\n\\nNone\\n\\n### __utils__\\n\\nNone\\n\\n### ___matplotlib__\\n\\nNone\\n\\n### __phrases__\\n\\n`phrases` invalid python variable names, a string containing a frame will access phrases on the user_namespace.\\n\\n\\n### __embed__\\n\\nNone\\n\\n### __flexlist__\\n\\nNone\\n\\n### __markdown__\\n\\nNone\\n\\n### __environment__\\n\\nNone\\n\\n### ___pidgin__\\n\\nNone\\n\\n'"
      ]
     },
     "execution_count": 32,
     "metadata": {},
     "output_type": "execute_result"
    }
   ],
   "source": [
    "    ''.join(map(\n",
    "        lambda x: .format(**dict(zip('name module'.split(), x))),\n",
    "        valfilter(\n",
    "            lambda x: isinstance(x, types.ModuleType),\n",
    "            vars(pidgin.strings)\n",
    "        ).items()\n",
    "    ))"
   ]
  }
 ],
 "metadata": {
  "kernelspec": {
   "display_name": "Python 3",
   "language": "python",
   "name": "python3"
  },
  "language_info": {
   "codemirror_mode": {
    "name": "ipython",
    "version": 3
   },
   "file_extension": ".py",
   "mimetype": "text/x-python",
   "name": "python",
   "nbconvert_exporter": "python",
   "pygments_lexer": "ipython3",
   "version": "3.6.6"
  }
 },
 "nbformat": 4,
 "nbformat_minor": 2
}
