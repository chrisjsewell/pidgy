{
 "cells": [
  {
   "cell_type": "code",
   "execution_count": 4,
   "metadata": {},
   "outputs": [],
   "source": [
    "    import argparse\n",
    "    from pidgin import shell\n",
    "    from pidgin.weave import Document"
   ]
  },
  {
   "cell_type": "code",
   "execution_count": 5,
   "metadata": {},
   "outputs": [],
   "source": [
    "    from IPython.core.magic import (Magics, magics_class, line_magic,\n",
    "                                    cell_magic, line_cell_magic)\n",
    "\n",
    "    @magics_class\n",
    "    class PidginMagics(Magics):\n",
    "        @line_magic\n",
    "        def pidgin(self, line, cell=None):\n",
    "            args = vars(shell.parser.parse_args(line.split()))\n",
    "            for key, value in args.items():\n",
    "                setattr(self.shell, key, value)\n",
    "                \n",
    "        @cell_magic('pidgin')\n",
    "        def pidgin_cell(self, line, cell):\n",
    "            self.pidgin(line)\n",
    "            with Document(source=cell, **vars(shell.parser.parse_args(line.split()))) as weave:\n",
    "                self.shell.run_cell(weave.block)"
   ]
  },
  {
   "cell_type": "code",
   "execution_count": 6,
   "metadata": {},
   "outputs": [],
   "source": [
    "    def load_ipython_extension(ip):\n",
    "        ip.register_magics(PidginMagics)\n",
    "    def unload_ipython_extension(ip): \"\"\"What's done can not be undone\"\"\"\n",
    "\n",
    "    __name__ == '__main__' and load_ipython_extension(get_ipython())"
   ]
  },
  {
   "cell_type": "code",
   "execution_count": null,
   "metadata": {},
   "outputs": [],
   "source": []
  }
 ],
 "metadata": {
  "kernelspec": {
   "display_name": "Python 3",
   "language": "python",
   "name": "python3"
  },
  "language_info": {
   "codemirror_mode": {
    "name": "ipython",
    "version": 3
   },
   "file_extension": ".py",
   "mimetype": "text/x-python",
   "name": "python",
   "nbconvert_exporter": "python",
   "pygments_lexer": "ipython3",
   "version": "3.6.6"
  }
 },
 "nbformat": 4,
 "nbformat_minor": 2
}
