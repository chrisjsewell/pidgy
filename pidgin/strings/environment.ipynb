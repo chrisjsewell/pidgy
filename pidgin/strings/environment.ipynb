{
 "cells": [
  {
   "cell_type": "code",
   "execution_count": 3,
   "metadata": {},
   "outputs": [],
   "source": [
    "    import jinja2, IPython, toolz.curried as toolz, base64, vdom"
   ]
  },
  {
   "cell_type": "code",
   "execution_count": 4,
   "metadata": {},
   "outputs": [],
   "source": [
    "    mimes = toolz.pipe(\"\"\"\n",
    "        50 text/html\n",
    "        60 text/markdown\n",
    "        70 text/latex\n",
    "        80 image/svg+xml\n",
    "        90 image/bmp image/png image/jpeg image/gif'\n",
    "        110 text/javascript application/javascript \n",
    "        120 text/plain\n",
    "        \"\"\", str.strip, str.splitlines, toolz.map(toolz.compose(toolz.juxt(toolz.compose(int, next), list), iter, str.split)), list)"
   ]
  },
  {
   "cell_type": "code",
   "execution_count": 5,
   "metadata": {},
   "outputs": [],
   "source": [
    "    image_types = list(map('image/'.__add__, ('bmp', 'jpeg', 'gif', 'png')))"
   ]
  },
  {
   "cell_type": "code",
   "execution_count": 6,
   "metadata": {},
   "outputs": [],
   "source": [
    "  def ipython_formatter(object):\n",
    "        try:\n",
    "            from .utils import format_images\n",
    "        except:\n",
    "            from .utils import format_images\n",
    "        format = IPython.get_ipython().display_formatter.format\n",
    "        bundle, metadata = format(object)\n",
    "        for type in toolz.pipe(mimes, toolz.map(toolz.second), toolz.concat):\n",
    "            if type == 'text/plain': return object\n",
    "            if type in bundle: \n",
    "                object = bundle[type]\n",
    "                if type.startswith('image'):\n",
    "                    bundle.update(format(format_images(type, bundle))[0])\n",
    "                return bundle[type]"
   ]
  },
  {
   "cell_type": "code",
   "execution_count": 7,
   "metadata": {},
   "outputs": [],
   "source": [
    "    environment = jinja2.Environment(enable_async=False, finalize=ipython_formatter)\n",
    "    environment.globals.update(vars(__import__('builtins')))"
   ]
  },
  {
   "cell_type": "code",
   "execution_count": 9,
   "metadata": {},
   "outputs": [],
   "source": [
    "    import string, collections"
   ]
  },
  {
   "cell_type": "code",
   "execution_count": 15,
   "metadata": {},
   "outputs": [],
   "source": [
    "    class IPythonFormatDict(collections.UserDict):\n",
    "        def __getitem__(self, object):\n",
    "            return ipython_formatter(super().__getitem__(object))"
   ]
  },
  {
   "cell_type": "code",
   "execution_count": 16,
   "metadata": {},
   "outputs": [],
   "source": [
    "    class IPythonDollarTemplate(string.Template):\n",
    "        def safe_substitute(self, *args, **kw):\n",
    "            return super().safe_substitute(IPythonFormatDict(collections.ChainMap(kw, *args)))"
   ]
  }
 ],
 "metadata": {
  "kernelspec": {
   "display_name": "Python 3",
   "language": "python",
   "name": "python3"
  },
  "language_info": {
   "codemirror_mode": {
    "name": "ipython",
    "version": 3
   },
   "file_extension": ".py",
   "mimetype": "text/x-python",
   "name": "python",
   "nbconvert_exporter": "python",
   "pygments_lexer": "ipython3",
   "version": "3.6.6"
  }
 },
 "nbformat": 4,
 "nbformat_minor": 2
}
