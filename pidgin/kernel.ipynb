{
 "cells": [
  {
   "cell_type": "markdown",
   "metadata": {},
   "source": []
  },
  {
   "cell_type": "markdown",
   "metadata": {},
   "source": [
    "markdown docs."
   ]
  },
  {
   "cell_type": "code",
   "execution_count": 1,
   "metadata": {},
   "outputs": [],
   "source": [
    "import IPython\n",
    "\n",
    "import ipykernel.ipkernel\n",
    "from ipython_genutils.py3compat import builtin_mod, PY3, unicode_type, safe_unicode\n",
    "\n",
    "from IPython.utils.tokenutil import token_at_cursor, line_at_cursor\n",
    "\n",
    "\n",
    "try:\n",
    "    import stringdisplays, markdown, tokens, phrases\n",
    "except:\n",
    "    with __import__('importnb').Notebook(): from pidgin import stringdisplays, markdown, tokens, phrases\n",
    "\n",
    "import sys\n",
    "import textwrap\n",
    "import black\n",
    "import mimetypes\n",
    "import collections, html\n",
    "import base64\n",
    "import sys\n",
    "import IPython\n",
    "from traitlets import *\n",
    "ip = self = IPython.get_ipython()\n",
    "import trio"
   ]
  },
  {
   "cell_type": "code",
   "execution_count": 8,
   "metadata": {},
   "outputs": [],
   "source": [
    "class PidginShell(ipykernel.zmqshell.ZMQInteractiveShell):\n",
    "    def user_expressions(self, expressions, show=True): \n",
    "        return trio.run(self.async_user_expressions, expressions, show)\n",
    "\n",
    "    async def async_user_expressions(self, expressions, show=True):\n",
    "        async with trio.open_nursery() as nursery: [\n",
    "            nursery.start_soon(self.single_user_expression, expression, show)\n",
    "            for key, expression in expressions.items()]\n",
    "        return {}\n",
    "        \n",
    "    async def single_user_expression(self, code, show=True, **expressions):\n",
    "        for expression in map(str.strip, code.strip('`').split(';')):\n",
    "            key = f\"`{expression}`\"\n",
    "            expressions[key] = self.input_transformer_manager.transform_cell(expression)\n",
    "        for key, expression in super().user_expressions(expressions).items(): \n",
    "            data = self.show_expression(key, expression, show)\n",
    "        return data\n",
    "    \n",
    "    def show_expression(self, code, data, show=True):\n",
    "        if data['status'] != 'ok': data['data'] = {'text/plain': '\\n'.join(data['data']['traceback'])}\n",
    "        self.auto_rewrite_input(code.strip('`')), sys.stdout.flush(), sys.stderr.flush()\n",
    "        if data['status'] == 'ok':\n",
    "            display_id = self.user_ns.get(code, IPython.display.DisplayHandle())\n",
    "            if show:  setattr(__import__('__main__'), code, display_id)\n",
    "            if code in self.user_ns: IPython.display.publish_display_data(data['data'], transient={'display_id': display_id.display_id}, update=True)\n",
    "            IPython.display.publish_display_data(data['data'], transient={'display_id': display_id and display_id.display_id})\n",
    "        elif data['status'] == 'error':\n",
    "            list(map(sys.stderr.write, data['traceback']))\n",
    "            sys.stderr.flush()\n",
    "        return data\n",
    "\n",
    "    def update_expression(self, code, data, show=True):\n",
    "        if data['status'] != 'ok': data['data'] = {'text/plain': '\\n'.join(data['data']['traceback'])}\n",
    "        self.auto_rewrite_input(code.strip('`')), sys.stdout.flush(), sys.stderr.flush()\n",
    "        if data['status'] == 'ok':\n",
    "            display_id = self.user_ns.get(code, IPython.display.DisplayHandle())\n",
    "            if show:  setattr(__import__('__main__'), code, display_id)\n",
    "            if code in self.user_ns: IPython.display.publish_display_data(data['data'], transient={'display_id': display_id.display_id}, update=True)\n",
    "            IPython.display.publish_display_data(data['data'], transient={'display_id': display_id and display_id.display_id})\n",
    "        elif data['status'] == 'error':\n",
    "            list(map(sys.stderr.write, data['traceback']))\n",
    "            sys.stderr.flush()\n",
    "        return data\n",
    "    \n",
    "    def object_inspect_mime(self, code, cursor_pos=None, detail_level=0):\n",
    "        token, start, end = tokens.tokenize(code, cursor_pos, *(x for x in dir(__import__('__main__')) if ' ' in x and not(x[0]==x[-1]=='`')))\n",
    "        if token.endswith('??'): detail_level=1\n",
    "        inline = token and (token[0] == token[-1] == '`')\n",
    "        if inline: \n",
    "            data = trio.run(self.single_user_expression, token)['data']\n",
    "        else:\n",
    "            try:\n",
    "                data = super(type(self), self).object_inspect_mime(\n",
    "                    token_at_cursor(token, len(token)), detail_level=detail_level\n",
    "                )\n",
    "            except KeyError: data = {'text/markdown': code}\n",
    "        if not detail_level:\n",
    "            if not inline:\n",
    "                object = self.user_ns.get(token, sys.modules.get(token, None))\n",
    "                if object is not None: data.update(self.display_formatter.format(object)[0])\n",
    "        return data\n",
    "    "
   ]
  },
  {
   "cell_type": "markdown",
   "metadata": {},
   "source": [
    "Each uesr expression is evaluated in serial to provide the correct output.  The output is from the last expressioon."
   ]
  },
  {
   "cell_type": "code",
   "execution_count": 10,
   "metadata": {},
   "outputs": [],
   "source": [
    "import trio"
   ]
  },
  {
   "cell_type": "code",
   "execution_count": 11,
   "metadata": {},
   "outputs": [],
   "source": [
    "    import ipykernel"
   ]
  },
  {
   "cell_type": "code",
   "execution_count": 12,
   "metadata": {},
   "outputs": [],
   "source": [
    "import trio"
   ]
  },
  {
   "cell_type": "code",
   "execution_count": null,
   "metadata": {},
   "outputs": [],
   "source": []
  },
  {
   "cell_type": "code",
   "execution_count": 13,
   "metadata": {},
   "outputs": [],
   "source": [
    "    import importlib"
   ]
  },
  {
   "cell_type": "code",
   "execution_count": 4,
   "metadata": {},
   "outputs": [],
   "source": [
    "def requote(str, token='\"\"\"'):\n",
    "    if token in str: token = \"'''\"\n",
    "    return token+str+token"
   ]
  },
  {
   "cell_type": "markdown",
   "metadata": {},
   "source": [
    "    ipykernel.ipkernel.IPythonKernel.do_execute??"
   ]
  },
  {
   "cell_type": "code",
   "execution_count": 5,
   "metadata": {},
   "outputs": [],
   "source": [
    "ipykernel.ipkernel.IPythonKernel.help_links.default_args = tuple([\n",
    "    ipykernel.ipkernel.IPythonKernel.help_links.default_args[0] + [\n",
    "        {'text': 'Markdown Cheat Sheet', 'url': 'https://github.com/adam-p/markdown-here/wiki/Markdown-Cheatsheet'},\n",
    "        {'text': 'GraphViz DOT Language', 'url': 'https://www.graphviz.org/doc/info/lang.html'}\n",
    "    ]\n",
    "] + list(ipykernel.ipkernel.IPythonKernel.help_links.default_args[1:]))"
   ]
  },
  {
   "cell_type": "code",
   "execution_count": 6,
   "metadata": {},
   "outputs": [],
   "source": [
    "class PidginKernel(ipykernel.ipkernel.IPythonKernel):\n",
    "    shell_class = Type(PidginShell)\n",
    "    def __init__(self, **kwargs):\n",
    "        super().__init__(**kwargs)\n",
    "        self.pidgin_history = collections.OrderedDict()\n",
    "        stringdisplays.load_ipython_extension(self.shell)\n",
    "        phrases.load_ipython_extension(self.shell)\n",
    "        self.shell.user_ns['__import__'] = importlib.import_module\n",
    "        \n",
    "    language_info = {**ipykernel.ipkernel.IPythonKernel.language_info, **{\n",
    "        'name': 'pidgin',\n",
    "        'display_name': 'pidgin',\n",
    "        'nbconvert_exporter': 'python',\n",
    "        'file_extension': '.md.ipynb',\n",
    "        \"argv\": \"python -m pidgin.kernel -f {connection_file}\".split(),\n",
    "    }}        \n",
    "    \n",
    "    def update_code(self, code, display_id=None):\n",
    "        if code.strip() and code.splitlines()[0].strip(): self.display_id = IPython.display.display(\n",
    "                IPython.display.Markdown(code), display_id=display_id or self.display_id).display_id\n",
    "            \n",
    "    def do_execute(self, code, silent, store_history=True, user_expressions=None, allow_stdin=False):\n",
    "        if user_expressions is None: user_expressions = {}\n",
    "        #define_urls(code)\n",
    "        if not code.lstrip().startswith('%'): source = markdown.renderer(code, user_expressions=user_expressions)\n",
    "        else: source = code\n",
    "        silent = silent or not source\n",
    "        if source: self.update_code(code, True)\n",
    "            \n",
    "        if not source and not user_expressions:\n",
    "            result = super().do_execute(requote(code), False, store_history=False, user_expressions={}, allow_stdin=allow_stdin)\n",
    "        else: result = super().do_execute(source, silent, store_history=store_history, user_expressions=user_expressions, allow_stdin=allow_stdin)\n",
    "        return result\n",
    "    \n",
    "    def do_inspect(self, code, cursor_pos, detail_level=0):\n",
    "        data = self.shell.object_inspect_mime(code, cursor_pos, detail_level=detail_level,)\n",
    "        return {'status': 'ok', 'metadata': {}, 'found': bool(data), 'data': data,}"
   ]
  },
  {
   "cell_type": "code",
   "execution_count": 7,
   "metadata": {},
   "outputs": [],
   "source": [
    "import re"
   ]
  },
  {
   "cell_type": "code",
   "execution_count": 8,
   "metadata": {},
   "outputs": [],
   "source": [
    "def define_urls(str):\n",
    "    while str[0] != 'h' and str[0] == str[1]: str = str[1:-1]\n",
    "    for body in str.split('http')[1:]:\n",
    "        setattr(__import__('__main__'), f\"http{body.split()[0]}\", f\"http{body.split()[0]}\" )"
   ]
  },
  {
   "cell_type": "code",
   "execution_count": 9,
   "metadata": {},
   "outputs": [],
   "source": [
    "import jupyter_client.manager"
   ]
  },
  {
   "cell_type": "code",
   "execution_count": 10,
   "metadata": {},
   "outputs": [],
   "source": [
    "manager = jupyter_client.kernelspec.KernelSpecManager()\n",
    "import json"
   ]
  },
  {
   "cell_type": "code",
   "execution_count": 11,
   "metadata": {},
   "outputs": [],
   "source": [
    "import pidgin"
   ]
  },
  {
   "cell_type": "code",
   "execution_count": 12,
   "metadata": {},
   "outputs": [],
   "source": [
    "import json"
   ]
  },
  {
   "cell_type": "markdown",
   "metadata": {},
   "source": [
    "    %%file kernel.py\n",
    "    with __import__('importnb').Notebook():\n",
    "        from .kernel import PidginKernel\n",
    "        \n",
    "    if __name__ == '__main__':\n",
    "        from ipykernel.kernelapp import IPKernelApp\n",
    "        IPKernelApp.launch_instance(kernel_class=PidginKernel)\n",
    "    "
   ]
  },
  {
   "cell_type": "code",
   "execution_count": 13,
   "metadata": {},
   "outputs": [],
   "source": [
    "if __name__ == '__main__':\n",
    "\n",
    "    with open('C:/Users/deathbeds/pidgin/pidgin/kernel.json', 'w') as f:\n",
    "        json.dump(PidginKernel.language_info, f)\n",
    "    manager.install_kernel_spec('C:/Users/deathbeds/pidgin/pidgin/')\n",
    "    manager.get_all_specs()        "
   ]
  },
  {
   "cell_type": "code",
   "execution_count": null,
   "metadata": {},
   "outputs": [],
   "source": []
  },
  {
   "cell_type": "code",
   "execution_count": null,
   "metadata": {},
   "outputs": [],
   "source": []
  }
 ],
 "metadata": {
  "kernelspec": {
   "display_name": "Python 3",
   "language": "python",
   "name": "python3"
  },
  "language_info": {
   "codemirror_mode": {
    "name": "ipython",
    "version": 3
   },
   "file_extension": ".py",
   "mimetype": "text/x-python",
   "name": "python",
   "nbconvert_exporter": "python",
   "pygments_lexer": "ipython3",
   "version": "3.6.6"
  }
 },
 "nbformat": 4,
 "nbformat_minor": 2
}
