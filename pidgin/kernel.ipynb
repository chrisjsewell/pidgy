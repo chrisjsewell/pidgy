{
 "cells": [
  {
   "cell_type": "code",
   "execution_count": 1,
   "metadata": {},
   "outputs": [],
   "source": [
    "import types, sys, IPython, traceback, ipykernel, traitlets, operator, toolz.curried as toolz, tokenize, io, textwrap\n",
    "\n",
    "ip = IPython.get_ipython()\n"
   ]
  },
  {
   "cell_type": "code",
   "execution_count": 2,
   "metadata": {},
   "outputs": [],
   "source": [
    "    ip = get_ipython()"
   ]
  },
  {
   "cell_type": "code",
   "execution_count": 1,
   "metadata": {},
   "outputs": [],
   "source": [
    "    def get_inline_expression(string, pos):\n",
    "        try:\n",
    "            line, offset = IPython.utils.tokenutil.line_at_cursor(string, pos)\n",
    "        except tokenize.TokenError: return \n",
    "        inline = True\n",
    "        snippet, token, line = '', '`', ''\n",
    "        while (offset < pos) and line:\n",
    "            inline = not inline\n",
    "            snippet, token, line = line.partition('`')\n",
    "            offset += len(snippet) + len(token)\n",
    "        return inline and snippet or None"
   ]
  },
  {
   "cell_type": "code",
   "execution_count": 2,
   "metadata": {},
   "outputs": [
    {
     "ename": "NameError",
     "evalue": "name 'ip' is not defined",
     "output_type": "error",
     "traceback": [
      "\u001b[1;31m---------------------------------------------------------------------------\u001b[0m",
      "\u001b[1;31mNameError\u001b[0m                                 Traceback (most recent call last)",
      "\u001b[1;32m<ipython-input-2-916441c9620d>\u001b[0m in \u001b[0;36m<module>\u001b[1;34m\u001b[0m\n\u001b[1;32m----> 1\u001b[1;33m \u001b[1;32mclass\u001b[0m \u001b[0mPidginKernel\u001b[0m\u001b[1;33m(\u001b[0m\u001b[0mtype\u001b[0m\u001b[1;33m(\u001b[0m\u001b[0mip\u001b[0m\u001b[1;33m.\u001b[0m\u001b[0mkernel\u001b[0m\u001b[1;33m)\u001b[0m\u001b[1;33m)\u001b[0m\u001b[1;33m:\u001b[0m\u001b[1;33m\u001b[0m\u001b[0m\n\u001b[0m\u001b[0;32m      2\u001b[0m     \u001b[1;32mdef\u001b[0m \u001b[0mdo_inspect\u001b[0m\u001b[1;33m(\u001b[0m\u001b[0mself\u001b[0m\u001b[1;33m,\u001b[0m \u001b[0mcode\u001b[0m\u001b[1;33m,\u001b[0m \u001b[0mcursor_pos\u001b[0m\u001b[1;33m,\u001b[0m \u001b[0mdetail_level\u001b[0m\u001b[1;33m=\u001b[0m\u001b[1;36m0\u001b[0m\u001b[1;33m)\u001b[0m\u001b[1;33m:\u001b[0m\u001b[1;33m\u001b[0m\u001b[0m\n\u001b[0;32m      3\u001b[0m         \u001b[0minspect\u001b[0m \u001b[1;33m=\u001b[0m \u001b[1;32mFalse\u001b[0m\u001b[1;33m\u001b[0m\u001b[0m\n\u001b[0;32m      4\u001b[0m         \u001b[1;32mif\u001b[0m \u001b[1;33m(\u001b[0m\u001b[0mcursor_pos\u001b[0m\u001b[1;33m-\u001b[0m\u001b[1;36m2\u001b[0m\u001b[1;33m)\u001b[0m\u001b[1;33m>\u001b[0m\u001b[1;36m0\u001b[0m \u001b[1;32mand\u001b[0m \u001b[0mcursor_pos\u001b[0m\u001b[1;33m-\u001b[0m\u001b[1;36m1\u001b[0m \u001b[1;33m<=\u001b[0m \u001b[0mlen\u001b[0m\u001b[1;33m(\u001b[0m\u001b[0mcode\u001b[0m\u001b[1;33m)\u001b[0m \u001b[1;33m:\u001b[0m\u001b[1;33m\u001b[0m\u001b[0m\n\u001b[0;32m      5\u001b[0m             \u001b[1;32mif\u001b[0m \u001b[0mcode\u001b[0m\u001b[1;33m[\u001b[0m\u001b[0mcursor_pos\u001b[0m\u001b[1;33m-\u001b[0m\u001b[1;36m1\u001b[0m\u001b[1;33m]\u001b[0m \u001b[1;33m==\u001b[0m \u001b[1;34m'?'\u001b[0m\u001b[1;33m:\u001b[0m\u001b[1;33m\u001b[0m\u001b[0m\n",
      "\u001b[1;31mNameError\u001b[0m: name 'ip' is not defined"
     ]
    }
   ],
   "source": [
    "    class PidginKernel(type(ip.kernel)):        \n",
    "        def do_inspect(self, code, cursor_pos, detail_level=0):\n",
    "            inspect = False\n",
    "            if (cursor_pos-2)>0 and cursor_pos-1 <= len(code) :\n",
    "                if code[cursor_pos-1] == '?':\n",
    "                    inspect = True\n",
    "                    if code[cursor_pos-2] == '?':\n",
    "                        detail_level = 1\n",
    "\n",
    "            if not inspect and '`' in code:\n",
    "                inline = get_inline_expression(code, cursor_pos)\n",
    "                if inline:\n",
    "                    return dict(self.shell.sync_user_expression(inline), found=True)\n",
    "\n",
    "            result = ipykernel.ipkernel.IPythonKernel.do_inspect(self, code, cursor_pos, detail_level)\n",
    "            \n",
    "            if not result['found']:\n",
    "                result['found'] = True\n",
    "                result['data'].update({'text/markdown': code})\n",
    "            return result"
   ]
  },
  {
   "cell_type": "code",
   "execution_count": 5,
   "metadata": {},
   "outputs": [],
   "source": [
    "    original_methods = {}\n",
    "    def load_ipython_extension(ip):\n",
    "        global original_methods\n",
    "        original_methods['do_inspect'] = original_methods.get(\n",
    "            'do_inspect', ip.kernel.do_inspect)\n",
    "        ip.kernel.do_inspect = types.MethodType(PidginKernel.do_inspect, ip.kernel)\n",
    "\n",
    "    def unload_ipython_extension(ip): \n",
    "        ip.kernel.__dict__.update(original_methods)"
   ]
  },
  {
   "cell_type": "code",
   "execution_count": 6,
   "metadata": {},
   "outputs": [],
   "source": [
    "    if __name__ == '__main__':\n",
    "        #!ipython -m pytest -- shell.ipynb\n",
    "        %reload_ext pidgin.shell\n",
    "        load_ipython_extension(get_ipython())"
   ]
  }
 ],
 "metadata": {
  "kernelspec": {
   "display_name": "Python 3",
   "language": "python",
   "name": "python3"
  },
  "language_info": {
   "codemirror_mode": {
    "name": "ipython",
    "version": 3
   },
   "file_extension": ".py",
   "mimetype": "text/x-python",
   "name": "python",
   "nbconvert_exporter": "python",
   "pygments_lexer": "ipython3",
   "version": "3.6.6"
  }
 },
 "nbformat": 4,
 "nbformat_minor": 2
}
