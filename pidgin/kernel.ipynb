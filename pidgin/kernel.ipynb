{
 "cells": [
  {
   "cell_type": "code",
   "execution_count": 29,
   "metadata": {},
   "outputs": [],
   "source": [
    "import types, sys, IPython, traceback, ipykernel.ipkernel, traitlets, operator, toolz.curried as toolz, tokenize, io, textwrap\n",
    "\n",
    "ip = IPython.get_ipython()"
   ]
  },
  {
   "cell_type": "code",
   "execution_count": 30,
   "metadata": {},
   "outputs": [],
   "source": [
    "\n",
    "ip = get_ipython()"
   ]
  },
  {
   "cell_type": "code",
   "execution_count": 31,
   "metadata": {},
   "outputs": [],
   "source": [
    "    def get_inline_expression(string, pos):\n",
    "        try:\n",
    "            line, offset = IPython.utils.tokenutil.line_at_cursor(string, pos)\n",
    "        except tokenize.TokenError: return \n",
    "        inline = True\n",
    "        snippet, token, line = '', '`', ''\n",
    "        while (offset < pos) and line:\n",
    "            inline = not inline\n",
    "            snippet, token, line = line.partition('`')\n",
    "            offset += len(snippet) + len(token)\n",
    "        return inline and snippet or None"
   ]
  },
  {
   "cell_type": "code",
   "execution_count": 32,
   "metadata": {},
   "outputs": [],
   "source": [
    "    class PidginKernel(ipykernel.ipkernel.IPythonKernel):        \n",
    "        def do_inspect(self, code, cursor_pos, detail_level=0):\n",
    "            inspect = False\n",
    "            if (cursor_pos-2)>0 and cursor_pos-1 <= len(code) :\n",
    "                if code[cursor_pos-1] == '?':\n",
    "                    inspect = True\n",
    "                    if code[cursor_pos-2] == '?':\n",
    "                        detail_level = 1\n",
    "\n",
    "            if not inspect and '`' in code:\n",
    "                inline = get_inline_expression(code, cursor_pos)\n",
    "                self.log.error((11,inline))\n",
    "                if inline:\n",
    "                    result = {}\n",
    "                    self.log.error(result)\n",
    "                    return dict(result, found=True, status='ok')\n",
    "\n",
    "            result = ipykernel.ipkernel.IPythonKernel.do_inspect(self, code, cursor_pos, detail_level)\n",
    "            \n",
    "            if not result['found']:\n",
    "                result['found'] = True\n",
    "                result['data'].update({'text/markdown': code})\n",
    "            return result"
   ]
  },
  {
   "cell_type": "code",
   "execution_count": 27,
   "metadata": {},
   "outputs": [],
   "source": [
    "    original_methods = {}\n",
    "    def load_ipython_extension(ip):\n",
    "        global original_methods\n",
    "        original_methods['do_inspect'] = original_methods.get(\n",
    "            'do_inspect', ip.kernel.do_inspect)\n",
    "        ip.kernel.do_inspect = types.MethodType(PidginKernel.do_inspect, ip.kernel)\n",
    "\n",
    "    def unload_ipython_extension(ip): \n",
    "        ip.kernel.__dict__.update(original_methods)"
   ]
  },
  {
   "cell_type": "code",
   "execution_count": 28,
   "metadata": {},
   "outputs": [],
   "source": [
    "    if __name__ == '__main__':\n",
    "        #!ipython -m pytest -- shell.ipynb\n",
    "        load_ipython_extension(get_ipython())"
   ]
  }
 ],
 "metadata": {
  "kernelspec": {
   "display_name": "Python 3",
   "language": "python",
   "name": "python3"
  },
  "language_info": {
   "codemirror_mode": {
    "name": "ipython",
    "version": 3
   },
   "file_extension": ".py",
   "mimetype": "text/x-python",
   "name": "python",
   "nbconvert_exporter": "python",
   "pygments_lexer": "ipython3",
   "version": "3.6.6"
  }
 },
 "nbformat": 4,
 "nbformat_minor": 2
}
