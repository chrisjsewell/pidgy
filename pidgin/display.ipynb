{
 "cells": [
  {
   "cell_type": "code",
   "execution_count": 1,
   "metadata": {},
   "outputs": [],
   "source": [
    "    import abc, fnmatch, dataclasses, IPython\n",
    "    try:\n",
    "        from .environment import environment, ipython_formatter, IPythonDollarTemplate\n",
    "    except:\n",
    "        from environment import environment, ipython_formatter, IPythonDollarTemplate"
   ]
  },
  {
   "cell_type": "code",
   "execution_count": 59,
   "metadata": {},
   "outputs": [],
   "source": [
    "    class DisplayStringsDispatch(abc.ABCMeta):\n",
    "        callables = {}\n",
    "        def register(self, key):\n",
    "            ip = IPython.get_ipython()\n",
    "            def attach(callable): \n",
    "                self.callables[key] = callable\n",
    "                return callable\n",
    "            return attach"
   ]
  },
  {
   "cell_type": "code",
   "execution_count": 60,
   "metadata": {},
   "outputs": [],
   "source": [
    "    import inspect"
   ]
  },
  {
   "cell_type": "code",
   "execution_count": 61,
   "metadata": {},
   "outputs": [],
   "source": [
    "    ip = get_ipython()"
   ]
  },
  {
   "cell_type": "code",
   "execution_count": 62,
   "metadata": {},
   "outputs": [],
   "source": [
    "    def reformat(callable):\n",
    "        def method(self, str):\n",
    "            format, metadata = self.ip.display_formatter.format(callable(self, str))\n",
    "            if len(format) == 1: \n",
    "                format['text/markdown'] = format.get('text/markdown', str)\n",
    "            return format, metadata\n",
    "        return method\n",
    "\n",
    "    @dataclasses.dataclass\n",
    "    class DisplayStrings(metaclass=DisplayStringsDispatch):\n",
    "        \"\"\"`DisplayStrings` are shorthand strings for including\n",
    "        custom displays.\"\"\"\n",
    "        ip: IPython.core.interactiveshell.InteractiveShell = IPython.get_ipython()\n",
    "        ns: dict = dataclasses.field(default_factory=dict)\n",
    "            \n",
    "        def __iter__(self): \n",
    "            for str in dir(self):\n",
    "                if '*' in str: \n",
    "                    yield str, getattr(self, str)\n",
    "        \n",
    "        def __contains__(self, str):\n",
    "            if self.get(str) is not None: return True\n",
    "            for key, value in self:\n",
    "                if fnmatch.fnmatch(str, key): return True\n",
    "            else: return False\n",
    "            \n",
    "        def get(self, str):\n",
    "            name, sep, rest = str.partition('.')\n",
    "            if name.strip() in self.ip.user_ns:\n",
    "                if not rest.strip():  \n",
    "                    return self.ip.user_ns.get(name)\n",
    "                try:\n",
    "                    return operator.attrgetter(rest)(self.ip.user_ns.get(name))\n",
    "                except: ...\n",
    "        \n",
    "        def __call__(self, str):\n",
    "            from_ns = self.get(str)\n",
    "            if from_ns is not None:\n",
    "                return self.ip.display_formatter.format(from_ns)\n",
    "                    \n",
    "            match = False\n",
    "            str = IPythonDollarTemplate(str).safe_substitute(**self.ip.user_ns)\n",
    "            for pattern, callable in type(self).callables.items():\n",
    "                if fnmatch.fnmatch(str, pattern): \n",
    "                    match = True\n",
    "                    if 'ip' in inspect.signature(callable).parameters:\n",
    "                        object = callable(self.ip, str)\n",
    "                    else:\n",
    "                        object = callable(str)\n",
    "                    \n",
    "                    if isinstance(object, type(str)):\n",
    "                        str = object\n",
    "                    elif object is None:\n",
    "                        raise ValueError(\"Display Strings must transform.\")\n",
    "                    else:\n",
    "                        return self.ip.display_formatter.format(object)\n",
    "            return {'text/plain': str, 'text/markdown': str}, {}\n",
    "        \n",
    "        def __enter__(self):\n",
    "            try: self.previous = self.ip.display_formatter.mimebundle_formatter.lookup_by_type(str)\n",
    "            except: self.previous = None\n",
    "            finally: self.ip.display_formatter.mimebundle_formatter.for_type(str, self)\n",
    "            \n",
    "        def __exit__(self, *exc): self.ip.display_formatter.mimebundle_formatter.for_type(str, self.previous)        "
   ]
  },
  {
   "cell_type": "code",
   "execution_count": 63,
   "metadata": {},
   "outputs": [],
   "source": [
    "@DisplayStrings.register(',*')\n",
    "@DisplayStrings.register(';*')\n",
    "def eval_shorthand_ipython(ip, str):\n",
    "    return eval(ip.input_transformer_manager.transform_cell(str), ip.user_ns, ip.user_global_ns)"
   ]
  },
  {
   "cell_type": "code",
   "execution_count": 64,
   "metadata": {},
   "outputs": [
    {
     "data": {
      "text/plain": [
       "flexlist.Row"
      ]
     },
     "execution_count": 64,
     "metadata": {},
     "output_type": "execute_result"
    }
   ],
   "source": [
    "try:\n",
    "    from .flexlist import Row, Column\n",
    "except:\n",
    "    from flexlist import Row, Column\n",
    "DisplayStrings.register('- *')(Column)\n",
    "DisplayStrings.register('---\\n*')(Row)"
   ]
  },
  {
   "cell_type": "code",
   "execution_count": 65,
   "metadata": {},
   "outputs": [],
   "source": [
    "@DisplayStrings.register('*{{*}}*')\n",
    "def template(ip, str):\n",
    "    return environment.from_string(str).render(ip.user_ns)"
   ]
  },
  {
   "cell_type": "code",
   "execution_count": 66,
   "metadata": {},
   "outputs": [],
   "source": [
    "from vdom import *; from  vdom.svg import *\n",
    "\n",
    "from mimetypes import guess_type; guess = lambda x: guess_type(x)[0]\n",
    "\n",
    "import types"
   ]
  },
  {
   "cell_type": "code",
   "execution_count": 67,
   "metadata": {},
   "outputs": [],
   "source": [
    "@DisplayStrings.register('http*')\n",
    "def embed(str):\n",
    "    type = guess(str) or ''\n",
    "    if str.startswith('http'): \n",
    "        if type.startswith('image') and not type.endswith('svg'):\n",
    "            return img(src=str)\n",
    "        return iframe(src=str, style=dict(width='100%', height=\"400px\"))"
   ]
  },
  {
   "cell_type": "code",
   "execution_count": 68,
   "metadata": {},
   "outputs": [],
   "source": [
    "@DisplayStrings.register('graph*{*}*')\n",
    "@DisplayStrings.register('digraph*{*}*')\n",
    "def graphviz(str):\n",
    "    import graphviz\n",
    "    return ''.join(graphviz.Source(str)._repr_svg_().splitlines())"
   ]
  },
  {
   "cell_type": "markdown",
   "metadata": {},
   "source": [
    "    DisplayStrings()('https://en.wikipedia.org/wiki/Project_Jupyter')"
   ]
  },
  {
   "cell_type": "code",
   "execution_count": 69,
   "metadata": {},
   "outputs": [],
   "source": [
    "def format_module_doc(type):\n",
    "    if len(type.__mro__) == 2:\n",
    "        if (type, object) == type.__mro__:\n",
    "            if type.__doc__:\n",
    "                return IPython.get_ipython().display_formatter.format(type.__doc__)"
   ]
  },
  {
   "cell_type": "code",
   "execution_count": 70,
   "metadata": {},
   "outputs": [],
   "source": [
    "def load_ipython_extension(ip): \n",
    "    DisplayStrings().__enter__()\n",
    "    ip.display_formatter.mimebundle_formatter.for_type(type, format_module_doc)\n",
    "    \n",
    "def unload_ipython_extension(ip): DisplayStrings().__exit__()\n",
    "    \n",
    "__name__ == '__main__' and load_ipython_extension(get_ipython())"
   ]
  }
 ],
 "metadata": {
  "kernelspec": {
   "display_name": "Python 3",
   "language": "python",
   "name": "python3"
  },
  "language_info": {
   "codemirror_mode": {
    "name": "ipython",
    "version": 3
   },
   "file_extension": ".py",
   "mimetype": "text/x-python",
   "name": "python",
   "nbconvert_exporter": "python",
   "pygments_lexer": "ipython3",
   "version": "3.6.6"
  }
 },
 "nbformat": 4,
 "nbformat_minor": 2
}
