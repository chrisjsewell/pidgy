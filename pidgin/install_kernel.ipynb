{
 "cells": [
  {
   "cell_type": "code",
   "execution_count": 26,
   "metadata": {},
   "outputs": [],
   "source": [
    "import IPython\n",
    "\n",
    "import ipykernel.ipkernel\n",
    "from ipython_genutils.py3compat import builtin_mod, PY3, unicode_type, safe_unicode\n",
    "\n",
    "from IPython.utils.tokenutil import token_at_cursor, line_at_cursor\n",
    "\n",
    "\n",
    "try:\n",
    "    import stringdisplays, markdown, tokens, phrases, magics\n",
    "except:\n",
    "    with __import__('importnb').Notebook(): from pidgin import stringdisplays, markdown, tokens, phrases, magics\n",
    "\n",
    "import sys\n",
    "import textwrap\n",
    "import black\n",
    "import mimetypes\n",
    "import collections, html\n",
    "import base64\n",
    "import sys\n",
    "import IPython\n",
    "from traitlets import *\n",
    "ip = self = IPython.get_ipython()\n",
    "import trio\n",
    "import ipykernel\n",
    "import trio\n",
    "import importlib\n",
    "import traitlets\n",
    "import jinja2\n",
    "from tornado import gen\n",
    "import asyncio\n",
    "import tokenize\n",
    "import itertools, operator\n",
    "import toolz.curried as toolz\n",
    "import tokenize\n",
    "import io"
   ]
  },
  {
   "cell_type": "code",
   "execution_count": 27,
   "metadata": {},
   "outputs": [],
   "source": [
    "def expression_tokens(str): return list(tokenize.generate_tokens(io.StringIO(str).readline))"
   ]
  },
  {
   "cell_type": "code",
   "execution_count": 28,
   "metadata": {},
   "outputs": [],
   "source": [
    "s = \"print; range; crap \""
   ]
  },
  {
   "cell_type": "code",
   "execution_count": 29,
   "metadata": {},
   "outputs": [],
   "source": [
    "def split_expression(str, *expressions):\n",
    "    \"\"\"Split an expression on the semi colons.\"\"\"\n",
    "    start = 0\n",
    "    for id in toolz.pipe(\n",
    "        str, expression_tokens, \n",
    "        toolz.filter(toolz.compose(\n",
    "            ';'.__eq__, operator.attrgetter('string')\n",
    "        )), \n",
    "        toolz.map(toolz.compose(\n",
    "            toolz.second,\n",
    "            operator.attrgetter('start')\n",
    "        )),\n",
    "        list\n",
    "    ) + [len(str)]:\n",
    "        expressions += str[start:id],\n",
    "        start = id + 1\n",
    "    return expressions"
   ]
  },
  {
   "cell_type": "code",
   "execution_count": 32,
   "metadata": {},
   "outputs": [],
   "source": [
    "import ipykernel"
   ]
  },
  {
   "cell_type": "code",
   "execution_count": 13,
   "metadata": {},
   "outputs": [],
   "source": [
    "class PidginShell(ipykernel.zmqshell.ZMQInteractiveShell):\n",
    "    markdown = Bool(True)\n",
    "    template = Bool(True)\n",
    "    expressions = Bool(True)\n",
    "    tangle_expressions = Bool(True)\n",
    "    \n",
    "    def user_expressions(self, expressions): \n",
    "        if self.expressions:\n",
    "            return trio.run(self.async_user_expressions, expressions)\n",
    "        return {}\n",
    "\n",
    "    async def async_user_expressions(self, expressions):\n",
    "        async with trio.open_nursery() as nursery: \n",
    "            for key, expression in expressions.items():\n",
    "                nursery.start_soon(self.single_user_expression, expression)\n",
    "                \n",
    "    async def single_user_expression(self, code):\n",
    "        expressions = split_expression(code)\n",
    "        results = super().user_expressions(dict(\n",
    "            zip(expressions, map(self.input_transformer_manager.transform_cell, expressions))))\n",
    "        \n",
    "        IPython.display.display(IPython.display.Markdown('''`>>> {}`'''.format(code.strip('`'))))\n",
    "        \n",
    "        error_msg = []\n",
    "        for expression, result in results.items():\n",
    "            expressions_ns = '`{}`'.format(expression.strip())\n",
    "            if result['status'] == 'error':\n",
    "                error_msg.extend(result['traceback'])\n",
    "            elif expressions_ns in self.user_ns:\n",
    "                display = self.user_ns[expressions_ns]\n",
    "                IPython.display.publish_display_data(\n",
    "                    result['data'], update=True, transient={\n",
    "                        'display_id': display.display_id}\n",
    "                )\n",
    "        \n",
    "        if error_msg:\n",
    "            IPython.display.publish_display_data({'text/plain': ''.join(error_msg)})\n",
    "            \n",
    "        if result['status'] == 'ok':\n",
    "            display = self.user_ns[\n",
    "                \"`{}`\".format(code.strip())\n",
    "            ] = self.user_ns[expressions_ns] = IPython.display.DisplayHandle()\n",
    "            IPython.display.publish_display_data(result['data'], transient={\n",
    "                'display_id': display.display_id})\n",
    "        if error_msg: result['status'] = 'error'\n",
    "        return result"
   ]
  },
  {
   "cell_type": "code",
   "execution_count": 114,
   "metadata": {},
   "outputs": [],
   "source": [
    "def requote(str, token='\"\"\"'):\n",
    "    if token in str: token = \"'''\"\n",
    "    return token+str+token"
   ]
  },
  {
   "cell_type": "markdown",
   "metadata": {},
   "source": [
    "    ipykernel.ipkernel.IPythonKernel.do_execute??"
   ]
  },
  {
   "cell_type": "code",
   "execution_count": 115,
   "metadata": {},
   "outputs": [],
   "source": [
    "class PidginKernel(ipykernel.ipkernel.IPythonKernel):\n",
    "    shell_class = traitlets.Type(PidginShell)\n",
    "    def __init__(self, **kwargs):\n",
    "        super().__init__(**kwargs)\n",
    "        stringdisplays.load_ipython_extension(self.shell)\n",
    "        phrases.load_ipython_extension(self.shell)\n",
    "        magics.load_ipython_extension(self.shell)\n",
    "        self.shell.user_ns['__import__'] = importlib.import_module\n",
    "        \n",
    "    language_info = {**ipykernel.ipkernel.IPythonKernel.language_info, **{\n",
    "        'name': 'pidgin',\n",
    "        'display_name': 'pidgin',\n",
    "        'nbconvert_exporter': 'python',\n",
    "        'file_extension': '.md.ipynb',\n",
    "        \"argv\": \"python -m pidgin.kernel -f {connection_file}\".split(),\n",
    "    }}        \n",
    "    \n",
    "    @gen.coroutine \n",
    "    def do_execute(self, code, silent, store_history=True, user_expressions=None, allow_stdin=False):\n",
    "        if user_expressions is None: user_expressions = {}\n",
    "        \n",
    "        if self.shell.markdown and not code.lstrip().startswith('%'): \n",
    "            source = markdown.renderer(code, user_expressions=user_expressions)\n",
    "        else: source = code\n",
    "        \n",
    "        silent = silent or not source\n",
    "        display = None\n",
    "        \n",
    "        if self.shell.markdown and source:\n",
    "            if code.strip() and code.splitlines()[0].strip():\n",
    "                display = IPython.display.display( IPython.display.Markdown(code), display_id=True)\n",
    "            \n",
    "        if not source:\n",
    "            if self.shell.template:\n",
    "                code = jinja2.Template(code).render(**self.shell.user_ns)\n",
    "            result = super().do_execute(requote(\n",
    "                code\n",
    "            ), False, store_history=False, user_expressions={}, allow_stdin=False)\n",
    "        else: \n",
    "            result = super().do_execute(source, silent, store_history=store_history, user_expressions={}, allow_stdin=allow_stdin)\n",
    "\n",
    "        with self._cancel_on_sigint(asyncio.ensure_future(result)):\n",
    "            result = yield result\n",
    "            \n",
    "        if user_expressions:\n",
    "            IPython.display.display(IPython.display.Markdown('---'))\n",
    "            self.shell.user_expressions(user_expressions)\n",
    "            \n",
    "        display and self.shell.template and display.update(\n",
    "            IPython.display.Markdown(jinja2.Template(code).render(**self.shell.user_ns))\n",
    "        )\n",
    "        return result"
   ]
  },
  {
   "cell_type": "code",
   "execution_count": 116,
   "metadata": {},
   "outputs": [],
   "source": [
    "def define_urls(str):\n",
    "    while str[0] != 'h' and str[0] == str[1]: str = str[1:-1]\n",
    "    for body in str.split('http')[1:]:\n",
    "        setattr(__import__('__main__'), f\"http{body.split()[0]}\", f\"http{body.split()[0]}\" )"
   ]
  },
  {
   "cell_type": "code",
   "execution_count": 117,
   "metadata": {},
   "outputs": [],
   "source": [
    "import jupyter_client.manager"
   ]
  },
  {
   "cell_type": "code",
   "execution_count": 118,
   "metadata": {},
   "outputs": [],
   "source": [
    "manager = jupyter_client.kernelspec.KernelSpecManager()\n",
    "import json"
   ]
  },
  {
   "cell_type": "code",
   "execution_count": 119,
   "metadata": {},
   "outputs": [],
   "source": [
    "import IPython"
   ]
  },
  {
   "cell_type": "code",
   "execution_count": 120,
   "metadata": {},
   "outputs": [
    {
     "data": {
      "text/plain": [
       "__main__.PidginShell"
      ]
     },
     "execution_count": 120,
     "metadata": {},
     "output_type": "execute_result"
    }
   ],
   "source": [
    "IPython.core.interactiveshell.InteractiveShellABC.register(PidginShell)"
   ]
  },
  {
   "cell_type": "markdown",
   "metadata": {},
   "source": [
    "    %%file kernel.py\n",
    "    with __import__('importnb').Notebook():\n",
    "        from .kernel import PidginKernel\n",
    "        \n",
    "    if __name__ == '__main__':\n",
    "        from ipykernel.kernelapp import IPKernelApp\n",
    "        IPKernelApp.launch_instance(kernel_class=PidginKernel)\n",
    "    "
   ]
  },
  {
   "cell_type": "code",
   "execution_count": 14,
   "metadata": {},
   "outputs": [],
   "source": [
    "if __name__ == '__main__':\n",
    "\n",
    "    with open('C:/Users/deathbeds/pidgin/pidgin/kernel.json', 'w') as f:\n",
    "        json.dump(PidginKernel.language_info, f)\n",
    "    manager.install_kernel_spec('C:/Users/deathbeds/pidgin/pidgin/')\n",
    "    manager.get_all_specs()        "
   ]
  },
  {
   "cell_type": "code",
   "execution_count": null,
   "metadata": {},
   "outputs": [],
   "source": []
  },
  {
   "cell_type": "code",
   "execution_count": null,
   "metadata": {},
   "outputs": [],
   "source": []
  }
 ],
 "metadata": {
  "kernelspec": {
   "display_name": "Python 3",
   "language": "python",
   "name": "python3"
  },
  "language_info": {
   "codemirror_mode": {
    "name": "ipython",
    "version": 3
   },
   "file_extension": ".py",
   "mimetype": "text/x-python",
   "name": "python",
   "nbconvert_exporter": "python",
   "pygments_lexer": "ipython3",
   "version": "3.6.6"
  }
 },
 "nbformat": 4,
 "nbformat_minor": 2
}
