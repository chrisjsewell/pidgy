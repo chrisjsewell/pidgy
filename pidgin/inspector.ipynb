{
 "cells": [
  {
   "cell_type": "markdown",
   "metadata": {},
   "source": [
    ">> A way to innovate quicker is to increase the value of a keystroke.  \n",
    "\n",
    "In this module we make some slight variations to the `IPython` kernel `do_inspect` method.  The\n",
    "current inspector has the ability to introspect Python objects.  We'll enhance\n",
    "that with ability inspect source code and preview __pidgin__ documents."
   ]
  },
  {
   "cell_type": "code",
   "execution_count": 1,
   "metadata": {},
   "outputs": [],
   "source": [
    "    with __import__('importnb').Notebook():\n",
    "        try:\n",
    "            from . import post_run_cell\n",
    "        except:\n",
    "            import post_run_cell"
   ]
  },
  {
   "cell_type": "code",
   "execution_count": 2,
   "metadata": {},
   "outputs": [],
   "source": [
    "    import IPython, types"
   ]
  },
  {
   "cell_type": "markdown",
   "metadata": {},
   "source": [
    "The `do_inspect` function will:\n",
    "1. Always returns something.\n",
    "2. Display a welcome message if no source is found.\n",
    "4. Increase the detail level if __?__ s are found near the cursor.  \n",
    "    \n",
    "    Authors may access and read source code more frequently with this feature.\n",
    "5. Return the canonical inspection if it is found.\n",
    "3. Perform some fancy rendering if the cell has a leading or trailing themactic break.\n",
    "6. Display the markdown as a de facto standard.\n",
    "    \n",
    "    <code>pidgin</code> authors cells in Markdown so this preferred behavior.\n",
    "    \n",
    "> We make the `code` and `cursor_pos` available to interactively debug this post."
   ]
  },
  {
   "cell_type": "code",
   "execution_count": 3,
   "metadata": {},
   "outputs": [],
   "source": [
    "    def do_inspect(kernel, code, cursor_pos, detail_level=0):\n",
    "        \"\"\"For debugging purposes\"\"\", globals().update(**locals())\n",
    "        \n",
    "        reply = {'status' : 'ok', 'data': {}, 'metadata': {}, 'found': \"This implementation always returns something\" and True}\n",
    "        \n",
    "        \"\"\"A welcome and help message for using a tool or inspector.\"\"\"\n",
    "        if not code.strip(): return reply['data'].update({'text/markdown': \"\"\"## Welcome to our custom inspector\\n\\n_Here are some suggestions to use some software_.\"\"\"}) or reply\n",
    "                        \n",
    "        \"\"\"Evaluate expressions through the inspector if they start with the right triggers.\"\"\"\n",
    "        line, offset = IPython.utils.tokenutil.line_at_cursor(code, cursor_pos)\n",
    "        if line.lstrip('').startswith('`'):\n",
    "            line, tick, rest = line.lstrip('`').partition('`')\n",
    "        elif line.lstrip('').startswith('{{'):\n",
    "            line, tick, rest = line.lstrip('{{').partition('}}')\n",
    "        else: line = None\n",
    "        \n",
    "        \"\"\"if post_run_cell.only_contains_block_code(\n",
    "            code, post_run_cell.markdown_to_python(code)\n",
    "        ):  line, rest = code, ''\n",
    "        else: line = ' '*4+line\"\"\"\n",
    "        \n",
    "        if line and not rest.strip():\n",
    "            try:\n",
    "                reply.update(data=kernel.shell._format_user_obj(\n",
    "                    eval(kernel.shell.input_transformer_manager.transform_cell(line))\n",
    "                ).get('data'))\n",
    "            except SyntaxError as Exception:\n",
    "                try:\n",
    "                    reply.update(data=exec(\n",
    "                        kernel.shell.input_transformer_manager.transform_cell(line),\n",
    "                        kernel.shell.user_ns, kernel.shell.user_ns\n",
    "                    ) or {\n",
    "                        'text/plain': \"complete!\",\n",
    "                    })\n",
    "                except BaseException as Exception:\n",
    "                    reply.update(data=kernel.shell._format_user_obj(Exception).get('data'))\n",
    "            except BaseException as Exception:\n",
    "                reply.update(data=kernel.shell._format_user_obj(Exception).get('data'))\n",
    "\n",
    "            return reply\n",
    "        \n",
    "        \"\"\"Ramp up the detail level if there is a question mark nearby.\"\"\"\n",
    "        detail_level = '?' in code[(cursor_pos-2):cursor_pos]\n",
    "        \n",
    "        try:\n",
    "            \"\"\"to return the expected result.\"\"\" and reply['data'].update(kernel.shell.object_inspect_mime(\n",
    "                IPython.utils.tokenutil.token_at_cursor(code, cursor_pos), detail_level=detail_level))\n",
    "            if not kernel.shell.enable_html_pager: \"all of this is better with html pager\" and reply['data'].pop('text/html')\n",
    "            return reply\n",
    "        except KeyError: ...\n",
    "            \n",
    "        if code.lstrip().startswith('---') or code.rstrip().endswith('---') and \"Render the thing with display.\":\n",
    "            return reply['data'].update(kernel.shell.display_formatter.format(code)[0]) or reply            \n",
    "        \n",
    "        \"\"\"Default to a markdown representation of the code body.  Markdown cells prefer this. \"\"\"\n",
    "        return reply['data'].update({'text/markdown': code}) or reply"
   ]
  },
  {
   "cell_type": "markdown",
   "metadata": {},
   "source": [
    "Update the `ip.kernel.do_inspect` `types.MethodType` with `do_inspect`. With extensions.\n",
    "\n",
    "    %reload_ext deathbeds.__The_inspector_should_be_a_teacher\n",
    "\n",
    "* Modifying the inspection behavior works for both Code and Markdown Cells in JupyterLab."
   ]
  },
  {
   "cell_type": "code",
   "execution_count": 4,
   "metadata": {},
   "outputs": [],
   "source": [
    "    def load_ipython_extension(ip): \n",
    "        if ip and hasattr(ip, 'kernel'):\n",
    "            ip.kernel.do_inspect = types.MethodType(do_inspect, ip.kernel)\n",
    "    def unload_ipython_extension(ip):\n",
    "        if ip and hasattr(ip, 'kernel'):\n",
    "            ip.kernel.do_inspect = types.MethodType(type(ip.kernel).do_inspect, ip.kernel)\n",
    "    if __name__ == '__main__': load_ipython_extension(IPython.get_ipython())"
   ]
  },
  {
   "cell_type": "code",
   "execution_count": null,
   "metadata": {},
   "outputs": [],
   "source": []
  }
 ],
 "metadata": {
  "kernelspec": {
   "display_name": "Python 3",
   "language": "python",
   "name": "python3"
  },
  "language_info": {
   "codemirror_mode": {
    "name": "ipython",
    "version": 3
   },
   "file_extension": ".py",
   "mimetype": "text/x-python",
   "name": "python",
   "nbconvert_exporter": "python",
   "pygments_lexer": "ipython3",
   "version": "3.6.6"
  }
 },
 "nbformat": 4,
 "nbformat_minor": 2
}
