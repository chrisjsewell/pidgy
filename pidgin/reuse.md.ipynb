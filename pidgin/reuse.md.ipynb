{
 "cells": [
  {
   "cell_type": "code",
   "execution_count": 9,
   "metadata": {},
   "outputs": [
    {
     "data": {
      "text/markdown": [
       "    import pidgin.imports, nbconvert"
      ],
      "text/plain": [
       "<IPython.core.display.Markdown object>"
      ]
     },
     "metadata": {
      "text/markdown": {
       "end_time": "2020-02-03T02:22:04.670423",
       "modules": [],
       "names": [],
       "start_time": "2020-02-03T02:22:04.668795"
      }
     },
     "output_type": "display_data"
    }
   ],
   "source": [
    "    import pidgin.imports, nbconvert"
   ]
  },
  {
   "cell_type": "code",
   "execution_count": 10,
   "metadata": {},
   "outputs": [
    {
     "data": {
      "text/markdown": [
       "    class PidginLoader(__import__('importnb').Notebook): \n",
       "        extensions = \".md.ipynb\".split()\n",
       "        def code(self, str): return ''.join(pidgin.imports.pidgin.transform_cell(str))"
      ],
      "text/plain": [
       "<IPython.core.display.Markdown object>"
      ]
     },
     "metadata": {
      "text/markdown": {
       "end_time": "2020-02-03T02:22:05.478536",
       "modules": [],
       "names": [],
       "start_time": "2020-02-03T02:22:05.476197"
      }
     },
     "output_type": "display_data"
    }
   ],
   "source": [
    "    class PidginLoader(__import__('importnb').Notebook): \n",
    "        extensions = \".md.ipynb\".split()\n",
    "        def code(self, str): return ''.join(pidgin.imports.pidgin.transform_cell(str))"
   ]
  }
 ],
 "metadata": {
  "kernelspec": {
   "display_name": "Pidgin 3",
   "language": "python",
   "name": "pidgin"
  },
  "language_info": {
   "codemirror_mode": {
    "name": "ipython",
    "version": 3
   },
   "file_extension": ".py",
   "mimetype": "text/x-python",
   "name": "python",
   "nbconvert_exporter": "python",
   "pygments_lexer": "ipython3",
   "version": "3.7.3"
  }
 },
 "nbformat": 4,
 "nbformat_minor": 4
}
