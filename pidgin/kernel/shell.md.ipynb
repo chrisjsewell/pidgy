{
 "cells": [
  {
   "cell_type": "code",
   "execution_count": null,
   "metadata": {},
   "outputs": [],
   "source": [
    "    if __name__ == '__main__':\n",
    "        %reload_ext pidgin"
   ]
  },
  {
   "cell_type": "markdown",
   "metadata": {},
   "source": [
    "The shell is the application either jupyterlab or jupyter notebook, the kernel determines the programming language.  Below we design a just jupyter kernel that can be installed using \n",
    "\n",
    "    !pidgin kernel install"
   ]
  },
  {
   "cell_type": "markdown",
   "metadata": {},
   "source": [
    "    manager = jupyter_client.kernelspec.KernelSpecManager()"
   ]
  },
  {
   "cell_type": "markdown",
   "metadata": {},
   "source": [
    "    jupyter_client.kernelspec.install_kernel_spec('spec', 'pidgin')"
   ]
  },
  {
   "cell_type": "code",
   "execution_count": 1,
   "metadata": {},
   "outputs": [],
   "source": [
    "    import jupyter_client\n",
    "\n",
    "    import IPython, ipykernel, pidgin\n",
    "\n",
    "    import traitlets"
   ]
  },
  {
   "cell_type": "code",
   "execution_count": 3,
   "metadata": {},
   "outputs": [
    {
     "data": {
      "text/markdown": [
       "    class PidginInteractiveShell(ipykernel.zmqshell.ZMQInteractiveShell):\n",
       "        \"\"\"Configure a native `pidgin` `IPython.InteractiveShell`\"\"\"\n",
       "        input_transformer_manager = traitlets.Any(pidgin.imports.PidginTransformer)\n",
       "        enable_html_pager = traitlets.Bool(True)\n",
       "    class PidginKernel(ipykernel.ipkernel.IPythonKernel):\n",
       "        shell_class = traitlets.Type(PidginInteractiveShell)\n",
       "    class PidginKernelApp(ipykernel.kernelapp.IPKernelApp): \n",
       "        \"\"\"Configure a native `pidgin` `__import__('ipykernel').kernelapp.IPKernelApp\"\"\"\n",
       "        kernel_class = traitlets.Type(PidginKernel)\n",
       "        kernel = traitlets.Any(PidginKernel)"
      ],
      "text/plain": [
       "<IPython.core.display.Markdown object>"
      ]
     },
     "metadata": {
      "text/markdown": {
       "end_time": "2020-02-01T19:56:56.943438",
       "modules": [],
       "names": [],
       "start_time": "2020-02-01T19:56:56.935214"
      }
     },
     "output_type": "display_data"
    }
   ],
   "source": [
    "    class PidginInteractiveShell(ipykernel.zmqshell.ZMQInteractiveShell):\n",
    "        \"\"\"Configure a native `pidgin` `IPython.InteractiveShell`\"\"\"\n",
    "        input_transformer_manager = traitlets.Instance(pidgin.imports.PidginTransformer, args=tuple())\n",
    "        enable_html_pager = traitlets.Bool(True)\n",
    "        def __init__(self,*args, **kwargs):\n",
    "            super().__init__(*args, **kwargs)\n",
    "            pidgin.testing.load_ipython_extension(self)\n",
    "            pidgin.exports.load_ipython_extension(self)\n",
    "    class PidginKernel(ipykernel.ipkernel.IPythonKernel):\n",
    "        shell_class = traitlets.Type(PidginInteractiveShell)\n",
    "    class PidginKernelApp(ipykernel.kernelapp.IPKernelApp): \n",
    "        \"\"\"Configure a native `pidgin` `__import__('ipykernel').kernelapp.IPKernelApp\"\"\"\n",
    "        kernel_class = traitlets.Type(PidginKernel)\n",
    "        kernel = traitlets.Any(PidginKernel)"
   ]
  },
  {
   "cell_type": "code",
   "execution_count": null,
   "metadata": {},
   "outputs": [],
   "source": []
  }
 ],
 "metadata": {
  "kernelspec": {
   "display_name": "Python 3",
   "language": "python",
   "name": "python3"
  },
  "language_info": {
   "codemirror_mode": {
    "name": "ipython",
    "version": 3
   },
   "file_extension": ".py",
   "mimetype": "text/x-python",
   "name": "python",
   "nbconvert_exporter": "python",
   "pygments_lexer": "ipython3",
   "version": "3.7.3"
  }
 },
 "nbformat": 4,
 "nbformat_minor": 4
}
