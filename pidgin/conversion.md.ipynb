{
 "cells": [
  {
   "cell_type": "code",
   "execution_count": 9,
   "metadata": {},
   "outputs": [
    {
     "data": {
      "text/markdown": [
       "    import pidgin.imports, nbconvert"
      ],
      "text/plain": [
       "<IPython.core.display.Markdown object>"
      ]
     },
     "metadata": {
      "text/markdown": {
       "end_time": "2020-02-03T02:22:04.670423",
       "modules": [],
       "names": [],
       "start_time": "2020-02-03T02:22:04.668795"
      }
     },
     "output_type": "display_data"
    }
   ],
   "source": [
    "    import pidgin.imports, nbconvert"
   ]
  },
  {
   "cell_type": "code",
   "execution_count": 11,
   "metadata": {},
   "outputs": [
    {
     "data": {
      "text/markdown": [
       "    class PidginPreprocessor(nbconvert.preprocessors.Preprocessor):\n",
       "        def preprocess_cell(self, cell, resources, index, ):\n",
       "            if cell['cell_type'] == 'code':\n",
       "                cell['source'] = pidgin.imports.pidgin.transform_cell(''.join(cell['source']))\n",
       "            return cell, resources"
      ],
      "text/plain": [
       "<IPython.core.display.Markdown object>"
      ]
     },
     "metadata": {
      "text/markdown": {
       "end_time": "2020-02-03T02:22:05.662224",
       "modules": [],
       "names": [],
       "start_time": "2020-02-03T02:22:05.659665"
      }
     },
     "output_type": "display_data"
    }
   ],
   "source": [
    "    class PidginPreprocessor(nbconvert.preprocessors.Preprocessor):\n",
    "        def preprocess_cell(self, cell, resources, index, ):\n",
    "            if cell['cell_type'] == 'code':\n",
    "                cell['source'] = pidgin.imports.pidgin.transform_cell(''.join(cell['source']))\n",
    "            return cell, resources"
   ]
  }
 ],
 "metadata": {
  "kernelspec": {
   "display_name": "Pidgin 3",
   "language": "python",
   "name": "pidgin"
  },
  "language_info": {
   "codemirror_mode": {
    "name": "ipython",
    "version": 3
   },
   "file_extension": ".py",
   "mimetype": "text/x-python",
   "name": "python",
   "nbconvert_exporter": "python",
   "pygments_lexer": "ipython3",
   "version": "3.7.3"
  }
 },
 "nbformat": 4,
 "nbformat_minor": 4
}
