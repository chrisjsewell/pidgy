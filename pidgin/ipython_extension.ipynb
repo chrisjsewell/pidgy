{
 "cells": [
  {
   "cell_type": "markdown",
   "metadata": {},
   "source": [
    "`ipython_extension.ipynb` is a script to install that persistently allows `pidgin` notebooks and __Markdown__ files to be imported.  This should be install in a config file.\n",
    "\n",
    "These can be defined in <code>.ipython\\profile_default\\ipython_config.json</code>\n",
    "\n",
    "```json\n",
    "{\"InteractiveShellApp\": {\"extensions\": [\"importnb\", \"pidgin.ipython_extension\"]}}\n",
    "```"
   ]
  },
  {
   "cell_type": "code",
   "execution_count": 1,
   "metadata": {},
   "outputs": [],
   "source": [
    "    from importnb.ipython_extension import IPYTHON_MAIN"
   ]
  },
  {
   "cell_type": "code",
   "execution_count": 2,
   "metadata": {},
   "outputs": [],
   "source": [
    "    if IPYTHON_MAIN():\n",
    "        from .loader import PidginParameterize as Pidgin, MarkdownImporter\n",
    "    else: \n",
    "        try:\n",
    "            from .loader import PidginImporter as Pidgin, MarkdownImporter\n",
    "        except:\n",
    "            from loader import PidginImporter as Pidgin, MarkdownImporter"
   ]
  },
  {
   "cell_type": "code",
   "execution_count": null,
   "metadata": {},
   "outputs": [],
   "source": [
    "    import IPython\n",
    "    def load_ipython_extension(ip=None): \n",
    "        MarkdownImporter().__enter__()\n",
    "        Pidgin().__enter__()\n",
    "    def unload_ipython_extension(ip): \n",
    "        MarkdownImporter().__exit__()\n",
    "        Pidgin().__exit__()"
   ]
  }
 ],
 "metadata": {
  "kernelspec": {
   "display_name": "Python 3",
   "language": "python",
   "name": "python3"
  },
  "language_info": {
   "codemirror_mode": {
    "name": "ipython",
    "version": 3
   },
   "file_extension": ".py",
   "mimetype": "text/x-python",
   "name": "python",
   "nbconvert_exporter": "python",
   "pygments_lexer": "ipython3",
   "version": "3.6.6"
  },
  "toc": {
   "colors": {
    "hover_highlight": "#DAA520",
    "running_highlight": "#FF0000",
    "selected_highlight": "#FFD700"
   },
   "moveMenuLeft": true,
   "nav_menu": {
    "height": "29px",
    "width": "252px"
   },
   "navigate_menu": true,
   "number_sections": true,
   "sideBar": true,
   "threshold": 4,
   "toc_cell": false,
   "toc_section_display": "block",
   "toc_window_display": false,
   "widenNotebook": false
  },
  "varInspector": {
   "cols": {
    "lenName": 16,
    "lenType": 16,
    "lenVar": 40
   },
   "kernels_config": {
    "python": {
     "delete_cmd_postfix": "",
     "delete_cmd_prefix": "del ",
     "library": "var_list.py",
     "varRefreshCmd": "print(var_dic_list())"
    },
    "r": {
     "delete_cmd_postfix": ") ",
     "delete_cmd_prefix": "rm(",
     "library": "var_list.r",
     "varRefreshCmd": "cat(var_dic_list()) "
    }
   },
   "types_to_exclude": [
    "module",
    "function",
    "builtin_function_or_method",
    "instance",
    "_Feature"
   ],
   "window_display": false
  }
 },
 "nbformat": 4,
 "nbformat_minor": 2
}
