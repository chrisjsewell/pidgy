{
 "cells": [
  {
   "cell_type": "markdown",
   "metadata": {},
   "source": [
    "`weave` objects controls the output behaviours of a string containing source code."
   ]
  },
  {
   "cell_type": "markdown",
   "metadata": {},
   "source": [
    "Converting raw `html` to `vdom`."
   ]
  },
  {
   "cell_type": "code",
   "execution_count": 1,
   "metadata": {},
   "outputs": [],
   "source": [
    "import html, vdom.svg, functools, inspect"
   ]
  },
  {
   "cell_type": "markdown",
   "metadata": {},
   "source": [
    "`dom` are a collection or existing `vdom` tags; if we can't find a tag then we make our won `vdom.createComponent`."
   ]
  },
  {
   "cell_type": "code",
   "execution_count": 2,
   "metadata": {},
   "outputs": [],
   "source": [
    "dom = {**vars(vdom), **vars(vdom.svg)}"
   ]
  },
  {
   "cell_type": "code",
   "execution_count": 40,
   "metadata": {},
   "outputs": [],
   "source": [
    "    def style_dict(object)->dict: \n",
    "        \"\"\"Convert a string of style to a dictionary.\"\"\"\n",
    "        return  dict(map(str.strip, object.split(':', 1)) for object in object.split(';') if object) if str else {}"
   ]
  },
  {
   "cell_type": "code",
   "execution_count": 71,
   "metadata": {},
   "outputs": [],
   "source": [
    "from html.parser import HTMLParser\n",
    "\n",
    "class html_to_vdom(HTMLParser):\n",
    "    buf = None    \n",
    "    def flush(self):\n",
    "        while len(self.buf) > 1: \n",
    "            a = self.buf.pop()\n",
    "            \n",
    "            self.append(a)\n",
    "        return self.buf.pop()\n",
    "    \n",
    "    def feed(self, str, tag=vdom.span):\n",
    "        self.buf = self.buf or [tag()]\n",
    "        str and super().feed(str)\n",
    "    \n",
    "    def __call__(self, str, tag=vdom.div):\n",
    "        self.buf = [tag()]\n",
    "        return self.feed(str) or self.flush() or self.buf[0]\n",
    "    \n",
    "    def handle_starttag(self, tag, attrs): \n",
    "        tag = dom.get(tag, vdom.create_component(tag))\n",
    "        attrs = dict(attrs)\n",
    "        self.buf.append(tag(**attrs, style=style_dict(attrs.pop('style', ''))))\n",
    "        \n",
    "    def append(self, object):\n",
    "        self.feed('')\n",
    "        tag = self.buf[-1].tag_name\n",
    "        self.buf[-1] = dom.get(tag, vdom.create_component(tag))(\n",
    "            *self.buf[-1].children, object, style=self.buf[-1].style, attributes=self.buf[-1].attributes\n",
    "        )\n",
    "\n",
    "    def handle_endtag(self, tag):\n",
    "        self.append(self.buf.pop() if self.buf and self.buf[-1].tag_name == tag else F\"</{tag}>\")\n",
    "    \n",
    "    handle_data = append"
   ]
  },
  {
   "cell_type": "code",
   "execution_count": 72,
   "metadata": {},
   "outputs": [],
   "source": [
    "    def test_graphviz():\n",
    "        assert html_to_vdom()(__import__('graphviz').Source('graph {A -- B}')._repr_svg_())"
   ]
  }
 ],
 "metadata": {
  "kernelspec": {
   "display_name": "Python 3",
   "language": "python",
   "name": "python3"
  },
  "language_info": {
   "codemirror_mode": {
    "name": "ipython",
    "version": 3
   },
   "file_extension": ".py",
   "mimetype": "text/x-python",
   "name": "python",
   "nbconvert_exporter": "python",
   "pygments_lexer": "ipython3",
   "version": "3.6.6"
  }
 },
 "nbformat": 4,
 "nbformat_minor": 2
}
