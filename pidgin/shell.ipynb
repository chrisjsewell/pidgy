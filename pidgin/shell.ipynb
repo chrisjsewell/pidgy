{
 "cells": [
  {
   "cell_type": "markdown",
   "metadata": {},
   "source": [
    "    %load_ext pidgin.shell\n",
    "    \n",
    "The `pidgin` shell augments the `IPython` shell in the notebook to permit Markdown forward [computational essays](http://blog.stephenwolfram.com/2017/11/what-is-a-computational-essay/).   It provides:\n",
    "\n",
    "* Markdown input in code cells.\n",
    "* Markdown block code statements and expressions are evaluated as a normal code cell.\n",
    "* Inline code expressions are evaluated asynchronously.\n",
    "* The Markdown code accepts `jinja2` templates too\n"
   ]
  },
  {
   "cell_type": "markdown",
   "metadata": {},
   "source": [
    "    IPython.core.interactiveshell.InteractiveShell._run_cell??"
   ]
  },
  {
   "cell_type": "code",
   "execution_count": 1,
   "metadata": {},
   "outputs": [],
   "source": [
    "    import IPython, traitlets, jinja2, types, contextlib, textwrap, ast, argparse, traceback, doctest\n",
    "    try:\n",
    "        from .tangle import markdown_to_python_user_expressions\n",
    "    except:\n",
    "        from tangle import markdown_to_python_user_expressions"
   ]
  },
  {
   "cell_type": "code",
   "execution_count": 2,
   "metadata": {},
   "outputs": [],
   "source": [
    "    def compare_source(raw: str, source: str) -> bool: return list(\n",
    "        map(str.rstrip, textwrap.dedent(raw).splitlines())\n",
    "    ) == list(map(str.rstrip, textwrap.dedent(source).splitlines()))"
   ]
  },
  {
   "cell_type": "code",
   "execution_count": 3,
   "metadata": {},
   "outputs": [],
   "source": [
    "    class DocTestException(BaseException):\n",
    "        def _render_traceback_(self):\n",
    "            print('butts')\n",
    "            return args[0].splitlines()"
   ]
  },
  {
   "cell_type": "code",
   "execution_count": 4,
   "metadata": {},
   "outputs": [],
   "source": [
    "    class InlineCodeException(BaseException): ..."
   ]
  },
  {
   "cell_type": "code",
   "execution_count": 5,
   "metadata": {},
   "outputs": [],
   "source": [
    "    def show_failures(str):\n",
    "        IPython.display.display(IPython.display.Pretty(str))"
   ]
  },
  {
   "cell_type": "code",
   "execution_count": 6,
   "metadata": {},
   "outputs": [],
   "source": [
    "    import doctest"
   ]
  },
  {
   "cell_type": "code",
   "execution_count": 7,
   "metadata": {},
   "outputs": [],
   "source": [
    "    class DocTest:\n",
    "        exception = None\n",
    "        def _raise_exc(self, str):\n",
    "            self.exception = DocTestException(str)\n",
    "        def __call__(self, ip, str, examples):\n",
    "            import doctest\n",
    "            doctest.DocTestRunner().run(\n",
    "                 doctest.DocTest(\n",
    "                    examples=examples,\n",
    "                    globs=ip.user_ns, \n",
    "                    name='__main__', \n",
    "                    filename='__main__', \n",
    "                    lineno=0, \n",
    "                    docstring=str\n",
    "                 ), out=self._raise_exc)\n",
    "            return self.exception"
   ]
  },
  {
   "cell_type": "markdown",
   "metadata": {},
   "source": [
    "    doctest.DebugRunner??"
   ]
  },
  {
   "cell_type": "code",
   "execution_count": 8,
   "metadata": {},
   "outputs": [],
   "source": [
    "    import sys"
   ]
  },
  {
   "cell_type": "code",
   "execution_count": 9,
   "metadata": {},
   "outputs": [],
   "source": [
    "    class PidginShell(IPython.core.interactiveshell.InteractiveShell):\n",
    "        def run_cell(self, raw, store_history=False, silent=False, shell_futures=True, **user_expressions):\n",
    "            \"\"\"Run cell separates the sync and async parts.\"\"\"\n",
    "            self._last_traceback = None\n",
    "            \n",
    "            source, user_expressions, examples = markdown_to_python_user_expressions(raw)\n",
    "            \n",
    "            result = IPython.core.interactiveshell.InteractiveShell.run_cell(\n",
    "                self, source, store_history=store_history, \n",
    "                silent=silent, shell_futures=shell_futures)\n",
    "            \n",
    "            if not (result.error_in_exec or result.error_before_exec):\n",
    "                if examples:\n",
    "                    doctests = doctest.DocTestRunner().run(\n",
    "                         doctest.DocTest(\n",
    "                            examples=examples,\n",
    "                            globs=self.user_ns, \n",
    "                            name='__main__', \n",
    "                            filename='__main__', \n",
    "                            lineno=0, \n",
    "                            docstring=str\n",
    "                         ), out=show_failures)\n",
    "                    if doctests.failed: return result\n",
    "                    \n",
    "\n",
    "                is_source =  compare_source(raw, source)\n",
    "                try:\n",
    "                    is_display = bool(raw.partition('\\n')[0].strip() and not raw.startswith(';')) \n",
    "                    if raw.strip() == ast.literal_eval(source).strip():\n",
    "                        is_display = False\n",
    "                except: ...\n",
    "\n",
    "                self.user_expressions({str: str for str in user_expressions})\n",
    "                \n",
    "                if is_display and not is_source: IPython.display.display(raw)\n",
    "\n",
    "                \n",
    "            return result\n",
    "        \n",
    "        def user_expressions(self, expressions):\n",
    "            \"\"\"User expressions evaluate expressions, assert statements are the only exception. `assert` may\n",
    "            augment a literate narrative so we choose to include these statements in the expressions.\n",
    "            \"\"\"\n",
    "            out = {}\n",
    "            user_ns = self.user_ns\n",
    "            global_ns = self.user_global_ns\n",
    "            value = {}\n",
    "            for key, expression in expressions.items():\n",
    "                expression = self.input_transformer_manager.transform_cell(expression)\n",
    "                try:\n",
    "                    evaluate = (key.startswith('assert ') and exec or eval) # assertions exec, everything else evals.\n",
    "                    value = self._format_user_obj(\n",
    "                        evaluate(expression, global_ns, user_ns)\n",
    "                    )\n",
    "                except:\n",
    "                    self._user_obj_error()\n",
    "                    value = None\n",
    "                    break\n",
    "            if value is None:\n",
    "                IPython.display.display(IPython.display.Markdown('---'))\n",
    "                traceback.print_last()\n",
    "            return out        "
   ]
  },
  {
   "cell_type": "code",
   "execution_count": 10,
   "metadata": {},
   "outputs": [],
   "source": [
    "    import traceback"
   ]
  },
  {
   "cell_type": "code",
   "execution_count": 11,
   "metadata": {},
   "outputs": [],
   "source": [
    "    class PidginShell(IPython.core.interactiveshell.InteractiveShell):\n",
    "        def run_cell(self, raw, store_history=False, silent=False, shell_futures=True, **user_expressions):\n",
    "            \"\"\"Run cell separates the sync and async parts.\"\"\"\n",
    "            self._last_traceback = None\n",
    "            \n",
    "            source, user_expressions, examples = markdown_to_python_user_expressions(raw)\n",
    "            \n",
    "            result = IPython.core.interactiveshell.InteractiveShell.run_cell(\n",
    "                self, source, store_history=store_history, \n",
    "                silent=silent, shell_futures=shell_futures)\n",
    "            \n",
    "            if not (result.error_in_exec or result.error_before_exec):\n",
    "                doctests = DocTest()\n",
    "                test_results = result.error_in_exec = doctests(self, str, examples)\n",
    "                if test_results: \n",
    "                    self.showtraceback((type(test_results), test_results, test_results.__traceback__))\n",
    "                        \n",
    "            if not (result.error_in_exec or result.error_before_exec):\n",
    "                is_source =  compare_source(raw, source)\n",
    "                try:\n",
    "                    is_display = bool(raw.partition('\\n')[0].strip() and not raw.startswith(';')) \n",
    "                    if raw.strip() == ast.literal_eval(source).strip():\n",
    "                        is_display = False\n",
    "                except: ...\n",
    "\n",
    "                try:\n",
    "                    self.user_expressions({str: str for str in user_expressions})\n",
    "                    if is_display and not is_source: IPython.display.display(raw)\n",
    "                except BaseException as Exception:\n",
    "    #                     Exception = Exception.with_traceback(BaseException().__traceback__)\n",
    "                    result.error_in_exec = Exception\n",
    "                    self.showtraceback((type(Exception), Exception, Exception.__traceback__), tb_offset=3)\n",
    "            return result\n",
    "        \n",
    "        def user_expressions(self, expressions):\n",
    "            \"\"\"User expressions evaluate expressions, assert statements are the only exception. `assert` may\n",
    "            augment a literate narrative so we choose to include these statements in the expressions.\n",
    "            \"\"\"\n",
    "            out = {}\n",
    "            user_ns = self.user_ns\n",
    "            global_ns = self.user_global_ns\n",
    "            value = {}\n",
    "            for key, expression in expressions.items():\n",
    "                expression = self.input_transformer_manager.transform_cell(expression)\n",
    "                evaluate = (key.startswith('assert ') and exec or eval) # assertions exec, everything else evals.\n",
    "                try:\n",
    "                    value = self._format_user_obj(evaluate(expression, global_ns, user_ns))\n",
    "                except BaseException as Exception:\n",
    "                    raise InlineCodeException(expression) from Exception\n",
    "            return out"
   ]
  },
  {
   "cell_type": "code",
   "execution_count": 12,
   "metadata": {},
   "outputs": [],
   "source": [
    "    original_methods = {}\n",
    "    def load_ipython_extension(ip):\n",
    "        ip.run_cell = types.MethodType(PidginShell.run_cell, ip)\n",
    "        ip.user_expressions = types.MethodType(PidginShell.user_expressions, ip)\n",
    "        ip.enable_html_pager = True\n",
    "    def unload_ipython_extension(ip):  \n",
    "        ip.run_cell = types.MethodType(type(ip).run_cell, ip)"
   ]
  },
  {
   "cell_type": "code",
   "execution_count": 13,
   "metadata": {},
   "outputs": [],
   "source": [
    "    parser = argparse.ArgumentParser(description=\"\"\"Modify settings for a running pidgin kernel.\"\"\")"
   ]
  },
  {
   "cell_type": "code",
   "execution_count": 14,
   "metadata": {},
   "outputs": [],
   "source": [
    "    if __name__ == '__main__': load_ipython_extension(IPython.get_ipython())"
   ]
  }
 ],
 "metadata": {
  "kernelspec": {
   "display_name": "Python 3",
   "language": "python",
   "name": "python3"
  },
  "language_info": {
   "codemirror_mode": {
    "name": "ipython",
    "version": 3
   },
   "file_extension": ".py",
   "mimetype": "text/x-python",
   "name": "python",
   "nbconvert_exporter": "python",
   "pygments_lexer": "ipython3",
   "version": "3.6.6"
  }
 },
 "nbformat": 4,
 "nbformat_minor": 2
}
