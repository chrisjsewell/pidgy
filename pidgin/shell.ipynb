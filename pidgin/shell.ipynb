{
 "cells": [
  {
   "cell_type": "markdown",
   "metadata": {},
   "source": [
    "    %load_ext pidgin.shell\n",
    "    \n",
    "The `pidgin` shell augments the `IPython` shell in the notebook to permit Markdown forward [computational essays](http://blog.stephenwolfram.com/2017/11/what-is-a-computational-essay/).   It provides:\n",
    "\n",
    "* Markdown input in code cells.\n",
    "* Markdown block code statements and expressions are evaluated as a normal code cell.\n",
    "* Inline code expressions are evaluated asynchronously.\n",
    "* The Markdown code accepts `jinja2` templates too\n"
   ]
  },
  {
   "cell_type": "code",
   "execution_count": 1,
   "metadata": {},
   "outputs": [],
   "source": [
    "    import IPython, traitlets, jinja2, types, contextlib, textwrap, ast, argparse\n",
    "    try:\n",
    "        from .tangle import markdown_to_python\n",
    "    except:\n",
    "        from tangle import markdown_to_python"
   ]
  },
  {
   "cell_type": "code",
   "execution_count": 13,
   "metadata": {},
   "outputs": [],
   "source": [
    "    def comparse_source(raw: str, source: str) -> bool: return list(\n",
    "        map(str.rstrip, textwrap.dedent(raw).splitlines())\n",
    "    ) == list(map(str.rstrip, source.splitlines()))"
   ]
  },
  {
   "cell_type": "code",
   "execution_count": 14,
   "metadata": {},
   "outputs": [],
   "source": [
    "    class PidginShell(IPython.core.interactiveshell.InteractiveShell):\n",
    "        markdown = traitlets.Bool(True) \n",
    "        template = traitlets.Bool(True)\n",
    "        format = traitlets.Bool(True)\n",
    "        capture = traitlets.Bool(False)\n",
    "        inline = traitlets.Bool(False)\n",
    "        \n",
    "        def run_cell(self, raw, store_history=False, silent=False, shell_futures=True, **user_expressions):\n",
    "            \"\"\"Run cell separates the sync and async parts.\"\"\"\n",
    "            self._last_traceback = None\n",
    "            \n",
    "            source = markdown_to_python(raw)\n",
    "            \n",
    "            result = IPython.core.interactiveshell.InteractiveShell.run_cell(\n",
    "                self, source, store_history=store_history, \n",
    "                silent=silent, shell_futures=shell_futures)\n",
    "            \n",
    "            is_source =  comparse_source(raw, source)\n",
    "            \n",
    "            try:\n",
    "                is_display = False\n",
    "                if raw.strip() == ast.literal_eval(source).strip(): is_display=True\n",
    "            except: ...\n",
    "                \n",
    "            if not (is_display or is_source):\n",
    "                IPython.display.display(raw)\n",
    "            return result"
   ]
  },
  {
   "cell_type": "code",
   "execution_count": 16,
   "metadata": {},
   "outputs": [],
   "source": [
    "    original_methods = {}\n",
    "    def load_ipython_extension(ip):\n",
    "        ip.run_cell = types.MethodType(PidginShell.run_cell, ip)\n",
    "        ip.enable_html_pager = True\n",
    "    def unload_ipython_extension(ip):  \n",
    "        ip.run_cell = types.MethodType(type(ip).run_cell, ip)"
   ]
  },
  {
   "cell_type": "code",
   "execution_count": 18,
   "metadata": {},
   "outputs": [],
   "source": [
    "    parser = argparse.ArgumentParser(description=\"\"\"Modify settings for a running pidgin kernel.\"\"\")"
   ]
  },
  {
   "cell_type": "code",
   "execution_count": 19,
   "metadata": {},
   "outputs": [],
   "source": [
    "    if __name__ == '__main__': load_ipython_extension(IPython.get_ipython())"
   ]
  },
  {
   "cell_type": "code",
   "execution_count": null,
   "metadata": {},
   "outputs": [],
   "source": []
  }
 ],
 "metadata": {
  "kernelspec": {
   "display_name": "Python 3",
   "language": "python",
   "name": "python3"
  },
  "language_info": {
   "codemirror_mode": {
    "name": "ipython",
    "version": 3
   },
   "file_extension": ".py",
   "mimetype": "text/x-python",
   "name": "python",
   "nbconvert_exporter": "python",
   "pygments_lexer": "ipython3",
   "version": "3.6.6"
  }
 },
 "nbformat": 4,
 "nbformat_minor": 2
}
