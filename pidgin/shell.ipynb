{
 "cells": [
  {
   "cell_type": "markdown",
   "metadata": {},
   "source": [
    "    %load_ext pidgin.shell\n",
    "    \n",
    "The `pidgin` shell augments the `IPython` shell in the notebook to permit Markdown forward [computational essays](http://blog.stephenwolfram.com/2017/11/what-is-a-computational-essay/).   It provides:\n",
    "\n",
    "* Markdown input in code cells.\n",
    "* Markdown block code statements and expressions are evaluated as a normal code cell.\n",
    "* Inline code expressions are evaluated asynchronously.\n",
    "* The Markdown code accepts `jinja2` templates too\n"
   ]
  },
  {
   "cell_type": "code",
   "execution_count": 2,
   "metadata": {},
   "outputs": [],
   "source": [
    "try:\n",
    "    import commonmark\n",
    "    from commonmark import Parser\n",
    "    from commonmark.render.renderer import Renderer\n",
    "except:\n",
    "    import CommonMark\n",
    "    from CommonMark import Parser\n",
    "    from CommonMark.render.renderer import Renderer\n",
    "from textwrap import indent, dedent\n"
   ]
  },
  {
   "cell_type": "code",
   "execution_count": 3,
   "metadata": {},
   "outputs": [],
   "source": [
    "from .markdown import renderer\n",
    "import IPython\n",
    "import types, sys, IPython, asyncio, trio, traceback, ipykernel, traitlets, nbconvert, jinja2, operator, toolz.curried as toolz, tokenize, io, textwrap\n",
    "from promise import Promise\n",
    "\n",
    "ip = IPython.get_ipython()\n"
   ]
  },
  {
   "cell_type": "code",
   "execution_count": 4,
   "metadata": {},
   "outputs": [],
   "source": [
    "def expression_tokens(str): \n",
    "    try:\n",
    "        return list(tokenize.generate_tokens(io.StringIO(str).readline))\n",
    "    except: return []"
   ]
  },
  {
   "cell_type": "code",
   "execution_count": 5,
   "metadata": {},
   "outputs": [],
   "source": [
    "def split_expression(str, *expressions):\n",
    "    \"\"\"Split an expression on the semi colons.\"\"\"\n",
    "    start = 0\n",
    "    if str.startswith(';'): \n",
    "        \"\"\"This complies with the special IPython ; syntax\"\"\"\n",
    "        return str, \n",
    "    for id in toolz.pipe(\n",
    "        str, expression_tokens, \n",
    "        toolz.filter(toolz.compose(\n",
    "            ';'.__eq__, operator.attrgetter('string')\n",
    "        )), \n",
    "        toolz.map(toolz.compose(\n",
    "            toolz.second,\n",
    "            operator.attrgetter('start')\n",
    "        )),\n",
    "        list\n",
    "    ) + [len(str)]:\n",
    "        expressions += str[start:id].strip(),\n",
    "        start = id + 1\n",
    "    return expressions"
   ]
  },
  {
   "cell_type": "code",
   "execution_count": 6,
   "metadata": {},
   "outputs": [],
   "source": [
    "def requote(str, token='\"\"\"'):\n",
    "    if token in str: token = \"'''\"\n",
    "    return token+str+token"
   ]
  },
  {
   "cell_type": "code",
   "execution_count": 7,
   "metadata": {},
   "outputs": [],
   "source": [
    "    environment = jinja2.Environment(enable_async=False)\n",
    "    environment.globals.update(vars(__import__('builtins')))"
   ]
  },
  {
   "cell_type": "code",
   "execution_count": 9,
   "metadata": {},
   "outputs": [],
   "source": [
    "    ip = get_ipython()"
   ]
  },
  {
   "cell_type": "code",
   "execution_count": 48,
   "metadata": {},
   "outputs": [],
   "source": [
    "    class PidginShell(IPython.core.interactiveshell.InteractiveShell):\n",
    "        markdown = traitlets.Bool(True)\n",
    "        template = traitlets.Bool(True)\n",
    "        environment = traitlets.Instance(\n",
    "            jinja2.Environment, \n",
    "            default_value=environment)\n",
    "        expressions = traitlets.Bool(True)\n",
    "        tangle_expressions = traitlets.Bool(True)\n",
    "        \n",
    "        \n",
    "        def run_cell(self, code, store_history=False, silent=False, shell_futures=True, **user_expressions):\n",
    "            \"\"\"Run cell separates the sync and async parts.\"\"\"\n",
    "            self._last_traceback = None\n",
    "            \n",
    "            # Separate block and inline code from the markdown source.\n",
    "            if self.markdown and not code.lstrip().startswith('%%'): \n",
    "                source = renderer(code, user_expressions=user_expressions)\n",
    "            else: source = code\n",
    "\n",
    "            silent = silent or not source\n",
    "            display = None\n",
    "\n",
    "            if self.markdown:\n",
    "                # Create a markdown display object tjat may be updated later.\n",
    "                if code.strip() and code.splitlines()[0].strip():\n",
    "                    if textwrap.dedent(code).strip() != source.strip():\n",
    "                        display = IPython.display.display(IPython.display.Markdown(code), display_id=True)\n",
    "\n",
    "            if not source:\n",
    "                try:\n",
    "                    if self.template:\n",
    "                        code = self.environment.from_string(code).render(**self.user_ns)\n",
    "                except BaseException as e: \n",
    "                    traceback.print_exc()\n",
    "                    result = IPython.core.interactiveshell.InteractiveShell.run_cell(\n",
    "                        self, '', store_history=False, silent=silent, shell_futures=shell_futures)                    \n",
    "                else:\n",
    "                    result = IPython.core.interactiveshell.InteractiveShell.run_cell(\n",
    "                        self, requote(code), store_history=False, silent=silent, shell_futures=shell_futures)        \n",
    "            else: \n",
    "                result = IPython.core.interactiveshell.InteractiveShell.run_cell(\n",
    "                    self, source, store_history=store_history, silent=silent, shell_futures=shell_futures)\n",
    "            \n",
    "            trio.run(\n",
    "                self.async_expressions, code, display, store_history, silent, shell_futures, user_expressions)\n",
    "            \n",
    "            return result\n",
    "\n",
    "        def sync_user_expression(self, code):\n",
    "            expressions = split_expression(code)\n",
    "            \n",
    "            results = IPython.core.interactiveshell.InteractiveShell.user_expressions(self, dict(\n",
    "                zip(expressions, map(self.input_transformer_manager.transform_cell, expressions))))\n",
    "\n",
    "            IPython.display.display(IPython.display.Markdown('''`>>> {}`'''.format(code.strip('`'))))\n",
    "\n",
    "            for expression, result in results.items():\n",
    "                expressions_ns = '`{}`'.format(expression)\n",
    "                if result['status'] == 'error': \n",
    "                    error_result = self._format_user_obj('')\n",
    "                    error_result['data']['text/plain'] = ''.join(''.join(result['traceback']))\n",
    "                    result = error_result\n",
    "                elif expressions_ns in self.user_ns:\n",
    "                    display = self.user_ns[expressions_ns]\n",
    "                    IPython.display.publish_display_data(result['data'], update=True, transient={'display_id': display.display_id})\n",
    "\n",
    "            if result['status'] == 'ok':\n",
    "                display = self.user_ns[\n",
    "                    \"`{}`\".format(code.strip())\n",
    "                ] = self.user_ns[expressions_ns] = IPython.display.DisplayHandle()\n",
    "                IPython.display.publish_display_data(result['data'], transient={\n",
    "                    'display_id': display.display_id})\n",
    "                \n",
    "            return result\n",
    "        \n",
    "        async def async_user_expression(self, code): return self.sync_user_expression(code)\n",
    "        \n",
    "        async def async_expressions(self, code, display, store_history=False, silent=False, shell_futures=True, user_expressions=None):\n",
    "            async with trio.open_nursery() as nursery:\n",
    "                if user_expressions:\n",
    "                    IPython.display.display(IPython.display.Markdown('---'))\n",
    "                    for key, expression in user_expressions.items():\n",
    "                        nursery.start_soon(self.async_user_expression, expression)\n",
    "\n",
    "                if display and self.template: \n",
    "                    nursery.start_soon(self.update_display_template, display, code)\n",
    "\n",
    "        async def update_display_template(self, display, code):\n",
    "            try:\n",
    "                display.update(IPython.display.Markdown(\n",
    "                    self.environment.from_string(code).render(**self.user_ns)))\n",
    "            except BaseException as e: traceback.print_exc()"
   ]
  },
  {
   "cell_type": "code",
   "execution_count": 49,
   "metadata": {},
   "outputs": [],
   "source": [
    "    def get_inline_expression(string, pos):\n",
    "        try:\n",
    "            line, offset = IPython.utils.tokenutil.line_at_cursor(string, pos)\n",
    "        except tokenize.TokenError: return \n",
    "        inline = True\n",
    "        while (offset < pos) and line:\n",
    "            inline = not inline\n",
    "            snippet, token, line = line.partition('`')\n",
    "            offset += len(snippet) + len(token)\n",
    "        return inline and snippet or None"
   ]
  },
  {
   "cell_type": "code",
   "execution_count": 55,
   "metadata": {},
   "outputs": [],
   "source": [
    "    class PidginKernel(type(ip.kernel)):        \n",
    "        def do_inspect(self, code, cursor_pos, detail_level=0):\n",
    "            inspect = False\n",
    "            if (cursor_pos-2)>0 and cursor_pos-1 <= len(code) :\n",
    "                if code[cursor_pos-1] == '?':\n",
    "                    inspect = True\n",
    "                    if code[cursor_pos-2] == '?':\n",
    "                        detail_level = 1\n",
    "\n",
    "            if not inspect and '`' in code:\n",
    "                inline = get_inline_expression(code, cursor_pos)\n",
    "                if inline:\n",
    "                    return dict(self.shell.sync_user_expression(inline), found=True)\n",
    "\n",
    "            result = ipykernel.ipkernel.IPythonKernel.do_inspect(self, code, cursor_pos, detail_level)\n",
    "            \n",
    "            if not result['found']:\n",
    "                result['found'] = True\n",
    "                result['data'].update({\n",
    "                    'text/markdown': code\n",
    "                })\n",
    "            return result\n",
    "\n",
    " "
   ]
  },
  {
   "cell_type": "code",
   "execution_count": 56,
   "metadata": {},
   "outputs": [],
   "source": [
    "    original_methods = {}\n",
    "    def load_ipython_extension(ip):\n",
    "        global original_methods\n",
    "        for method in (\n",
    "            PidginShell.run_cell, PidginShell.async_expressions, \n",
    "            PidginShell.async_user_expression, PidginShell.update_display_template,\n",
    "            PidginShell.sync_user_expression\n",
    "        ): \n",
    "            object = getattr(ip, method.__name__, None)\n",
    "            if object:\n",
    "                original_methods[method.__name__] = original_methods.get(method.__name__, object)\n",
    "            setattr(ip, method.__name__, types.MethodType(method, ip))\n",
    "\n",
    "        for trait in (\n",
    "            'markdown', 'template', 'expressions', 'tangle_expressions', 'environment'\n",
    "        ): \n",
    "            ip.add_traits(**{trait: getattr(PidginShell,  trait)})\n",
    "            setattr(ip, trait, getattr(PidginShell,  trait).default_value)\n",
    "        ip.kernel.do_inspect = types.MethodType(PidginKernel.do_inspect, ip.kernel)\n",
    "\n",
    "    def unload_ipython_extension(ip): \n",
    "        ip.__dict__.update(original_methods)\n",
    "        ip.kernel.do_inspect = types.MethodType(ipykernel.ipkernel.IPythonKernel.do_inspect, ip.kernel)\n"
   ]
  },
  {
   "cell_type": "code",
   "execution_count": 57,
   "metadata": {},
   "outputs": [],
   "source": [
    "    if __name__ == '__main__':\n",
    "        #!ipython -m pytest -- shell.ipynb\n",
    "        load_ipython_extension(get_ipython())"
   ]
  },
  {
   "cell_type": "code",
   "execution_count": null,
   "metadata": {},
   "outputs": [],
   "source": []
  }
 ],
 "metadata": {
  "kernelspec": {
   "display_name": "Python 3",
   "language": "python",
   "name": "python3"
  },
  "language_info": {
   "codemirror_mode": {
    "name": "ipython",
    "version": 3
   },
   "file_extension": ".py",
   "mimetype": "text/x-python",
   "name": "python",
   "nbconvert_exporter": "python",
   "pygments_lexer": "ipython3",
   "version": "3.6.6"
  }
 },
 "nbformat": 4,
 "nbformat_minor": 2
}
