{
 "cells": [
  {
   "cell_type": "markdown",
   "metadata": {},
   "source": [
    "    %load_ext pidgin.shell\n",
    "    \n",
    "The `pidgin` shell augments the `IPython` shell in the notebook to permit Markdown forward [computational essays](http://blog.stephenwolfram.com/2017/11/what-is-a-computational-essay/).   It provides:\n",
    "\n",
    "* Markdown input in code cells.\n",
    "* Markdown block code statements and expressions are evaluated as a normal code cell.\n",
    "* Inline code expressions are evaluated asynchronously.\n",
    "* The Markdown code accepts `jinja2` templates too\n"
   ]
  },
  {
   "cell_type": "code",
   "execution_count": 1,
   "metadata": {},
   "outputs": [],
   "source": [
    "import IPython\n",
    "try:\n",
    "    import markdown\n",
    "except:\n",
    "    with __import__('importnb').Notebook(): from pidgin import markdown\n",
    "\n",
    "import types, sys, IPython, asyncio, trio, ipykernel, traitlets, nbconvert, jinja2, operator, toolz.curried as toolz, tokenize, io, textwrap\n",
    "\n",
    "ip = IPython.get_ipython()\n"
   ]
  },
  {
   "cell_type": "code",
   "execution_count": 2,
   "metadata": {},
   "outputs": [],
   "source": [
    "def expression_tokens(str): return list(tokenize.generate_tokens(io.StringIO(str).readline))"
   ]
  },
  {
   "cell_type": "code",
   "execution_count": 3,
   "metadata": {},
   "outputs": [],
   "source": [
    "def split_expression(str, *expressions):\n",
    "    \"\"\"Split an expression on the semi colons.\"\"\"\n",
    "    start = 0\n",
    "    for id in toolz.pipe(\n",
    "        str, expression_tokens, \n",
    "        toolz.filter(toolz.compose(\n",
    "            ';'.__eq__, operator.attrgetter('string')\n",
    "        )), \n",
    "        toolz.map(toolz.compose(\n",
    "            toolz.second,\n",
    "            operator.attrgetter('start')\n",
    "        )),\n",
    "        list\n",
    "    ) + [len(str)]:\n",
    "        expressions += str[start:id],\n",
    "        start = id + 1\n",
    "    return expressions"
   ]
  },
  {
   "cell_type": "code",
   "execution_count": 4,
   "metadata": {},
   "outputs": [],
   "source": [
    "def requote(str, token='\"\"\"'):\n",
    "    if token in str: token = \"'''\"\n",
    "    return token+str+token"
   ]
  },
  {
   "cell_type": "code",
   "execution_count": 5,
   "metadata": {},
   "outputs": [],
   "source": [
    "    environment = jinja2.Environment(enable_async=True)\n",
    "    environment.globals.update(vars(__import__('builtins')))"
   ]
  },
  {
   "cell_type": "code",
   "execution_count": 24,
   "metadata": {},
   "outputs": [],
   "source": [
    "    class PidginShell(IPython.core.interactiveshell.InteractiveShell):\n",
    "        markdown = traitlets.Bool(True)\n",
    "        template = traitlets.Bool(True)\n",
    "        environment = traitlets.Instance(\n",
    "            jinja2.Environment, \n",
    "            default_value=environment)\n",
    "        expressions = traitlets.Bool(True)\n",
    "        tangle_expressions = traitlets.Bool(True)\n",
    "\n",
    "        async def single_user_expression(self, code):\n",
    "            expressions = split_expression(code)\n",
    "            results = IPython.core.interactiveshell.InteractiveShell.user_expressions(self, dict(\n",
    "                zip(expressions, map(self.input_transformer_manager.transform_cell, expressions))))\n",
    "\n",
    "            IPython.display.display(IPython.display.Markdown('''`>>> {}`'''.format(code.strip('`'))))\n",
    "\n",
    "            error_msg = []\n",
    "            for expression, result in results.items():\n",
    "                expressions_ns = '`{}`'.format(expression.strip())\n",
    "                if result['status'] == 'error':\n",
    "                    error_msg.extend(result['traceback'])\n",
    "                elif expressions_ns in self.user_ns:\n",
    "                    display = self.user_ns[expressions_ns]\n",
    "                    IPython.display.publish_display_data(result['data'], update=True, transient={'display_id': display.display_id})\n",
    "\n",
    "            if error_msg:\n",
    "                IPython.display.publish_display_data({'text/plain': ''.join(error_msg)})\n",
    "\n",
    "            if result['status'] == 'ok':\n",
    "                display = self.user_ns[\n",
    "                    \"`{}`\".format(code.strip())\n",
    "                ] = self.user_ns[expressions_ns] = IPython.display.DisplayHandle()\n",
    "                IPython.display.publish_display_data(result['data'], transient={\n",
    "                    'display_id': display.display_id})\n",
    "            if error_msg: result['status'] = 'error'\n",
    "            return result\n",
    "\n",
    "        def run_cell(self, code, store_history=False, silent=False, shell_futures=True, **user_expressions):\n",
    "            \"\"\"Run cell separates the sync and async parts.\"\"\"\n",
    "            self._last_traceback = None\n",
    "            \n",
    "            if self.markdown and not code.lstrip().startswith('%'): \n",
    "                source = markdown.renderer(code, user_expressions=user_expressions)\n",
    "            else: source = code\n",
    "\n",
    "            silent = silent or not source\n",
    "            display = None\n",
    "\n",
    "            if self.markdown:\n",
    "                if code.strip() and code.splitlines()[0].strip():\n",
    "                    if source and textwrap.dedent(code).strip() != source.strip():\n",
    "                        display = IPython.display.display(IPython.display.Markdown(code), display_id=True)\n",
    "\n",
    "            if not source:\n",
    "                if self.template:\n",
    "                    code = self.environment.from_string(code).render(**self.user_ns)\n",
    "                result = IPython.core.interactiveshell.InteractiveShell.run_cell(\n",
    "                        self, requote(code), store_history=False, silent=silent, shell_futures=shell_futures)        \n",
    "            else: \n",
    "                result = IPython.core.interactiveshell.InteractiveShell.run_cell(\n",
    "                    self, source, store_history=store_history, silent=silent, shell_futures=shell_futures)\n",
    "            \n",
    "            trio.run(self.async_run_cell, code, display, store_history, silent, shell_futures, user_expressions)\n",
    "            \n",
    "            return result\n",
    "        \n",
    "        async def async_run_cell(self, code, display, store_history=False, silent=False, shell_futures=True, user_expressions=None):\n",
    "            async with trio.open_nursery() as nursery:\n",
    "                if user_expressions:\n",
    "                    IPython.display.display(IPython.display.Markdown('---'))\n",
    "                    for key, expression in user_expressions.items():\n",
    "                        nursery.start_soon(self.single_user_expression, expression)\n",
    "\n",
    "                if display and self.template: \n",
    "                    nursery.start_soon(self.update_display_template, display, code)\n",
    "\n",
    "        \n",
    "        async def update_display_template(self, display, code):\n",
    "            display.update(IPython.display.Markdown(\n",
    "                await self.environment.from_string(code).render_async(**self.user_ns)\n",
    "            ))"
   ]
  },
  {
   "cell_type": "code",
   "execution_count": 25,
   "metadata": {},
   "outputs": [],
   "source": [
    "    original_methods = {}\n",
    "    def load_ipython_extension(ip):\n",
    "        global original_methods\n",
    "        for method in (\n",
    "            PidginShell.run_cell, PidginShell.async_run_cell, \n",
    "            PidginShell.single_user_expression, \n",
    "            PidginShell.update_display_template\n",
    "        ): \n",
    "            object = getattr(ip, method.__name__, None)\n",
    "            if object:\n",
    "                original_methods[method.__name__] = original_methods.get(method.__name__, object)\n",
    "            setattr(ip, method.__name__, types.MethodType(method, ip))\n",
    "\n",
    "        for trait in (\n",
    "            'markdown', 'template', 'expressions', 'tangle_expressions', 'environment'\n",
    "        ): \n",
    "            ip.add_traits(**{trait: getattr(PidginShell,  trait)})\n",
    "            setattr(ip, trait, getattr(PidginShell,  trait).default_value)\n",
    "\n",
    "    def unload_ipython_extension(ip): ip.__dict__.update(original_methods)\n"
   ]
  },
  {
   "cell_type": "code",
   "execution_count": 26,
   "metadata": {},
   "outputs": [],
   "source": [
    "    if __name__ == '__main__':\n",
    "        #!ipython -m pytest -- shell.ipynb\n",
    "        load_ipython_extension(get_ipython())"
   ]
  },
  {
   "cell_type": "markdown",
   "metadata": {},
   "source": [
    "Now this is a test {{time.sleep(2) or ip.user_ns.update(a=100)}} `time.sleep(2) or ip.user_ns.update(a=1000)` {{a}}\n",
    "\n",
    "`'revel'`\n",
    "    \n",
    "    import time\n",
    "    a = time.sleep(1) or 900\n",
    "    print('xxx')"
   ]
  },
  {
   "cell_type": "code",
   "execution_count": 28,
   "metadata": {},
   "outputs": [],
   "source": [
    "    def test_nbconvert():\n",
    "        get_ipython = IPython.get_ipython\n",
    "        md = !jupyter nbconvert --to markdown --execute --stdout shell.ipynb        "
   ]
  },
  {
   "cell_type": "code",
   "execution_count": 29,
   "metadata": {},
   "outputs": [],
   "source": [
    "    def test_extension():\n",
    "        ip = IPython.get_ipython()\n",
    "        try:\n",
    "            ip.run_cell(\"\"\"This is not code\\n\\n\\n\\ta=range(10)\"\"\")\n",
    "            assert False\n",
    "        except: assert True\n",
    "        load_ipython_extension(ip)\n",
    "        ip.run_cell(\"\"\"This is not code\\n\\n\\n\\ta=range(10)\"\"\")\n",
    "        unload_ipython_extension(ip)"
   ]
  },
  {
   "cell_type": "code",
   "execution_count": 31,
   "metadata": {},
   "outputs": [],
   "source": [
    "    import ast"
   ]
  },
  {
   "cell_type": "code",
   "execution_count": 36,
   "metadata": {},
   "outputs": [
    {
     "data": {
      "text/plain": [
       "[TokenInfo(type=3 (STRING), string='\"do it\"', start=(1, 0), end=(1, 7), line='\"do it\" = 11'),\n",
       " TokenInfo(type=53 (OP), string='=', start=(1, 8), end=(1, 9), line='\"do it\" = 11'),\n",
       " TokenInfo(type=2 (NUMBER), string='11', start=(1, 10), end=(1, 12), line='\"do it\" = 11'),\n",
       " TokenInfo(type=0 (ENDMARKER), string='', start=(2, 0), end=(2, 0), line='')]"
      ]
     },
     "execution_count": 36,
     "metadata": {},
     "output_type": "execute_result"
    }
   ],
   "source": [
    "    list(tokenize.generate_tokens(io.StringIO('\"do it\" = 11').readline))"
   ]
  },
  {
   "cell_type": "code",
   "execution_count": null,
   "metadata": {},
   "outputs": [],
   "source": []
  }
 ],
 "metadata": {
  "kernelspec": {
   "display_name": "Python 3",
   "language": "python",
   "name": "python3"
  },
  "language_info": {
   "codemirror_mode": {
    "name": "ipython",
    "version": 3
   },
   "file_extension": ".py",
   "mimetype": "text/x-python",
   "name": "python",
   "nbconvert_exporter": "python",
   "pygments_lexer": "ipython3",
   "version": "3.6.6"
  }
 },
 "nbformat": 4,
 "nbformat_minor": 2
}
