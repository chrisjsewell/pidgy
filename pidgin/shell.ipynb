{
 "cells": [
  {
   "cell_type": "markdown",
   "metadata": {},
   "source": [
    "    %load_ext pidgin.shell\n",
    "    \n",
    "The `pidgin` shell augments the `IPython` shell in the notebook to permit Markdown forward [computational essays](http://blog.stephenwolfram.com/2017/11/what-is-a-computational-essay/).   It provides:\n",
    "\n",
    "* Markdown input in code cells.\n",
    "* Markdown block code statements and expressions are evaluated as a normal code cell.\n",
    "* Inline code expressions are evaluated asynchronously.\n",
    "* The Markdown code accepts `jinja2` templates too\n"
   ]
  },
  {
   "cell_type": "code",
   "execution_count": 1,
   "metadata": {},
   "outputs": [],
   "source": [
    "    from textwrap import dedent"
   ]
  },
  {
   "cell_type": "code",
   "execution_count": 2,
   "metadata": {},
   "outputs": [],
   "source": [
    "    from .markdown import renderer\n",
    "    from .environment import environment\n",
    "    import IPython\n",
    "    import types, sys, IPython, asyncio, trio, traceback, ipykernel, traitlets, nbconvert, jinja2, operator, toolz.curried as toolz, tokenize, io, textwrap\n",
    "    from promise import Promise\n",
    "\n",
    "    ip = IPython.get_ipython()\n"
   ]
  },
  {
   "cell_type": "code",
   "execution_count": 3,
   "metadata": {},
   "outputs": [],
   "source": [
    "    ip.enable_html_pager = True"
   ]
  },
  {
   "cell_type": "code",
   "execution_count": 4,
   "metadata": {},
   "outputs": [],
   "source": [
    "    def expression_tokens(str): \n",
    "        try:\n",
    "            return list(tokenize.generate_tokens(io.StringIO(str).readline))\n",
    "        except: return []"
   ]
  },
  {
   "cell_type": "code",
   "execution_count": 5,
   "metadata": {},
   "outputs": [],
   "source": [
    "    def split_expression(str, *expressions):\n",
    "        \"\"\"Split an expression on the semi colons.\"\"\"\n",
    "        start = 0\n",
    "        if str.startswith(';'): \n",
    "            \"\"\"This complies with the special IPython ; syntax\"\"\"\n",
    "            return str, \n",
    "        for id in toolz.pipe(\n",
    "            str, expression_tokens, \n",
    "            toolz.filter(toolz.compose(\n",
    "                ';'.__eq__, operator.attrgetter('string')\n",
    "            )), \n",
    "            toolz.map(toolz.compose(\n",
    "                toolz.second,\n",
    "                operator.attrgetter('start')\n",
    "            )),\n",
    "            list\n",
    "        ) + [len(str)]:\n",
    "            expressions += str[start:id].strip(),\n",
    "            start = id + 1\n",
    "        return expressions"
   ]
  },
  {
   "cell_type": "code",
   "execution_count": 6,
   "metadata": {},
   "outputs": [],
   "source": [
    "    def requote(str, token='\"\"\"'):\n",
    "        if token in str: token = \"'''\"\n",
    "        return token+str+token"
   ]
  },
  {
   "cell_type": "code",
   "execution_count": 31,
   "metadata": {},
   "outputs": [],
   "source": [
    "    class PidginShell(IPython.core.interactiveshell.InteractiveShell):\n",
    "        markdown = traitlets.Bool(True)\n",
    "        template = traitlets.Bool(True)\n",
    "        environment = traitlets.Instance(\n",
    "            jinja2.Environment, \n",
    "            default_value=environment)\n",
    "        expressions = traitlets.Bool(True)\n",
    "        tangle_expressions = traitlets.Bool(True)\n",
    "        \n",
    "        \n",
    "        def run_cell(self, raw, store_history=False, silent=False, shell_futures=True, **user_expressions):\n",
    "            \"\"\"Run cell separates the sync and async parts.\"\"\"\n",
    "            self._last_traceback = None\n",
    "            display = None\n",
    "            \n",
    "            # Separate block and inline code from the markdown source.\n",
    "            if self.markdown and not raw.lstrip().startswith('%%'): \n",
    "                block_code = renderer(raw, user_expressions=user_expressions)\n",
    "                if raw.strip() and raw.splitlines()[0].strip():\n",
    "                    if textwrap.dedent(raw).strip() != block_code.strip():\n",
    "                        display_object = raw\n",
    "                        if block_code.strip() or user_expressions:                            \n",
    "                            display_object = IPython.display.Markdown(raw)\n",
    "                        display = IPython.display.display(display_object, display_id=True)\n",
    "\n",
    "            else: block_code = raw\n",
    "            \n",
    "            result = IPython.core.interactiveshell.InteractiveShell.run_cell(\n",
    "                self, block_code, store_history=True, silent=False, shell_futures=shell_futures)        \n",
    "            \n",
    "            if not (result.error_in_exec or result.error_before_exec):\n",
    "                trio.run(self.async_expressions, raw, display, False, False, shell_futures, user_expressions)\n",
    "            \n",
    "            return result\n",
    "\n",
    "        def sync_user_expression(self, code):\n",
    "            expressions = split_expression(code)\n",
    "            \n",
    "            results = IPython.core.interactiveshell.InteractiveShell.user_expressions(self, dict(\n",
    "                zip(expressions, map(self.input_transformer_manager.transform_cell, expressions))))\n",
    "\n",
    "            IPython.display.display(IPython.display.Markdown('''`>>> {}`'''.format(code.strip('`'))))\n",
    "\n",
    "            for expression, result in results.items():\n",
    "                expressions_ns = '`{}`'.format(expression)\n",
    "                if result['status'] == 'error': \n",
    "                    error_result = self._format_user_obj('')\n",
    "                    error_result['data']['text/plain'] = ''.join(''.join(result['traceback']))\n",
    "                    result = error_result\n",
    "                elif expressions_ns in self.user_ns:\n",
    "                    display = self.user_ns[expressions_ns]\n",
    "                    IPython.display.publish_display_data(result['data'], update=True, transient={'display_id': display.display_id})\n",
    "\n",
    "            if result['status'] == 'ok':\n",
    "                display = self.user_ns[\n",
    "                    \"`{}`\".format(code.strip())\n",
    "                ] = self.user_ns[expressions_ns] = IPython.display.DisplayHandle()\n",
    "                IPython.display.publish_display_data(result['data'], transient={'display_id': display.display_id})\n",
    "                \n",
    "            return result\n",
    "        \n",
    "        async def async_user_expression(self, code): return self.sync_user_expression(code)\n",
    "        \n",
    "        async def async_expressions(self, code, display, store_history=False, silent=False, shell_futures=True, user_expressions=None):\n",
    "            async with trio.open_nursery() as nursery:\n",
    "                if user_expressions:\n",
    "                    IPython.display.display(IPython.display.Markdown('---'))\n",
    "                    for key, expression in user_expressions.items():\n",
    "                        nursery.start_soon(self.async_user_expression, expression)\n",
    "\n",
    "                if display and self.template: \n",
    "                    nursery.start_soon(self.update_display_template, display, code)\n",
    "\n",
    "        async def update_display_template(self, display, code):\n",
    "            try:\n",
    "                display.update(IPython.display.Markdown(self.environment.from_string(code).render(**self.user_ns)))\n",
    "            except BaseException as e: traceback.print_exc()"
   ]
  },
  {
   "cell_type": "code",
   "execution_count": 29,
   "metadata": {},
   "outputs": [],
   "source": [
    "    original_methods = {}\n",
    "    def load_ipython_extension(ip):\n",
    "        global original_methods\n",
    "        for method in (\n",
    "            PidginShell.run_cell, PidginShell.async_expressions, \n",
    "            PidginShell.async_user_expression, PidginShell.update_display_template,\n",
    "            PidginShell.sync_user_expression\n",
    "        ): \n",
    "            object = getattr(ip, method.__name__, None)\n",
    "            if object:\n",
    "                original_methods[method.__name__] = original_methods.get(method.__name__, object)\n",
    "            setattr(ip, method.__name__, types.MethodType(method, ip))\n",
    "\n",
    "        for trait in (\n",
    "            'markdown', 'template', 'expressions', 'tangle_expressions', 'environment'\n",
    "        ): \n",
    "            ip.add_traits(**{trait: getattr(PidginShell,  trait)})\n",
    "            setattr(ip, trait, getattr(PidginShell,  trait).default_value)\n",
    "            \n",
    "        ip.enable_html_pager = True\n",
    "\n",
    "    def unload_ipython_extension(ip):  ip.__dict__.update(original_methods)"
   ]
  },
  {
   "cell_type": "code",
   "execution_count": 30,
   "metadata": {},
   "outputs": [],
   "source": [
    "    if __name__ == '__main__':\n",
    "        #!ipython -m pytest -- shell.ipynb\n",
    "        %reload_ext pidgin.stringdisplays\n",
    "        load_ipython_extension(get_ipython())"
   ]
  }
 ],
 "metadata": {
  "kernelspec": {
   "display_name": "Python 3",
   "language": "python",
   "name": "python3"
  },
  "language_info": {
   "codemirror_mode": {
    "name": "ipython",
    "version": 3
   },
   "file_extension": ".py",
   "mimetype": "text/x-python",
   "name": "python",
   "nbconvert_exporter": "python",
   "pygments_lexer": "ipython3",
   "version": "3.6.6"
  }
 },
 "nbformat": 4,
 "nbformat_minor": 2
}
