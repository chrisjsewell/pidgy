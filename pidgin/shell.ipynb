{
 "cells": [
  {
   "cell_type": "markdown",
   "metadata": {},
   "source": [
    "    %load_ext pidgin.shell\n",
    "    \n",
    "The `pidgin` shell augments the `IPython` shell in the notebook to permit Markdown forward [computational essays](http://blog.stephenwolfram.com/2017/11/what-is-a-computational-essay/).   It provides:\n",
    "\n",
    "* Markdown input in code cells.\n",
    "* Markdown block code statements and expressions are evaluated as a normal code cell.\n",
    "* Inline code expressions are evaluated asynchronously.\n",
    "* The Markdown code accepts `jinja2` templates too\n"
   ]
  },
  {
   "cell_type": "code",
   "execution_count": null,
   "metadata": {},
   "outputs": [],
   "source": [
    "    import IPython, traitlets, jinja2, types, contextlib\n",
    "    try:\n",
    "        from .weave import Cell, Document\n",
    "        from .strings.environment import environment\n",
    "    except:\n",
    "        from weave import Cell, Document\n",
    "        from strings.environment import environment"
   ]
  },
  {
   "cell_type": "code",
   "execution_count": 2,
   "metadata": {},
   "outputs": [],
   "source": [
    "    ip = get_ipython()"
   ]
  },
  {
   "cell_type": "code",
   "execution_count": 16,
   "metadata": {},
   "outputs": [],
   "source": [
    "    class PidginShell(IPython.core.interactiveshell.InteractiveShell):\n",
    "        markdown = traitlets.Bool(True) \n",
    "        template = traitlets.Bool(True)\n",
    "        format = traitlets.Bool(True)\n",
    "        capture = traitlets.Bool(False)\n",
    "        environment = traitlets.Instance(\n",
    "            jinja2.Environment, \n",
    "            default_value=environment)\n",
    "        inline = traitlets.Bool(False)\n",
    "        \n",
    "        def run_cell(self, raw, store_history=False, silent=False, shell_futures=True, **user_expressions):\n",
    "            \"\"\"Run cell separates the sync and async parts.\"\"\"\n",
    "            self._last_traceback = None\n",
    "            weave = (ip.autoawait and Cell or Document)(\n",
    "                    raw, \n",
    "                    markdown=getattr(self, 'markdown', True), \n",
    "                    template=getattr(self, 'template', True), \n",
    "                    inline=getattr(self, 'inline', False), \n",
    "                    format=getattr(self, 'format', True),\n",
    "                    environment=getattr(self, 'environment', environment)\n",
    "            )\n",
    "            result = IPython.core.interactiveshell.InteractiveShell.run_cell(\n",
    "                self, weave.source, store_history=store_history, \n",
    "                silent=silent, shell_futures=shell_futures)\n",
    "            \n",
    "            IPython.display.display(weave)\n",
    "                \n",
    "            return result"
   ]
  },
  {
   "cell_type": "code",
   "execution_count": 4,
   "metadata": {},
   "outputs": [],
   "source": [
    "    original_methods = {}\n",
    "    def load_ipython_extension(ip):\n",
    "        global original_methods\n",
    "        for method in (PidginShell.run_cell,): \n",
    "            object = getattr(ip, method.__name__, None)\n",
    "            if object:\n",
    "                original_methods[method.__name__] = original_methods.get(method.__name__, object)\n",
    "            setattr(ip, method.__name__, types.MethodType(method, ip))\n",
    "\n",
    "        for trait in (\n",
    "            'template', 'format', 'environment', 'inline', 'markdown', 'capture'\n",
    "        ): \n",
    "            ip.add_traits(**{trait: getattr(PidginShell,  trait)})\n",
    "            setattr(ip, trait, getattr(PidginShell,  trait).default_value)\n",
    "            \n",
    "        ip.enable_html_pager = True\n",
    "        \n",
    "        if controller:\n",
    "            for control in controller.children:\n",
    "                name = control.description.split()[0].lower()\n",
    "                traitlets.link((ip, name), (control, 'value'))\n",
    "\n",
    "    def unload_ipython_extension(ip):  ip.__dict__.update(original_methods)"
   ]
  },
  {
   "cell_type": "code",
   "execution_count": 5,
   "metadata": {},
   "outputs": [],
   "source": [
    "    import argparse"
   ]
  },
  {
   "cell_type": "code",
   "execution_count": 6,
   "metadata": {},
   "outputs": [],
   "source": [
    "    parser = argparse.ArgumentParser(description=\"\"\"Modify settings for a running pidgin kernel.\"\"\")\n",
    "    parser.add_argument('-m', '--markdown', action='store_false', help='Allow markdown cells as input.')\n",
    "    parser.add_argument('-c', '--capture', action='store_true', help='Capture the display')\n",
    "    parser.add_argument('-f', '--format', action='store_false', help='Use normal IPython mode')\n",
    "    parser.add_argument('-t', '--template', action='store_false', help='Use normal IPython mode')\n",
    "    parser.add_argument('-i', '--inline', action='store_true', help='Use normal IPython mode');"
   ]
  },
  {
   "cell_type": "code",
   "execution_count": 7,
   "metadata": {},
   "outputs": [],
   "source": [
    "    try:\n",
    "        import ipywidgets\n",
    "        controller = ipywidgets.HBox([\n",
    "            ipywidgets.Checkbox(description=\"Markdown\"),\n",
    "            ipywidgets.Checkbox(description=\"Capture\"),\n",
    "            ipywidgets.Checkbox(description=\"Format\"),\n",
    "            ipywidgets.Checkbox(description=\"Template\"),\n",
    "            ipywidgets.Checkbox(description=\"Inline Expressions\"),        \n",
    "        ])\n",
    "    except:\n",
    "        controller = None\n",
    "        \n",
    "    def _ipython_display_(): \n",
    "        IPython.display.display(controller)"
   ]
  },
  {
   "cell_type": "code",
   "execution_count": 8,
   "metadata": {},
   "outputs": [],
   "source": [
    "    if __name__ == '__main__': load_ipython_extension(IPython.get_ipython())"
   ]
  }
 ],
 "metadata": {
  "kernelspec": {
   "display_name": "Python 3",
   "language": "python",
   "name": "python3"
  },
  "language_info": {
   "codemirror_mode": {
    "name": "ipython",
    "version": 3
   },
   "file_extension": ".py",
   "mimetype": "text/x-python",
   "name": "python",
   "nbconvert_exporter": "python",
   "pygments_lexer": "ipython3",
   "version": "3.6.6"
  }
 },
 "nbformat": 4,
 "nbformat_minor": 2
}
