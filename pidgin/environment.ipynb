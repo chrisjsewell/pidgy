{
 "cells": [
  {
   "cell_type": "code",
   "execution_count": 1,
   "metadata": {},
   "outputs": [],
   "source": [
    "    import IPython, toolz.curried as toolz, base64, vdom"
   ]
  },
  {
   "cell_type": "code",
   "execution_count": null,
   "metadata": {},
   "outputs": [],
   "source": [
    "    mimes = toolz.pipe(\"\"\"\n",
    "        50 text/html\n",
    "        70 text/latex\n",
    "        80 image/svg+xml\n",
    "        90 image/bmp image/png image/jpeg image/gif'\n",
    "        60 text/markdown\n",
    "        110 text/javascript application/javascript \n",
    "        120 text/plain\n",
    "        \"\"\", str.strip, str.splitlines, toolz.map(toolz.compose(toolz.juxt(toolz.compose(int, next), list), iter, str.split)), list)"
   ]
  },
  {
   "cell_type": "code",
   "execution_count": null,
   "metadata": {},
   "outputs": [],
   "source": [
    "    image_types = list(map('image/'.__add__, ('bmp', 'jpeg', 'gif', 'png')))"
   ]
  },
  {
   "cell_type": "code",
   "execution_count": null,
   "metadata": {},
   "outputs": [],
   "source": [
    "    def flatten(str): return ''.join(str.splitlines())"
   ]
  },
  {
   "cell_type": "code",
   "execution_count": null,
   "metadata": {},
   "outputs": [],
   "source": [
    "    import CommonMark"
   ]
  },
  {
   "cell_type": "code",
   "execution_count": null,
   "metadata": {},
   "outputs": [],
   "source": [
    "    md = lambda str: CommonMark.render.html.HtmlRenderer().render(CommonMark.Parser().parse(str))"
   ]
  },
  {
   "cell_type": "code",
   "execution_count": null,
   "metadata": {},
   "outputs": [],
   "source": [
    "    import vdom, base64, IPython\n",
    "\n",
    "    def flatten(string):\n",
    "        return ''.join(map(str.strip, string.splitlines()))\n",
    "\n",
    "    def format_images(type, bundle):\n",
    "        str = bundle[type]\n",
    "        \n",
    "        \n",
    "        if isinstance(str, bytes):\n",
    "            str = base64.b64encode(str).decode('utf-8')\n",
    "            \n",
    "        if type in ('image/svg+xml', 'text/html'):\n",
    "            return IPython.display.HTML(flatten(str))\n",
    "            \n",
    "        if str.startswith('http'):\n",
    "            return vdom.img(src=str)\n",
    "\n",
    "        return vdom.img(src=f\"data:{type};base64,{str}\")"
   ]
  },
  {
   "cell_type": "code",
   "execution_count": null,
   "metadata": {},
   "outputs": [],
   "source": [
    "  def ipython_formatter(object, html=False):\n",
    "        import mistune\n",
    "        format = IPython.get_ipython().display_formatter.format\n",
    "        bundle, metadata = format(object)\n",
    "        for type in toolz.pipe(mimes, toolz.map(toolz.second), toolz.concat):\n",
    "            if type == 'text/plain': return object\n",
    "            if type in bundle: \n",
    "                object = bundle[type]\n",
    "                if type.startswith('image'):\n",
    "                    bundle.update(format(format_images(type, bundle))[0])\n",
    "                if html and type == 'text/markdown':\n",
    "                    bundle.update({'text/markdown': md(object)})\n",
    "                return bundle[type]"
   ]
  },
  {
   "cell_type": "code",
   "execution_count": null,
   "metadata": {},
   "outputs": [],
   "source": [
    "    environment = __import__('jinja2').Environment(enable_async=False, finalize=ipython_formatter)\n",
    "    environment.globals.update(vars(__import__('builtins')))"
   ]
  },
  {
   "cell_type": "code",
   "execution_count": null,
   "metadata": {},
   "outputs": [],
   "source": [
    "    import string, collections"
   ]
  },
  {
   "cell_type": "code",
   "execution_count": 8,
   "metadata": {},
   "outputs": [],
   "source": [
    "    class IPythonFormatDict(collections.UserDict):\n",
    "        def __getitem__(self, object):\n",
    "            return ipython_formatter(super().__getitem__(object))"
   ]
  },
  {
   "cell_type": "code",
   "execution_count": 9,
   "metadata": {},
   "outputs": [],
   "source": [
    "    class IPythonDollarTemplate(string.Template):\n",
    "        def safe_substitute(self, *args, **kw):\n",
    "            return super().safe_substitute(IPythonFormatDict(collections.ChainMap(kw, *args)))\n",
    "        \n",
    "    "
   ]
  }
 ],
 "metadata": {
  "kernelspec": {
   "display_name": "Python 3",
   "language": "python",
   "name": "python3"
  },
  "language_info": {
   "codemirror_mode": {
    "name": "ipython",
    "version": 3
   },
   "file_extension": ".py",
   "mimetype": "text/x-python",
   "name": "python",
   "nbconvert_exporter": "python",
   "pygments_lexer": "ipython3",
   "version": "3.6.6"
  }
 },
 "nbformat": 4,
 "nbformat_minor": 2
}
