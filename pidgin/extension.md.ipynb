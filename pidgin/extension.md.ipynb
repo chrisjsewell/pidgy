{
 "cells": [
  {
   "cell_type": "code",
   "execution_count": 7,
   "metadata": {},
   "outputs": [],
   "source": [
    "    \n",
    "    if __name__ == '__main__':\n",
    "        %reload_ext __init__\n",
    "        %reload_ext __style__\n",
    "\n",
    "    import jupyter, notebook, IPython, mistune as markdown, IPython as python, ast, jinja2 as template, importnb as _import_, doctest, pathlib, graphviz\n",
    "    \n",
    "    \n",
    "    with _import_.Notebook(): \n",
    "        try: from . import imports\n",
    "        except: import imports\n",
    "    with imports.PidginLoader(): \n",
    "        try: from . import exports, testing, extension, test_pidgin_syntax as syntax, cli\n",
    "        except: import exports, testing, extension, test_pidgin_syntax as syntax, cli\n",
    "    "
   ]
  },
  {
   "cell_type": "code",
   "execution_count": 8,
   "metadata": {},
   "outputs": [],
   "source": [
    "    \n",
    "    if __name__ == '__main__': \n",
    "        shell = get_ipython()\n",
    "        import __init__ as pidgin\n",
    "        with imports.PidginLoader(): \n",
    "            try: from . import appendix\n",
    "            except: import appendix\n",
    "        import pandas as 🐼\n",
    "    xonsh = None\n",
    "    Ø = __name__ == '__main__'\n",
    "    \n",
    "\n",
    "    \n",
    "    if Ø:\n",
    "        input_formats = !pandoc --list-input-formats\n",
    "        input_formats = {x.split('_')[0] for x in input_formats}\n",
    "        kernels = 🐼.read_html(appendix.get('https://github.com/jupyter/jupyter/wiki/Jupyter-kernels'))[0]\n"
   ]
  },
  {
   "cell_type": "code",
   "execution_count": 9,
   "metadata": {},
   "outputs": [
    {
     "data": {
      "text/markdown": [
       "    def load_ipython_extension(shell):\n",
       "The `pidgin` implementation uses the `IPython` configuration\n",
       "and extension system to modify the interactive computing expierence\n",
       "in `jupyter` notebooks.\n",
       "        \n",
       "        imports.load_ipython_extension(shell)\n",
       "1. The primary function of `pidgin` is that it `imports` `markdown` as formal language for \n",
       "programming multiobjective literate programs.  `imports` focuses on the indentification of\n",
       "`\"code\" and not\"code\"` that become python code.\n",
       "\n",
       "        testing.load_ipython_extension(shell) \n",
       "2. The `pidgin` specification promotes strong intertextuality between `\"code\" and not\"code\"` \n",
       "objects in a program.  `testing` reinforces that efficacy of the `\"code\"` using\n",
       "documentation tests of `doctest and \"inline\"+\"code\"`.  `pidgin` uses the narrative a formal \n",
       "test for the program.  These tests are executed interactively to ensure the veracity of \n",
       "`\"code\"` signs in the narrative.\n",
       "\n",
       "        exports.load_ipython_extension(shell)\n",
       "3. Literate computing in `pidgin` allows incremental development of `\"code\"` and the co-development of the documentation.\n",
       "`pidgin` interprets the `input` `\"code\"` as a `display`.  `pidgin` uses a `template` language to transclude\n",
       "`object`s from code "
      ],
      "text/plain": [
       "<IPython.core.display.Markdown object>"
      ]
     },
     "metadata": {
      "text/markdown": {
       "end_time": "2020-02-01T15:44:03.262534",
       "modules": [],
       "names": [],
       "start_time": "2020-02-01T15:44:03.237562"
      }
     },
     "output_type": "display_data"
    }
   ],
   "source": [
    "    def load_ipython_extension(shell):\n",
    "The `pidgin` implementation uses the `IPython` configuration\n",
    "and extension system to modify the interactive computing expierence\n",
    "in `jupyter` notebooks.\n",
    "        \n",
    "        imports.load_ipython_extension(shell)\n",
    "1. The primary function of `pidgin` is that it `imports` `markdown` as formal language for \n",
    "programming multiobjective literate programs.  `imports` focuses on the indentification of\n",
    "`\"code\" and not\"code\"` that become python code.\n",
    "\n",
    "        testing.load_ipython_extension(shell) \n",
    "2. The `pidgin` specification promotes strong intertextuality between `\"code\" and not\"code\"` \n",
    "objects in a program.  `testing` reinforces that efficacy of the `\"code\"` using\n",
    "documentation tests of `doctest and \"inline\"+\"code\"`.  `pidgin` uses the narrative a formal \n",
    "test for the program.  These tests are executed interactively to ensure the veracity of \n",
    "`\"code\"` signs in the narrative.\n",
    "\n",
    "        exports.load_ipython_extension(shell)\n",
    "3. Literate computing in `pidgin` allows incremental development of `\"code\"` and the co-development of the documentation.\n",
    "`pidgin` interprets the `input` `\"code\"` as a `display`.  `pidgin` uses a `template` language to transclude\n",
    "`object`s from code "
   ]
  },
  {
   "cell_type": "code",
   "execution_count": 6,
   "metadata": {},
   "outputs": [],
   "source": [
    "    \n",
    "    def unload_ipython_extension(shell):\n",
    "        for x in (exports, testing, imports): x.unload_ipython_extension(shell)"
   ]
  }
 ],
 "metadata": {
  "kernelspec": {
   "display_name": "Python 3",
   "language": "python",
   "name": "python3"
  },
  "language_info": {
   "codemirror_mode": {
    "name": "ipython",
    "version": 3
   },
   "file_extension": ".py",
   "mimetype": "text/x-python",
   "name": "python",
   "nbconvert_exporter": "python",
   "pygments_lexer": "ipython3",
   "version": "3.7.3"
  }
 },
 "nbformat": 4,
 "nbformat_minor": 4
}
