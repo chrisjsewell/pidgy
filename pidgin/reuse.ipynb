{
 "cells": [
  {
   "cell_type": "code",
   "execution_count": 8,
   "metadata": {},
   "outputs": [
    {
     "data": {
      "text/markdown": [
       "# Literary code & coded literature"
      ],
      "text/plain": [
       "<IPython.core.display.Markdown object>"
      ]
     },
     "metadata": {
      "text/markdown": {
       "end_time": "2020-02-03T16:22:05.934770",
       "modules": [],
       "names": [],
       "start_time": "2020-02-03T16:22:05.933246"
      }
     },
     "output_type": "display_data"
    }
   ],
   "source": [
    "# Literary code & coded literature"
   ]
  },
  {
   "cell_type": "code",
   "execution_count": 9,
   "metadata": {},
   "outputs": [],
   "source": [
    "    \n",
    "    import pidgin, notebook, jupyter, IPython, mistune as markdown"
   ]
  },
  {
   "cell_type": "code",
   "execution_count": 10,
   "metadata": {},
   "outputs": [
    {
     "data": {
      "text/markdown": [
       "    \"\"\"\n",
       "literate `pidgin` programs have two intents:\n",
       "1. be literature that acts as a program.\n",
       "2. be a program that acts as literature.\n",
       "\n",
       "In this approach, programming languages merge with natural language\n",
       "to communicate thought.  As a whole, these documents encapsulate\n",
       "unstructured languages that communicate with combinations of human \n",
       "and machine logic.  \n",
       "\n",
       "    \"\"\";"
      ],
      "text/plain": [
       "<IPython.core.display.Markdown object>"
      ]
     },
     "metadata": {
      "text/markdown": {
       "end_time": "2020-02-03T16:22:06.918874",
       "modules": [],
       "names": [],
       "start_time": "2020-02-03T16:22:06.915282"
      }
     },
     "output_type": "display_data"
    }
   ],
   "source": [
    "    \"\"\"\n",
    "literate `pidgin` programs have two intents:\n",
    "1. be literature that acts as a program.\n",
    "2. be a program that acts as literature.\n",
    "\n",
    "In this approach, programming languages merge with natural language\n",
    "to communicate thought.  As a whole, these documents encapsulate\n",
    "unstructured languages that communicate with combinations of human \n",
    "and machine logic.  \n",
    "\n",
    "    \"\"\";"
   ]
  },
  {
   "cell_type": "code",
   "execution_count": 11,
   "metadata": {},
   "outputs": [
    {
     "data": {
      "text/markdown": [
       "    class PidginLoader(__import__('importnb').Notebook): \n",
       "        \"\"\"\n",
       "The `PidginLoader` includes `pidgin` documents in Python's import system.\n",
       "        \n",
       "        \"\"\"\n",
       "        extensions = \".md.ipynb\".split()\n",
       "        \"\"\"\n",
       "Regardless of intent, `pidgin` programs should be reusable in other programs.\n",
       "`pidgin` programs are identified by the composite file extension `\".md.ipynb\"`.\n",
       "The choice is file extension is made because `pidgin` programs \n",
       "designed primarly for literate programming in `jupyter` `notebook`s - \n",
       "that use the `\".ipynb\"` suffix - \n",
       "with `markdown` as the document language and `IPython` as the glue programming language.\n",
       "        \n",
       "        \"\"\"\n",
       "        def code(self, str): \n",
       "            \"\"\"\n",
       "Appply the pidgin transformers.\n",
       "        \n",
       "            \"\"\"\n",
       "            return ''.join(__import__('pidgin').translate.pidgin.transform_cell(str))"
      ],
      "text/plain": [
       "<IPython.core.display.Markdown object>"
      ]
     },
     "metadata": {
      "text/markdown": {
       "end_time": "2020-02-03T16:22:07.112951",
       "modules": [],
       "names": [],
       "start_time": "2020-02-03T16:22:07.100964"
      }
     },
     "output_type": "display_data"
    }
   ],
   "source": [
    "    class PidginLoader(__import__('importnb').Notebook): \n",
    "        \"\"\"\n",
    "The `PidginLoader` includes `pidgin` documents in Python's import system.\n",
    "        \n",
    "        \"\"\"\n",
    "        extensions = \".md.ipynb\".split()\n",
    "        \"\"\"\n",
    "Regardless of intent, `pidgin` programs should be reusable in other programs.\n",
    "`pidgin` programs are identified by the composite file extension `\".md.ipynb\"`.\n",
    "The choice is file extension is made because `pidgin` programs \n",
    "designed primarly for literate programming in `jupyter` `notebook`s - \n",
    "that use the `\".ipynb\"` suffix - \n",
    "with `markdown` as the document language and `IPython` as the glue programming language.\n",
    "        \n",
    "        \"\"\"\n",
    "        def code(self, str): \n",
    "            \"\"\"\n",
    "Appply the pidgin transformers.\n",
    "        \n",
    "            \"\"\"\n",
    "            return ''.join(__import__('pidgin').translate.pidgin.transform_cell(str))"
   ]
  },
  {
   "cell_type": "code",
   "execution_count": 12,
   "metadata": {},
   "outputs": [
    {
     "data": {
      "text/markdown": [
       "## Authoring reusable documents."
      ],
      "text/plain": [
       "<IPython.core.display.Markdown object>"
      ]
     },
     "metadata": {
      "text/markdown": {
       "end_time": "2020-02-03T16:22:09.828552",
       "modules": [],
       "names": [],
       "start_time": "2020-02-03T16:22:09.826962"
      }
     },
     "output_type": "display_data"
    }
   ],
   "source": [
    "## Authoring reusable documents."
   ]
  },
  {
   "cell_type": "code",
   "execution_count": 13,
   "metadata": {},
   "outputs": [
    {
     "data": {
      "text/markdown": [
       "    \"\"\"\n",
       "For documents to be reused as modules, they must restart and run all.\n",
       "\n",
       "A benefit of this approach is that the documents can be tested.\n",
       "\n",
       "    \"\"\";"
      ],
      "text/plain": [
       "<IPython.core.display.Markdown object>"
      ]
     },
     "metadata": {
      "text/markdown": {
       "end_time": "2020-02-03T16:22:10.019961",
       "modules": [],
       "names": [],
       "start_time": "2020-02-03T16:22:10.018313"
      }
     },
     "output_type": "display_data"
    }
   ],
   "source": [
    "    \"\"\"\n",
    "For documents to be reused as modules, they must restart and run all.\n",
    "\n",
    "A benefit of this approach is that the documents can be tested.\n",
    "\n",
    "    \"\"\";"
   ]
  }
 ],
 "metadata": {
  "kernelspec": {
   "display_name": "Pidgin 3",
   "language": "python",
   "name": "pidgin"
  },
  "language_info": {
   "codemirror_mode": {
    "name": "ipython",
    "version": 3
   },
   "file_extension": ".py",
   "mimetype": "text/x-python",
   "name": "python",
   "nbconvert_exporter": "python",
   "pygments_lexer": "ipython3",
   "version": "3.7.3"
  }
 },
 "nbformat": 4,
 "nbformat_minor": 4
}
