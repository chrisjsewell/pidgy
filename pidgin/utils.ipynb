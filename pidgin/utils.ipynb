{
 "cells": [
  {
   "cell_type": "code",
   "execution_count": 26,
   "metadata": {},
   "outputs": [],
   "source": [
    "    import IPython, toolz.curried as toolz, base64, vdom\n",
    "    try: from .weave import markdown_to_flex_vdom\n",
    "    except: from weave import markdown_to_flex_vdom"
   ]
  },
  {
   "cell_type": "code",
   "execution_count": 27,
   "metadata": {},
   "outputs": [],
   "source": [
    "    mimes = toolz.pipe(\"\"\"\n",
    "        50 text/html\n",
    "        70 text/latex\n",
    "        80 image/svg+xml\n",
    "        90 image/bmp image/png image/jpeg image/gif'\n",
    "        60 text/markdown\n",
    "        110 text/javascript application/javascript \n",
    "        120 text/plain\n",
    "        \"\"\", str.strip, str.splitlines, toolz.map(toolz.compose(toolz.juxt(toolz.compose(int, next), list), iter, str.split)), list)"
   ]
  },
  {
   "cell_type": "code",
   "execution_count": 28,
   "metadata": {},
   "outputs": [],
   "source": [
    "    image_types = list(map('image/'.__add__, ('bmp', 'jpeg', 'gif', 'png')))"
   ]
  },
  {
   "cell_type": "code",
   "execution_count": 29,
   "metadata": {},
   "outputs": [],
   "source": [
    "    def flatten(str): return ''.join(str.splitlines())"
   ]
  },
  {
   "cell_type": "code",
   "execution_count": 30,
   "metadata": {},
   "outputs": [],
   "source": [
    "    import vdom, base64, IPython\n",
    "\n",
    "    def flatten(string):\n",
    "        return ''.join(map(str.strip, string.splitlines()))\n",
    "\n",
    "    def format_images(type, bundle):\n",
    "        str = bundle[type]\n",
    "        if isinstance(str, bytes):\n",
    "            str = base64.b64encode(str).decode('utf-8')\n",
    "            \n",
    "        if type in ('image/svg+xml', 'text/html'): \n",
    "            return IPython.display.HTML(flatten(str))\n",
    "            \n",
    "        if str.startswith('http'): return vdom.img(src=str)\n",
    "\n",
    "        return vdom.img(src=f\"data:{type};base64,{str}\")"
   ]
  },
  {
   "cell_type": "code",
   "execution_count": 31,
   "metadata": {},
   "outputs": [],
   "source": [
    "  def ipython_formatter(object):\n",
    "        import mistune\n",
    "        format = IPython.get_ipython().display_formatter.format\n",
    "        bundle, metadata = format(object)\n",
    "        for type in toolz.pipe(mimes, toolz.map(toolz.second), toolz.concat):\n",
    "            if type == 'text/plain':  return object\n",
    "            if type in bundle: \n",
    "                object = bundle[type]\n",
    "                if type.startswith('image'):\n",
    "                    return format_images(type, bundle)._repr_html_()\n",
    "                if type == 'text/markdown':\n",
    "                    return markdown_to_flex_vdom()(object)._repr_html_()\n",
    "                return bundle[type]"
   ]
  },
  {
   "cell_type": "code",
   "execution_count": null,
   "metadata": {},
   "outputs": [],
   "source": []
  }
 ],
 "metadata": {
  "kernelspec": {
   "display_name": "Python 3",
   "language": "python",
   "name": "python3"
  },
  "language_info": {
   "codemirror_mode": {
    "name": "ipython",
    "version": 3
   },
   "file_extension": ".py",
   "mimetype": "text/x-python",
   "name": "python",
   "nbconvert_exporter": "python",
   "pygments_lexer": "ipython3",
   "version": "3.6.6"
  }
 },
 "nbformat": 4,
 "nbformat_minor": 2
}
