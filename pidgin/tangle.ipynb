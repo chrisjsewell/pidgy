{
 "cells": [
  {
   "cell_type": "markdown",
   "metadata": {},
   "source": [
    "`tangle` provides functions for converting markdown to executable source in a semi-lossy manner.  Key design constraints are:\n",
    "\n",
    "* Lines in the Markdown source must align with the Python source providing useful tracebacks.\n",
    "* All non-source is compiled and is therefore a string."
   ]
  },
  {
   "cell_type": "code",
   "execution_count": 1,
   "metadata": {},
   "outputs": [],
   "source": [
    "import ast, mistune, textwrap, functools, itertools\n",
    "__all__ = 'markdown_to_python_user_expressions', 'markdown_to_python'"
   ]
  },
  {
   "cell_type": "markdown",
   "metadata": {},
   "source": [
    "`quote` wrotes non code objects in triple ticks."
   ]
  },
  {
   "cell_type": "code",
   "execution_count": 29,
   "metadata": {},
   "outputs": [],
   "source": [
    "    def quote(str, punc=';'):\n",
    "        str, leading_ws = ''.join(str), []\n",
    "        lines = str.splitlines(True)\n",
    "        _ = '\"\"\"'\n",
    "        if _ in str: _ = \"'''\"\n",
    "        if not str.strip(): _ = punc = ''\n",
    "        while lines and (not lines[0].strip()): leading_ws.append(lines.pop(0))    \n",
    "        str = ''.join(lines)\n",
    "        end = len(str.rstrip())\n",
    "        str, ending_ws = str[:end], str[end:]\n",
    "        if str and str.endswith(_[0]): str += ' '                    \n",
    "        return F\"{''.join(leading_ws)}{_}{str}{_}{punc}{ending_ws}\""
   ]
  },
  {
   "cell_type": "markdown",
   "metadata": {},
   "source": [
    "`get_first_line` get the first non-`iter`able strings in `lines`"
   ]
  },
  {
   "cell_type": "code",
   "execution_count": 30,
   "metadata": {},
   "outputs": [],
   "source": [
    "    def get_first_line(lines, line=''):\n",
    "        for line in lines or ['']: \n",
    "            if line.strip(): break\n",
    "        return line"
   ]
  },
  {
   "cell_type": "markdown",
   "metadata": {},
   "source": [
    "`get_line_indent` computes the indent of a string."
   ]
  },
  {
   "cell_type": "code",
   "execution_count": 31,
   "metadata": {},
   "outputs": [],
   "source": [
    "    def get_line_indent(line):  return len(line) - len(line.lstrip())"
   ]
  },
  {
   "cell_type": "markdown",
   "metadata": {},
   "source": [
    "The `Markdown` transformer must combine code and non-code.  It must handle logic to properly indent tangled code and non-code."
   ]
  },
  {
   "cell_type": "code",
   "execution_count": 32,
   "metadata": {},
   "outputs": [],
   "source": [
    "    class Markdown(mistune.Markdown):\n",
    "        def render(self, text):\n",
    "            \"\"\"Initialize the \"\"\"\n",
    "            self.renderer.original = ''.join(text).splitlines()\n",
    "            self.renderer.final, self.renderer.buffer, self.renderer.min_indent = [], [], 0\n",
    "            self.renderer.expressions = []\n",
    "            self.parse(text)\n",
    "            self.renderer.block_code('', '')\n",
    "            return '\\n'.join(self.renderer.final)"
   ]
  },
  {
   "cell_type": "markdown",
   "metadata": {},
   "source": [
    "`PythonExpressionsMarkdown` is a `Markdown` transformer that also resolves expressions in inline code. \n",
    "\n",
    "> `pidgin` expects the inline code to be expressions, assert is the only statement permitted in in line code because it is idiomatic."
   ]
  },
  {
   "cell_type": "code",
   "execution_count": 33,
   "metadata": {},
   "outputs": [],
   "source": [
    "    class PythonExpressionsMarkdown(Markdown):\n",
    "        def render(self, text): return super().render(text), self.renderer.expressions"
   ]
  },
  {
   "cell_type": "markdown",
   "metadata": {},
   "source": [
    "The __Lexer__ s only consider coarse features of the markdown spec.  "
   ]
  },
  {
   "cell_type": "code",
   "execution_count": 34,
   "metadata": {},
   "outputs": [],
   "source": [
    "    class BlockLexer(mistune.BlockLexer): list_rules = default_rules = ['newline', 'block_code', 'list_block', 'paragraph', 'text']\n",
    "    class InlineLexer(mistune.InlineLexer):  inline_html_rules = default_rules = ['text']"
   ]
  },
  {
   "cell_type": "markdown",
   "metadata": {},
   "source": [
    "`InlineExpressionsMarkdown` is a special `mistune.Markdown` transformer that records information in __code span__ statatements."
   ]
  },
  {
   "cell_type": "code",
   "execution_count": 35,
   "metadata": {},
   "outputs": [],
   "source": [
    "    class InlineExpressionsMarkdown(mistune.Markdown):\n",
    "        def render(self, text):\n",
    "            self.renderer.expressions = []\n",
    "            super().render(text)\n",
    "            return self.renderer.expressions"
   ]
  },
  {
   "cell_type": "markdown",
   "metadata": {},
   "source": [
    "`InlineExpressionsRenderer` is a special `mistune.Renderer` transformer that records expressions in `InlineExpressionsRenderer.codespan`s."
   ]
  },
  {
   "cell_type": "code",
   "execution_count": 36,
   "metadata": {},
   "outputs": [],
   "source": [
    "    class InlineExpressionsRenderer(mistune.Renderer):\n",
    "        def codespan(self, text): \n",
    "            self.expressions.append(text)\n",
    "            return super().text(text)"
   ]
  },
  {
   "cell_type": "code",
   "execution_count": 37,
   "metadata": {},
   "outputs": [],
   "source": [
    "    class Renderer(mistune.Renderer):\n",
    "        def newline(self):\n",
    "            self.buffer += ['']\n",
    "            return ''\n",
    "        \n",
    "        def paragraph(self, text):\n",
    "            self.expressions.extend(InlineExpressionsMarkdown(renderer=InlineExpressionsRenderer()).render(text))\n",
    "                        \n",
    "            lines = text.splitlines()\n",
    "            while lines:\n",
    "                line = lines.pop()\n",
    "                while self.original and line not in self.original[0]:\n",
    "                    self.buffer += [self.original.pop(0)]\n",
    "                if self.original: self.buffer += [self.original.pop(0)]\n",
    "                        \n",
    "            return ''\n",
    "\n",
    "        def block_code(self, text, lang): \n",
    "            if lang:\n",
    "                return self.paragraph(text)\n",
    "            \n",
    "            first_line = get_first_line(text.splitlines())\n",
    "            \n",
    "            while self.original and first_line not in self.original[0]:   \n",
    "                self.buffer += [self.original.pop(0)]\n",
    "                \n",
    "            while self.original and not self.original[0].strip(): self.buffer += [self.original.pop(0)]\n",
    "                \n",
    "            code, lines = [], text.splitlines()\n",
    "            while lines and not lines[0].strip(): lines.pop(0)\n",
    "            \n",
    "            if self.original:\n",
    "                while lines:\n",
    "                    line = lines.pop(0)\n",
    "                    while line not in self.original[0]:\n",
    "                        code += [self.original.pop(0)]\n",
    "                    code += [self.original.pop(0)]\n",
    "                \n",
    "            code = '\\n'.join(code + [''])\n",
    "            body = '\\n'.join(self.buffer + [''])\n",
    "            \n",
    "            last_line = get_first_line(reversed(self.final))\n",
    "            prior_indent = get_line_indent(last_line)\n",
    "\n",
    "            definition, returns = last_line.rstrip().endswith(':'), last_line.lstrip().startswith('return')\n",
    "\n",
    "            this_indent = get_line_indent(get_first_line(code.splitlines()))\n",
    "\n",
    "            if body.strip() and not self.min_indent: self.min_indent = this_indent\n",
    "            indent = max(self.min_indent, (returns and min or max)(prior_indent, this_indent))\n",
    "            indent += 4 * (definition and prior_indent == indent)\n",
    "            self.final.extend(textwrap.indent(quote(body), ' '*indent).splitlines()) \n",
    "            \n",
    "            self.final.extend(code.splitlines())\n",
    "\n",
    "            self.buffer = []\n",
    "            return ''            "
   ]
  },
  {
   "cell_type": "markdown",
   "metadata": {},
   "source": [
    "## Exports"
   ]
  },
  {
   "cell_type": "markdown",
   "metadata": {},
   "source": [
    "`markdown_to_python` converts __Markdown__ to __Python__ in a semi lossless way."
   ]
  },
  {
   "cell_type": "code",
   "execution_count": 38,
   "metadata": {},
   "outputs": [],
   "source": [
    "def markdown_to_python(str)->\"Valid Python Source\": \n",
    "    renderer = Renderer()\n",
    "    if str.lstrip().startswith('%%'): return str\n",
    "    return Markdown(renderer=renderer, \n",
    "        inline=InlineLexer(renderer, mistune.InlineGrammar()), \n",
    "        block=BlockLexer(mistune.BlockGrammar())).render(str)"
   ]
  },
  {
   "cell_type": "markdown",
   "metadata": {},
   "source": [
    "`markdown_to_python_user_expressions` is augments `markdown_to_python` and returns any inline code expressions.  "
   ]
  },
  {
   "cell_type": "code",
   "execution_count": 39,
   "metadata": {},
   "outputs": [],
   "source": [
    "def markdown_to_python_user_expressions(str)->(\"Valid Python Source\", \"User Expressions\"): \n",
    "    renderer = Renderer()\n",
    "    if str.lstrip().startswith('%%'): return str, []\n",
    "    return PythonExpressionsMarkdown(renderer=renderer, \n",
    "        inline=InlineLexer(renderer, mistune.InlineGrammar()), \n",
    "        block=BlockLexer(mistune.BlockGrammar())).render(str)"
   ]
  },
  {
   "cell_type": "markdown",
   "metadata": {},
   "source": [
    "# Tests"
   ]
  },
  {
   "cell_type": "code",
   "execution_count": 25,
   "metadata": {},
   "outputs": [],
   "source": [
    "    def test_edge_case():\n",
    "        return markdown_to_python_user_expressions(\"\"\"    vega_transforms = \"https://vega.github.io/vega-lite/docs/transform.html\"\n",
    "            vega_transforms\n",
    "            \n",
    "    \"\"\")"
   ]
  },
  {
   "cell_type": "code",
   "execution_count": 26,
   "metadata": {},
   "outputs": [],
   "source": [
    "    def test_exp():\n",
    "        source, user_expressions = markdown_to_python_user_expressions('testiong `range` asdfkjadf asdfkjhaskdjfh `print`')\n",
    "        assert user_expressions"
   ]
  },
  {
   "cell_type": "code",
   "execution_count": 27,
   "metadata": {},
   "outputs": [],
   "source": [
    "    if 'pytest' in __import__('sys').modules or __name__ == '__main__':\n",
    "        import hypothesis.strategies\n",
    "        @hypothesis.given(hypothesis.strategies.text())\n",
    "        def test_random_strings(str): \n",
    "            markdown_to_python_user_expressions(str) \n",
    "            \n",
    "        if __name__ == '__main__': test_random_strings()"
   ]
  },
  {
   "cell_type": "code",
   "execution_count": 28,
   "metadata": {},
   "outputs": [],
   "source": [
    "    s = \"\"\"## Docstrings\n",
    "\n",
    "    A latent feature of `pidgin` is the ability to compose docstrings as markdown.\n",
    "\n",
    "        class MyClass:\n",
    "    This is the docstring for `MyClass`.  `pidgin` will automatically wrap this expression in quotes because it follows a class defintion.\n",
    "\n",
    "        assert MyClass.__doc__\n",
    "\n",
    "\n",
    "        def my_function(x):\n",
    "    The same is true for functions.\n",
    "\n",
    "            return x\n",
    "            \"\"\""
   ]
  },
  {
   "cell_type": "markdown",
   "metadata": {},
   "source": [
    "    print(markdown_to_python_user_expressions(s)[0])"
   ]
  }
 ],
 "metadata": {
  "kernelspec": {
   "display_name": "Python 3",
   "language": "python",
   "name": "python3"
  },
  "language_info": {
   "codemirror_mode": {
    "name": "ipython",
    "version": 3
   },
   "file_extension": ".py",
   "mimetype": "text/x-python",
   "name": "python",
   "nbconvert_exporter": "python",
   "pygments_lexer": "ipython3",
   "version": "3.6.6"
  }
 },
 "nbformat": 4,
 "nbformat_minor": 2
}
