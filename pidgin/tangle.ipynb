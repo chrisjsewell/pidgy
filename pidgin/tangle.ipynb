{
 "cells": [
  {
   "cell_type": "markdown",
   "metadata": {},
   "source": [
    "`tangle` provides functions for converting markdown to executable source in a semi-lossy manner."
   ]
  },
  {
   "cell_type": "markdown",
   "metadata": {},
   "source": [
    "`quote` wrotes non code objects in triple ticks."
   ]
  },
  {
   "cell_type": "code",
   "execution_count": 1,
   "metadata": {},
   "outputs": [],
   "source": [
    "import ast, mistletoe, textwrap, functools, itertools, doctest"
   ]
  },
  {
   "cell_type": "code",
   "execution_count": 2,
   "metadata": {},
   "outputs": [],
   "source": [
    "def quote(str, punc=''):\n",
    "    str, leading_ws = ''.join(str), []\n",
    "    lines = str.splitlines(True)\n",
    "    _ = '\"\"\"'\n",
    "    if _ in str: _ = \"'''\"\n",
    "    if not str.strip(): _ = punc = ''\n",
    "    while lines and not lines[0]: leading_ws.append(lines.pop())\n",
    "    str = ''.join(lines)\n",
    "    end = len(str.rstrip())\n",
    "    str, ending_ws = str[:end], str[end:]\n",
    "    if str and str.endswith(_[0]): str += ' '                    \n",
    "    return F\"{''.join(leading_ws)}{_}{str}{_}{punc}{ending_ws}\""
   ]
  },
  {
   "cell_type": "markdown",
   "metadata": {},
   "source": [
    "`get_first_line` get the first non-`iter`able strings in `lines`"
   ]
  },
  {
   "cell_type": "code",
   "execution_count": 3,
   "metadata": {},
   "outputs": [],
   "source": [
    "def get_first_line(lines, line=''):\n",
    "    for line in lines or ['']: \n",
    "        if line.strip(): break\n",
    "    return line"
   ]
  },
  {
   "cell_type": "markdown",
   "metadata": {},
   "source": [
    "`get_line_indent` computes the indent of a string."
   ]
  },
  {
   "cell_type": "code",
   "execution_count": 4,
   "metadata": {},
   "outputs": [],
   "source": [
    "def get_line_indent(line):  return len(line) - len(line.lstrip())"
   ]
  },
  {
   "cell_type": "code",
   "execution_count": 5,
   "metadata": {},
   "outputs": [],
   "source": [
    "def tokenize(str)->mistletoe.Document:\n",
    "    doc = mistletoe.Document('')\n",
    "    if str.lstrip().startswith('%%'):\n",
    "        doc.children = [BlockCode(str.splitlines())]\n",
    "    else:\n",
    "        doc.children = mistletoe.block_tokenizer.tokenize(str.splitlines(), [\n",
    "            BlockCode, List, Paragraph\n",
    "        ])\n",
    "    (\n",
    "        doc.children and isinstance(doc.children[-1], mistletoe.block_token.BlockCode)\n",
    "    ) or doc.children.append(EmptyBlockCode)        \n",
    "    return doc"
   ]
  },
  {
   "cell_type": "code",
   "execution_count": 6,
   "metadata": {},
   "outputs": [],
   "source": [
    "class List(mistletoe.block_token.List):\n",
    "    def __init__(self, matches):\n",
    "        self.children = []\n",
    "        for match, indent, list_token in matches:\n",
    "            for token, args in match:\n",
    "                token = {\n",
    "                    mistletoe.block_token.Paragraph: Paragraph,\n",
    "                    mistletoe.block_token.List: List,\n",
    "                    mistletoe.block_token.BlockCode: BlockCode\n",
    "                }.get(token, token)\n",
    "                self.children.append(token(args))"
   ]
  },
  {
   "cell_type": "markdown",
   "metadata": {},
   "source": [
    "`EmptyBlockCode` is an empty `mistletoe.block_token.BlockCode` object that is used to acts an identifier during Markdown parsing."
   ]
  },
  {
   "cell_type": "code",
   "execution_count": 7,
   "metadata": {},
   "outputs": [],
   "source": [
    "EmptyBlockCode = mistletoe.block_token.BlockCode('')\n",
    "EmptyBlockCode.children = [mistletoe.span_token.RawText('')]"
   ]
  },
  {
   "cell_type": "markdown",
   "metadata": {},
   "source": [
    "`render_string_as_document` decorates a `mistletoe.base_renderer` attributes to accept pure strings as input.  It adds an `EmptyBlockCode` if the last cell is a `Paragraph`.\n",
    "\n",
    "Our markdown renderer appends the final source on block codes.  Ending in block code assures trying parapgraphs are captured."
   ]
  },
  {
   "cell_type": "code",
   "execution_count": 8,
   "metadata": {},
   "outputs": [],
   "source": [
    "def render_string_as_document(callable):\n",
    "    @functools.wraps(callable)\n",
    "    def caller(self, token):\n",
    "        if isinstance(token, str):\n",
    "            self.original = list(map(str.rstrip, ''.join(token).splitlines()))\n",
    "            self.final, self.buffer, self.min_indent = [], mistletoe.span_token.RawText(''), 0\n",
    "            self.doctest_parser = doctest.DocTestParser()\n",
    "            self.expressions = []\n",
    "            self.examples = []\n",
    "            token = tokenize(token)\n",
    "        return callable(self, token)\n",
    "    return caller"
   ]
  },
  {
   "cell_type": "code",
   "execution_count": 9,
   "metadata": {},
   "outputs": [],
   "source": [
    "class Paragraph(mistletoe.block_token.Paragraph):\n",
    "    def __init__(self, lines):\n",
    "        self.children = [mistletoe.span_token.RawText('\\n'.join(lines))]\n"
   ]
  },
  {
   "cell_type": "code",
   "execution_count": 10,
   "metadata": {},
   "outputs": [],
   "source": [
    "class BlockCode(mistletoe.block_token.BlockCode):\n",
    "    def __init__(self, lines):\n",
    "        self.language = ''\n",
    "        self.children = [mistletoe.span_token.RawText('\\n'.join(lines))]"
   ]
  },
  {
   "cell_type": "code",
   "execution_count": 11,
   "metadata": {},
   "outputs": [],
   "source": [
    "class InlineExpressions(mistletoe.html_renderer.HTMLRenderer):\n",
    "    def render_inline_code(self, token):\n",
    "        return self.expressions.append(token.children[0].content) or ''\n",
    "        \n",
    "    def render_line_break(self, token):  return  ''\n",
    "    \n",
    "    render_html_span = render_thematic_break =  render_line_break\n",
    "    \n",
    "    def render_document(self, token):\n",
    "        self.expressions = []\n",
    "        if hasattr(token, 'children'): super().render_inner(token)\n",
    "        return self.expressions"
   ]
  },
  {
   "cell_type": "code",
   "execution_count": 12,
   "metadata": {},
   "outputs": [],
   "source": [
    "def inline_expressions(str): \n",
    "    with InlineExpressions() as object:  return object.render(mistletoe.Document(str.splitlines()))"
   ]
  },
  {
   "cell_type": "code",
   "execution_count": 13,
   "metadata": {},
   "outputs": [],
   "source": [
    "class MarkdownPython(mistletoe.base_renderer.BaseRenderer):\n",
    "    def render_document(self, token, punctation = ''): \n",
    "        [self.render(child) for child in token.children if hasattr(child, 'children')]\n",
    "        source = '\\n'.join(self.final)\n",
    "        if token.children[-1] == EmptyBlockCode:\n",
    "            # IPython use the magic function if the string is not stripped\n",
    "            source = source.rstrip() +';'\n",
    "        return source\n",
    "    \n",
    "    def render_paragraph(self, token): \n",
    "        \"\"\"Paragraphs are staged in the buffer so they can be indented.\"\"\"\n",
    "        for child in token.children:  \n",
    "            self.buffer.content += child.content + '\\n'\n",
    "            self.examples += self.doctest_parser.get_examples(child.content)\n",
    "        return ''\n",
    "        \n",
    "    def render_block_code(self, token):\n",
    "        if isinstance(token, mistletoe.block_token.BlockCode):\n",
    "            buffer = self.buffer.content.splitlines()\n",
    "            while buffer and not buffer[0]:   \n",
    "                self.final.append(buffer.pop(0))\n",
    "            body = '\\n'.join(buffer)\n",
    "\n",
    "            block = token.children[0].content.splitlines()\n",
    "\n",
    "            last_line = get_first_line(reversed(self.final))\n",
    "            prior_indent = get_line_indent(last_line)\n",
    "\n",
    "            definition, returns = last_line.rstrip().endswith(':'), last_line.lstrip().startswith('return')\n",
    "\n",
    "            this_indent = get_line_indent(get_first_line(block))\n",
    "\n",
    "            if body.strip() and not self.min_indent: self.min_indent = this_indent\n",
    "\n",
    "            indent = max(self.min_indent, (returns and min or max)(prior_indent, this_indent))\n",
    "            indent += 4 * (definition and prior_indent == indent)\n",
    "            self.final.extend(textwrap.indent(quote(body), ' '*indent).splitlines() + block) \n",
    "\n",
    "            self.buffer.content = ''\n",
    "        return ''            \n",
    "    render = render_string_as_document(mistletoe.base_renderer.BaseRenderer.render)"
   ]
  },
  {
   "cell_type": "code",
   "execution_count": 14,
   "metadata": {},
   "outputs": [],
   "source": [
    "def markdown_to_python(str): \n",
    "    with MarkdownPython() as object: return object.render(str)"
   ]
  },
  {
   "cell_type": "code",
   "execution_count": 15,
   "metadata": {},
   "outputs": [],
   "source": [
    "class MarkdownPythonExpressions(MarkdownPython):\n",
    "    def render_block_code(self, token):\n",
    "        if self.buffer.content.strip():\n",
    "            expressions = inline_expressions(self.buffer.content)\n",
    "            self.expressions +=  expressions\n",
    "        return super().render_block_code(token)"
   ]
  },
  {
   "cell_type": "code",
   "execution_count": 16,
   "metadata": {},
   "outputs": [],
   "source": [
    "def markdown_to_python_user_expressions(str): \n",
    "    with MarkdownPythonExpressions() as object: \n",
    "        return object.render(str), object.expressions"
   ]
  },
  {
   "cell_type": "code",
   "execution_count": 17,
   "metadata": {},
   "outputs": [],
   "source": [
    "    def test_edge_case():\n",
    "        markdown_to_python(\"\"\"    vega_transforms = \"https://vega.github.io/vega-lite/docs/transform.html\"\n",
    "            vega_transforms\"\"\")"
   ]
  },
  {
   "cell_type": "code",
   "execution_count": 18,
   "metadata": {},
   "outputs": [],
   "source": [
    "    def test_exp():\n",
    "        source, user_expressions = markdown_to_python_user_expressions('testiong `range` asdfkjadf asdfkjhaskdjfh `print`')\n",
    "        assert user_expressions"
   ]
  },
  {
   "cell_type": "code",
   "execution_count": 19,
   "metadata": {},
   "outputs": [],
   "source": [
    "    if 'pytest' in __import__('sys').modules:\n",
    "        import hypothesis.strategies\n",
    "        @hypothesis.given(hypothesis.strategies.text())\n",
    "        def test_random_strings(str): \n",
    "            markdown_to_python_user_expressions(str)    "
   ]
  },
  {
   "cell_type": "code",
   "execution_count": 20,
   "metadata": {},
   "outputs": [],
   "source": [
    "    s = \"\"\"## Docstrings\n",
    "\n",
    "    A latent feature of `pidgin` is the ability to compose docstrings as markdown.\n",
    "\n",
    "        class MyClass:\n",
    "    This is the docstring for `MyClass`.  `pidgin` will automatically wrap this expression in quotes because it follows a class defintion.\n",
    "\n",
    "        assert MyClass.__doc__\n",
    "\n",
    "\n",
    "        def my_function(x):\n",
    "    The same is true for functions.\n",
    "\n",
    "            return x\n",
    "            \"\"\""
   ]
  },
  {
   "cell_type": "code",
   "execution_count": null,
   "metadata": {},
   "outputs": [],
   "source": []
  },
  {
   "cell_type": "code",
   "execution_count": null,
   "metadata": {},
   "outputs": [],
   "source": []
  }
 ],
 "metadata": {
  "kernelspec": {
   "display_name": "Python 3",
   "language": "python",
   "name": "python3"
  },
  "language_info": {
   "codemirror_mode": {
    "name": "ipython",
    "version": 3
   },
   "file_extension": ".py",
   "mimetype": "text/x-python",
   "name": "python",
   "nbconvert_exporter": "python",
   "pygments_lexer": "ipython3",
   "version": "3.6.6"
  }
 },
 "nbformat": 4,
 "nbformat_minor": 2
}
