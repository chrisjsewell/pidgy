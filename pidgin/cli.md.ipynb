{
 "cells": [
  {
   "cell_type": "code",
   "execution_count": null,
   "metadata": {},
   "outputs": [],
   "source": [
    "    if __name__ == '__main__':\n",
    "        %reload_ext __init__"
   ]
  },
  {
   "cell_type": "code",
   "execution_count": 9,
   "metadata": {},
   "outputs": [],
   "source": [
    "    import click, IPython"
   ]
  },
  {
   "cell_type": "code",
   "execution_count": 11,
   "metadata": {},
   "outputs": [
    {
     "data": {
      "text/markdown": [
       "    @click.group()\n",
       "    def pidgin(): \n",
       "The `pidgin` command line application operates on passive notebooks\n",
       "documents."
      ],
      "text/plain": [
       "<IPython.core.display.Markdown object>"
      ]
     },
     "metadata": {
      "text/markdown": {
       "end_time": "2020-01-25T01:30:22.084781",
       "modules": [],
       "names": [],
       "start_time": "2020-01-25T01:30:22.080004"
      }
     },
     "output_type": "display_data"
    }
   ],
   "source": [
    "    @click.group()\n",
    "    def pidgin(): \n",
    "The `pidgin` command line application operates on passive notebooks\n",
    "documents."
   ]
  },
  {
   "cell_type": "code",
   "execution_count": 12,
   "metadata": {},
   "outputs": [
    {
     "data": {
      "text/markdown": [
       "    @pidgin.command()\n",
       "    def serve(modules):\n",
       "Serve notebook modules from fastapi creating an openapi schema for each \n",
       "literate document."
      ],
      "text/plain": [
       "<IPython.core.display.Markdown object>"
      ]
     },
     "metadata": {
      "text/markdown": {
       "end_time": "2020-01-25T01:30:58.881633",
       "modules": [],
       "names": [],
       "start_time": "2020-01-25T01:30:58.879588"
      }
     },
     "output_type": "display_data"
    }
   ],
   "source": [
    "    @pidgin.command()\n",
    "    def serve(modules):\n",
    "Serve notebook modules from fastapi creating an openapi schema for each \n",
    "literate document."
   ]
  },
  {
   "cell_type": "code",
   "execution_count": 13,
   "metadata": {},
   "outputs": [
    {
     "data": {
      "text/markdown": [
       "    @pidgin.command()\n",
       "    def run(modules, parallel=True):\n",
       "Run a collection of notebook modules."
      ],
      "text/plain": [
       "<IPython.core.display.Markdown object>"
      ]
     },
     "metadata": {
      "text/markdown": {
       "end_time": "2020-01-25T01:31:17.178452",
       "modules": [],
       "names": [],
       "start_time": "2020-01-25T01:31:17.176442"
      }
     },
     "output_type": "display_data"
    }
   ],
   "source": [
    "    @pidgin.command()\n",
    "    def run(modules, parallel=True):\n",
    "Run a collection of notebook modules."
   ]
  },
  {
   "cell_type": "code",
   "execution_count": 14,
   "metadata": {},
   "outputs": [
    {
     "data": {
      "text/markdown": [
       "    @pidgin.command()\n",
       "    def convert(modules):\n",
       "Convert notebook written in pidgin to difference formats."
      ],
      "text/plain": [
       "<IPython.core.display.Markdown object>"
      ]
     },
     "metadata": {
      "text/markdown": {
       "end_time": "2020-01-25T01:32:07.311667",
       "modules": [],
       "names": [
        "convert"
       ],
       "start_time": "2020-01-25T01:32:07.309939"
      }
     },
     "output_type": "display_data"
    }
   ],
   "source": [
    "    @pidgin.command()\n",
    "    def convert(modules):\n",
    "Convert notebook written in pidgin to difference formats."
   ]
  },
  {
   "cell_type": "code",
   "execution_count": null,
   "metadata": {},
   "outputs": [],
   "source": []
  }
 ],
 "metadata": {
  "kernelspec": {
   "display_name": "Python 3",
   "language": "python",
   "name": "python3"
  },
  "language_info": {
   "codemirror_mode": {
    "name": "ipython",
    "version": 3
   },
   "file_extension": ".py",
   "mimetype": "text/x-python",
   "name": "python",
   "nbconvert_exporter": "python",
   "pygments_lexer": "ipython3",
   "version": "3.7.3"
  }
 },
 "nbformat": 4,
 "nbformat_minor": 4
}
