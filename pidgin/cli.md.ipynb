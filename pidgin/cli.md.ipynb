{
 "cells": [
  {
   "cell_type": "code",
   "execution_count": null,
   "metadata": {},
   "outputs": [],
   "source": [
    "    if __name__ == '__main__':\n",
    "        %reload_ext pidgin"
   ]
  },
  {
   "cell_type": "code",
   "execution_count": 2,
   "metadata": {},
   "outputs": [
    {
     "data": {
      "text/markdown": [
       "    import click, IPython, pidgin"
      ],
      "text/plain": [
       "<IPython.core.display.Markdown object>"
      ]
     },
     "metadata": {
      "text/markdown": {
       "end_time": "2020-02-03T14:10:36.823396",
       "modules": [
        "click"
       ],
       "names": [
        "click",
        "pidgin"
       ],
       "start_time": "2020-02-03T14:10:36.814803"
      }
     },
     "output_type": "display_data"
    }
   ],
   "source": [
    "    import click, IPython, pidgin"
   ]
  },
  {
   "cell_type": "code",
   "execution_count": 3,
   "metadata": {},
   "outputs": [
    {
     "data": {
      "text/markdown": [
       "    @click.group()\n",
       "    def app(): \n",
       "The `pidgin` command line application operates on passive notebooks\n",
       "documents."
      ],
      "text/plain": [
       "<IPython.core.display.Markdown object>"
      ]
     },
     "metadata": {
      "text/markdown": {
       "end_time": "2020-02-03T14:10:37.387170",
       "modules": [],
       "names": [
        "app"
       ],
       "start_time": "2020-02-03T14:10:37.383121"
      }
     },
     "output_type": "display_data"
    }
   ],
   "source": [
    "    @click.group()\n",
    "    def app(): \n",
    "The `pidgin` command line application operates on passive notebooks\n",
    "documents."
   ]
  },
  {
   "cell_type": "code",
   "execution_count": 4,
   "metadata": {},
   "outputs": [
    {
     "data": {
      "text/markdown": [
       "    @app.group()\n",
       "    def kernel():\n",
       "Serve notebook modules from fastapi creating an openapi schema for each \n",
       "literate document.\n",
       "\n",
       "    @kernel.command()\n",
       "    def install(user=False, replace=None, prefix=None):\n",
       "        with pidgin.imports.PidginLoader():\n",
       "            from .kernel import shell\n",
       "        dest =shell.install(user=user, replace=replace, prefix=prefix)\n",
       "        click.echo(F\"The pidgin kernel was install in {dest}\")\n",
       "        \n",
       "    @kernel.command()\n",
       "    def uninstall(user=True, replace=None, prefix=None):\n",
       "        with pidgin.imports.PidginLoader():\n",
       "            from .kernel import shell\n",
       "        shell.uninstall()\n",
       "        click.echo(F\"The pidgin kernel was removed.\")\n",
       "        "
      ],
      "text/plain": [
       "<IPython.core.display.Markdown object>"
      ]
     },
     "metadata": {
      "text/markdown": {
       "end_time": "2020-02-03T14:10:37.854541",
       "modules": [],
       "names": [
        "kernel",
        "install",
        "uninstall"
       ],
       "start_time": "2020-02-03T14:10:37.850416"
      }
     },
     "output_type": "display_data"
    }
   ],
   "source": [
    "    @app.group()\n",
    "    def kernel():\n",
    "Serve notebook modules from fastapi creating an openapi schema for each \n",
    "literate document.\n",
    "\n",
    "    @kernel.command()\n",
    "    def install(user=False, replace=None, prefix=None):\n",
    "        with pidgin.imports.PidginLoader():\n",
    "            from .kernel import shell\n",
    "        dest =shell.install(user=user, replace=replace, prefix=prefix)\n",
    "        click.echo(F\"The pidgin kernel was install in {dest}\")\n",
    "        \n",
    "    @kernel.command()\n",
    "    def uninstall(user=True, replace=None, prefix=None):\n",
    "        with pidgin.imports.PidginLoader():\n",
    "            from .kernel import shell\n",
    "        shell.uninstall()\n",
    "        click.echo(F\"The pidgin kernel was removed.\")\n",
    "        "
   ]
  },
  {
   "cell_type": "code",
   "execution_count": 5,
   "metadata": {},
   "outputs": [
    {
     "data": {
      "text/markdown": [
       "    @app.command()\n",
       "    def serve(modules):\n",
       "Serve notebook modules from fastapi creating an openapi schema for each \n",
       "literate document."
      ],
      "text/plain": [
       "<IPython.core.display.Markdown object>"
      ]
     },
     "metadata": {
      "text/markdown": {
       "end_time": "2020-02-03T14:10:38.081137",
       "modules": [],
       "names": [
        "serve"
       ],
       "start_time": "2020-02-03T14:10:38.079157"
      }
     },
     "output_type": "display_data"
    }
   ],
   "source": [
    "    @app.command()\n",
    "    def serve(modules):\n",
    "Serve notebook modules from fastapi creating an openapi schema for each \n",
    "literate document."
   ]
  },
  {
   "cell_type": "code",
   "execution_count": 6,
   "metadata": {},
   "outputs": [
    {
     "data": {
      "text/markdown": [
       "    @app.command()\n",
       "    def run(modules, parallel=True):\n",
       "Run a collection of notebook modules."
      ],
      "text/plain": [
       "<IPython.core.display.Markdown object>"
      ]
     },
     "metadata": {
      "text/markdown": {
       "end_time": "2020-02-03T14:10:38.937300",
       "modules": [],
       "names": [
        "run"
       ],
       "start_time": "2020-02-03T14:10:38.935269"
      }
     },
     "output_type": "display_data"
    }
   ],
   "source": [
    "    @app.command()\n",
    "    def run(modules, parallel=True):\n",
    "Run a collection of notebook modules."
   ]
  },
  {
   "cell_type": "code",
   "execution_count": 7,
   "metadata": {},
   "outputs": [
    {
     "data": {
      "text/markdown": [
       "    @app.command()\n",
       "    def convert(modules):\n",
       "Convert notebook written in pidgin to difference formats."
      ],
      "text/plain": [
       "<IPython.core.display.Markdown object>"
      ]
     },
     "metadata": {
      "text/markdown": {
       "end_time": "2020-02-03T14:10:39.136659",
       "modules": [],
       "names": [
        "convert"
       ],
       "start_time": "2020-02-03T14:10:39.134785"
      }
     },
     "output_type": "display_data"
    }
   ],
   "source": [
    "    @app.command()\n",
    "    def convert(modules):\n",
    "Convert notebook written in pidgin to difference formats."
   ]
  }
 ],
 "metadata": {
  "kernelspec": {
   "display_name": "Python 3",
   "language": "python",
   "name": "python3"
  },
  "language_info": {
   "codemirror_mode": {
    "name": "ipython",
    "version": 3
   },
   "file_extension": ".py",
   "mimetype": "text/x-python",
   "name": "python",
   "nbconvert_exporter": "python",
   "pygments_lexer": "ipython3",
   "version": "3.7.3"
  }
 },
 "nbformat": 4,
 "nbformat_minor": 4
}
