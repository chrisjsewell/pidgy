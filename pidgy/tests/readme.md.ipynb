{
 "cells": [
  {
   "cell_type": "code",
   "execution_count": 1,
   "metadata": {},
   "outputs": [],
   "source": [
    "    \n",
    "    import pidgy, pytest, nbval, doctest, importnb.utils.pytest_importnb"
   ]
  },
  {
   "cell_type": "code",
   "execution_count": 2,
   "metadata": {},
   "outputs": [
    {
     "data": {
      "text/markdown": [
       "## Literature as the test\n",
       "\n",
       "Literate `pidgy` programs accomodate varities of syntaxes and opinions.\n",
       "`pidgy` takes the opinion that everything that is code is computable.\n",
       "Interactive doctests are tested."
      ],
      "text/plain": [
       "<IPython.core.display.Markdown object>"
      ]
     },
     "metadata": {
      "text/markdown": {
       "end_time": "2020-02-03T15:56:51.325365",
       "modules": [],
       "names": [],
       "start_time": "2020-02-03T15:56:51.316181"
      }
     },
     "output_type": "display_data"
    }
   ],
   "source": [
    "## Literature as the test\n",
    "\n",
    "Literate `pidgy` programs accomodate varities of syntaxes and opinions.\n",
    "`pidgy` takes the opinion that everything that is code is computable.\n",
    "Interactive doctests are tested."
   ]
  },
  {
   "cell_type": "code",
   "execution_count": 3,
   "metadata": {},
   "outputs": [
    {
     "data": {
      "text/markdown": [
       "`pidgy` provides a `pytest` plugin that works only on `\".md.ipynb\"` files.\n",
       "The `pidgy.kernel` works directly with `nbval`, install the python packkage and use the --nbval flag.\n",
       "`pidgy` uses features from `importnb` to support standard tests discovery, \n",
       "and `doctest` discovery across all strings.\n",
       "\n",
       "Still working on coverage."
      ],
      "text/plain": [
       "<IPython.core.display.Markdown object>"
      ]
     },
     "metadata": {
      "text/markdown": {
       "end_time": "2020-02-03T15:56:51.345734",
       "modules": [],
       "names": [],
       "start_time": "2020-02-03T15:56:51.332253"
      }
     },
     "output_type": "display_data"
    }
   ],
   "source": [
    "`pidgy` provides a `pytest` plugin that works only on `\".md.ipynb\"` files.\n",
    "The `pidgy.kernel` works directly with `nbval`, install the python packkage and use the --nbval flag.\n",
    "`pidgy` uses features from `importnb` to support standard tests discovery, \n",
    "and `doctest` discovery across all strings.\n",
    "\n",
    "Still working on coverage."
   ]
  },
  {
   "cell_type": "code",
   "execution_count": 4,
   "metadata": {},
   "outputs": [
    {
     "data": {
      "text/markdown": [
       "    class pidgyModule(importnb.utils.pytest_importnb.NotebookModule):\n",
       "The `pidgyModule` permits standard test discovery in notebooks.\n",
       "Functions beginning with `\"test_\"` indicate test functions.\n",
       "\n",
       "        loader = pidgy.imports.pidgyLoader"
      ],
      "text/plain": [
       "<IPython.core.display.Markdown object>"
      ]
     },
     "metadata": {
      "text/markdown": {
       "end_time": "2020-02-03T15:56:51.358876",
       "modules": [],
       "names": [],
       "start_time": "2020-02-03T15:56:51.353058"
      }
     },
     "output_type": "display_data"
    }
   ],
   "source": [
    "    class pidgyModule(importnb.utils.pytest_importnb.NotebookModule):\n",
    "The `pidgyModule` permits standard test discovery in notebooks.\n",
    "Functions beginning with `\"test_\"` indicate test functions.\n",
    "\n",
    "        loader = pidgy.translate.pidgyLoader"
   ]
  },
  {
   "cell_type": "code",
   "execution_count": 5,
   "metadata": {},
   "outputs": [
    {
     "data": {
      "text/markdown": [
       "    class pidgyTests(importnb.utils.pytest_importnb.NotebookTests):\n",
       "        modules = pidgyModule,\n",
       "\n",
       "    pytest_collect_file = pidgyTests.__call__"
      ],
      "text/plain": [
       "<IPython.core.display.Markdown object>"
      ]
     },
     "metadata": {
      "text/markdown": {
       "end_time": "2020-02-03T15:56:51.460408",
       "modules": [],
       "names": [
        "pytest_collect_file"
       ],
       "start_time": "2020-02-03T15:56:51.458366"
      }
     },
     "output_type": "display_data"
    }
   ],
   "source": [
    "    class pidgyTests(importnb.utils.pytest_importnb.NotebookTests):\n",
    "        modules = pidgyModule,\n",
    "\n",
    "    pytest_collect_file = pidgyTests.__call__"
   ]
  }
 ],
 "metadata": {
  "kernelspec": {
   "display_name": "pidgy 3",
   "language": "python",
   "name": "pidgy"
  },
  "language_info": {
   "codemirror_mode": {
    "name": "ipython",
    "version": 3
   },
   "file_extension": ".py",
   "mimetype": "text/x-python",
   "name": "python",
   "nbconvert_exporter": "python",
   "pygments_lexer": "ipython3",
   "version": "3.7.3"
  }
 },
 "nbformat": 4,
 "nbformat_minor": 4
}
