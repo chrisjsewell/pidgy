{
 "cells": [
  {
   "cell_type": "code",
   "execution_count": 1,
   "metadata": {},
   "outputs": [],
   "source": [
    "    \n",
    "    import pidgy, pytest, nbval, doctest, importnb.utils.pytest_importnb\n",
    "    if __name__ == '__main__':\n",
    "        import notebook, IPython as python"
   ]
  },
  {
   "cell_type": "code",
   "execution_count": 2,
   "metadata": {},
   "outputs": [
    {
     "data": {
      "text/markdown": [
       "## Literature as the test\n",
       "\n",
       "A strong intertextuallity may emerge when \n",
       "the primary target of a document is literature.\n",
       "Some of the literary content may include `\"code\"` `object`s\n",
       "that can be tested to qualify the veracity of these\n",
       "dual signifiers.\n",
       "\n",
       "`pidgy` documents are designed to be tested under\n",
       "multiple formal testing conditions.\n",
       "This is motivated by the `python`ic concept of documentation testing,\n",
       "or `doctest`ing, which in itself is a literate programming style.\n",
       "A `pidgy` document includes `doctest`, it verifies `notebook` `input`/`\"output\"`,\n",
       "and any formally defined tests are collected."
      ],
      "text/plain": [
       "<IPython.core.display.Markdown object>"
      ]
     },
     "metadata": {
      "text/markdown": {
       "end_time": "2020-02-05T18:56:04.261563",
       "modules": [],
       "names": [],
       "start_time": "2020-02-05T18:56:04.240557"
      }
     },
     "output_type": "display_data"
    }
   ],
   "source": [
    "## Literature as the test\n",
    "\n",
    "A strong intertextuallity may emerge when \n",
    "the primary target of a document is literature.\n",
    "Some of the literary content may include `\"code\"` `object`s\n",
    "that can be tested to qualify the veracity of these\n",
    "dual signifiers.\n",
    "\n",
    "`pidgy` documents are designed to be tested under\n",
    "multiple formal testing conditions.\n",
    "This is motivated by the `python`ic concept of documentation testing,\n",
    "or `doctest`ing, which in itself is a literate programming style.\n",
    "A `pidgy` document includes `doctest`, it verifies `notebook` `input`/`\"output\"`,\n",
    "and any formally defined tests are collected.\n"
   ]
  },
  {
   "cell_type": "code",
   "execution_count": 3,
   "metadata": {},
   "outputs": [
    {
     "data": {
      "text/markdown": [
       "`pidgy` provides a `pytest` plugin that works only on `\".md.ipynb\"` files.\n",
       "The `pidgy.kernel` works directly with `nbval`, install the python packkage and use the --nbval flag.\n",
       "`pidgy` uses features from `importnb` to support standard tests discovery, \n",
       "and `doctest` discovery across all strings.\n",
       "\n",
       "Still working on coverage."
      ],
      "text/plain": [
       "<IPython.core.display.Markdown object>"
      ]
     },
     "metadata": {
      "text/markdown": {
       "end_time": "2020-02-05T18:56:04.988428",
       "modules": [],
       "names": [],
       "start_time": "2020-02-05T18:56:04.977215"
      }
     },
     "output_type": "display_data"
    }
   ],
   "source": [
    "`pidgy` provides a `pytest` plugin that works only on `\".md.ipynb\"` files.\n",
    "The `pidgy.kernel` works directly with `nbval`, install the python packkage and use the --nbval flag.\n",
    "`pidgy` uses features from `importnb` to support standard tests discovery, \n",
    "and `doctest` discovery across all strings.\n",
    "\n",
    "Still working on coverage."
   ]
  },
  {
   "cell_type": "code",
   "execution_count": 4,
   "metadata": {},
   "outputs": [
    {
     "data": {
      "text/markdown": [
       "    class pidgyModule(importnb.utils.pytest_importnb.NotebookModule):\n",
       "The `pidgyModule` permits standard test discovery in notebooks.\n",
       "Functions beginning with `\"test_\"` indicate test functions.\n",
       "\n",
       "        loader = pidgy.reuse.pidgyLoader"
      ],
      "text/plain": [
       "<IPython.core.display.Markdown object>"
      ]
     },
     "metadata": {
      "text/markdown": {
       "end_time": "2020-02-05T18:56:05.823369",
       "modules": [],
       "names": [
        "pidgyModule"
       ],
       "start_time": "2020-02-05T18:56:05.817599"
      }
     },
     "output_type": "display_data"
    }
   ],
   "source": [
    "    class pidgyModule(importnb.utils.pytest_importnb.NotebookModule):\n",
    "The `pidgyModule` permits standard test discovery in notebooks.\n",
    "Functions beginning with `\"test_\"` indicate test functions.\n",
    "\n",
    "        loader = pidgy.reuse.pidgyLoader"
   ]
  },
  {
   "cell_type": "code",
   "execution_count": 5,
   "metadata": {},
   "outputs": [
    {
     "data": {
      "text/markdown": [
       "    class pidgyTests(importnb.utils.pytest_importnb.NotebookTests):\n",
       "        modules = pidgyModule,\n",
       "\n",
       "    pytest_collect_file = pidgyTests.__call__"
      ],
      "text/plain": [
       "<IPython.core.display.Markdown object>"
      ]
     },
     "metadata": {
      "text/markdown": {
       "end_time": "2020-02-05T18:56:06.932491",
       "modules": [],
       "names": [
        "pidgyTests",
        "pytest_collect_file"
       ],
       "start_time": "2020-02-05T18:56:06.930295"
      }
     },
     "output_type": "display_data"
    }
   ],
   "source": [
    "    class pidgyTests(importnb.utils.pytest_importnb.NotebookTests):\n",
    "        modules = pidgyModule,"
   ]
  },
  {
   "cell_type": "code",
   "execution_count": null,
   "metadata": {},
   "outputs": [],
   "source": []
  }
 ],
 "metadata": {
  "kernelspec": {
   "display_name": "pidgy 3",
   "language": "python",
   "name": "pidgy"
  },
  "language_info": {
   "codemirror_mode": {
    "name": "ipython",
    "version": 3
   },
   "file_extension": ".py",
   "mimetype": "text/x-python",
   "name": "python",
   "nbconvert_exporter": "python",
   "pygments_lexer": "ipython3",
   "version": "3.7.3"
  }
 },
 "nbformat": 4,
 "nbformat_minor": 4
}
