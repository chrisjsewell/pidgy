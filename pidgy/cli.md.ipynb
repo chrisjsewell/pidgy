{
 "cells": [
  {
   "cell_type": "code",
   "execution_count": 1,
   "metadata": {},
   "outputs": [
    {
     "data": {
      "text/markdown": [
       "# `pidgy` command line application"
      ],
      "text/plain": [
       "<IPython.core.display.Markdown object>"
      ]
     },
     "metadata": {
      "text/markdown": {
       "end_time": "2020-02-03T22:27:34.059716",
       "modules": [],
       "names": [],
       "start_time": "2020-02-03T22:27:34.049445"
      }
     },
     "output_type": "display_data"
    }
   ],
   "source": [
    "# `pidgy` command line application"
   ]
  },
  {
   "cell_type": "code",
   "execution_count": 2,
   "metadata": {},
   "outputs": [
    {
     "data": {
      "text/markdown": [
       "    import click, IPython, pidgy"
      ],
      "text/plain": [
       "<IPython.core.display.Markdown object>"
      ]
     },
     "metadata": {
      "text/markdown": {
       "end_time": "2020-02-03T22:27:34.708485",
       "modules": [
        "click"
       ],
       "names": [
        "click",
        "pidgy"
       ],
       "start_time": "2020-02-03T22:27:34.701016"
      }
     },
     "output_type": "display_data"
    }
   ],
   "source": [
    "    import click, IPython, pidgy"
   ]
  },
  {
   "cell_type": "code",
   "execution_count": 3,
   "metadata": {},
   "outputs": [
    {
     "data": {
      "text/markdown": [
       "    @click.group()\n",
       "    def app(): \n",
       "The `pidgy` command line application operates on passive notebooks\n",
       "documents."
      ],
      "text/plain": [
       "<IPython.core.display.Markdown object>"
      ]
     },
     "metadata": {
      "text/markdown": {
       "end_time": "2020-02-03T22:27:34.905693",
       "modules": [],
       "names": [
        "app"
       ],
       "start_time": "2020-02-03T22:27:34.901371"
      }
     },
     "output_type": "display_data"
    }
   ],
   "source": [
    "    @click.group()\n",
    "    def app(): \n",
    "The `pidgy` command line application operates on passive notebooks\n",
    "documents."
   ]
  },
  {
   "cell_type": "code",
   "execution_count": 4,
   "metadata": {},
   "outputs": [
    {
     "data": {
      "text/markdown": [
       "    @app.group()\n",
       "    def kernel():\n",
       "Serve notebook modules from fastapi creating an openapi schema for each \n",
       "literate document.\n",
       "\n",
       "    @kernel.command()\n",
       "    def install(user=False, replace=None, prefix=None):\n",
       "        with pidgy.translate.pidgyLoader():\n",
       "            from .kernel import shell\n",
       "        dest =shell.install(user=user, replace=replace, prefix=prefix)\n",
       "        click.echo(F\"The pidgy kernel was install in {dest}\")\n",
       "        \n",
       "    @kernel.command()\n",
       "    def uninstall(user=True, replace=None, prefix=None):\n",
       "        with pidgy.translate.pidgyLoader():\n",
       "            from .kernel import shell\n",
       "        shell.uninstall()\n",
       "        click.echo(F\"The pidgy kernel was removed.\")\n",
       "        "
      ],
      "text/plain": [
       "<IPython.core.display.Markdown object>"
      ]
     },
     "metadata": {
      "text/markdown": {
       "end_time": "2020-02-03T22:27:35.084285",
       "modules": [],
       "names": [
        "kernel",
        "install",
        "uninstall"
       ],
       "start_time": "2020-02-03T22:27:35.080496"
      }
     },
     "output_type": "display_data"
    }
   ],
   "source": [
    "    @app.group()\n",
    "    def kernel():\n",
    "Serve notebook modules from fastapi creating an openapi schema for each \n",
    "literate document.\n",
    "\n",
    "    @kernel.command()\n",
    "    def install(user=False, replace=None, prefix=None):\n",
    "        with pidgy.reuse.pidgyLoader():\n",
    "            from .kernel import shell\n",
    "        dest =shell.install(user=user, replace=replace, prefix=prefix)\n",
    "        click.echo(F\"The pidgy kernel was install in {dest}\")\n",
    "        \n",
    "    @kernel.command()\n",
    "    def uninstall(user=True, replace=None, prefix=None):\n",
    "        with pidgy.reuse.pidgyLoader():\n",
    "            from .kernel import shell\n",
    "        shell.uninstall()\n",
    "        click.echo(F\"The pidgy kernel was removed.\")\n",
    "        "
   ]
  },
  {
   "cell_type": "code",
   "execution_count": 5,
   "metadata": {},
   "outputs": [
    {
     "data": {
      "text/markdown": [
       "    @app.command()\n",
       "    def serve(modules):\n",
       "Serve notebook modules from fastapi creating an openapi schema for each \n",
       "literate document."
      ],
      "text/plain": [
       "<IPython.core.display.Markdown object>"
      ]
     },
     "metadata": {
      "text/markdown": {
       "end_time": "2020-02-03T22:27:35.557110",
       "modules": [],
       "names": [
        "serve"
       ],
       "start_time": "2020-02-03T22:27:35.555399"
      }
     },
     "output_type": "display_data"
    }
   ],
   "source": [
    "    @app.command()\n",
    "    def serve(modules):\n",
    "Serve notebook modules from fastapi creating an openapi schema for each \n",
    "literate document."
   ]
  },
  {
   "cell_type": "code",
   "execution_count": 6,
   "metadata": {},
   "outputs": [
    {
     "data": {
      "text/markdown": [
       "    @app.command()\n",
       "    def run(modules, parallel=True):\n",
       "Run a collection of notebook modules."
      ],
      "text/plain": [
       "<IPython.core.display.Markdown object>"
      ]
     },
     "metadata": {
      "text/markdown": {
       "end_time": "2020-02-03T22:27:36.055573",
       "modules": [],
       "names": [
        "run"
       ],
       "start_time": "2020-02-03T22:27:36.053552"
      }
     },
     "output_type": "display_data"
    }
   ],
   "source": [
    "    @app.command()\n",
    "    def run(modules, parallel=True):\n",
    "Run a collection of notebook modules."
   ]
  },
  {
   "cell_type": "code",
   "execution_count": 7,
   "metadata": {},
   "outputs": [
    {
     "data": {
      "text/markdown": [
       "    @app.command()\n",
       "    def convert(modules):\n",
       "Convert notebook written in pidgy to difference formats."
      ],
      "text/plain": [
       "<IPython.core.display.Markdown object>"
      ]
     },
     "metadata": {
      "text/markdown": {
       "end_time": "2020-02-03T22:27:36.447406",
       "modules": [],
       "names": [
        "convert"
       ],
       "start_time": "2020-02-03T22:27:36.445588"
      }
     },
     "output_type": "display_data"
    }
   ],
   "source": [
    "    @app.command()\n",
    "    def convert(modules):\n",
    "Convert notebook written in pidgy to difference formats."
   ]
  }
 ],
 "metadata": {
  "kernelspec": {
   "display_name": "pidgy 3",
   "language": "python",
   "name": "pidgy"
  },
  "language_info": {
   "codemirror_mode": {
    "name": "ipython",
    "version": 3
   },
   "file_extension": ".py",
   "mimetype": "text/x-python",
   "name": "python",
   "nbconvert_exporter": "python",
   "pygments_lexer": "ipython3",
   "version": "3.7.3"
  }
 },
 "nbformat": 4,
 "nbformat_minor": 4
}
