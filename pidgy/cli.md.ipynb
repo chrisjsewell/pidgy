{
 "cells": [
  {
   "cell_type": "code",
   "execution_count": 3,
   "metadata": {},
   "outputs": [
    {
     "data": {
      "text/markdown": [
       "# Derived applications of pidgin programs."
      ],
      "text/plain": [
       "<IPython.core.display.Markdown object>"
      ]
     },
     "metadata": {
      "text/markdown": {
       "end_time": "2020-02-11T16:30:48.480960",
       "modules": [],
       "names": [],
       "start_time": "2020-02-11T16:30:48.479513"
      }
     },
     "output_type": "display_data"
    }
   ],
   "source": [
    "# Derived applications of pidgin programs."
   ]
  },
  {
   "cell_type": "code",
   "execution_count": 83,
   "metadata": {},
   "outputs": [],
   "source": [
    "    \n",
    "    import click, IPython, pidgy, nbconvert\n",
    "    Ø = __name__ == '__main__'\n",
    "    if Ø:\n",
    "        from graphviz import Source as 🕸\n",
    "        import black as ⬛️, isort, mistune as markdown, runpy, IPython as python, nbformat, jsonschema as schema, nbconvert, notebook, __main__, nbconvert\n",
    "        formats: set = {x.partition('_')[0] for x in nbconvert.get_export_names()}"
   ]
  },
  {
   "cell_type": "code",
   "execution_count": 89,
   "metadata": {},
   "outputs": [
    {
     "data": {
      "text/markdown": [
       "    @click.group()\n",
       "    def application()->None:\n",
       "A successful `notebook` program could find uses outside of its\n",
       "interactive state as programs, documentation, or tests.\n",
       "`pidgy` programming includes a `click` command-line \n",
       "`application` to weave `notebook`s to other forms and tangle `notebook`s as source code."
      ],
      "text/plain": [
       "<IPython.core.display.Markdown object>"
      ]
     },
     "metadata": {
      "text/markdown": {
       "end_time": "2020-02-11T18:26:34.061928",
       "modules": [],
       "names": [],
       "start_time": "2020-02-11T18:26:34.050587"
      }
     },
     "output_type": "display_data"
    }
   ],
   "source": [
    "    @click.group()\n",
    "    def application()->None:\n",
    "A successful `notebook` program could find uses outside of its\n",
    "interactive state as programs, documentation, or tests.\n",
    "`pidgy` programming includes a `click` command-line \n",
    "`application` to weave `notebook`s to other forms and tangle `notebook`s as source code."
   ]
  },
  {
   "cell_type": "code",
   "execution_count": 90,
   "metadata": {},
   "outputs": [],
   "source": [
    "\n",
    "\n",
    "    _CODE_FORMATS = \"python script\".split()\n",
    "\n",
    "    class PythonExporter(nbconvert.exporters.PythonExporter):\n",
    "        def from_notebook_node(self, nb, resources, **kw):\n",
    "            str, resources = super().from_notebook_node(nb, resources, **kw)\n",
    "            return black.format_str(isort.SortImports(\n",
    "                file_contents=str\n",
    "            ).output, mode=black.FileMode()), resources"
   ]
  },
  {
   "cell_type": "code",
   "execution_count": 92,
   "metadata": {},
   "outputs": [
    {
     "data": {
      "text/markdown": [
       "    def document(to, files):\n",
       "The `document` command is an opinionated wrapper that \n",
       "converts notebooks to formatted python programs\n",
       "and readable documents.\n",
       "\n",
       "        exporter = nbconvert.get_exporter(to)\n",
       "It uses the `nbconvert` library that transforms the `nbformat` into other projections.\n",
       "\n",
       "        if to in _CODE_FORMATS: \n",
       "`pidgy` introduces a new opinion to the notebook where\n",
       "the input defines the output.\n",
       "In literate programming terms, \n",
       "we tangle the input and weave the output.\n",
       "The decoupling of the input & output means that proper\n",
       "python code maybe extracted from the `input`.  `pidgy`\n",
       "includes `⬛️ and isort` community conventions \n",
       "for formatting python to abide python styling guides.\n",
       "\n",
       "            exporter = PythonExporter()\n",
       "        else:\n",
       "With `pidgy`, we may consider a cell output to be the intended\n",
       "`display` set forth by an author.\n",
       "A string opinion `pidgy` documents is that the `input`\n",
       "is excluded from resulting document, where as typical\n",
       "approaches view all code as essential or not essential.\n",
       "            \n",
       "            exporter = exporter(exclude_input=True)\n",
       "        \n",
       "        for file in files: ...\n",
       "    \n",
       "    "
      ],
      "text/plain": [
       "<IPython.core.display.Markdown object>"
      ]
     },
     "metadata": {
      "text/markdown": {
       "end_time": "2020-02-11T18:27:34.770422",
       "modules": [],
       "names": [],
       "start_time": "2020-02-11T18:27:34.750595"
      }
     },
     "output_type": "display_data"
    }
   ],
   "source": [
    "    def document(to, files):\n",
    "The `document` command is an opinionated wrapper that \n",
    "converts notebooks to formatted python programs\n",
    "and readable documents.\n",
    "\n",
    "        exporter = nbconvert.get_exporter(to)\n",
    "It uses the `nbconvert` library that transforms the `nbformat` into other projections.\n",
    "\n",
    "        if to in _CODE_FORMATS: \n",
    "`pidgy` introduces a new opinion to the notebook where\n",
    "the input defines the output.\n",
    "In literate programming terms, \n",
    "we tangle the input and weave the output.\n",
    "The decoupling of the input & output means that proper\n",
    "python code maybe extracted from the `input`.  `pidgy`\n",
    "includes `⬛️ and isort` community conventions \n",
    "for formatting python to abide python styling guides.\n",
    "\n",
    "            exporter = PythonExporter()\n",
    "        else:\n",
    "With `pidgy`, we may consider a cell output to be the intended\n",
    "`display` set forth by an author.\n",
    "A string opinion `pidgy` documents is that the `input`\n",
    "is excluded from resulting document, where as typical\n",
    "approaches view all code as essential or not essential.\n",
    "            \n",
    "            exporter = exporter(exclude_input=True)\n",
    "        \n",
    "        for file in files: ...\n",
    "    \n",
    "    "
   ]
  },
  {
   "cell_type": "code",
   "execution_count": 94,
   "metadata": {},
   "outputs": [],
   "source": [
    "    \n",
    "Add the `click` arguments outside of the cell so preserve vertical space.\n",
    "    \n",
    "    application.command()(\n",
    "        click.option('-t', '--to', default='markdown')(\n",
    "            click.argument('files', nargs=-1)(document)));"
   ]
  },
  {
   "cell_type": "code",
   "execution_count": 95,
   "metadata": {},
   "outputs": [
    {
     "data": {
      "text/markdown": [
       "    def run(files):\n",
       "The `document` function demonstrates that `pidgy` may \n",
       "export `python` code. \n",
       "As a result the could be run as main scripts using the `runpy` modules.\n",
       "        \n",
       "        import pidgy, importnb, runpy\n",
       "        with pidgy.reuse.pidgyLoader(), importnb.Notebook():\n",
       "            for file in files: runpy.run_path(file)\n",
       "            for module in modules: runpy.run_module(module)"
      ],
      "text/plain": [
       "<IPython.core.display.Markdown object>"
      ]
     },
     "metadata": {
      "text/markdown": {
       "end_time": "2020-02-11T18:27:56.671071",
       "modules": [],
       "names": [],
       "start_time": "2020-02-11T18:27:56.661112"
      }
     },
     "output_type": "display_data"
    }
   ],
   "source": [
    "    def run(files):\n",
    "The `document` function demonstrates that `pidgy` may \n",
    "export `python` code. \n",
    "As a result the could be run as main scripts using the `runpy` modules.\n",
    "        \n",
    "        import pidgy, importnb, runpy\n",
    "        with pidgy.reuse.pidgyLoader(), importnb.Notebook():\n",
    "            for file in files: runpy.run_path(file)\n",
    "            for module in modules: runpy.run_module(module)"
   ]
  },
  {
   "cell_type": "code",
   "execution_count": 96,
   "metadata": {},
   "outputs": [],
   "source": [
    "    \n",
    "    application.command()(click.argument('files', nargs=-1)(run));"
   ]
  },
  {
   "cell_type": "code",
   "execution_count": 98,
   "metadata": {},
   "outputs": [
    {
     "data": {
      "text/markdown": [
       "    import jupyter_client"
      ],
      "text/plain": [
       "<IPython.core.display.Markdown object>"
      ]
     },
     "metadata": {
      "text/markdown": {
       "end_time": "2020-02-11T22:23:11.919402",
       "modules": [],
       "names": [
        "jupyter_client"
       ],
       "start_time": "2020-02-11T22:23:11.917895"
      }
     },
     "output_type": "display_data"
    }
   ],
   "source": [
    "    import jupyter_client"
   ]
  },
  {
   "cell_type": "code",
   "execution_count": 100,
   "metadata": {},
   "outputs": [
    {
     "data": {
      "text/markdown": [
       "    manager = jupyter_client.kernelspec.KernelSpecManager()"
      ],
      "text/plain": [
       "<IPython.core.display.Markdown object>"
      ]
     },
     "metadata": {
      "text/markdown": {
       "end_time": "2020-02-11T22:23:32.435029",
       "modules": [],
       "names": [],
       "start_time": "2020-02-11T22:23:32.432857"
      }
     },
     "output_type": "display_data"
    }
   ],
   "source": [
    "    manager = jupyter_client.kernelspec.KernelSpecManager()"
   ]
  },
  {
   "cell_type": "code",
   "execution_count": 107,
   "metadata": {},
   "outputs": [
    {
     "data": {
      "text/markdown": [
       "    import pathlib"
      ],
      "text/plain": [
       "<IPython.core.display.Markdown object>"
      ]
     },
     "metadata": {
      "text/markdown": {
       "end_time": "2020-02-11T22:25:15.853814",
       "modules": [],
       "names": [
        "pathlib"
       ],
       "start_time": "2020-02-11T22:25:15.852139"
      }
     },
     "output_type": "display_data"
    }
   ],
   "source": [
    "    import pathlib"
   ]
  },
  {
   "cell_type": "code",
   "execution_count": 112,
   "metadata": {},
   "outputs": [
    {
     "data": {
      "text/markdown": [
       "    @application.group()\n",
       "    def kernel():\n",
       "`pidgy` is mainly designed to improve the interactive experience\n",
       "of creating literature in computational notebooks. \n",
       "\n",
       "    @kernel.command()\n",
       "    def install(user=False, replace=None, prefix=None):\n",
       "        manager = jupyter_client.kernelspec.KernelSpecManager()\n",
       "        path = str((pathlib.Path(__file__).parent / 'kernel' / 'spec').absolute())\n",
       "        try:\n",
       "            dest = manager.install_kernel_spec(path, 'pidgy')\n",
       "        except:\n",
       "            dest = manager.install_kernel_spec(path, 'pidgy', True)\n",
       "        click.echo(F\"The pidgy kernel was install in {dest}\")\n",
       "        \n",
       "    @kernel.command()\n",
       "    def uninstall(user=True, replace=None, prefix=None):\n",
       "        with pidgy.reuse.pidgyLoader():\n",
       "            from .kernel import shell\n",
       "        shell.uninstall()\n",
       "        click.echo(F\"The pidgy kernel was removed.\")\n",
       "        "
      ],
      "text/plain": [
       "<IPython.core.display.Markdown object>"
      ]
     },
     "metadata": {
      "text/markdown": {
       "end_time": "2020-02-11T22:27:43.569508",
       "modules": [],
       "names": [],
       "start_time": "2020-02-11T22:27:43.562710"
      }
     },
     "output_type": "display_data"
    }
   ],
   "source": [
    "    @application.group()\n",
    "    def kernel():\n",
    "`pidgy` is mainly designed to improve the interactive experience\n",
    "of creating literature in computational notebooks. \n",
    "\n",
    "    @kernel.command()\n",
    "    def install(user=False, replace=None, prefix=None):\n",
    "        manager = jupyter_client.kernelspec.KernelSpecManager()\n",
    "        path = str((pathlib.Path(__file__).parent / 'kernel' / 'spec').absolute())\n",
    "        try:\n",
    "            dest = manager.install_kernel_spec(path, 'pidgy')\n",
    "        except:\n",
    "            dest = manager.install_kernel_spec(path, 'pidgy', True)\n",
    "        click.echo(F\"The pidgy kernel was install in {dest}\")\n",
    "        \n",
    "    @kernel.command()\n",
    "    def uninstall(user=True, replace=None, prefix=None):\n",
    "        with pidgy.reuse.pidgyLoader():\n",
    "            from .kernel import shell\n",
    "        shell.uninstall()\n",
    "        click.echo(F\"The pidgy kernel was removed.\")\n",
    "        "
   ]
  },
  {
   "cell_type": "code",
   "execution_count": null,
   "metadata": {},
   "outputs": [],
   "source": []
  }
 ],
 "metadata": {
  "kernelspec": {
   "display_name": "pidgy 3",
   "language": "python",
   "name": "pidgy"
  },
  "language_info": {
   "codemirror_mode": {
    "name": "ipython",
    "version": 3
   },
   "file_extension": ".py",
   "mimetype": "text/x-python",
   "name": "python",
   "nbconvert_exporter": "python",
   "pygments_lexer": "ipython3",
   "version": "3.7.3"
  }
 },
 "nbformat": 4,
 "nbformat_minor": 4
}
