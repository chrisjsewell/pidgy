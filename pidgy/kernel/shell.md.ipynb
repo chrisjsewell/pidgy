{
 "cells": [
  {
   "cell_type": "code",
   "execution_count": null,
   "metadata": {},
   "outputs": [],
   "source": [
    "    if __name__ == '__main__':\n",
    "        %reload_ext pidgy"
   ]
  },
  {
   "cell_type": "markdown",
   "metadata": {},
   "source": [
    "The shell is the application either jupyterlab or jupyter notebook, the kernel determines the programming language.  Below we design a just jupyter kernel that can be installed using \n",
    "\n",
    "    !pidgy kernel install"
   ]
  },
  {
   "cell_type": "markdown",
   "metadata": {},
   "source": [
    "    manager = jupyter_client.kernelspec.KernelSpecManager()"
   ]
  },
  {
   "cell_type": "markdown",
   "metadata": {},
   "source": [
    "    jupyter_client.kernelspec.install_kernel_spec('spec', 'pidgy')"
   ]
  },
  {
   "cell_type": "code",
   "execution_count": 2,
   "metadata": {},
   "outputs": [],
   "source": [
    "    import jupyter_client\n",
    "\n",
    "    import IPython, ipykernel, pidgy\n",
    "\n",
    "    import traitlets"
   ]
  },
  {
   "cell_type": "code",
   "execution_count": 3,
   "metadata": {},
   "outputs": [],
   "source": [
    "    class pidgyInteractiveShell(ipykernel.zmqshell.ZMQInteractiveShell):\n",
    "        \"\"\"Configure a native `pidgy` `IPython.InteractiveShell`\"\"\"\n",
    "        enable_html_pager = traitlets.Bool(True)\n",
    "        def __init__(self,*args, **kwargs):\n",
    "            super().__init__(*args, **kwargs)\n",
    "            pidgy.extension.load_ipython_extension(self)\n",
    "    class pidgyKernel(ipykernel.ipkernel.IPythonKernel):\n",
    "        shell_class = traitlets.Type(pidgyInteractiveShell)\n",
    "    class pidgyKernelApp(ipykernel.kernelapp.IPKernelApp): \n",
    "        \"\"\"Configure a native `pidgy` `__import__('ipykernel').kernelapp.IPKernelApp\"\"\"\n",
    "        kernel_class = traitlets.Type(pidgyKernel)\n",
    "        kernel = traitlets.Any(pidgyKernel)"
   ]
  },
  {
   "cell_type": "code",
   "execution_count": 4,
   "metadata": {},
   "outputs": [],
   "source": [
    "    import ipykernel.kernelspec, pathlib"
   ]
  },
  {
   "cell_type": "code",
   "execution_count": 1,
   "metadata": {},
   "outputs": [],
   "source": [
    "    def install(kernel_name='pidgy',\n",
    "        user=True,\n",
    "        replace=None,\n",
    "        prefix=None\n",
    "    ):\n",
    "        return ipykernel.kernelspec.KernelSpecManager().install_kernel_spec(\n",
    "            str(pathlib.Path(globals().get('__file__', pathlib.Path('spec'))).parent/'spec'), kernel_name=kernel_name,\n",
    "            user=user, replace=replace, prefix=prefix)"
   ]
  },
  {
   "cell_type": "code",
   "execution_count": 32,
   "metadata": {},
   "outputs": [
    {
     "data": {
      "text/markdown": [
       "    def uninstall(kernel_name='pidgy',):\n",
       "        ipykernel.kernelspec.KernelSpecManager().remove_kernel_spec(kernel_name)"
      ],
      "text/plain": [
       "<IPython.core.display.Markdown object>"
      ]
     },
     "metadata": {
      "text/markdown": {
       "end_time": "2020-02-01T22:19:44.670450",
       "modules": [],
       "names": [],
       "start_time": "2020-02-01T22:19:44.668432"
      }
     },
     "output_type": "display_data"
    }
   ],
   "source": [
    "    def uninstall(kernel_name='pidgy',):\n",
    "        ipykernel.kernelspec.KernelSpecManager().remove_kernel_spec(kernel_name)"
   ]
  }
 ],
 "metadata": {
  "kernelspec": {
   "display_name": "Python 3",
   "language": "python",
   "name": "python3"
  },
  "language_info": {
   "codemirror_mode": {
    "name": "ipython",
    "version": 3
   },
   "file_extension": ".py",
   "mimetype": "text/x-python",
   "name": "python",
   "nbconvert_exporter": "python",
   "pygments_lexer": "ipython3",
   "version": "3.7.3"
  }
 },
 "nbformat": 4,
 "nbformat_minor": 4
}
