{
 "cells": [
  {
   "cell_type": "markdown",
   "metadata": {},
   "source": [
    "The shell is the application either jupyterlab or jupyter notebook, the kernel determines the programming language.  Below we design a just jupyter kernel that can be installed using \n",
    "\n",
    "    !pidgy kernel install"
   ]
  },
  {
   "cell_type": "code",
   "execution_count": 2,
   "metadata": {},
   "outputs": [],
   "source": [
    "    \n",
    "    import jupyter_client, IPython, ipykernel, pidgy, traitlets, pidgy, traitlets, ipykernel.kernelspec, pathlib"
   ]
  },
  {
   "cell_type": "code",
   "execution_count": 7,
   "metadata": {},
   "outputs": [],
   "source": [
    "\n",
    "    class pidgyInteractiveShell(ipykernel.zmqshell.ZMQInteractiveShell):\n",
    "        \"\"\"Configure a native `pidgy` `IPython.InteractiveShell`\"\"\"        \n",
    "        enable_html_pager = traitlets.Bool(True)\n",
    "        def __init__(self,*args, **kwargs):\n",
    "            super().__init__(*args, **kwargs)\n",
    "            pidgy.extension.load_ipython_extension(self)\n",
    "            \n",
    "    class pidgyKernel(ipykernel.ipkernel.IPythonKernel):\n",
    "        shell_class = traitlets.Type(pidgyInteractiveShell)"
   ]
  },
  {
   "cell_type": "code",
   "execution_count": 5,
   "metadata": {},
   "outputs": [
    {
     "data": {
      "text/markdown": [
       "    def install(kernel_name='pidgy',\n",
       "        user=True,\n",
       "        replace=None,\n",
       "        prefix=None\n",
       "    ):\n",
       "        return ipykernel.kernelspec.KernelSpecManager().install_kernel_spec(\n",
       "            str(pathlib.Path(globals().get('__file__', pathlib.Path('spec'))).parent/'spec'), kernel_name=kernel_name,\n",
       "            user=user, replace=replace, prefix=prefix)"
      ],
      "text/plain": [
       "<IPython.core.display.Markdown object>"
      ]
     },
     "metadata": {
      "text/markdown": {
       "end_time": "2020-02-03T20:47:35.947544",
       "modules": [],
       "names": [
        "install"
       ],
       "start_time": "2020-02-03T20:47:35.944637"
      }
     },
     "output_type": "display_data"
    }
   ],
   "source": [
    "    def install(kernel_name='pidgy',\n",
    "        user=True,\n",
    "        replace=None,\n",
    "        prefix=None\n",
    "    ):\n",
    "        return ipykernel.kernelspec.KernelSpecManager().install_kernel_spec(\n",
    "            str(pathlib.Path(globals().get('__file__', pathlib.Path('spec'))).parent/'spec'), kernel_name=kernel_name,\n",
    "            user=user, replace=replace, prefix=prefix)"
   ]
  },
  {
   "cell_type": "code",
   "execution_count": 6,
   "metadata": {},
   "outputs": [
    {
     "data": {
      "text/markdown": [
       "    def uninstall(kernel_name='pidgy',):\n",
       "        ipykernel.kernelspec.KernelSpecManager().remove_kernel_spec(kernel_name)"
      ],
      "text/plain": [
       "<IPython.core.display.Markdown object>"
      ]
     },
     "metadata": {
      "text/markdown": {
       "end_time": "2020-02-03T19:47:42.557256",
       "modules": [],
       "names": [
        "uninstall"
       ],
       "start_time": "2020-02-03T19:47:42.555250"
      }
     },
     "output_type": "display_data"
    }
   ],
   "source": [
    "    def uninstall(kernel_name='pidgy',):\n",
    "        ipykernel.kernelspec.KernelSpecManager().remove_kernel_spec(kernel_name)"
   ]
  }
 ],
 "metadata": {
  "kernelspec": {
   "display_name": "pidgy 3",
   "language": "python",
   "name": "pidgy"
  },
  "language_info": {
   "codemirror_mode": {
    "name": "ipython",
    "version": 3
   },
   "file_extension": ".py",
   "mimetype": "text/x-python",
   "name": "python",
   "nbconvert_exporter": "python",
   "pygments_lexer": "ipython3",
   "version": "3.7.3"
  }
 },
 "nbformat": 4,
 "nbformat_minor": 4
}
