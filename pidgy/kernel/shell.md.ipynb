{
 "cells": [
  {
   "cell_type": "code",
   "execution_count": 2,
   "metadata": {},
   "outputs": [
    {
     "data": {
      "text/markdown": [
       "    import jupyter_client, IPython, ipykernel.ipkernel, ipykernel.kernelapp, pidgy, traitlets, pidgy, traitlets, ipykernel.kernelspec, ipykernel.zmqshell, pathlib, traitlets"
      ],
      "text/plain": [
       "<IPython.core.display.Markdown object>"
      ]
     },
     "metadata": {
      "text/markdown": {
       "cellId": "5e010944-bce3-4c2f-9085-064edd36b282",
       "deletedCells": [],
       "end_at": "2020-02-17T19:12:11.331225",
       "modules": [],
       "names": [],
       "sessionId": "de37aef7adee14e09f51e1123ecbcc89bcc32898c17da480bbc4cd6c62cb987c",
       "start_at": "2020-02-17T19:12:11.326000+00:00"
      }
     },
     "output_type": "display_data"
    }
   ],
   "source": [
    "    import jupyter_client, IPython, ipykernel.ipkernel, ipykernel.kernelapp, pidgy, traitlets, pidgy, traitlets, ipykernel.kernelspec, ipykernel.zmqshell, pathlib, traitlets"
   ]
  },
  {
   "cell_type": "markdown",
   "metadata": {},
   "source": [
    "The shell is the application either jupyterlab or jupyter notebook, the kernel determines the programming language.  Below we design a just jupyter kernel that can be installed using \n",
    "\n",
    "    !pidgy kernel install\n",
    "   "
   ]
  },
  {
   "cell_type": "markdown",
   "metadata": {},
   "source": [
    "    type(get_ipython().kernel).__mro__"
   ]
  },
  {
   "cell_type": "code",
   "execution_count": 2,
   "metadata": {},
   "outputs": [],
   "source": [
    "    \n",
    "    _sep = __import__('itertools').cycle(\"|/-|\\ \".strip())"
   ]
  },
  {
   "cell_type": "code",
   "execution_count": 3,
   "metadata": {},
   "outputs": [
    {
     "data": {
      "text/markdown": [
       "    class pidgyInteractiveShell(ipykernel.zmqshell.ZMQInteractiveShell):\n",
       "Configure a native `pidgy` `IPython.InteractiveShell`\n",
       "\n",
       "        loaders = traitlets.List(allow_none=True)\n",
       "        weave = traitlets.Instance('pidgy.outputs.Metadata', allow_none=True)\n",
       "        tangle = ipykernel.zmqshell.ZMQInteractiveShell.input_transformer_manager\n",
       "        testing = traitlets.Any(allow_none=True)\n",
       "        enable_html_pager = traitlets.Bool(True)\n",
       "`pidgyInteractiveShell.enable_html_pager` is necessary to see rich displays in the inspector.\n",
       "        \n",
       "        def __init__(self,*args, **kwargs):\n",
       "            super().__init__(*args, **kwargs)\n",
       "            from .. import load_ipython_extension\n",
       "            load_ipython_extension(self)\n",
       "            "
      ],
      "text/plain": [
       "<IPython.core.display.Markdown object>"
      ]
     },
     "metadata": {
      "text/markdown": {
       "cellId": "592fc6a8-9f3c-4d71-91dd-10ec852abdcf",
       "deletedCells": [],
       "end_time": "2020-02-17T15:02:39.604835",
       "modules": [],
       "names": [
        "pidgyInteractiveShell"
       ],
       "sessionId": "de42449dc9462e4d02c634e7c463d264d1633f9a27cdbf24b651427d757214b5",
       "start_time": "2020-02-17T15:02:39.601265"
      }
     },
     "output_type": "display_data"
    }
   ],
   "source": [
    "    class pidgyInteractiveShell(ipykernel.zmqshell.ZMQInteractiveShell):\n",
    "Configure a native `pidgy` `IPython.InteractiveShell`\n",
    "\n",
    "        loaders = traitlets.List(allow_none=True)\n",
    "        weave = traitlets.Any(allow_none=True)\n",
    "        tangle = ipykernel.zmqshell.ZMQInteractiveShell.input_transformer_manager\n",
    "        testing = traitlets.Any(allow_none=True)\n",
    "        enable_html_pager = traitlets.Bool(True)\n",
    "`pidgyInteractiveShell.enable_html_pager` is necessary to see rich displays in the inspector.\n",
    "        \n",
    "        def __init__(self,*args, **kwargs):\n",
    "            super().__init__(*args, **kwargs)\n",
    "            from .. import load_ipython_extension\n",
    "            load_ipython_extension(self)\n",
    "            "
   ]
  },
  {
   "cell_type": "code",
   "execution_count": 4,
   "metadata": {},
   "outputs": [
    {
     "data": {
      "text/markdown": [
       "    class pidgyKernel(ipykernel.ipkernel.IPythonKernel):\n",
       "        shell_class = traitlets.Type(pidgyInteractiveShell)\n",
       "        _last_parent = traitlets.Dict()\n",
       "        \n",
       "        def init_metadata(self, parent):\n",
       "            self._last_parent = parent\n",
       "            return super().init_metadata(parent)\n",
       "\n",
       "        def do_inspect(self, code, cursor_pos, detail_level=0):\n",
       "`pidgyKernel.do_inspect` will default to wysiwyg configuration thats displays a preview\n",
       "of the source input rendered as markdown.\n",
       "\n",
       "yyy!!!\n",
       "            \n",
       "            object = {'found': False}\n",
       "            if code[:cursor_pos][-3:] == '!!!':\n",
       "                object = {'found': True, 'data': {'text/markdown': self.shell.weave.format_markdown(code[:cursor_pos-3]+code[cursor_pos:])}}\n",
       "            else:\n",
       "                try: \n",
       "                    object = super().do_inspect(code, cursor_pos, detail_level=0)\n",
       "                except: ...\n",
       "                \n",
       "            if not object['found']:\n",
       "Simulate finding an object and return a preview of the markdown.\n",
       "\n",
       "                object['found'] = True\n",
       "                line, offset = IPython.utils.tokenutil.line_at_cursor(code, cursor_pos)\n",
       "                lead = code[:cursor_pos]\n",
       "                col = cursor_pos - offset\n",
       "                \n",
       "                \n",
       "                code = self._make_time()+F\"\"\"<br/><code>·L{\n",
       "                    len(lead.splitlines()) + int(not(col))\n",
       "                },C{col + 1}</code><br/>\"\"\" + code[:cursor_pos]+'·'+('' if col else '<br/>\\n')+code[cursor_pos:]\n",
       "                                                  \n",
       "                object['data'] = {'text/markdown': code}\n",
       "We include the line number and cursor position to enrich the connection between the inspector and the source code displayed on another part of the screen.\n",
       "\n",
       "            return object\n",
       "\n",
       "        def _make_time(self):\n",
       "            import datetime, emoji\n",
       "\n",
       "            days=\"twelve one two three four five six seven eight nine ten eleven\"\n",
       "\n",
       "            days = days.split()*2\n",
       "\n",
       "            t = datetime.datetime.now()\n",
       "\n",
       "            hour, minute = t.hour%12, t.minute\n",
       "            _minute = str(t.minute)\n",
       "            if len(_minute) == 1: _minute = '0'+_minute\n",
       "            return ''.join(\n",
       "                emoji.EMOJI_UNICODE[F\":{days[x]}_o’clock:\"] + (\n",
       "                    '' if x != 5 and (x+1)%3 else ' '\n",
       "                ) for x in range(hour%12)\n",
       "            ) + F\"<code>{_minute}</code>\\n\""
      ],
      "text/plain": [
       "<IPython.core.display.Markdown object>"
      ]
     },
     "metadata": {
      "text/markdown": {
       "cellId": "6727cec4-fad7-4436-9e59-cf5d2179dd7c",
       "deletedCells": [],
       "end_time": "2020-02-17T15:02:40.225634",
       "modules": [],
       "names": [
        "pidgyKernel"
       ],
       "sessionId": "de42449dc9462e4d02c634e7c463d264d1633f9a27cdbf24b651427d757214b5",
       "start_time": "2020-02-17T15:02:40.217294"
      }
     },
     "output_type": "display_data"
    }
   ],
   "source": [
    "    class pidgyKernel(ipykernel.ipkernel.IPythonKernel):\n",
    "        shell_class = traitlets.Type(pidgyInteractiveShell)\n",
    "        _last_parent = traitlets.Dict()\n",
    "        \n",
    "        def init_metadata(self, parent):\n",
    "            self._last_parent = parent\n",
    "            return super().init_metadata(parent)\n",
    "\n",
    "        def do_inspect(self, code, cursor_pos, detail_level=0):\n",
    "`pidgyKernel.do_inspect` will default to wysiwyg configuration thats displays a preview\n",
    "of the source input rendered as markdown.\n",
    "\n",
    "yyy!!!\n",
    "            \n",
    "            object = {'found': False}\n",
    "            if code[:cursor_pos][-3:] == '!!!':\n",
    "                object = {'found': True, 'data': {'text/markdown': self.shell.weave.format_markdown(code[:cursor_pos-3]+code[cursor_pos:])}}\n",
    "            else:\n",
    "                try: \n",
    "                    object = super().do_inspect(code, cursor_pos, detail_level=0)\n",
    "                except: ...\n",
    "                \n",
    "            if not object['found']:\n",
    "Simulate finding an object and return a preview of the markdown.\n",
    "\n",
    "                object['found'] = True\n",
    "                line, offset = IPython.utils.tokenutil.line_at_cursor(code, cursor_pos)\n",
    "                lead = code[:cursor_pos]\n",
    "                col = cursor_pos - offset\n",
    "                \n",
    "                \n",
    "                code = self._make_time()+F\"\"\"<br/><code>·L{\n",
    "                    len(lead.splitlines()) + int(not(col))\n",
    "                },C{col + 1}</code><br/>\\n\\n\"\"\" + code[:cursor_pos]+'·'+('' if col else '<br/>\\n')+code[cursor_pos:]\n",
    "                                                  \n",
    "                object['data'] = {'text/markdown': code}\n",
    "We include the line number and cursor position to enrich the connection between the inspector and the source code displayed on another part of the screen.\n",
    "\n",
    "            return object\n",
    "\n",
    "        def _make_time(self, t=None):\n",
    "            import datetime, emoji\n",
    "\n",
    "            days=\"twelve one two three four five six seven eight nine ten eleven\"\n",
    "\n",
    "            days = days.split()*2\n",
    "\n",
    "            t = datetime.datetime.now() if t is None else t\n",
    "\n",
    "            hour, minute = t.hour%12, t.minute\n",
    "            _minute = str(t.minute)\n",
    "            if len(_minute) == 1: _minute = '0'+_minute\n",
    "            return \"<code>\"+ 'AP'[t.hour//12]+' '+''.join(\n",
    "                emoji.EMOJI_UNICODE[F\":{days[x]}_o’clock:\"] + (\n",
    "                    '' if x != 5 and (x+1)%3 else ' '\n",
    "                ) for x in range(hour%12)\n",
    "            ) + _minute + \"</code>\\n\""
   ]
  },
  {
   "cell_type": "code",
   "execution_count": null,
   "metadata": {},
   "outputs": [],
   "source": []
  },
  {
   "cell_type": "code",
   "execution_count": null,
   "metadata": {},
   "outputs": [],
   "source": []
  }
 ],
 "metadata": {
  "kernelspec": {
   "display_name": "pidgy 3",
   "language": "python",
   "name": "pidgy"
  },
  "language_info": {
   "codemirror_mode": {
    "name": "ipython",
    "version": 3
   },
   "file_extension": ".py",
   "mimetype": "text/x-python",
   "name": "python",
   "nbconvert_exporter": "python",
   "pygments_lexer": "ipython3",
   "version": "3.7.3"
  }
 },
 "nbformat": 4,
 "nbformat_minor": 4
}
