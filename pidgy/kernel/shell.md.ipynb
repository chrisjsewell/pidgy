{
 "cells": [
  {
   "cell_type": "code",
   "execution_count": 1,
   "metadata": {},
   "outputs": [],
   "source": [
    "    \n",
    "    import jupyter_client, IPython, ipykernel.ipkernel, ipykernel.kernelapp, pidgy, traitlets, pidgy, traitlets, ipykernel.kernelspec, ipykernel.zmqshell, pathlib, traitlets"
   ]
  },
  {
   "cell_type": "code",
   "execution_count": 2,
   "metadata": {},
   "outputs": [
    {
     "data": {
      "text/markdown": [
       "# The `pidgy` shell-kernel model"
      ],
      "text/plain": [
       "<IPython.core.display.Markdown object>"
      ]
     },
     "metadata": {
      "text/markdown": {
       "end_time": "2020-02-14T15:11:38.388749",
       "modules": [
        "readline"
       ],
       "names": [],
       "start_time": "2020-02-14T15:11:38.376592"
      }
     },
     "output_type": "display_data"
    }
   ],
   "source": [
    "# The `pidgy` shell-kernel model"
   ]
  },
  {
   "cell_type": "markdown",
   "metadata": {},
   "source": [
    "The shell is the application either jupyterlab or jupyter notebook, the kernel determines the programming language.  Below we design a just jupyter kernel that can be installed using \n",
    "\n",
    "    !pidgy kernel install"
   ]
  },
  {
   "cell_type": "code",
   "execution_count": 3,
   "metadata": {},
   "outputs": [],
   "source": [
    "\n",
    "    class pidgyInteractiveShell(ipykernel.zmqshell.ZMQInteractiveShell):\n",
    "Configure a native `pidgy` `IPython.InteractiveShell`\n",
    "\n",
    "        weave = traitlets.Any()\n",
    "        tangle = traitlets.Any()\n",
    "        test = traitlets.Any()\n",
    "        enable_html_pager = traitlets.Bool(True)\n",
    "`pidgyInteractiveShell.enable_html_pager` is necessary to see rich displays in the inspector.\n",
    "        \n",
    "        def __init__(self,*args, **kwargs):\n",
    "            super().__init__(*args, **kwargs)\n",
    "            from .. import load_ipython_extension\n",
    "            load_ipython_extension(self)\n",
    "            \n",
    "    class pidgyKernel(ipykernel.ipkernel.IPythonKernel):\n",
    "        shell_class = traitlets.Type(pidgyInteractiveShell)\n",
    "        def do_inspect(self, code, cursor_pos, detail_level=0):\n",
    "`pidgyKernel.do_inspect` will default to wysiwyg configuration thats displays a preview\n",
    "of the source input rendered as markdown.\n",
    "            \n",
    "            object = {'found': False}\n",
    "            try: \n",
    "                object = super().do_inspect(code, cursor_pos, detail_level=0)\n",
    "            except: ...\n",
    "                \n",
    "            if not object['found']:\n",
    "Simulate finding an object and return a preview of the markdown.\n",
    "\n",
    "                object['found'] = True\n",
    "                line, offset = IPython.utils.tokenutil.line_at_cursor(code, cursor_pos)\n",
    "                lead = code[:cursor_pos]\n",
    "                col = cursor_pos - offset\n",
    "                code = code[:cursor_pos]+F\"\"\"<sub>{len(lead.splitlines()) + int(not(col))}</sub><sup>{col + 1}</sup>\"\"\"+code[cursor_pos:]\n",
    "                    \n",
    "                object['data'] = {'text/markdown': code}\n",
    "We include the line number and cursor position to enrich the connection between the inspector and the source code displayed on another part of the screen.\n",
    "\n",
    "            return object"
   ]
  }
 ],
 "metadata": {
  "kernelspec": {
   "display_name": "pidgy 3",
   "language": "python",
   "name": "pidgy"
  },
  "language_info": {
   "codemirror_mode": {
    "name": "ipython",
    "version": 3
   },
   "file_extension": ".py",
   "mimetype": "text/x-python",
   "name": "python",
   "nbconvert_exporter": "python",
   "pygments_lexer": "ipython3",
   "version": "3.7.3"
  }
 },
 "nbformat": 4,
 "nbformat_minor": 4
}
