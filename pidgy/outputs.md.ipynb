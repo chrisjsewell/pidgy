{
 "cells": [
  {
   "cell_type": "code",
   "execution_count": 1,
   "metadata": {},
   "outputs": [
    {
     "data": {
      "text/markdown": [
       "# Weaving cells in pidgin programs\n",
       "\n",
       "This is your wysiwyg"
      ],
      "text/plain": [
       "<IPython.core.display.Markdown object>"
      ]
     },
     "metadata": {
      "text/markdown": {
       "cellId": "0c26153d-aeaa-4fc6-bc33-402d76397e00",
       "deletedCells": [],
       "end_at": "2020-02-17T19:13:52.427320",
       "modules": [],
       "names": [],
       "sessionId": "d5ea6b0d312f2fc41e8931a2c7b967eb520a109f9d51edf1322a3296b7e3e6b5",
       "start_at": "2020-02-17T19:13:52.423000+00:00"
      }
     },
     "output_type": "display_data"
    }
   ],
   "source": [
    "# Weaving cells in pidgin programs\n",
    "\n",
    "This is your wysiwyg"
   ]
  },
  {
   "cell_type": "code",
   "execution_count": 2,
   "metadata": {},
   "outputs": [
    {
     "data": {
      "text/markdown": [
       "pidgin programming is an incremental approach to documents."
      ],
      "text/plain": [
       "<IPython.core.display.Markdown object>"
      ]
     },
     "metadata": {
      "text/markdown": {
       "cellId": "400176e4-7e04-4fdc-9104-031debb4adde",
       "deletedCells": [],
       "end_at": "2020-02-17T19:13:54.576810",
       "modules": [],
       "names": [],
       "sessionId": "d5ea6b0d312f2fc41e8931a2c7b967eb520a109f9d51edf1322a3296b7e3e6b5",
       "start_at": "2020-02-17T19:13:54.572000+00:00"
      }
     },
     "output_type": "display_data"
    }
   ],
   "source": [
    "pidgin programming is an incremental approach to documents."
   ]
  },
  {
   "cell_type": "code",
   "execution_count": 3,
   "metadata": {},
   "outputs": [
    {
     "data": {
      "text/markdown": [
       "    import datetime, dataclasses, sys, IPython as python, IPython, nbconvert as export, collections, IPython as python, mistune as markdown, hashlib, functools, hashlib, jinja2.meta\n",
       "    exporter, shell = export.exporters.TemplateExporter(), python.get_ipython()\n",
       "    modules = lambda:[x for x in sys.modules if '.' not in x and not str.startswith(x,'_')]"
      ],
      "text/plain": [
       "<IPython.core.display.Markdown object>"
      ]
     },
     "metadata": {
      "text/markdown": {
       "cellId": "1c9aea91-bd82-407b-94d6-787bf6c9179f",
       "deletedCells": [],
       "end_at": "2020-02-17T19:13:55.024010",
       "modules": [],
       "names": [
        "datetime",
        "dataclasses",
        "sys",
        "python",
        "export",
        "collections",
        "markdown",
        "hashlib",
        "functools",
        "jinja2",
        "exporter",
        "shell",
        "modules"
       ],
       "sessionId": "d5ea6b0d312f2fc41e8931a2c7b967eb520a109f9d51edf1322a3296b7e3e6b5",
       "start_at": "2020-02-17T19:13:55.012000+00:00"
      }
     },
     "output_type": "display_data"
    }
   ],
   "source": [
    "    import datetime, dataclasses, sys, IPython as python, IPython, nbconvert as export, collections, IPython as python, mistune as markdown, hashlib, functools, hashlib, jinja2.meta\n",
    "    exporter, shell = export.exporters.TemplateExporter(), python.get_ipython()\n",
    "    modules = lambda:[x for x in sys.modules if '.' not in x and not str.startswith(x,'_')]"
   ]
  },
  {
   "cell_type": "code",
   "execution_count": 18,
   "metadata": {},
   "outputs": [],
   "source": [
    "\n",
    "    @dataclasses.dataclass\n",
    "    class Events:\n",
    "The `Events` class is a configurable `dataclasses` object\n",
    "that simplifies configuring code execution and metadata collection\n",
    "during interactive computing sessions.\n",
    "\n",
    "        shell: IPython.InteractiveShell = dataclasses.field(default_factory=IPython.get_ipython)\n",
    "        _events = \"pre_execute pre_run_cell post_execute post_run_cell\".split()\n",
    "        def register(self, *, method=''):\n",
    "A DRY method to `\"register/unregister\" kernel and shell extension objects.\n",
    "            \n",
    "            for event in self._events:\n",
    "                callable = getattr(self, event, None)\n",
    "                callable and getattr(self.shell.events, F'{method}register')(event, callable)\n",
    "        \n",
    "        unregister = functools.partialmethod(register, method='un')"
   ]
  },
  {
   "cell_type": "code",
   "execution_count": 19,
   "metadata": {},
   "outputs": [
    {
     "data": {
      "text/markdown": [
       "    def load_ipython_extension(shell):\n",
       "        shell.display_formatter.formatters['text/markdown'].for_type(str, lambda x: x)\n",
       "Default to showing the markdown displays.        \n",
       "        \n",
       "        shell.weave = Metadata(shell=shell)\n",
       "        shell.weave.register()\n",
       "        \n",
       "        "
      ],
      "text/plain": [
       "<IPython.core.display.Markdown object>"
      ]
     },
     "metadata": {
      "text/markdown": {
       "cellId": "76f881ea-2260-4b31-91b1-2f8731b8155a",
       "deletedCells": [],
       "end_at": "2020-02-17T17:32:36.957429",
       "modules": [],
       "names": [],
       "sessionId": "2d7045b52b2803174be029c85b56f424fca50bdec2f29b6fbd1d12634b1ad0fe",
       "start_at": "2020-02-17T17:32:36.950000+00:00"
      }
     },
     "output_type": "display_data"
    }
   ],
   "source": [
    "    def load_ipython_extension(shell):\n",
    "        shell.display_formatter.formatters['text/markdown'].for_type(str, lambda x: x)\n",
    "Default to showing the markdown displays.        \n",
    "        \n",
    "        shell.weave = Metadata(shell=shell)\n",
    "        shell.weave.register()"
   ]
  },
  {
   "cell_type": "code",
   "execution_count": 8,
   "metadata": {},
   "outputs": [
    {
     "data": {
      "text/markdown": [
       "    @dataclasses.dataclass\n",
       "    class Metadata(Events):\n",
       "        def pre_run_cell(self, info):\n",
       "            cellId=self.shell.kernel._last_parent.get('metadata', {}).get('cellId', None)\n",
       "            deletedCells=self.shell.kernel._last_parent.get('metadata', {}).get('deletedCells', [])\n",
       "            self.shell.user_ns['CELL_MAPPING'] = self.shell.user_ns.get('CELL_MAPPING', self.mapping)\n",
       "            self.mapping[cellId] = {\n",
       "                'execution_count': self.shell.execution_count,\n",
       "                'started_at': self.shell.kernel._last_parent['header']['date']\n",
       "            }\n",
       "            for delete in deletedCells:\n",
       "                if delete in self.mapping:\n",
       "                    del self.mapping[delete]\n",
       "\n",
       "            self.modules = modules()\n",
       "            self.start = datetime.datetime.utcnow().isoformat()\n",
       "            if hasattr(self.shell, 'user_ns'):\n",
       "                self.ns = self.names()\n",
       "            return info\n",
       "        \n",
       "        def names(self):\n",
       "            return [x for x in self.shell.user_ns if x[0].islower()]\n",
       "\n",
       "        def format_markdown(self, text):\n",
       "            lines = text.splitlines() or ['']\n",
       "            if lines[0].strip(): \n",
       "                exporter.environment.filters.update({\n",
       "                    k: v for k, v in getattr(self.shell, 'user_ns', {}).items() if callable(v) and k not in exporter.environment.filters})\n",
       "                try:\n",
       "                    text = exporter.environment.from_string(text, globals=getattr(self.shell, 'user_ns', {})).render()\n",
       "                except BaseException as Exception:\n",
       "                    self.shell.showtraceback((type(Exception), Exception, Exception.__traceback__))\n",
       "            return text\n",
       "                                        \n",
       "        def format_metadata(self):\n",
       "            parent = getattr(self.shell.kernel, '_last_parent', {})\n",
       "            return dict(\n",
       "                    modules=[x for x in modules() if x not in self.modules], \n",
       "                    names=[x for x in self.names() if x not in self.ns],\n",
       "                    start_at=self.shell.kernel._last_parent['header']['date'].isoformat(),\n",
       "                    end_at=datetime.datetime.utcnow().isoformat(),\n",
       "                    sessionId=hashlib.sha256(str(self.shell).encode()).hexdigest(), #some uuid\n",
       "                    cellId=parent.get('metadata', {}).get('cellId', None),\n",
       "                    deletedCells=parent.get('metadata', {}).get('deletedCells', None)\n",
       "                )\n",
       "        \n",
       "        def post_run_cell(self, result):\n",
       "            text = result.info.raw_cell\n",
       "            lines = text.splitlines() or ['']\n",
       "            if lines[0].strip(): \n",
       "                exporter.environment.filters.update({\n",
       "                    k: v for k, v in getattr(self.shell, 'user_ns', {}).items() if callable(v) and k not in exporter.environment.filters})\n",
       "                try:\n",
       "                    template = exporter.environment.from_string(text, globals=getattr(self.shell, 'user_ns', {}))\n",
       "                    text = template.render()\n",
       "                except BaseException as Exception:\n",
       "                    self.shell.showtraceback((type(Exception), Exception, Exception.__traceback__))\n",
       "                metadata = self.format_metadata()\n",
       "                variables = jinja2.meta.find_undeclared_variables(self.environment.parse(result.info.raw_cell))\n",
       "                if variables and self.interactive:\n",
       "                    self.mapping[metadata['cellId']]['display'] = IPython.display.display(IPython.display.Markdown(self.format_markdown(text), metadata=metadata), display_id=True)\n",
       "                    self.mapping[metadata['cellId']]['variables'] = variables\n",
       "                    updated = []\n",
       "                    for variable in variables:\n",
       "                        if variable not in self.variables:\n",
       "                            self.variables[variable] = self.shell.user_ns.get(variable, None)\n",
       "                        \n",
       "                        \n",
       "                else:\n",
       "                    IPython.display.display(IPython.display.Markdown(self.format_markdown(text), metadata=metadata))\n",
       "                    \n",
       "            variables = set(self.variables)\n",
       "            for key, value in self.mapping.items():\n",
       "                for variable in value.get('variables', []):\n",
       "                    if self.variables[variable] is not self.shell.user_ns.get(variable, None):\n",
       "                        value['display'].update(\n",
       "                            IPython.display.Markdown(exporter.environment.from_string(self.shell.user_ns['In'][value['execution_count']], \n",
       "                                                             globals=getattr(self.shell, 'user_ns', {})).render()))\n",
       "                        break                    \n",
       "                    \n",
       "            return result\n",
       "        \n",
       "        def __post_init__(self):\n",
       "            self.ns = [x for x in getattr(self.shell, 'user_ns', {}) if '.' not in x and not str.startswith(x,'_')]\n",
       "        shell: python.InteractiveShell = dataclasses.field(default_factory=python.get_ipython)\n",
       "        start: datetime.datetime = dataclasses.field(default_factory=datetime.datetime.utcnow().isoformat)\n",
       "        modules: list = dataclasses.field(default_factory=list)\n",
       "        ns: list = dataclasses.field(init=False)\n",
       "        mapping: dict = dataclasses.field(default_factory=dict)\n",
       "        environment: jinja2.Environment = dataclasses.field(default=exporter.environment)\n",
       "        interactive: bool = True\n",
       "        _null_environment = jinja2.Environment()\n",
       "        variables: list = dataclasses.field(default_factory=dict)"
      ],
      "text/plain": [
       "<IPython.core.display.Markdown object>"
      ]
     },
     "metadata": {
      "text/markdown": {
       "cellId": "f6405aac-8a6e-457f-bca5-e0638585e5e1",
       "deletedCells": [],
       "end_at": "2020-02-17T17:25:40.585080",
       "modules": [],
       "names": [],
       "sessionId": "9be420181f3cb3159e6ca0cedb596071b65beae14f6c0f1e75acc08e16db7fcc",
       "start_at": "2020-02-17T17:25:40.532000+00:00"
      }
     },
     "output_type": "display_data"
    }
   ],
   "source": [
    "    @dataclasses.dataclass\n",
    "    class Metadata(Events):\n",
    "        def pre_run_cell(self, info):\n",
    "            cellId=self.shell.kernel._last_parent.get('metadata', {}).get('cellId', None)\n",
    "            deletedCells=self.shell.kernel._last_parent.get('metadata', {}).get('deletedCells', [])\n",
    "            self.shell.user_ns['CELL_MAPPING'] = self.shell.user_ns.get('CELL_MAPPING', self.mapping)\n",
    "            self.mapping[cellId] = {'execution_count': self.shell.execution_count, 'started_at': self.shell.kernel._last_parent['header']['date']}\n",
    "            for delete in deletedCells:\n",
    "                if delete in self.mapping:\n",
    "                    del self.mapping[delete]\n",
    "\n",
    "            self.modules = modules()\n",
    "            self.start = datetime.datetime.utcnow().isoformat()\n",
    "            if hasattr(self.shell, 'user_ns'):\n",
    "                self.ns = self.names()\n",
    "            return info\n",
    "        \n",
    "        def names(self):\n",
    "            return [x for x in self.shell.user_ns if x[0].islower()]\n",
    "\n",
    "        def format_markdown(self, text):\n",
    "            lines = text.splitlines() or ['']\n",
    "            if lines[0].strip(): \n",
    "                exporter.environment.filters.update({\n",
    "                    k: v for k, v in getattr(self.shell, 'user_ns', {}).items() if callable(v) and k not in exporter.environment.filters})\n",
    "                try:\n",
    "                    text = exporter.environment.from_string(text, globals=getattr(self.shell, 'user_ns', {})).render()\n",
    "                except BaseException as Exception:\n",
    "                    self.shell.showtraceback((type(Exception), Exception, Exception.__traceback__))\n",
    "            return text\n",
    "                                        \n",
    "        def format_metadata(self):\n",
    "            parent = getattr(self.shell.kernel, '_last_parent', {})\n",
    "            return dict(\n",
    "                    modules=[x for x in modules() if x not in self.modules], \n",
    "                    names=[x for x in self.names() if x not in self.ns],\n",
    "                    start_at=self.shell.kernel._last_parent['header']['date'].isoformat(),\n",
    "                    end_at=datetime.datetime.utcnow().isoformat(),\n",
    "                    sessionId=hashlib.sha256(str(self.shell).encode()).hexdigest(), #some uuid\n",
    "                    cellId=parent.get('metadata', {}).get('cellId', None),\n",
    "                    deletedCells=parent.get('metadata', {}).get('deletedCells', None)\n",
    "                )\n",
    "        \n",
    "        def post_run_cell(self, result):\n",
    "            text = result.info.raw_cell\n",
    "            lines = text.splitlines() or ['']\n",
    "            if lines[0].strip(): \n",
    "                metadata = self.format_metadata()\n",
    "                self.mapping[metadata['cellId']]['input'] = result.info.raw_cell\n",
    "                exporter.environment.filters.update({\n",
    "                    k: v for k, v in getattr(self.shell, 'user_ns', {}).items() if callable(v) and k not in exporter.environment.filters})\n",
    "                try:\n",
    "                    template = exporter.environment.from_string(text, globals=getattr(self.shell, 'user_ns', {}))\n",
    "                    text = template.render()\n",
    "                except BaseException as Exception:\n",
    "                    self.shell.showtraceback((type(Exception), Exception, Exception.__traceback__))\n",
    "                variables = jinja2.meta.find_undeclared_variables(self.environment.parse(result.info.raw_cell))\n",
    "                if variables and self.interactive:\n",
    "                    self.mapping[metadata['cellId']]['display'] = IPython.display.display(IPython.display.Markdown(self.format_markdown(text), metadata=metadata), display_id=True)\n",
    "                    self.mapping[metadata['cellId']]['variables'] = variables\n",
    "                    updated = []\n",
    "                    for variable in variables:\n",
    "                        if variable not in self.variables:\n",
    "                            self.variables[variable] = self.shell.user_ns.get(variable, None)\n",
    "                        \n",
    "                        \n",
    "                else:\n",
    "                    IPython.display.display(IPython.display.Markdown(self.format_markdown(text), metadata=metadata))\n",
    "                    \n",
    "            variables = set(self.variables)\n",
    "            for key, value in self.mapping.items():\n",
    "                for variable in value.get('variables', []):\n",
    "                    if self.variables[variable] is not self.shell.user_ns.get(variable, None): \n",
    "                        value['display'].update(IPython.display.Markdown(exporter.environment.from_string(value['input'], globals=getattr(self.shell, 'user_ns', {})).render()))\n",
    "                        break                    \n",
    "                    \n",
    "            return result\n",
    "        \n",
    "        def __post_init__(self):\n",
    "            self.ns = [x for x in getattr(self.shell, 'user_ns', {}) if '.' not in x and not str.startswith(x,'_')]\n",
    "        shell: python.InteractiveShell = dataclasses.field(default_factory=python.get_ipython)\n",
    "        start: datetime.datetime = dataclasses.field(default_factory=datetime.datetime.utcnow().isoformat)\n",
    "        modules: list = dataclasses.field(default_factory=list)\n",
    "        ns: list = dataclasses.field(init=False)\n",
    "        mapping: dict = dataclasses.field(default_factory=dict)\n",
    "        environment: jinja2.Environment = dataclasses.field(default=exporter.environment)\n",
    "        interactive: bool = True\n",
    "        _null_environment = jinja2.Environment()\n",
    "        variables: list = dataclasses.field(default_factory=dict)"
   ]
  },
  {
   "cell_type": "code",
   "execution_count": 9,
   "metadata": {},
   "outputs": [],
   "source": [
    "    \n",
    "    def unload_ipython_extension(shell):\n",
    "        try:\n",
    "            shell.weave.unregister()\n",
    "        except:..."
   ]
  },
  {
   "cell_type": "code",
   "execution_count": null,
   "metadata": {},
   "outputs": [],
   "source": []
  }
 ],
 "metadata": {
  "kernelspec": {
   "display_name": "pidgy 3",
   "language": "python",
   "name": "pidgy"
  },
  "language_info": {
   "codemirror_mode": {
    "name": "ipython",
    "version": 3
   },
   "file_extension": ".py",
   "mimetype": "text/x-python",
   "name": "python",
   "nbconvert_exporter": "python",
   "pygments_lexer": "ipython3",
   "version": "3.7.3"
  }
 },
 "nbformat": 4,
 "nbformat_minor": 4
}
