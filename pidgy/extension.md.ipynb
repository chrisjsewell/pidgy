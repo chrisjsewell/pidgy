{
 "cells": [
  {
   "cell_type": "markdown",
   "metadata": {},
   "source": [
    "# Building the `pidgy` extension"
   ]
  },
  {
   "cell_type": "code",
   "execution_count": 1,
   "metadata": {},
   "outputs": [],
   "source": [
    "    \n",
    "    import jupyter, notebook, IPython, mistune as markdown, IPython as python, ast, jinja2 as template, importnb as _import_, doctest, pathlib, graphviz\n",
    "    \n",
    "    \n",
    "    with _import_.Notebook(): \n",
    "        try: from . import translate\n",
    "        except: import translate\n",
    "    with translate.pidgyLoader(): \n",
    "        try: \n",
    "            from . import outputs, extension\n",
    "            from .tests import interactive as  testing\n",
    "            \n",
    "        except: \n",
    "            import outputs, extension\n",
    "            from tests import interactive as testing\n",
    "    "
   ]
  },
  {
   "cell_type": "code",
   "execution_count": 2,
   "metadata": {},
   "outputs": [],
   "source": [
    "    \n",
    "    if __name__ == '__main__': \n",
    "        shell = get_ipython()\n",
    "        import __init__ as pidgy\n",
    "        import pandas as 🐼\n",
    "    xonsh = None\n",
    "    Ø = __name__ == '__main__'"
   ]
  },
  {
   "cell_type": "code",
   "execution_count": 3,
   "metadata": {},
   "outputs": [
    {
     "data": {
      "text/markdown": [
       "    def load_ipython_extension(shell):\n",
       "The `pidgy` implementation uses the `IPython` configuration\n",
       "and extension system to modify the interactive computing expierence\n",
       "in `jupyter` notebooks.\n",
       "        \n",
       "        imports.load_ipython_extension(shell)\n",
       "1. The primary function of `pidgy` is that it `imports` `markdown` as formal language for \n",
       "programming multiobjective literate programs.  `imports` focuses on the indentification of\n",
       "`\"code\" and not\"code\"` that become python code.\n",
       "\n",
       "        testing.load_ipython_extension(shell) \n",
       "2. The `pidgy` specification promotes strong intertextuality between `\"code\" and not\"code\"` \n",
       "objects in a program.  `testing` reinforces that efficacy of the `\"code\"` using\n",
       "documentation tests of `doctest and \"inline\"+\"code\"`.  `pidgy` uses the narrative a formal \n",
       "test for the program.  These tests are executed interactively to ensure the veracity of \n",
       "`\"code\"` signs in the narrative.\n",
       "\n",
       "        exports.load_ipython_extension(shell)\n",
       "3. Literate computing in `pidgy` allows incremental development of `\"code\"` and the co-development of the documentation.\n",
       "`pidgy` interprets the `input` `\"code\"` as a `display`.  `pidgy` uses a `template` language to transclude\n",
       "`object`s from code "
      ],
      "text/plain": [
       "<IPython.core.display.Markdown object>"
      ]
     },
     "metadata": {
      "text/markdown": {
       "end_time": "2020-02-03T16:06:12.658837",
       "modules": [],
       "names": [
        "load_ipython_extension"
       ],
       "start_time": "2020-02-03T16:06:12.625455"
      }
     },
     "output_type": "display_data"
    }
   ],
   "source": [
    "    def load_ipython_extension(shell):\n",
    "The `pidgy` implementation uses the `IPython` configuration\n",
    "and extension system to modify the interactive computing expierence\n",
    "in `jupyter` notebooks.\n",
    "        \n",
    "        translate.load_ipython_extension(shell)\n",
    "1. The primary function of `pidgy` is that it `imports` `markdown` as formal language for \n",
    "programming multiobjective literate programs.  `imports` focuses on the indentification of\n",
    "`\"code\" and not\"code\"` that become python code.\n",
    "\n",
    "        testing.load_ipython_extension(shell) \n",
    "2. The `pidgy` specification promotes strong intertextuality between `\"code\" and not\"code\"` \n",
    "objects in a program.  `testing` reinforces that efficacy of the `\"code\"` using\n",
    "documentation tests of `doctest and \"inline\"+\"code\"`.  `pidgy` uses the narrative a formal \n",
    "test for the program.  These tests are executed interactively to ensure the veracity of \n",
    "`\"code\"` signs in the narrative.\n",
    "\n",
    "        outputs.load_ipython_extension(shell)\n",
    "3. Literate computing in `pidgy` allows incremental development of `\"code\"` and the co-development of the documentation.\n",
    "`pidgy` interprets the `input` `\"code\"` as a `display`.  `pidgy` uses a `template` language to transclude\n",
    "`object`s from code "
   ]
  },
  {
   "cell_type": "code",
   "execution_count": 4,
   "metadata": {},
   "outputs": [],
   "source": [
    "    \n",
    "    def unload_ipython_extension(shell):\n",
    "        for x in (outputs, testing, translate): x.unload_ipython_extension(shell)"
   ]
  }
 ],
 "metadata": {
  "kernelspec": {
   "display_name": "pidgy 3",
   "language": "python",
   "name": "pidgy"
  },
  "language_info": {
   "codemirror_mode": {
    "name": "ipython",
    "version": 3
   },
   "file_extension": ".py",
   "mimetype": "text/x-python",
   "name": "python",
   "nbconvert_exporter": "python",
   "pygments_lexer": "ipython3",
   "version": "3.7.3"
  }
 },
 "nbformat": 4,
 "nbformat_minor": 4
}
