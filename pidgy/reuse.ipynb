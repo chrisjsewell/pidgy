{
 "cells": [
  {
   "cell_type": "code",
   "execution_count": 1,
   "metadata": {},
   "outputs": [
    {
     "data": {
      "text/markdown": [
       "# Literary code & coded literature"
      ],
      "text/plain": [
       "<IPython.core.display.Markdown object>"
      ]
     },
     "metadata": {
      "text/markdown": {
       "end_time": "2020-02-03T22:55:34.052530",
       "modules": [],
       "names": [],
       "start_time": "2020-02-03T22:55:34.042077"
      }
     },
     "output_type": "display_data"
    }
   ],
   "source": [
    "# Literary code & coded literature"
   ]
  },
  {
   "cell_type": "code",
   "execution_count": 1,
   "metadata": {},
   "outputs": [],
   "source": [
    "    \n",
    "    import pidgy, notebook, jupyter, IPython, mistune as markdown, importnb"
   ]
  },
  {
   "cell_type": "code",
   "execution_count": null,
   "metadata": {},
   "outputs": [],
   "source": [
    "    def load_ipython_extension(shell):\n",
    "        pidgy.pidgyLoader(position=-1).__enter__()\n",
    "        \n",
    "    def unload_ipython_extension(shell):\n",
    "        ..."
   ]
  },
  {
   "cell_type": "code",
   "execution_count": 3,
   "metadata": {},
   "outputs": [
    {
     "data": {
      "text/markdown": [
       "    with importnb.Notebook():\n",
       "        try: from . import translate\n",
       "        except: import translate"
      ],
      "text/plain": [
       "<IPython.core.display.Markdown object>"
      ]
     },
     "metadata": {
      "text/markdown": {
       "end_time": "2020-02-03T22:55:35.603570",
       "modules": [],
       "names": [
        "translate"
       ],
       "start_time": "2020-02-03T22:55:35.527684"
      }
     },
     "output_type": "display_data"
    }
   ],
   "source": [
    "    with importnb.Notebook(lazy=True):\n",
    "        try: from . import translate\n",
    "        except: import translate"
   ]
  },
  {
   "cell_type": "code",
   "execution_count": 4,
   "metadata": {},
   "outputs": [
    {
     "data": {
      "text/markdown": [
       "    \"\"\"\n",
       "literate `pidgy` programs have two intents:\n",
       "1. be literature that acts as a program.\n",
       "2. be a program that acts as literature.\n",
       "\n",
       "In this approach, programming languages merge with natural language\n",
       "to communicate thought.  As a whole, these documents encapsulate\n",
       "unstructured languages that communicate with combinations of human \n",
       "and machine logic.  \n",
       "\n",
       "    \"\"\";"
      ],
      "text/plain": [
       "<IPython.core.display.Markdown object>"
      ]
     },
     "metadata": {
      "text/markdown": {
       "end_time": "2020-02-03T22:55:36.148376",
       "modules": [],
       "names": [],
       "start_time": "2020-02-03T22:55:36.143604"
      }
     },
     "output_type": "display_data"
    }
   ],
   "source": [
    "    \"\"\"\n",
    "literate `pidgy` programs have two intents:\n",
    "1. be literature that acts as a program.\n",
    "2. be a program that acts as literature.\n",
    "\n",
    "In this approach, programming languages merge with natural language\n",
    "to communicate thought.  As a whole, these documents encapsulate\n",
    "unstructured languages that communicate with combinations of human \n",
    "and machine logic.  \n",
    "\n",
    "    \"\"\";"
   ]
  },
  {
   "cell_type": "code",
   "execution_count": 5,
   "metadata": {},
   "outputs": [
    {
     "data": {
      "text/markdown": [
       "    class pidgyLoader(__import__('importnb').Notebook): \n",
       "        \"\"\"\n",
       "The `pidgyLoader` includes `pidgy` documents in Python's import system.\n",
       "        \n",
       "        \"\"\"\n",
       "        extensions = \".md.ipynb\".split()\n",
       "        \"\"\"\n",
       "Regardless of intent, `pidgy` programs should be reusable in other programs.\n",
       "`pidgy` programs are identified by the composite file extension `\".md.ipynb\"`.\n",
       "The choice is file extension is made because `pidgy` programs \n",
       "designed primarly for literate programming in `jupyter` `notebook`s - \n",
       "that use the `\".ipynb\"` suffix - \n",
       "with `markdown` as the document language and `IPython` as the glue programming language.\n",
       "        \n",
       "        \"\"\"\n",
       "        def code(self, str): \n",
       "            \"\"\"\n",
       "Appply the pidgy transformers.\n",
       "        \n",
       "            \"\"\"\n",
       "            return ''.join(translate.pidgy.transform_cell(str))"
      ],
      "text/plain": [
       "<IPython.core.display.Markdown object>"
      ]
     },
     "metadata": {
      "text/markdown": {
       "end_time": "2020-02-03T22:55:36.776315",
       "modules": [],
       "names": [
        "pidgyLoader"
       ],
       "start_time": "2020-02-03T22:55:36.761148"
      }
     },
     "output_type": "display_data"
    }
   ],
   "source": [
    "    class pidgyLoader(__import__('importnb').Notebook): \n",
    "        \"\"\"\n",
    "The `pidgyLoader` includes `pidgy` documents in Python's import system.\n",
    "        \n",
    "        \"\"\"\n",
    "        extensions = \".md.ipynb\".split()\n",
    "        \"\"\"\n",
    "Regardless of intent, `pidgy` programs should be reusable in other programs.\n",
    "`pidgy` programs are identified by the composite file extension `\".md.ipynb\"`.\n",
    "The choice is file extension is made because `pidgy` programs \n",
    "designed primarly for literate programming in `jupyter` `notebook`s - \n",
    "that use the `\".ipynb\"` suffix - \n",
    "with `markdown` as the document language and `IPython` as the glue programming language.\n",
    "        \n",
    "        \"\"\"\n",
    "        def code(self, str): \n",
    "            \"\"\"\n",
    "Appply the pidgy transformers.\n",
    "        \n",
    "            \"\"\"\n",
    "            return ''.join(translate.pidgy.transform_cell(str))"
   ]
  },
  {
   "cell_type": "code",
   "execution_count": 6,
   "metadata": {},
   "outputs": [
    {
     "data": {
      "text/markdown": [
       "## Authoring reusable documents."
      ],
      "text/plain": [
       "<IPython.core.display.Markdown object>"
      ]
     },
     "metadata": {
      "text/markdown": {
       "end_time": "2020-02-03T22:55:36.959518",
       "modules": [],
       "names": [],
       "start_time": "2020-02-03T22:55:36.957957"
      }
     },
     "output_type": "display_data"
    }
   ],
   "source": [
    "## Authoring reusable documents."
   ]
  },
  {
   "cell_type": "code",
   "execution_count": 7,
   "metadata": {},
   "outputs": [
    {
     "data": {
      "text/markdown": [
       "    \"\"\"\n",
       "For documents to be reused as modules, they must restart and run all.\n",
       "\n",
       "A benefit of this approach is that the documents can be tested.\n",
       "\n",
       "    \"\"\";"
      ],
      "text/plain": [
       "<IPython.core.display.Markdown object>"
      ]
     },
     "metadata": {
      "text/markdown": {
       "end_time": "2020-02-03T22:55:38.081448",
       "modules": [],
       "names": [],
       "start_time": "2020-02-03T22:55:38.079504"
      }
     },
     "output_type": "display_data"
    }
   ],
   "source": [
    "    \"\"\"\n",
    "For documents to be reused as modules, they must restart and run all.\n",
    "\n",
    "A benefit of this approach is that the documents can be tested.\n",
    "\n",
    "    \"\"\";"
   ]
  }
 ],
 "metadata": {
  "kernelspec": {
   "display_name": "pidgy 3",
   "language": "python",
   "name": "pidgy"
  },
  "language_info": {
   "codemirror_mode": {
    "name": "ipython",
    "version": 3
   },
   "file_extension": ".py",
   "mimetype": "text/x-python",
   "name": "python",
   "nbconvert_exporter": "python",
   "pygments_lexer": "ipython3",
   "version": "3.7.3"
  }
 },
 "nbformat": 4,
 "nbformat_minor": 4
}
