{
 "cells": [
  {
   "cell_type": "code",
   "execution_count": 1,
   "metadata": {},
   "outputs": [],
   "source": [
    "    \n",
    "    import nbconvert\n",
    "\n",
    "    if __name__ == '__main__':\n",
    "        import notebook, nbformat, pidgy\n",
    "        formats = {x.partition('_')[0] for x in nbconvert.get_export_names()}"
   ]
  },
  {
   "cell_type": "code",
   "execution_count": 2,
   "metadata": {},
   "outputs": [
    {
     "data": {
      "text/markdown": [
       "# Deriving files from `pidgy` documents."
      ],
      "text/plain": [
       "<IPython.core.display.Markdown object>"
      ]
     },
     "metadata": {
      "text/markdown": {
       "end_time": "2020-02-03T21:37:06.392404",
       "modules": [],
       "names": [],
       "start_time": "2020-02-03T21:37:06.382613"
      }
     },
     "output_type": "display_data"
    }
   ],
   "source": [
    "# Deriving files from `pidgy` documents."
   ]
  },
  {
   "cell_type": "code",
   "execution_count": 30,
   "metadata": {},
   "outputs": [
    {
     "data": {
      "text/markdown": [
       "There are numerous tools that use the `notebook` format as an intermediate formats\n",
       "for different documents.\n",
       "\n",
       "The original literate programming used latex as the sole export format\n",
       "where as the notebook recognizes quite a few formats:\n",
       "    \n",
       "<details><summary><code>nbconvert</code> can generate <b>12</b> different formats from the files that abide the <code>nbformat</code>\n",
       "schema.</summary>\n",
       "<ul><li>html</li>\n",
       "<li>python</li>\n",
       "<li>asciidoc</li>\n",
       "<li>notebook</li>\n",
       "<li>slides</li>\n",
       "<li>pdf</li>\n",
       "<li>latex</li>\n",
       "<li>selectLanguage</li>\n",
       "<li>custom</li>\n",
       "<li>script</li>\n",
       "<li>markdown</li>\n",
       "<li>rst</li>\n",
       "</ul>\n",
       "</details>\n"
      ],
      "text/plain": [
       "<IPython.core.display.Markdown object>"
      ]
     },
     "metadata": {
      "text/markdown": {
       "end_time": "2020-02-03T15:36:44.016959",
       "modules": [],
       "names": [],
       "start_time": "2020-02-03T15:36:44.012262"
      }
     },
     "output_type": "display_data"
    }
   ],
   "source": [
    "There are numerous tools that use the `notebook` format as an intermediate formats\n",
    "for different documents.\n",
    "\n",
    "The original literate programming used latex as the sole export format\n",
    "where as the notebook recognizes quite a few formats:\n",
    "    \n",
    "<details><summary><code>nbconvert</code> can generate <b>{{formats|length}}</b> different formats from the files that abide the <code>nbformat</code>\n",
    "schema.</summary>\n",
    "<ul>{% for format in formats %}<li>{{format}}</li>\n",
    "{% endfor %}</ul>\n",
    "</details>\n",
    "\n"
   ]
  },
  {
   "cell_type": "code",
   "execution_count": 24,
   "metadata": {},
   "outputs": [
    {
     "data": {
      "text/markdown": [
       "    class pidgyTranslate(nbconvert.preprocessors.Preprocessor):\n",
       "        def preprocess_cell(self, cell, resources, index, ):\n",
       "            import pidgy\n",
       "            if cell['cell_type'] == 'code':\n",
       "                cell['source'] = pidgy.imports.pidgy.transform_cell(''.join(cell['source']))\n",
       "            return cell, resources"
      ],
      "text/plain": [
       "<IPython.core.display.Markdown object>"
      ]
     },
     "metadata": {
      "text/markdown": {
       "end_time": "2020-02-03T21:47:27.608918",
       "modules": [],
       "names": [
        "pidgyTranslate"
       ],
       "start_time": "2020-02-03T21:47:27.606573"
      }
     },
     "output_type": "display_data"
    }
   ],
   "source": [
    "    class pidgyTranslate(nbconvert.preprocessors.Preprocessor):\n",
    "Translate pidgy cells to pure python cells.\n",
    "        \n",
    "        def preprocess_cell(self, cell, resources, index, ):\n",
    "            import pidgy\n",
    "            tokenizer = pidgy.translate.Tokenizer()\n",
    "            if cell['cell_type'] == 'code':\n",
    "                cell['source'] = pidgy.imports.pidgy.transform_cell(''.join(cell['source']))\n",
    "            return cell, resources"
   ]
  },
  {
   "cell_type": "code",
   "execution_count": 27,
   "metadata": {},
   "outputs": [
    {
     "data": {
      "text/markdown": [
       "    class pidgyNormalize(nbconvert.preprocessors.Preprocessor):\n",
       "Untangle a pidgy notebook into a normalized notebook that explicitly sepearting code and markdown cells.\n",
       "A normalized notebook can be imported by importnb.\n",
       "        \n",
       "        def preprocess(self, nb, resources):\n",
       "            new, tokens = nbformat.v4.new_notebook(), []\n",
       "            for cell in nb.cells:\n",
       "                for token in tokenizer.parse(''.join(cell.source)) if cell.cell_type == 'code' else [{'type': 'paragraph', 'text': ''.join(cell.source)}]:\n",
       "                    new.cells.append((\n",
       "                        nbformat.v4.new_code_cell if token['type'] == 'code' else nbformat.v4.new_markdown_cell\n",
       "                    )(token['text'].splitlines(True)))\n",
       "            return nb, resources"
      ],
      "text/plain": [
       "<IPython.core.display.Markdown object>"
      ]
     },
     "metadata": {
      "text/markdown": {
       "end_time": "2020-02-03T21:48:48.004407",
       "modules": [],
       "names": [],
       "start_time": "2020-02-03T21:48:48.000523"
      }
     },
     "output_type": "display_data"
    }
   ],
   "source": [
    "    class pidgyNormalize(nbconvert.preprocessors.Preprocessor):\n",
    "Untangle a pidgy notebook into a normalized notebook that explicitly sepearting code and markdown cells.\n",
    "A normalized notebook can be imported by importnb.\n",
    "        \n",
    "        def preprocess(self, nb, resources):\n",
    "            new, tokens = nbformat.v4.new_notebook(), []\n",
    "            for cell in nb.cells:\n",
    "                for token in tokenizer.parse(''.join(cell.source)) if cell.cell_type == 'code' else [{'type': 'paragraph', 'text': ''.join(cell.source)}]:\n",
    "                    new.cells.append((\n",
    "                        nbformat.v4.new_code_cell if token['type'] == 'code' else nbformat.v4.new_markdown_cell\n",
    "                    )(token['text'].splitlines(True)))\n",
    "            return nb, resources\n"
   ]
  },
  {
   "cell_type": "code",
   "execution_count": null,
   "metadata": {},
   "outputs": [],
   "source": []
  }
 ],
 "metadata": {
  "kernelspec": {
   "display_name": "pidgy 3",
   "language": "python",
   "name": "pidgy"
  },
  "language_info": {
   "codemirror_mode": {
    "name": "ipython",
    "version": 3
   },
   "file_extension": ".py",
   "mimetype": "text/x-python",
   "name": "python",
   "nbconvert_exporter": "python",
   "pygments_lexer": "ipython3",
   "version": "3.7.3"
  }
 },
 "nbformat": 4,
 "nbformat_minor": 4
}
