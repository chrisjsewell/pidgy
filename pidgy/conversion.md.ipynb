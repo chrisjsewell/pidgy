{
 "cells": [
  {
   "cell_type": "code",
   "execution_count": 33,
   "metadata": {},
   "outputs": [],
   "source": [
    "    \n",
    "    import nbconvert\n",
    "\n",
    "    if __name__ == '__main__':\n",
    "        import notebook, nbformat, pidgy\n",
    "        formats = {x.partition('_')[0] for x in nbconvert.get_export_names()}"
   ]
  },
  {
   "cell_type": "code",
   "execution_count": 34,
   "metadata": {},
   "outputs": [
    {
     "data": {
      "text/markdown": [
       "# Deriving files from `pidgy` documents."
      ],
      "text/plain": [
       "<IPython.core.display.Markdown object>"
      ]
     },
     "metadata": {
      "text/markdown": {
       "end_time": "2020-02-03T15:37:24.629060",
       "modules": [],
       "names": [],
       "start_time": "2020-02-03T15:37:24.625769"
      }
     },
     "output_type": "display_data"
    }
   ],
   "source": [
    "# Deriving files from `pidgy` documents."
   ]
  },
  {
   "cell_type": "code",
   "execution_count": 30,
   "metadata": {},
   "outputs": [
    {
     "data": {
      "text/markdown": [
       "There are numerous tools that use the `notebook` format as an intermediate formats\n",
       "for different documents.\n",
       "\n",
       "The original literate programming used latex as the sole export format\n",
       "where as the notebook recognizes quite a few formats:\n",
       "    \n",
       "<details><summary><code>nbconvert</code> can generate <b>12</b> different formats from the files that abide the <code>nbformat</code>\n",
       "schema.</summary>\n",
       "<ul><li>html</li>\n",
       "<li>python</li>\n",
       "<li>asciidoc</li>\n",
       "<li>notebook</li>\n",
       "<li>slides</li>\n",
       "<li>pdf</li>\n",
       "<li>latex</li>\n",
       "<li>selectLanguage</li>\n",
       "<li>custom</li>\n",
       "<li>script</li>\n",
       "<li>markdown</li>\n",
       "<li>rst</li>\n",
       "</ul>\n",
       "</details>\n"
      ],
      "text/plain": [
       "<IPython.core.display.Markdown object>"
      ]
     },
     "metadata": {
      "text/markdown": {
       "end_time": "2020-02-03T15:36:44.016959",
       "modules": [],
       "names": [],
       "start_time": "2020-02-03T15:36:44.012262"
      }
     },
     "output_type": "display_data"
    }
   ],
   "source": [
    "There are numerous tools that use the `notebook` format as an intermediate formats\n",
    "for different documents.\n",
    "\n",
    "The original literate programming used latex as the sole export format\n",
    "where as the notebook recognizes quite a few formats:\n",
    "    \n",
    "<details><summary><code>nbconvert</code> can generate <b>{{formats|length}}</b> different formats from the files that abide the <code>nbformat</code>\n",
    "schema.</summary>\n",
    "<ul>{% for format in formats %}<li>{{format}}</li>\n",
    "{% endfor %}</ul>\n",
    "</details>\n",
    "\n"
   ]
  },
  {
   "cell_type": "code",
   "execution_count": 31,
   "metadata": {},
   "outputs": [
    {
     "data": {
      "text/markdown": [
       "    class pidgyPreprocessor(nbconvert.preprocessors.Preprocessor):\n",
       "        def preprocess_cell(self, cell, resources, index, ):\n",
       "            import pidgy\n",
       "            if cell['cell_type'] == 'code':\n",
       "                cell['source'] = pidgy.imports.pidgy.transform_cell(''.join(cell['source']))\n",
       "            return cell, resources"
      ],
      "text/plain": [
       "<IPython.core.display.Markdown object>"
      ]
     },
     "metadata": {
      "text/markdown": {
       "end_time": "2020-02-03T15:36:48.698115",
       "modules": [],
       "names": [],
       "start_time": "2020-02-03T15:36:48.695909"
      }
     },
     "output_type": "display_data"
    }
   ],
   "source": [
    "    class pidgyPreprocessor(nbconvert.preprocessors.Preprocessor):\n",
    "        def preprocess_cell(self, cell, resources, index, ):\n",
    "            import pidgy\n",
    "            if cell['cell_type'] == 'code':\n",
    "                cell['source'] = pidgy.imports.pidgy.transform_cell(''.join(cell['source']))\n",
    "            return cell, resources"
   ]
  }
 ],
 "metadata": {
  "kernelspec": {
   "display_name": "pidgy 3",
   "language": "python",
   "name": "pidgy"
  },
  "language_info": {
   "codemirror_mode": {
    "name": "ipython",
    "version": 3
   },
   "file_extension": ".py",
   "mimetype": "text/x-python",
   "name": "python",
   "nbconvert_exporter": "python",
   "pygments_lexer": "ipython3",
   "version": "3.7.3"
  }
 },
 "nbformat": 4,
 "nbformat_minor": 4
}
