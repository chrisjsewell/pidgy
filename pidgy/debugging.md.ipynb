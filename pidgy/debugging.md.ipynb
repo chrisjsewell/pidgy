{
 "cells": [
  {
   "cell_type": "markdown",
   "metadata": {},
   "source": [
    "Remediating exceptions."
   ]
  },
  {
   "cell_type": "code",
   "execution_count": 16,
   "metadata": {},
   "outputs": [],
   "source": [
    "    import fnmatch, re, textwrap"
   ]
  },
  {
   "cell_type": "code",
   "execution_count": 17,
   "metadata": {},
   "outputs": [],
   "source": [
    "    not_imported = NameError(re.compile(r\"\"\"name '(.+)' is not defined\"\"\"))\n",
    "    missing_submodule = AttributeError(re.compile(r\"\"\"module '(.+)' has no attribute '(.+)'\"\"\"))"
   ]
  },
  {
   "cell_type": "code",
   "execution_count": 18,
   "metadata": {},
   "outputs": [],
   "source": [
    "    def fallback(shell, type, Exception, tb, **kwargs): \n",
    "        msg = Exception.args[0]\n",
    "        if issubclass(type, NameError):\n",
    "            m = not_imported.args[0].match(msg)\n",
    "            if m:\n",
    "                shell.run_cell(textwrap.indent(F\"\\nimport {m.group(1)}\", ' '*4))\n",
    "        if issubclass(type, AttributeError):\n",
    "            m = missing_submodule.args[0].match(msg)\n",
    "            if m:\n",
    "                shell.run_cell(textwrap.indent(F\"\\nimport {m.group(1)}.{m.group(2)}\", ' '*4))"
   ]
  },
  {
   "cell_type": "code",
   "execution_count": 21,
   "metadata": {},
   "outputs": [],
   "source": [
    "    def load_ipython_extension(shell):\n",
    "        shell.set_custom_exc((NameError, AttributeError), fallback)\n",
    "    def unload_ipython_extension(shell):\n",
    "        shell.set_custom_exc(tuple(), lambda *x, **k:...)"
   ]
  }
 ],
 "metadata": {
  "kernelspec": {
   "display_name": "Python 3",
   "language": "python",
   "name": "python3"
  },
  "language_info": {
   "codemirror_mode": {
    "name": "ipython",
    "version": 3
   },
   "file_extension": ".py",
   "mimetype": "text/x-python",
   "name": "python",
   "nbconvert_exporter": "python",
   "pygments_lexer": "ipython3",
   "version": "3.7.3"
  }
 },
 "nbformat": 4,
 "nbformat_minor": 4
}
