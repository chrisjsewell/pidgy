{
 "cells": [
  {
   "cell_type": "code",
   "execution_count": 1,
   "metadata": {},
   "outputs": [],
   "source": [
    "    import pidgin"
   ]
  },
  {
   "cell_type": "code",
   "execution_count": 2,
   "metadata": {},
   "outputs": [],
   "source": [
    "    with pidgin.loader.PidginLoader():\n",
    "        import essay"
   ]
  },
  {
   "cell_type": "code",
   "execution_count": 3,
   "metadata": {},
   "outputs": [],
   "source": [
    "    %reload_ext pidgin\n",
    "    with pidgin.loader.PidginLoader(shell=True):\n",
    "        import essay\n",
    "    %unload_ext pidgin"
   ]
  },
  {
   "cell_type": "code",
   "execution_count": 7,
   "metadata": {},
   "outputs": [],
   "source": [
    "    ip = get_ipython()"
   ]
  },
  {
   "cell_type": "code",
   "execution_count": 13,
   "metadata": {},
   "outputs": [
    {
     "data": {
      "text/html": [
       "<h1>Init signature</h1>\n",
       "<div class=\"highlight\" style=\"background: #f8f8f8\"><pre style=\"line-height: 125%\"><span></span>pidgin<span style=\"color: #666666\">.</span>MarkdownImporter(fullname<span style=\"color: #666666\">=</span><span style=\"color: #008000\">None</span>, path<span style=\"color: #666666\">=</span><span style=\"color: #008000\">None</span>, lazy<span style=\"color: #666666\">=</span><span style=\"color: #008000\">False</span>, position<span style=\"color: #666666\">=0</span>, shell<span style=\"color: #666666\">=</span><span style=\"color: #008000\">False</span>, fuzzy<span style=\"color: #666666\">=</span><span style=\"color: #008000\">True</span>, markdown_docstring<span style=\"color: #666666\">=</span><span style=\"color: #008000\">True</span>, main<span style=\"color: #666666\">=</span><span style=\"color: #008000\">False</span>)\n",
       "</pre></div>\n",
       "\n",
       "<h1>Docstring</h1>\n",
       "<pre>Notebook is a user friendly file finder and module loader for notebook source code.\n",
       "\n",
       "> Remember, restart and run all or it didn't happen.\n",
       "\n",
       "Notebook provides several useful options.\n",
       "\n",
       "* Lazy module loading.  A module is executed the first time it is used in a script.</pre>\n",
       "<h1>Source</h1>\n",
       "<div class=\"highlight\" style=\"background: #f8f8f8\"><pre style=\"line-height: 125%\"><span></span><span style=\"color: #008000; font-weight: bold\">class</span> <span style=\"color: #0000FF; font-weight: bold\">MarkdownImporter</span>(Notebook):\n",
       "    extensions <span style=\"color: #666666\">=</span> <span style=\"color: #BA2121\">&#39;.md.ipynb&#39;</span>,\n",
       "    <span style=\"color: #008000; font-weight: bold\">def</span> <span style=\"color: #0000FF\">format</span>(<span style=\"color: #008000\">self</span>, <span style=\"color: #008000\">str</span>): <span style=\"color: #008000; font-weight: bold\">return</span> <span style=\"color: #008000\">super</span>()<span style=\"color: #666666\">.</span>format(renderer(<span style=\"color: #008000\">str</span>))\n",
       "</pre></div>\n",
       "\n",
       "<h1>File</h1>\n",
       "<pre>c:\\users\\deathbeds\\pidgin\\pidgin\\markdown.ipynb</pre>\n",
       "<h1>Type</h1>\n",
       "<pre>type</pre>\n"
      ],
      "text/plain": [
       "\u001b[1;31mInit signature:\u001b[0m \u001b[0mpidgin\u001b[0m\u001b[1;33m.\u001b[0m\u001b[0mMarkdownImporter\u001b[0m\u001b[1;33m(\u001b[0m\u001b[0mfullname\u001b[0m\u001b[1;33m=\u001b[0m\u001b[1;32mNone\u001b[0m\u001b[1;33m,\u001b[0m \u001b[0mpath\u001b[0m\u001b[1;33m=\u001b[0m\u001b[1;32mNone\u001b[0m\u001b[1;33m,\u001b[0m \u001b[0mlazy\u001b[0m\u001b[1;33m=\u001b[0m\u001b[1;32mFalse\u001b[0m\u001b[1;33m,\u001b[0m \u001b[0mposition\u001b[0m\u001b[1;33m=\u001b[0m\u001b[1;36m0\u001b[0m\u001b[1;33m,\u001b[0m \u001b[0mshell\u001b[0m\u001b[1;33m=\u001b[0m\u001b[1;32mFalse\u001b[0m\u001b[1;33m,\u001b[0m \u001b[0mfuzzy\u001b[0m\u001b[1;33m=\u001b[0m\u001b[1;32mTrue\u001b[0m\u001b[1;33m,\u001b[0m \u001b[0mmarkdown_docstring\u001b[0m\u001b[1;33m=\u001b[0m\u001b[1;32mTrue\u001b[0m\u001b[1;33m,\u001b[0m \u001b[0mmain\u001b[0m\u001b[1;33m=\u001b[0m\u001b[1;32mFalse\u001b[0m\u001b[1;33m)\u001b[0m\u001b[1;33m\u001b[0m\u001b[0m\n",
       "\u001b[1;31mDocstring:\u001b[0m     \n",
       "Notebook is a user friendly file finder and module loader for notebook source code.\n",
       "\n",
       "> Remember, restart and run all or it didn't happen.\n",
       "\n",
       "Notebook provides several useful options.\n",
       "\n",
       "* Lazy module loading.  A module is executed the first time it is used in a script.\n",
       "\u001b[1;31mSource:\u001b[0m        \n",
       "\u001b[1;32mclass\u001b[0m \u001b[0mMarkdownImporter\u001b[0m\u001b[1;33m(\u001b[0m\u001b[0mNotebook\u001b[0m\u001b[1;33m)\u001b[0m\u001b[1;33m:\u001b[0m\u001b[1;33m\n",
       "\u001b[0m    \u001b[0mextensions\u001b[0m \u001b[1;33m=\u001b[0m \u001b[1;34m'.md.ipynb'\u001b[0m\u001b[1;33m,\u001b[0m\u001b[1;33m\n",
       "\u001b[0m    \u001b[1;32mdef\u001b[0m \u001b[0mformat\u001b[0m\u001b[1;33m(\u001b[0m\u001b[0mself\u001b[0m\u001b[1;33m,\u001b[0m \u001b[0mstr\u001b[0m\u001b[1;33m)\u001b[0m\u001b[1;33m:\u001b[0m \u001b[1;32mreturn\u001b[0m \u001b[0msuper\u001b[0m\u001b[1;33m(\u001b[0m\u001b[1;33m)\u001b[0m\u001b[1;33m.\u001b[0m\u001b[0mformat\u001b[0m\u001b[1;33m(\u001b[0m\u001b[0mrenderer\u001b[0m\u001b[1;33m(\u001b[0m\u001b[0mstr\u001b[0m\u001b[1;33m)\u001b[0m\u001b[1;33m)\u001b[0m\u001b[1;33m\u001b[0m\u001b[0m\n",
       "\u001b[1;31mFile:\u001b[0m           c:\\users\\deathbeds\\pidgin\\pidgin\\markdown.ipynb\n",
       "\u001b[1;31mType:\u001b[0m           type\n"
      ]
     },
     "metadata": {},
     "output_type": "display_data"
    }
   ],
   "source": [
    "    pidgin.MarkdownImporter??"
   ]
  },
  {
   "cell_type": "code",
   "execution_count": null,
   "metadata": {},
   "outputs": [],
   "source": []
  }
 ],
 "metadata": {
  "kernelspec": {
   "display_name": "Python 3",
   "language": "python",
   "name": "python3"
  },
  "language_info": {
   "codemirror_mode": {
    "name": "ipython",
    "version": 3
   },
   "file_extension": ".py",
   "mimetype": "text/x-python",
   "name": "python",
   "nbconvert_exporter": "python",
   "pygments_lexer": "ipython3",
   "version": "3.6.6"
  }
 },
 "nbformat": 4,
 "nbformat_minor": 2
}
